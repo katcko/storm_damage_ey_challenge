{
  "cells": [
    {
      "cell_type": "markdown",
      "id": "85e1044a",
      "metadata": {
        "id": "85e1044a"
      },
      "source": [
        "# PreTraining Undamaged Model - Selecting Background Images\n",
        "\n",
        "Objective: train a YOLO model on pre-event undamaged buildings (residential, commercial) to a sufficient level of accuracy. This model will be trained on an initial manually annotated dataset."
      ]
    },
    {
      "cell_type": "code",
      "execution_count": 1,
      "id": "9JTTSTPhjIy8",
      "metadata": {
        "colab": {
          "base_uri": "https://localhost:8080/"
        },
        "id": "9JTTSTPhjIy8",
        "outputId": "12c4298d-8e15-4c1c-f6e7-eac78b326c46"
      },
      "outputs": [
        {
          "output_type": "stream",
          "name": "stdout",
          "text": [
            "HOME directory path: '/content'\n"
          ]
        }
      ],
      "source": [
        "import os\n",
        "HOME = os.getcwd()\n",
        "print(f'HOME directory path: \\'{HOME}\\'')"
      ]
    },
    {
      "cell_type": "markdown",
      "id": "0ed0acd3",
      "metadata": {
        "id": "0ed0acd3"
      },
      "source": [
        "#### Initialization of Google Collab environment"
      ]
    },
    {
      "cell_type": "code",
      "execution_count": 2,
      "id": "WQGszsAxjTz7",
      "metadata": {
        "colab": {
          "base_uri": "https://localhost:8080/"
        },
        "id": "WQGszsAxjTz7",
        "outputId": "8bbe5953-addb-468c-a1f7-a552a5519220"
      },
      "outputs": [
        {
          "output_type": "stream",
          "name": "stdout",
          "text": [
            "File 'requirements.txt' has been created with the text.\n",
            "\u001b[2K   \u001b[90m━━━━━━━━━━━━━━━━━━━━━━━━━━━━━━━━━━━━━━━━\u001b[0m \u001b[32m22.2/22.2 MB\u001b[0m \u001b[31m72.2 MB/s\u001b[0m eta \u001b[36m0:00:00\u001b[0m\n",
            "\u001b[2K   \u001b[90m━━━━━━━━━━━━━━━━━━━━━━━━━━━━━━━━━━━━━━━━\u001b[0m \u001b[32m1.4/1.4 MB\u001b[0m \u001b[31m4.9 MB/s\u001b[0m eta \u001b[36m0:00:00\u001b[0m\n",
            "\u001b[2K   \u001b[90m━━━━━━━━━━━━━━━━━━━━━━━━━━━━━━━━━━━━━━━━\u001b[0m \u001b[32m80.3/80.3 kB\u001b[0m \u001b[31m8.0 MB/s\u001b[0m eta \u001b[36m0:00:00\u001b[0m\n",
            "\u001b[2K   \u001b[90m━━━━━━━━━━━━━━━━━━━━━━━━━━━━━━━━━━━━━━━━\u001b[0m \u001b[32m66.8/66.8 kB\u001b[0m \u001b[31m6.2 MB/s\u001b[0m eta \u001b[36m0:00:00\u001b[0m\n",
            "\u001b[2K   \u001b[90m━━━━━━━━━━━━━━━━━━━━━━━━━━━━━━━━━━━━━━━━\u001b[0m \u001b[32m49.9/49.9 MB\u001b[0m \u001b[31m18.2 MB/s\u001b[0m eta \u001b[36m0:00:00\u001b[0m\n",
            "\u001b[2K   \u001b[90m━━━━━━━━━━━━━━━━━━━━━━━━━━━━━━━━━━━━━━━━\u001b[0m \u001b[32m1.1/1.1 MB\u001b[0m \u001b[31m58.5 MB/s\u001b[0m eta \u001b[36m0:00:00\u001b[0m\n",
            "\u001b[?25h"
          ]
        }
      ],
      "source": [
        "requirements_packages = \"\"\"\n",
        "rasterio==1.4.2\n",
        "ultralytics>=8.3\n",
        "labelme2yolo==0.2.5\n",
        "roboflow==1.1.48\n",
        "\"\"\"\n",
        "\n",
        "# Specify the file name\n",
        "file_name = \"requirements.txt\"\n",
        "\n",
        "# Write the text to the file\n",
        "with open(file_name, 'w') as file:\n",
        "    file.write(requirements_packages)\n",
        "\n",
        "print(f\"File '{file_name}' has been created with the text.\")\n",
        "\n",
        "# Installing required packages quietly without showing the details\n",
        "!pip install -r {HOME}/requirements.txt --quiet"
      ]
    },
    {
      "cell_type": "markdown",
      "id": "P3phu4LIjcI4",
      "metadata": {
        "id": "P3phu4LIjcI4"
      },
      "source": [
        "# Connecting to RoboFlow database"
      ]
    },
    {
      "cell_type": "code",
      "execution_count": 3,
      "id": "3yWo3w_kjYC1",
      "metadata": {
        "colab": {
          "base_uri": "https://localhost:8080/"
        },
        "id": "3yWo3w_kjYC1",
        "outputId": "9b811e2a-0521-46c3-9ea5-7598e481d126"
      },
      "outputs": [
        {
          "name": "stdout",
          "output_type": "stream",
          "text": [
            "\rvisit https://app.roboflow.com/auth-cli to get your authentication token.\n",
            "Paste the authentication token here: ··········\n"
          ]
        }
      ],
      "source": [
        "import roboflow\n",
        "roboflow.login(force=True) # Login into roboflow"
      ]
    },
    {
      "cell_type": "markdown",
      "id": "Q6yXw0BnjivP",
      "metadata": {
        "id": "Q6yXw0BnjivP"
      },
      "source": [
        "## Importing packages"
      ]
    },
    {
      "cell_type": "code",
      "execution_count": 4,
      "id": "Kp5C-_EGjfHV",
      "metadata": {
        "id": "Kp5C-_EGjfHV",
        "outputId": "ca707da6-7763-474f-cdc2-5cfe89419a5e",
        "colab": {
          "base_uri": "https://localhost:8080/"
        }
      },
      "outputs": [
        {
          "output_type": "stream",
          "name": "stdout",
          "text": [
            "Creating new Ultralytics Settings v0.0.6 file ✅ \n",
            "View Ultralytics Settings with 'yolo settings' or at '/root/.config/Ultralytics/settings.json'\n",
            "Update Settings with 'yolo settings key=value', i.e. 'yolo settings runs_dir=path/to/dir'. For help see https://docs.ultralytics.com/quickstart/#ultralytics-settings.\n"
          ]
        }
      ],
      "source": [
        "import torch\n",
        "\n",
        "# Supress Warnings\n",
        "import warnings\n",
        "warnings.filterwarnings('ignore')\n",
        "\n",
        "# GeoTiff Images\n",
        "import rasterio\n",
        "from osgeo import gdal\n",
        "\n",
        "# Visualisation\n",
        "from matplotlib import pyplot as plt\n",
        "import matplotlib.image as img\n",
        "from matplotlib.pyplot import figure\n",
        "from PIL import Image\n",
        "\n",
        "# Model Building\n",
        "import ultralytics\n",
        "from ultralytics import YOLO\n",
        "from IPython.display import Image\n",
        "\n",
        "# Progress bar\n",
        "from tqdm import tqdm\n",
        "\n",
        "import numpy as np\n",
        "\n",
        "# Others\n",
        "import os\n",
        "import shutil\n",
        "import zipfile\n",
        "\n",
        "%matplotlib inline"
      ]
    },
    {
      "cell_type": "markdown",
      "id": "UqSLXbtGjnCm",
      "metadata": {
        "id": "UqSLXbtGjnCm"
      },
      "source": [
        "## Define project details"
      ]
    },
    {
      "cell_type": "code",
      "execution_count": 5,
      "id": "9NUcfzn0jpui",
      "metadata": {
        "colab": {
          "base_uri": "https://localhost:8080/"
        },
        "id": "9NUcfzn0jpui",
        "outputId": "16ecefff-51ac-48e1-ccd7-6a3e9307afd7"
      },
      "outputs": [
        {
          "output_type": "stream",
          "name": "stdout",
          "text": [
            "loading Roboflow workspace...\n",
            "loading Roboflow project...\n",
            "\n",
            "Version export complete for yolo11 format\n"
          ]
        },
        {
          "output_type": "stream",
          "name": "stderr",
          "text": [
            "Downloading Dataset Version Zip in Storm-Damage-19 to yolo11:: 100%|██████████| 18372/18372 [00:02<00:00, 7657.80it/s] "
          ]
        },
        {
          "output_type": "stream",
          "name": "stdout",
          "text": [
            "\n"
          ]
        },
        {
          "output_type": "stream",
          "name": "stderr",
          "text": [
            "\n",
            "Extracting Dataset Version Zip to Storm-Damage-19 in yolo11:: 100%|██████████| 608/608 [00:00<00:00, 8024.37it/s]\n"
          ]
        }
      ],
      "source": [
        "# Downloading dataset from Roboflow platform (Notice: after execution data will be deleted from google colab)\n",
        "roboflow_project_name = 'stormdamagechallenge'\n",
        "dataset_name = 'storm-damage'\n",
        "dataset_title = 'Storm-Damage'\n",
        "dataset_id = 'goe2a'\n",
        "dataset_version = 19 # Cleaned Commercial Buildings\n",
        "model_name = 'yolo'\n",
        "model_version = '11' # 'v8' or '11'\n",
        "model_variant = 'n' # parameter required for model training phase\n",
        "\n",
        "# Connect to roboflow dataset\n",
        "rf = roboflow.Roboflow()\n",
        "project = rf.workspace(roboflow_project_name).project(dataset_name + '-' + dataset_id)\n",
        "dataset = project.version(dataset_version).download(model_name + model_version)"
      ]
    },
    {
      "cell_type": "markdown",
      "id": "crHVnOXzjtBV",
      "metadata": {
        "id": "crHVnOXzjtBV"
      },
      "source": [
        "### Check Ultralytics connection"
      ]
    },
    {
      "cell_type": "code",
      "execution_count": 6,
      "id": "CJ8WNMxGjvHm",
      "metadata": {
        "colab": {
          "base_uri": "https://localhost:8080/"
        },
        "id": "CJ8WNMxGjvHm",
        "outputId": "c3afc789-3323-4ed7-aedc-e668ff05b425"
      },
      "outputs": [
        {
          "output_type": "stream",
          "name": "stdout",
          "text": [
            "Ultralytics 8.3.216 🚀 Python-3.12.12 torch-2.8.0+cu126 CUDA:0 (Tesla T4, 15095MiB)\n",
            "Setup complete ✅ (2 CPUs, 12.7 GB RAM, 39.7/112.6 GB disk)\n"
          ]
        }
      ],
      "source": [
        "print(torch.cuda.is_available())\n",
        "print(torch.cuda.device_count())\n",
        "ultralytics.checks()"
      ]
    },
    {
      "cell_type": "code",
      "execution_count": 8,
      "id": "RzEbvf4Rjw1E",
      "metadata": {
        "colab": {
          "base_uri": "https://localhost:8080/"
        },
        "id": "RzEbvf4Rjw1E",
        "outputId": "77cc3b24-d90a-4dea-dda4-8926372f85ae"
      },
      "outputs": [
        {
          "output_type": "stream",
          "name": "stdout",
          "text": [
            "Thu Oct 16 06:27:21 2025       \n",
            "+-----------------------------------------------------------------------------------------+\n",
            "| NVIDIA-SMI 550.54.15              Driver Version: 550.54.15      CUDA Version: 12.4     |\n",
            "|-----------------------------------------+------------------------+----------------------+\n",
            "| GPU  Name                 Persistence-M | Bus-Id          Disp.A | Volatile Uncorr. ECC |\n",
            "| Fan  Temp   Perf          Pwr:Usage/Cap |           Memory-Usage | GPU-Util  Compute M. |\n",
            "|                                         |                        |               MIG M. |\n",
            "|=========================================+========================+======================|\n",
            "|   0  Tesla T4                       Off |   00000000:00:04.0 Off |                    0 |\n",
            "| N/A   43C    P8             12W /   70W |       2MiB /  15360MiB |      0%      Default |\n",
            "|                                         |                        |                  N/A |\n",
            "+-----------------------------------------+------------------------+----------------------+\n",
            "                                                                                         \n",
            "+-----------------------------------------------------------------------------------------+\n",
            "| Processes:                                                                              |\n",
            "|  GPU   GI   CI        PID   Type   Process name                              GPU Memory |\n",
            "|        ID   ID                                                               Usage      |\n",
            "|=========================================================================================|\n",
            "|  No running processes found                                                             |\n",
            "+-----------------------------------------------------------------------------------------+\n"
          ]
        }
      ],
      "source": [
        "!nvidia-smi"
      ]
    },
    {
      "cell_type": "markdown",
      "id": "0DZOo6auj0ON",
      "metadata": {
        "id": "0DZOo6auj0ON"
      },
      "source": [
        "### Loading YOLO model for Training"
      ]
    },
    {
      "cell_type": "code",
      "execution_count": 8,
      "id": "hUyCwuz1jeWp",
      "metadata": {
        "id": "hUyCwuz1jeWp",
        "outputId": "7ded2a9b-7857-4211-95f5-98686f329720",
        "colab": {
          "base_uri": "https://localhost:8080/"
        }
      },
      "outputs": [
        {
          "output_type": "stream",
          "name": "stdout",
          "text": [
            "YOLO11n summary: 181 layers, 2,590,230 parameters, 0 gradients, 6.4 GFLOPs\n"
          ]
        },
        {
          "output_type": "execute_result",
          "data": {
            "text/plain": [
              "(181, 2590230, 0, 6.4416768)"
            ]
          },
          "metadata": {},
          "execution_count": 8
        }
      ],
      "source": [
        "model = YOLO(\"/content/best.pt\")  # load a custom trained model\n",
        "model.info()"
      ]
    },
    {
      "cell_type": "code",
      "execution_count": 14,
      "id": "pklFMUC7jwx0",
      "metadata": {
        "id": "pklFMUC7jwx0",
        "outputId": "846bf6cc-9baf-4b0b-f5b2-80a1269db80a",
        "colab": {
          "base_uri": "https://localhost:8080/"
        }
      },
      "outputs": [
        {
          "output_type": "stream",
          "name": "stdout",
          "text": [
            "YOLO11n summary: 181 layers, 2,624,080 parameters, 0 gradients, 6.6 GFLOPs\n"
          ]
        },
        {
          "output_type": "execute_result",
          "data": {
            "text/plain": [
              "(181, 2624080, 0, 6.614336)"
            ]
          },
          "metadata": {},
          "execution_count": 14
        }
      ],
      "source": [
        "# # Loading the model\n",
        "# model = YOLO(f'../models/{model_name + model_version}/{model_name + model_version + model_variant}.pt')\n",
        "# # Display model information (optional)\n",
        "# model.info()"
      ]
    },
    {
      "cell_type": "code",
      "execution_count": 9,
      "id": "2ejwT_RCjwsu",
      "metadata": {
        "colab": {
          "base_uri": "https://localhost:8080/",
          "height": 35
        },
        "id": "2ejwT_RCjwsu",
        "outputId": "1b95979d-f5aa-4dd1-a154-245596f28624"
      },
      "outputs": [
        {
          "output_type": "execute_result",
          "data": {
            "text/plain": [
              "'/content/Storm-Damage-19/data.yaml'"
            ],
            "application/vnd.google.colaboratory.intrinsic+json": {
              "type": "string"
            }
          },
          "metadata": {},
          "execution_count": 9
        }
      ],
      "source": [
        "yaml_file = f'{HOME}/{dataset_title}-{dataset_version}/data.yaml'\n",
        "yaml_file"
      ]
    },
    {
      "cell_type": "markdown",
      "id": "f5aYs6zzk_2u",
      "metadata": {
        "id": "f5aYs6zzk_2u"
      },
      "source": [
        "## Pre-Training Model"
      ]
    },
    {
      "cell_type": "code",
      "execution_count": 10,
      "id": "3Viyufjsk9Dj",
      "metadata": {
        "id": "3Viyufjsk9Dj"
      },
      "outputs": [],
      "source": [
        "# Define model training parameters\n",
        "batch = 75 # set as an integer (e.g., batch=16), auto mode for 60% GPU memory utilization (batch=-1), or auto mode with specified utilization fraction (batch=0.70)\n",
        "device = 0 # 0: GPU | 'cpu': cpu | 'mps': apple silicon mps\n",
        "epochs = 30\n",
        "patience = 20\n",
        "imgsz = 640 # TODO: assess the importance of image size 640x640 by-design of Yolo models, image size role\n",
        "plots = True\n",
        "project = 'exploratory_phase' # parent directory name\n",
        "name_train = f'{model_name + model_version + model_variant}_training_dataset_v{dataset_version}' # run directory name"
      ]
    },
    {
      "cell_type": "code",
      "source": [
        "# # Empty cash of CUDA, to free-up the GPU memory after training. Required before restarting a new training session\n",
        "# import torch\n",
        "# torch.cuda.empty_cache()"
      ],
      "metadata": {
        "id": "Yd8GCR3IOQ9b"
      },
      "id": "Yd8GCR3IOQ9b",
      "execution_count": 17,
      "outputs": []
    },
    {
      "cell_type": "code",
      "execution_count": 18,
      "id": "vGQgTTFglCjy",
      "metadata": {
        "colab": {
          "base_uri": "https://localhost:8080/"
        },
        "collapsed": true,
        "id": "vGQgTTFglCjy",
        "outputId": "cb0fa05a-6738-4a82-9195-e1f62e6c425a"
      },
      "outputs": [
        {
          "output_type": "stream",
          "name": "stdout",
          "text": [
            "Ultralytics 8.3.214 🚀 Python-3.12.12 torch-2.8.0+cu126 CUDA:0 (Tesla T4, 15095MiB)\n",
            "\u001b[34m\u001b[1mengine/trainer: \u001b[0magnostic_nms=False, amp=True, augment=False, auto_augment=None, batch=75, bgr=0.0, box=7.5, cache=False, cfg=None, classes=None, close_mosaic=10, cls=0.5, compile=False, conf=None, copy_paste=0.0, copy_paste_mode=flip, cos_lr=False, cutmix=0.0, data=/content/Storm-Damage-19/data.yaml, degrees=0.0, deterministic=True, device=0, dfl=1.5, dnn=False, dropout=0.0, dynamic=False, embed=None, epochs=30, erasing=0.4, exist_ok=False, fliplr=0.5, flipud=0.0, format=torchscript, fraction=1.0, freeze=None, half=False, hsv_h=0.015, hsv_s=0.7, hsv_v=0.4, imgsz=640, int8=False, iou=0.7, keras=False, kobj=1.0, line_width=None, lr0=0.0001, lrf=0.01, mask_ratio=4, max_det=300, mixup=0.0, mode=train, model=../models/yolo11/yolo11n.pt, momentum=0.937, mosaic=1.0, multi_scale=False, name=yolo11n_training_dataset_v192, nbs=64, nms=False, opset=None, optimize=False, optimizer=AdamW, overlap_mask=True, patience=20, perspective=0.0, plots=True, pose=12.0, pretrained=True, profile=False, project=exploratory_phase, rect=False, resume=False, retina_masks=False, save=True, save_conf=False, save_crop=False, save_dir=/content/exploratory_phase/yolo11n_training_dataset_v192, save_frames=False, save_json=False, save_period=-1, save_txt=False, scale=0.5, seed=0, shear=0.0, show=False, show_boxes=True, show_conf=True, show_labels=True, simplify=True, single_cls=False, source=None, split=val, stream_buffer=False, task=detect, time=None, tracker=botsort.yaml, translate=0.1, val=True, verbose=True, vid_stride=1, visualize=False, warmup_bias_lr=0.1, warmup_epochs=3.0, warmup_momentum=0.8, weight_decay=0.0005, workers=8, workspace=None\n",
            "Overriding model.yaml nc=80 with nc=2\n",
            "\n",
            "                   from  n    params  module                                       arguments                     \n",
            "  0                  -1  1       464  ultralytics.nn.modules.conv.Conv             [3, 16, 3, 2]                 \n",
            "  1                  -1  1      4672  ultralytics.nn.modules.conv.Conv             [16, 32, 3, 2]                \n",
            "  2                  -1  1      6640  ultralytics.nn.modules.block.C3k2            [32, 64, 1, False, 0.25]      \n",
            "  3                  -1  1     36992  ultralytics.nn.modules.conv.Conv             [64, 64, 3, 2]                \n",
            "  4                  -1  1     26080  ultralytics.nn.modules.block.C3k2            [64, 128, 1, False, 0.25]     \n",
            "  5                  -1  1    147712  ultralytics.nn.modules.conv.Conv             [128, 128, 3, 2]              \n",
            "  6                  -1  1     87040  ultralytics.nn.modules.block.C3k2            [128, 128, 1, True]           \n",
            "  7                  -1  1    295424  ultralytics.nn.modules.conv.Conv             [128, 256, 3, 2]              \n",
            "  8                  -1  1    346112  ultralytics.nn.modules.block.C3k2            [256, 256, 1, True]           \n",
            "  9                  -1  1    164608  ultralytics.nn.modules.block.SPPF            [256, 256, 5]                 \n",
            " 10                  -1  1    249728  ultralytics.nn.modules.block.C2PSA           [256, 256, 1]                 \n",
            " 11                  -1  1         0  torch.nn.modules.upsampling.Upsample         [None, 2, 'nearest']          \n",
            " 12             [-1, 6]  1         0  ultralytics.nn.modules.conv.Concat           [1]                           \n",
            " 13                  -1  1    111296  ultralytics.nn.modules.block.C3k2            [384, 128, 1, False]          \n",
            " 14                  -1  1         0  torch.nn.modules.upsampling.Upsample         [None, 2, 'nearest']          \n",
            " 15             [-1, 4]  1         0  ultralytics.nn.modules.conv.Concat           [1]                           \n",
            " 16                  -1  1     32096  ultralytics.nn.modules.block.C3k2            [256, 64, 1, False]           \n",
            " 17                  -1  1     36992  ultralytics.nn.modules.conv.Conv             [64, 64, 3, 2]                \n",
            " 18            [-1, 13]  1         0  ultralytics.nn.modules.conv.Concat           [1]                           \n",
            " 19                  -1  1     86720  ultralytics.nn.modules.block.C3k2            [192, 128, 1, False]          \n",
            " 20                  -1  1    147712  ultralytics.nn.modules.conv.Conv             [128, 128, 3, 2]              \n",
            " 21            [-1, 10]  1         0  ultralytics.nn.modules.conv.Concat           [1]                           \n",
            " 22                  -1  1    378880  ultralytics.nn.modules.block.C3k2            [384, 256, 1, True]           \n",
            " 23        [16, 19, 22]  1    431062  ultralytics.nn.modules.head.Detect           [2, [64, 128, 256]]           \n",
            "YOLO11n summary: 181 layers, 2,590,230 parameters, 2,590,214 gradients, 6.4 GFLOPs\n",
            "\n",
            "Transferred 448/499 items from pretrained weights\n",
            "Freezing layer 'model.23.dfl.conv.weight'\n",
            "\u001b[34m\u001b[1mAMP: \u001b[0mrunning Automatic Mixed Precision (AMP) checks...\n",
            "\u001b[34m\u001b[1mAMP: \u001b[0mchecks passed ✅\n",
            "\u001b[34m\u001b[1mtrain: \u001b[0mFast image access ✅ (ping: 0.0±0.0 ms, read: 1484.8±562.8 MB/s, size: 61.7 KB)\n",
            "\u001b[K\u001b[34m\u001b[1mtrain: \u001b[0mScanning /content/Storm-Damage-19/train/labels.cache... 209 images, 33 backgrounds, 0 corrupt: 100% ━━━━━━━━━━━━ 209/209 286.4Kit/s 0.0s\n",
            "\u001b[34m\u001b[1malbumentations: \u001b[0mBlur(p=0.01, blur_limit=(3, 7)), MedianBlur(p=0.01, blur_limit=(3, 7)), ToGray(p=0.01, method='weighted_average', num_output_channels=3), CLAHE(p=0.01, clip_limit=(1.0, 4.0), tile_grid_size=(8, 8))\n",
            "\u001b[34m\u001b[1mval: \u001b[0mFast image access ✅ (ping: 0.0±0.0 ms, read: 658.7±301.5 MB/s, size: 62.1 KB)\n",
            "\u001b[K\u001b[34m\u001b[1mval: \u001b[0mScanning /content/Storm-Damage-19/valid/labels.cache... 68 images, 18 backgrounds, 0 corrupt: 100% ━━━━━━━━━━━━ 68/68 24.4Kit/s 0.0s\n",
            "Plotting labels to /content/exploratory_phase/yolo11n_training_dataset_v192/labels.jpg... \n",
            "\u001b[34m\u001b[1moptimizer:\u001b[0m AdamW(lr=0.0001, momentum=0.937) with parameter groups 81 weight(decay=0.0), 88 weight(decay=0.0005859375), 87 bias(decay=0.0)\n",
            "Image sizes 640 train, 640 val\n",
            "Using 2 dataloader workers\n",
            "Logging results to \u001b[1m/content/exploratory_phase/yolo11n_training_dataset_v192\u001b[0m\n",
            "Starting training for 30 epochs...\n",
            "\n",
            "      Epoch    GPU_mem   box_loss   cls_loss   dfl_loss  Instances       Size\n",
            "\u001b[K       1/30        13G      2.324      3.759      1.809       1352        640: 100% ━━━━━━━━━━━━ 3/3 0.4it/s 6.9s\n",
            "\u001b[K                 Class     Images  Instances      Box(P          R      mAP50  mAP50-95): 100% ━━━━━━━━━━━━ 1/1 0.5it/s 2.1s\n",
            "                   all         68        990    0.00387      0.241     0.0149    0.00923\n",
            "\n",
            "      Epoch    GPU_mem   box_loss   cls_loss   dfl_loss  Instances       Size\n",
            "\u001b[K       2/30      13.4G      2.332      3.757       1.85       1673        640: 100% ━━━━━━━━━━━━ 3/3 1.1it/s 2.7s\n",
            "\u001b[K                 Class     Images  Instances      Box(P          R      mAP50  mAP50-95): 100% ━━━━━━━━━━━━ 1/1 1.2it/s 0.8s\n",
            "                   all         68        990    0.00443      0.243     0.0181     0.0108\n",
            "\n",
            "      Epoch    GPU_mem   box_loss   cls_loss   dfl_loss  Instances       Size\n",
            "\u001b[K       3/30      11.9G      1.983      3.452      1.555       1534        640: 100% ━━━━━━━━━━━━ 3/3 1.1it/s 2.6s\n",
            "\u001b[K                 Class     Images  Instances      Box(P          R      mAP50  mAP50-95): 100% ━━━━━━━━━━━━ 1/1 1.0it/s 1.0s\n",
            "                   all         68        990    0.00724      0.334     0.0243    0.00921\n",
            "\n",
            "      Epoch    GPU_mem   box_loss   cls_loss   dfl_loss  Instances       Size\n",
            "\u001b[K       4/30        13G      1.749      2.776      1.279       1849        640: 100% ━━━━━━━━━━━━ 3/3 1.0it/s 3.0s\n",
            "\u001b[K                 Class     Images  Instances      Box(P          R      mAP50  mAP50-95): 100% ━━━━━━━━━━━━ 1/1 0.8it/s 1.3s\n",
            "                   all         68        990     0.0276       0.49      0.115     0.0488\n",
            "\n",
            "      Epoch    GPU_mem   box_loss   cls_loss   dfl_loss  Instances       Size\n",
            "\u001b[K       5/30      12.3G      1.696      2.293      1.256       1567        640: 100% ━━━━━━━━━━━━ 3/3 1.2it/s 2.5s\n",
            "\u001b[K                 Class     Images  Instances      Box(P          R      mAP50  mAP50-95): 100% ━━━━━━━━━━━━ 1/1 1.0it/s 1.0s\n",
            "                   all         68        990      0.021      0.362     0.0599     0.0245\n",
            "\n",
            "      Epoch    GPU_mem   box_loss   cls_loss   dfl_loss  Instances       Size\n",
            "\u001b[K       6/30      12.3G      1.684      2.024      1.261       1330        640: 100% ━━━━━━━━━━━━ 3/3 1.2it/s 2.4s\n",
            "\u001b[K                 Class     Images  Instances      Box(P          R      mAP50  mAP50-95): 100% ━━━━━━━━━━━━ 1/1 0.7it/s 1.3s\n",
            "                   all         68        990    0.00551      0.125      0.026    0.00857\n",
            "\n",
            "      Epoch    GPU_mem   box_loss   cls_loss   dfl_loss  Instances       Size\n",
            "\u001b[K       7/30      12.9G      1.694      1.928      1.254       1716        640: 100% ━━━━━━━━━━━━ 3/3 1.2it/s 2.5s\n",
            "\u001b[K                 Class     Images  Instances      Box(P          R      mAP50  mAP50-95): 100% ━━━━━━━━━━━━ 1/1 1.0it/s 1.0s\n",
            "                   all         68        990    0.00333     0.0758     0.0103    0.00253\n",
            "\n",
            "      Epoch    GPU_mem   box_loss   cls_loss   dfl_loss  Instances       Size\n",
            "\u001b[K       8/30      12.8G      1.657      1.846      1.233       1628        640: 100% ━━━━━━━━━━━━ 3/3 1.2it/s 2.4s\n",
            "\u001b[K                 Class     Images  Instances      Box(P          R      mAP50  mAP50-95): 100% ━━━━━━━━━━━━ 1/1 1.0it/s 1.0s\n",
            "                   all         68        990    0.00598      0.136     0.0337    0.00916\n",
            "\n",
            "      Epoch    GPU_mem   box_loss   cls_loss   dfl_loss  Instances       Size\n",
            "\u001b[K       9/30      11.9G      1.666      1.714      1.251       1568        640: 100% ━━━━━━━━━━━━ 3/3 1.3it/s 2.4s\n",
            "\u001b[K                 Class     Images  Instances      Box(P          R      mAP50  mAP50-95): 100% ━━━━━━━━━━━━ 1/1 0.7it/s 1.4s\n",
            "                   all         68        990     0.0106      0.241     0.0986     0.0324\n",
            "\n",
            "      Epoch    GPU_mem   box_loss   cls_loss   dfl_loss  Instances       Size\n",
            "\u001b[K      10/30        12G      1.673      1.644      1.255       1503        640: 100% ━━━━━━━━━━━━ 3/3 1.3it/s 2.4s\n",
            "\u001b[K                 Class     Images  Instances      Box(P          R      mAP50  mAP50-95): 100% ━━━━━━━━━━━━ 1/1 0.9it/s 1.1s\n",
            "                   all         68        990     0.0136      0.304      0.148     0.0515\n",
            "\n",
            "      Epoch    GPU_mem   box_loss   cls_loss   dfl_loss  Instances       Size\n",
            "\u001b[K      11/30      12.9G      1.699       1.61      1.259       1578        640: 100% ━━━━━━━━━━━━ 3/3 1.2it/s 2.5s\n",
            "\u001b[K                 Class     Images  Instances      Box(P          R      mAP50  mAP50-95): 100% ━━━━━━━━━━━━ 1/1 0.9it/s 1.2s\n",
            "                   all         68        990     0.0142      0.313       0.12     0.0438\n",
            "\n",
            "      Epoch    GPU_mem   box_loss   cls_loss   dfl_loss  Instances       Size\n",
            "\u001b[K      12/30      12.5G       1.69      1.612      1.278       1670        640: 100% ━━━━━━━━━━━━ 3/3 1.1it/s 2.6s\n",
            "\u001b[K                 Class     Images  Instances      Box(P          R      mAP50  mAP50-95): 100% ━━━━━━━━━━━━ 1/1 0.8it/s 1.3s\n",
            "                   all         68        990     0.0155      0.342      0.108     0.0406\n",
            "\n",
            "      Epoch    GPU_mem   box_loss   cls_loss   dfl_loss  Instances       Size\n",
            "\u001b[K      13/30      12.3G      1.684      1.541      1.281       1653        640: 100% ━━━━━━━━━━━━ 3/3 1.2it/s 2.4s\n",
            "\u001b[K                 Class     Images  Instances      Box(P          R      mAP50  mAP50-95): 100% ━━━━━━━━━━━━ 1/1 0.8it/s 1.2s\n",
            "                   all         68        990     0.0157      0.346     0.0926     0.0361\n",
            "\n",
            "      Epoch    GPU_mem   box_loss   cls_loss   dfl_loss  Instances       Size\n",
            "\u001b[K      14/30      11.2G      1.644      1.514      1.269       1512        640: 100% ━━━━━━━━━━━━ 3/3 1.3it/s 2.4s\n",
            "\u001b[K                 Class     Images  Instances      Box(P          R      mAP50  mAP50-95): 100% ━━━━━━━━━━━━ 1/1 0.8it/s 1.2s\n",
            "                   all         68        990     0.0163      0.347      0.085     0.0331\n",
            "\n",
            "      Epoch    GPU_mem   box_loss   cls_loss   dfl_loss  Instances       Size\n",
            "\u001b[K      15/30      12.5G      1.636      1.504      1.265       1490        640: 100% ━━━━━━━━━━━━ 3/3 1.1it/s 2.7s\n",
            "\u001b[K                 Class     Images  Instances      Box(P          R      mAP50  mAP50-95): 100% ━━━━━━━━━━━━ 1/1 0.8it/s 1.2s\n",
            "                   all         68        990      0.016       0.34     0.0623      0.025\n",
            "\n",
            "      Epoch    GPU_mem   box_loss   cls_loss   dfl_loss  Instances       Size\n",
            "\u001b[K      16/30      13.1G      1.612      1.429      1.247       1632        640: 100% ━━━━━━━━━━━━ 3/3 1.2it/s 2.5s\n",
            "\u001b[K                 Class     Images  Instances      Box(P          R      mAP50  mAP50-95): 100% ━━━━━━━━━━━━ 1/1 0.8it/s 1.2s\n",
            "                   all         68        990      0.016      0.332     0.0499     0.0201\n",
            "\n",
            "      Epoch    GPU_mem   box_loss   cls_loss   dfl_loss  Instances       Size\n",
            "\u001b[K      17/30      12.4G      1.609      1.368       1.25       1706        640: 100% ━━━━━━━━━━━━ 3/3 1.2it/s 2.4s\n",
            "\u001b[K                 Class     Images  Instances      Box(P          R      mAP50  mAP50-95): 100% ━━━━━━━━━━━━ 1/1 0.6it/s 1.5s\n",
            "                   all         68        990     0.0184      0.366     0.0952     0.0375\n",
            "\n",
            "      Epoch    GPU_mem   box_loss   cls_loss   dfl_loss  Instances       Size\n",
            "\u001b[K      18/30      12.9G      1.628      1.376      1.253       1497        640: 100% ━━━━━━━━━━━━ 3/3 1.2it/s 2.4s\n",
            "\u001b[K                 Class     Images  Instances      Box(P          R      mAP50  mAP50-95): 100% ━━━━━━━━━━━━ 1/1 0.8it/s 1.2s\n",
            "                   all         68        990     0.0206      0.432       0.16     0.0573\n",
            "\n",
            "      Epoch    GPU_mem   box_loss   cls_loss   dfl_loss  Instances       Size\n",
            "\u001b[K      19/30      12.4G      1.606      1.321      1.241       1602        640: 100% ━━━━━━━━━━━━ 3/3 1.2it/s 2.5s\n",
            "\u001b[K                 Class     Images  Instances      Box(P          R      mAP50  mAP50-95): 100% ━━━━━━━━━━━━ 1/1 0.8it/s 1.2s\n",
            "                   all         68        990     0.0232      0.514      0.161     0.0555\n",
            "\n",
            "      Epoch    GPU_mem   box_loss   cls_loss   dfl_loss  Instances       Size\n",
            "\u001b[K      20/30      11.8G       1.65      1.319      1.271       1526        640: 100% ━━━━━━━━━━━━ 3/3 1.2it/s 2.6s\n",
            "\u001b[K                 Class     Images  Instances      Box(P          R      mAP50  mAP50-95): 100% ━━━━━━━━━━━━ 1/1 0.8it/s 1.3s\n",
            "                   all         68        990     0.0264      0.532      0.177     0.0629\n",
            "Closing dataloader mosaic\n",
            "\u001b[34m\u001b[1malbumentations: \u001b[0mBlur(p=0.01, blur_limit=(3, 7)), MedianBlur(p=0.01, blur_limit=(3, 7)), ToGray(p=0.01, method='weighted_average', num_output_channels=3), CLAHE(p=0.01, clip_limit=(1.0, 4.0), tile_grid_size=(8, 8))\n",
            "\n",
            "      Epoch    GPU_mem   box_loss   cls_loss   dfl_loss  Instances       Size\n",
            "\u001b[K      21/30      11.4G      1.623      1.442      1.266        772        640: 100% ━━━━━━━━━━━━ 3/3 0.5it/s 5.5s\n",
            "\u001b[K                 Class     Images  Instances      Box(P          R      mAP50  mAP50-95): 100% ━━━━━━━━━━━━ 1/1 0.4it/s 2.3s\n",
            "                   all         68        990     0.0285      0.532      0.226     0.0825\n",
            "\n",
            "      Epoch    GPU_mem   box_loss   cls_loss   dfl_loss  Instances       Size\n",
            "\u001b[K      22/30      11.3G      1.592        1.4      1.267        987        640: 100% ━━━━━━━━━━━━ 3/3 1.2it/s 2.6s\n",
            "\u001b[K                 Class     Images  Instances      Box(P          R      mAP50  mAP50-95): 100% ━━━━━━━━━━━━ 1/1 0.7it/s 1.4s\n",
            "                   all         68        990     0.0343      0.575      0.278      0.117\n",
            "\n",
            "      Epoch    GPU_mem   box_loss   cls_loss   dfl_loss  Instances       Size\n",
            "\u001b[K      23/30        11G      1.596       1.37      1.267        877        640: 100% ━━━━━━━━━━━━ 3/3 1.2it/s 2.4s\n",
            "\u001b[K                 Class     Images  Instances      Box(P          R      mAP50  mAP50-95): 100% ━━━━━━━━━━━━ 1/1 0.8it/s 1.2s\n",
            "                   all         68        990     0.0426      0.629      0.332      0.139\n",
            "\n",
            "      Epoch    GPU_mem   box_loss   cls_loss   dfl_loss  Instances       Size\n",
            "\u001b[K      24/30      11.4G      1.588      1.334      1.277       1007        640: 100% ━━━━━━━━━━━━ 3/3 1.2it/s 2.5s\n",
            "\u001b[K                 Class     Images  Instances      Box(P          R      mAP50  mAP50-95): 100% ━━━━━━━━━━━━ 1/1 0.8it/s 1.2s\n",
            "                   all         68        990     0.0503      0.675      0.364      0.156\n",
            "\n",
            "      Epoch    GPU_mem   box_loss   cls_loss   dfl_loss  Instances       Size\n",
            "\u001b[K      25/30      11.1G      1.574      1.305      1.257       1110        640: 100% ━━━━━━━━━━━━ 3/3 1.3it/s 2.3s\n",
            "\u001b[K                 Class     Images  Instances      Box(P          R      mAP50  mAP50-95): 100% ━━━━━━━━━━━━ 1/1 1.2it/s 0.8s\n",
            "                   all         68        990     0.0542      0.741      0.415      0.182\n",
            "\n",
            "      Epoch    GPU_mem   box_loss   cls_loss   dfl_loss  Instances       Size\n",
            "\u001b[K      26/30      11.3G      1.578      1.317      1.259        838        640: 100% ━━━━━━━━━━━━ 3/3 1.3it/s 2.3s\n",
            "\u001b[K                 Class     Images  Instances      Box(P          R      mAP50  mAP50-95): 100% ━━━━━━━━━━━━ 1/1 1.3it/s 0.8s\n",
            "                   all         68        990     0.0843      0.774      0.469      0.218\n",
            "\n",
            "      Epoch    GPU_mem   box_loss   cls_loss   dfl_loss  Instances       Size\n",
            "\u001b[K      27/30      11.2G      1.552      1.317      1.259        698        640: 100% ━━━━━━━━━━━━ 3/3 1.2it/s 2.6s\n",
            "\u001b[K                 Class     Images  Instances      Box(P          R      mAP50  mAP50-95): 100% ━━━━━━━━━━━━ 1/1 1.1it/s 0.9s\n",
            "                   all         68        990      0.681      0.342      0.518      0.262\n",
            "\n",
            "      Epoch    GPU_mem   box_loss   cls_loss   dfl_loss  Instances       Size\n",
            "\u001b[K      28/30      11.2G      1.554      1.301      1.252       1118        640: 100% ━━━━━━━━━━━━ 3/3 1.3it/s 2.3s\n",
            "\u001b[K                 Class     Images  Instances      Box(P          R      mAP50  mAP50-95): 100% ━━━━━━━━━━━━ 1/1 1.3it/s 0.7s\n",
            "                   all         68        990       0.77      0.233       0.55      0.286\n",
            "\n",
            "      Epoch    GPU_mem   box_loss   cls_loss   dfl_loss  Instances       Size\n",
            "\u001b[K      29/30      10.7G       1.57      1.279      1.265        864        640: 100% ━━━━━━━━━━━━ 3/3 1.3it/s 2.3s\n",
            "\u001b[K                 Class     Images  Instances      Box(P          R      mAP50  mAP50-95): 100% ━━━━━━━━━━━━ 1/1 1.4it/s 0.7s\n",
            "                   all         68        990      0.843      0.193      0.575      0.299\n",
            "\n",
            "      Epoch    GPU_mem   box_loss   cls_loss   dfl_loss  Instances       Size\n",
            "\u001b[K      30/30      11.2G      1.546      1.262      1.259        816        640: 100% ━━━━━━━━━━━━ 3/3 1.2it/s 2.5s\n",
            "\u001b[K                 Class     Images  Instances      Box(P          R      mAP50  mAP50-95): 100% ━━━━━━━━━━━━ 1/1 1.4it/s 0.7s\n",
            "                   all         68        990       0.88      0.145      0.584       0.31\n",
            "\n",
            "30 epochs completed in 0.043 hours.\n",
            "Optimizer stripped from /content/exploratory_phase/yolo11n_training_dataset_v192/weights/last.pt, 5.5MB\n",
            "Optimizer stripped from /content/exploratory_phase/yolo11n_training_dataset_v192/weights/best.pt, 5.5MB\n",
            "\n",
            "Validating /content/exploratory_phase/yolo11n_training_dataset_v192/weights/best.pt...\n",
            "Ultralytics 8.3.214 🚀 Python-3.12.12 torch-2.8.0+cu126 CUDA:0 (Tesla T4, 15095MiB)\n",
            "YOLO11n summary (fused): 100 layers, 2,582,542 parameters, 0 gradients, 6.3 GFLOPs\n",
            "\u001b[K                 Class     Images  Instances      Box(P          R      mAP50  mAP50-95): 100% ━━━━━━━━━━━━ 1/1 1.9it/s 0.5s\n",
            "                   all         68        990       0.88      0.145      0.584       0.31\n",
            "undamagedcommercialbuilding         28         93       0.76      0.272      0.466      0.291\n",
            "undamagedresidentialbuilding         36        897          1     0.0167      0.703      0.329\n",
            "Speed: 0.2ms preprocess, 2.6ms inference, 0.0ms loss, 1.8ms postprocess per image\n",
            "Results saved to \u001b[1m/content/exploratory_phase/yolo11n_training_dataset_v192\u001b[0m\n"
          ]
        }
      ],
      "source": [
        "# Train the model - v19\n",
        "result_model_training = model.train(\n",
        "                                    data=yaml_file,\n",
        "                                    batch = batch,\n",
        "                                    device = device,\n",
        "                                    epochs = epochs,\n",
        "                                    patience = patience,\n",
        "                                    imgsz = imgsz,\n",
        "                                    optimizer = 'AdamW',\n",
        "                                    augment = False, # (bool) apply image augmentation to prediction sources\n",
        "                                    lr0 = 1e-4, # 5e-5, 1e-5 previously\n",
        "                                    auto_augment = None, # (str) auto augmentation policy for classification (randaugment, autoaugment, augmix)\n",
        "                                    momentum = 0.937,\n",
        "                                    plots = plots,\n",
        "                                    project = project,\n",
        "                                    name = name_train\n",
        "                                    )"
      ]
    },
    {
      "cell_type": "code",
      "source": [
        "# Evaluate the model on the test dataset - v19\n",
        "metrics_val = model.val(\n",
        "    data=yaml_file,  # Path to the data.yaml file\n",
        "    split=\"val\",                   # Specify the test split\n",
        "    batch = batch,                  # Batch size for evaluation\n",
        "    save_json = True,\n",
        "    plots=True,\n",
        "    imgsz=640,                      # Image size\n",
        "    conf=0.001,                      # Confidence threshold\n",
        "    iou=0.7,                        # IoU threshold for NMS\n",
        "    device=device,                     # Use GPU (e.g., \"0\" for the first GPU)\n",
        ")"
      ],
      "metadata": {
        "colab": {
          "base_uri": "https://localhost:8080/"
        },
        "id": "8cMlGuOj1gUI",
        "outputId": "2bb8b68d-723f-446d-cc39-50a3709543bd"
      },
      "id": "8cMlGuOj1gUI",
      "execution_count": 21,
      "outputs": [
        {
          "output_type": "stream",
          "name": "stdout",
          "text": [
            "Ultralytics 8.3.216 🚀 Python-3.12.12 torch-2.8.0+cu126 CUDA:0 (Tesla T4, 15095MiB)\n",
            "\u001b[34m\u001b[1mval: \u001b[0mFast image access ✅ (ping: 0.0±0.0 ms, read: 1533.3±564.9 MB/s, size: 64.2 KB)\n",
            "\u001b[K\u001b[34m\u001b[1mval: \u001b[0mScanning /content/Storm-Damage-19/valid/labels.cache... 68 images, 18 backgrounds, 0 corrupt: 100% ━━━━━━━━━━━━ 68/68 77.9Kit/s 0.0s\n",
            "\u001b[K                 Class     Images  Instances      Box(P          R      mAP50  mAP50-95): 100% ━━━━━━━━━━━━ 1/1 0.2it/s 4.2s\n",
            "                   all         68        990      0.704      0.693      0.711      0.386\n",
            "undamagedcommercialbuilding         28         93      0.625      0.646      0.636        0.4\n",
            "undamagedresidentialbuilding         36        897      0.782       0.74      0.787      0.373\n",
            "Speed: 0.2ms preprocess, 4.5ms inference, 0.0ms loss, 4.1ms postprocess per image\n",
            "Saving /content/runs/detect/val4/predictions.json...\n",
            "Results saved to \u001b[1m/content/runs/detect/val4\u001b[0m\n"
          ]
        }
      ]
    },
    {
      "cell_type": "code",
      "source": [
        "metrics_val.to_df()"
      ],
      "metadata": {
        "id": "AhZedb37zB6E",
        "outputId": "bda5c723-660d-4d98-c452-89e87fe649a0",
        "colab": {
          "base_uri": "https://localhost:8080/",
          "height": 159
        }
      },
      "id": "AhZedb37zB6E",
      "execution_count": 22,
      "outputs": [
        {
          "output_type": "execute_result",
          "data": {
            "text/plain": [
              "shape: (2, 8)\n",
              "┌──────────────────────────┬────────┬───────────┬─────────┬─────────┬─────────┬─────────┬──────────┐\n",
              "│ Class                    ┆ Images ┆ Instances ┆ Box-P   ┆ Box-R   ┆ Box-F1  ┆ mAP50   ┆ mAP50-95 │\n",
              "│ ---                      ┆ ---    ┆ ---       ┆ ---     ┆ ---     ┆ ---     ┆ ---     ┆ ---      │\n",
              "│ str                      ┆ i64    ┆ i64       ┆ f64     ┆ f64     ┆ f64     ┆ f64     ┆ f64      │\n",
              "╞══════════════════════════╪════════╪═══════════╪═════════╪═════════╪═════════╪═════════╪══════════╡\n",
              "│ undamagedcommercialbuild ┆ 28     ┆ 93        ┆ 0.62515 ┆ 0.64557 ┆ 0.6352  ┆ 0.63586 ┆ 0.40005  │\n",
              "│ ing                      ┆        ┆           ┆         ┆         ┆         ┆         ┆          │\n",
              "│ undamagedresidentialbuil ┆ 36     ┆ 897       ┆ 0.78207 ┆ 0.74011 ┆ 0.76051 ┆ 0.78691 ┆ 0.37262  │\n",
              "│ ding                     ┆        ┆           ┆         ┆         ┆         ┆         ┆          │\n",
              "└──────────────────────────┴────────┴───────────┴─────────┴─────────┴─────────┴─────────┴──────────┘"
            ],
            "text/html": [
              "<div><style>\n",
              ".dataframe > thead > tr,\n",
              ".dataframe > tbody > tr {\n",
              "  text-align: right;\n",
              "  white-space: pre-wrap;\n",
              "}\n",
              "</style>\n",
              "<small>shape: (2, 8)</small><table border=\"1\" class=\"dataframe\"><thead><tr><th>Class</th><th>Images</th><th>Instances</th><th>Box-P</th><th>Box-R</th><th>Box-F1</th><th>mAP50</th><th>mAP50-95</th></tr><tr><td>str</td><td>i64</td><td>i64</td><td>f64</td><td>f64</td><td>f64</td><td>f64</td><td>f64</td></tr></thead><tbody><tr><td>&quot;undamagedcommercialbuilding&quot;</td><td>28</td><td>93</td><td>0.62515</td><td>0.64557</td><td>0.6352</td><td>0.63586</td><td>0.40005</td></tr><tr><td>&quot;undamagedresidentialbuilding&quot;</td><td>36</td><td>897</td><td>0.78207</td><td>0.74011</td><td>0.76051</td><td>0.78691</td><td>0.37262</td></tr></tbody></table></div>"
            ]
          },
          "metadata": {},
          "execution_count": 22
        }
      ]
    },
    {
      "cell_type": "code",
      "source": [
        "metrics_val.box.a"
      ],
      "metadata": {
        "id": "94252nwqgNzA",
        "outputId": "5ec7dde1-a31a-4f31-b91b-17396be11385",
        "colab": {
          "base_uri": "https://localhost:8080/",
          "height": 734
        }
      },
      "id": "94252nwqgNzA",
      "execution_count": 28,
      "outputs": [
        {
          "output_type": "error",
          "ename": "AttributeError",
          "evalue": "'Metric' object has no attribute 'a'. See valid attributes below.\n\n    Class for computing evaluation metrics for Ultralytics YOLO models.\n\n    Attributes:\n        p (list): Precision for each class. Shape: (nc,).\n        r (list): Recall for each class. Shape: (nc,).\n        f1 (list): F1 score for each class. Shape: (nc,).\n        all_ap (list): AP scores for all classes and all IoU thresholds. Shape: (nc, 10).\n        ap_class_index (list): Index of class for each AP score. Shape: (nc,).\n        nc (int): Number of classes.\n\n    Methods:\n        ap50: AP at IoU threshold of 0.5 for all classes.\n        ap: AP at IoU thresholds from 0.5 to 0.95 for all classes.\n        mp: Mean precision of all classes.\n        mr: Mean recall of all classes.\n        map50: Mean AP at IoU threshold of 0.5 for all classes.\n        map75: Mean AP at IoU threshold of 0.75 for all classes.\n        map: Mean AP at IoU thresholds from 0.5 to 0.95 for all classes.\n        mean_results: Mean of results, returns mp, mr, map50, map.\n        class_result: Class-aware result, returns p[i], r[i], ap50[i], ap[i].\n        maps: mAP of each class.\n        fitness: Model fitness as a weighted combination of metrics.\n        update: Update metric attributes with new evaluation results.\n        curves: Provides a list of curves for accessing specific metrics like precision, recall, F1, etc.\n        curves_results: Provide a list of results for accessing specific metrics like precision, recall, F1, etc.\n    ",
          "traceback": [
            "\u001b[0;31m---------------------------------------------------------------------------\u001b[0m",
            "\u001b[0;31mAttributeError\u001b[0m                            Traceback (most recent call last)",
            "\u001b[0;32m/tmp/ipython-input-2189836861.py\u001b[0m in \u001b[0;36m<cell line: 0>\u001b[0;34m()\u001b[0m\n\u001b[0;32m----> 1\u001b[0;31m \u001b[0mmetrics_val\u001b[0m\u001b[0;34m.\u001b[0m\u001b[0mbox\u001b[0m\u001b[0;34m.\u001b[0m\u001b[0ma\u001b[0m\u001b[0;34m\u001b[0m\u001b[0;34m\u001b[0m\u001b[0m\n\u001b[0m",
            "\u001b[0;32m/usr/local/lib/python3.12/dist-packages/ultralytics/utils/__init__.py\u001b[0m in \u001b[0;36m__getattr__\u001b[0;34m(self, attr)\u001b[0m\n\u001b[1;32m    272\u001b[0m         \u001b[0;34m\"\"\"Provide a custom attribute access error message with helpful information.\"\"\"\u001b[0m\u001b[0;34m\u001b[0m\u001b[0;34m\u001b[0m\u001b[0m\n\u001b[1;32m    273\u001b[0m         \u001b[0mname\u001b[0m \u001b[0;34m=\u001b[0m \u001b[0mself\u001b[0m\u001b[0;34m.\u001b[0m\u001b[0m__class__\u001b[0m\u001b[0;34m.\u001b[0m\u001b[0m__name__\u001b[0m\u001b[0;34m\u001b[0m\u001b[0;34m\u001b[0m\u001b[0m\n\u001b[0;32m--> 274\u001b[0;31m         \u001b[0;32mraise\u001b[0m \u001b[0mAttributeError\u001b[0m\u001b[0;34m(\u001b[0m\u001b[0;34mf\"'{name}' object has no attribute '{attr}'. See valid attributes below.\\n{self.__doc__}\"\u001b[0m\u001b[0;34m)\u001b[0m\u001b[0;34m\u001b[0m\u001b[0;34m\u001b[0m\u001b[0m\n\u001b[0m\u001b[1;32m    275\u001b[0m \u001b[0;34m\u001b[0m\u001b[0m\n\u001b[1;32m    276\u001b[0m \u001b[0;34m\u001b[0m\u001b[0m\n",
            "\u001b[0;31mAttributeError\u001b[0m: 'Metric' object has no attribute 'a'. See valid attributes below.\n\n    Class for computing evaluation metrics for Ultralytics YOLO models.\n\n    Attributes:\n        p (list): Precision for each class. Shape: (nc,).\n        r (list): Recall for each class. Shape: (nc,).\n        f1 (list): F1 score for each class. Shape: (nc,).\n        all_ap (list): AP scores for all classes and all IoU thresholds. Shape: (nc, 10).\n        ap_class_index (list): Index of class for each AP score. Shape: (nc,).\n        nc (int): Number of classes.\n\n    Methods:\n        ap50: AP at IoU threshold of 0.5 for all classes.\n        ap: AP at IoU thresholds from 0.5 to 0.95 for all classes.\n        mp: Mean precision of all classes.\n        mr: Mean recall of all classes.\n        map50: Mean AP at IoU threshold of 0.5 for all classes.\n        map75: Mean AP at IoU threshold of 0.75 for all classes.\n        map: Mean AP at IoU thresholds from 0.5 to 0.95 for all classes.\n        mean_results: Mean of results, returns mp, mr, map50, map.\n        class_result: Class-aware result, returns p[i], r[i], ap50[i], ap[i].\n        maps: mAP of each class.\n        fitness: Model fitness as a weighted combination of metrics.\n        update: Update metric attributes with new evaluation results.\n        curves: Provides a list of curves for accessing specific metrics like precision, recall, F1, etc.\n        curves_results: Provide a list of results for accessing specific metrics like precision, recall, F1, etc.\n    "
          ]
        }
      ]
    },
    {
      "cell_type": "code",
      "source": [
        "len(metrics_val.box.curves_results[1])"
      ],
      "metadata": {
        "id": "UKHEcijOh8Ls",
        "outputId": "e9e3d989-a6fc-4aca-f48f-b3805397beed",
        "colab": {
          "base_uri": "https://localhost:8080/"
        }
      },
      "id": "UKHEcijOh8Ls",
      "execution_count": 35,
      "outputs": [
        {
          "output_type": "execute_result",
          "data": {
            "text/plain": [
              "4"
            ]
          },
          "metadata": {},
          "execution_count": 35
        }
      ]
    },
    {
      "cell_type": "code",
      "source": [
        "metrics_val.box.curves_results[2][3]"
      ],
      "metadata": {
        "id": "0fPy39q1145p",
        "outputId": "844fd931-d4f0-49af-c3cd-e31756e93bb8",
        "colab": {
          "base_uri": "https://localhost:8080/",
          "height": 35
        }
      },
      "id": "0fPy39q1145p",
      "execution_count": 65,
      "outputs": [
        {
          "output_type": "execute_result",
          "data": {
            "text/plain": [
              "'Precision'"
            ],
            "application/vnd.google.colaboratory.intrinsic+json": {
              "type": "string"
            }
          },
          "metadata": {},
          "execution_count": 65
        }
      ]
    },
    {
      "cell_type": "code",
      "source": [
        "precision_res = metrics_val.box.curves_results[2][1][1]\n",
        "precision_com = metrics_val.box.curves_results[2][1][0]\n",
        "recall = metrics_val.box.curves_results[2][0]\n",
        "\n",
        "import matplotlib.pyplot as plt\n",
        "\n",
        "plt.figure(figsize=(10, 5))\n",
        "plt.plot(precision_res,recall, marker='o')\n",
        "plt.plot(precision_com,recall, marker='x')\n",
        "plt.xlabel('Recall')\n",
        "plt.ylabel('Precision')\n",
        "plt.title('Precision-Recall Curve')\n",
        "plt.grid(True)\n",
        "plt.show()"
      ],
      "metadata": {
        "id": "FyYdGhwH3JtE",
        "outputId": "2f8d741e-eeed-4826-f8de-029f308ed526",
        "colab": {
          "base_uri": "https://localhost:8080/",
          "height": 487
        }
      },
      "id": "FyYdGhwH3JtE",
      "execution_count": 66,
      "outputs": [
        {
          "output_type": "display_data",
          "data": {
            "text/plain": [
              "<Figure size 1000x500 with 1 Axes>"
            ],
            "image/png": "[encoded data removed]"
          },
          "metadata": {}
        }
      ]
    },
    {
      "cell_type": "code",
      "source": [
        "precision_res = metrics_val.box.curves_results[0][1][1]\n",
        "precision_com = metrics_val.box.curves_results[0][1][0]\n",
        "recall = metrics_val.box.curves_results[0][0]\n",
        "\n",
        "import matplotlib.pyplot as plt\n",
        "\n",
        "plt.figure(figsize=(10, 5))\n",
        "plt.plot(precision_res,recall, marker='o')\n",
        "plt.plot(precision_com,recall, marker='x')\n",
        "plt.xlabel('Recall')\n",
        "plt.ylabel('Precision')\n",
        "plt.title('Precision-Recall Curve')\n",
        "plt.grid(True)\n",
        "plt.show()"
      ],
      "metadata": {
        "id": "w3q564sF2TUV",
        "outputId": "6b3c0e2d-fdea-48de-d6dc-906d1c648e62",
        "colab": {
          "base_uri": "https://localhost:8080/",
          "height": 487
        }
      },
      "id": "w3q564sF2TUV",
      "execution_count": 58,
      "outputs": [
        {
          "output_type": "display_data",
          "data": {
            "text/plain": [
              "<Figure size 1000x500 with 1 Axes>"
            ],
            "image/png": "[encoded data removed]"
          },
          "metadata": {}
        }
      ]
    },
    {
      "cell_type": "code",
      "source": [],
      "metadata": {
        "id": "kuYXqPvd2TRx"
      },
      "id": "kuYXqPvd2TRx",
      "execution_count": null,
      "outputs": []
    },
    {
      "cell_type": "code",
      "source": [
        "metrics_val.curves[0], len(metrics_val.curves_results[0])"
      ],
      "metadata": {
        "id": "ksi2SAk9h8DS",
        "outputId": "4335d90d-bf39-471d-8ead-fd53ec55b73c",
        "colab": {
          "base_uri": "https://localhost:8080/"
        }
      },
      "id": "ksi2SAk9h8DS",
      "execution_count": 39,
      "outputs": [
        {
          "output_type": "execute_result",
          "data": {
            "text/plain": [
              "('Precision-Recall(B)', 4)"
            ]
          },
          "metadata": {},
          "execution_count": 39
        }
      ]
    },
    {
      "cell_type": "code",
      "source": [
        "metrics_val.curves_results[0][0]"
      ],
      "metadata": {
        "id": "4uS3OAD8iaUR",
        "outputId": "325b3cdf-68f6-4cb8-b118-98045ba0e630",
        "colab": {
          "base_uri": "https://localhost:8080/"
        }
      },
      "id": "4uS3OAD8iaUR",
      "execution_count": 56,
      "outputs": [
        {
          "output_type": "execute_result",
          "data": {
            "text/plain": [
              "array([          0,    0.001001,    0.002002,    0.003003,    0.004004,    0.005005,    0.006006,    0.007007,    0.008008,    0.009009,     0.01001,    0.011011,    0.012012,    0.013013,    0.014014,    0.015015,    0.016016,    0.017017,    0.018018,    0.019019,     0.02002,    0.021021,    0.022022,    0.023023,\n",
              "          0.024024,    0.025025,    0.026026,    0.027027,    0.028028,    0.029029,     0.03003,    0.031031,    0.032032,    0.033033,    0.034034,    0.035035,    0.036036,    0.037037,    0.038038,    0.039039,     0.04004,    0.041041,    0.042042,    0.043043,    0.044044,    0.045045,    0.046046,    0.047047,\n",
              "          0.048048,    0.049049,     0.05005,    0.051051,    0.052052,    0.053053,    0.054054,    0.055055,    0.056056,    0.057057,    0.058058,    0.059059,     0.06006,    0.061061,    0.062062,    0.063063,    0.064064,    0.065065,    0.066066,    0.067067,    0.068068,    0.069069,     0.07007,    0.071071,\n",
              "          0.072072,    0.073073,    0.074074,    0.075075,    0.076076,    0.077077,    0.078078,    0.079079,     0.08008,    0.081081,    0.082082,    0.083083,    0.084084,    0.085085,    0.086086,    0.087087,    0.088088,    0.089089,     0.09009,    0.091091,    0.092092,    0.093093,    0.094094,    0.095095,\n",
              "          0.096096,    0.097097,    0.098098,    0.099099,      0.1001,      0.1011,      0.1021,      0.1031,      0.1041,     0.10511,     0.10611,     0.10711,     0.10811,     0.10911,     0.11011,     0.11111,     0.11211,     0.11311,     0.11411,     0.11512,     0.11612,     0.11712,     0.11812,     0.11912,\n",
              "           0.12012,     0.12112,     0.12212,     0.12312,     0.12412,     0.12513,     0.12613,     0.12713,     0.12813,     0.12913,     0.13013,     0.13113,     0.13213,     0.13313,     0.13413,     0.13514,     0.13614,     0.13714,     0.13814,     0.13914,     0.14014,     0.14114,     0.14214,     0.14314,\n",
              "           0.14414,     0.14515,     0.14615,     0.14715,     0.14815,     0.14915,     0.15015,     0.15115,     0.15215,     0.15315,     0.15415,     0.15516,     0.15616,     0.15716,     0.15816,     0.15916,     0.16016,     0.16116,     0.16216,     0.16316,     0.16416,     0.16517,     0.16617,     0.16717,\n",
              "           0.16817,     0.16917,     0.17017,     0.17117,     0.17217,     0.17317,     0.17417,     0.17518,     0.17618,     0.17718,     0.17818,     0.17918,     0.18018,     0.18118,     0.18218,     0.18318,     0.18418,     0.18519,     0.18619,     0.18719,     0.18819,     0.18919,     0.19019,     0.19119,\n",
              "           0.19219,     0.19319,     0.19419,      0.1952,      0.1962,      0.1972,      0.1982,      0.1992,      0.2002,      0.2012,      0.2022,      0.2032,      0.2042,     0.20521,     0.20621,     0.20721,     0.20821,     0.20921,     0.21021,     0.21121,     0.21221,     0.21321,     0.21421,     0.21522,\n",
              "           0.21622,     0.21722,     0.21822,     0.21922,     0.22022,     0.22122,     0.22222,     0.22322,     0.22422,     0.22523,     0.22623,     0.22723,     0.22823,     0.22923,     0.23023,     0.23123,     0.23223,     0.23323,     0.23423,     0.23524,     0.23624,     0.23724,     0.23824,     0.23924,\n",
              "           0.24024,     0.24124,     0.24224,     0.24324,     0.24424,     0.24525,     0.24625,     0.24725,     0.24825,     0.24925,     0.25025,     0.25125,     0.25225,     0.25325,     0.25425,     0.25526,     0.25626,     0.25726,     0.25826,     0.25926,     0.26026,     0.26126,     0.26226,     0.26326,\n",
              "           0.26426,     0.26527,     0.26627,     0.26727,     0.26827,     0.26927,     0.27027,     0.27127,     0.27227,     0.27327,     0.27427,     0.27528,     0.27628,     0.27728,     0.27828,     0.27928,     0.28028,     0.28128,     0.28228,     0.28328,     0.28428,     0.28529,     0.28629,     0.28729,\n",
              "           0.28829,     0.28929,     0.29029,     0.29129,     0.29229,     0.29329,     0.29429,      0.2953,      0.2963,      0.2973,      0.2983,      0.2993,      0.3003,      0.3013,      0.3023,      0.3033,      0.3043,     0.30531,     0.30631,     0.30731,     0.30831,     0.30931,     0.31031,     0.31131,\n",
              "           0.31231,     0.31331,     0.31431,     0.31532,     0.31632,     0.31732,     0.31832,     0.31932,     0.32032,     0.32132,     0.32232,     0.32332,     0.32432,     0.32533,     0.32633,     0.32733,     0.32833,     0.32933,     0.33033,     0.33133,     0.33233,     0.33333,     0.33433,     0.33534,\n",
              "           0.33634,     0.33734,     0.33834,     0.33934,     0.34034,     0.34134,     0.34234,     0.34334,     0.34434,     0.34535,     0.34635,     0.34735,     0.34835,     0.34935,     0.35035,     0.35135,     0.35235,     0.35335,     0.35435,     0.35536,     0.35636,     0.35736,     0.35836,     0.35936,\n",
              "           0.36036,     0.36136,     0.36236,     0.36336,     0.36436,     0.36537,     0.36637,     0.36737,     0.36837,     0.36937,     0.37037,     0.37137,     0.37237,     0.37337,     0.37437,     0.37538,     0.37638,     0.37738,     0.37838,     0.37938,     0.38038,     0.38138,     0.38238,     0.38338,\n",
              "           0.38438,     0.38539,     0.38639,     0.38739,     0.38839,     0.38939,     0.39039,     0.39139,     0.39239,     0.39339,     0.39439,      0.3954,      0.3964,      0.3974,      0.3984,      0.3994,      0.4004,      0.4014,      0.4024,      0.4034,      0.4044,     0.40541,     0.40641,     0.40741,\n",
              "           0.40841,     0.40941,     0.41041,     0.41141,     0.41241,     0.41341,     0.41441,     0.41542,     0.41642,     0.41742,     0.41842,     0.41942,     0.42042,     0.42142,     0.42242,     0.42342,     0.42442,     0.42543,     0.42643,     0.42743,     0.42843,     0.42943,     0.43043,     0.43143,\n",
              "           0.43243,     0.43343,     0.43443,     0.43544,     0.43644,     0.43744,     0.43844,     0.43944,     0.44044,     0.44144,     0.44244,     0.44344,     0.44444,     0.44545,     0.44645,     0.44745,     0.44845,     0.44945,     0.45045,     0.45145,     0.45245,     0.45345,     0.45445,     0.45546,\n",
              "           0.45646,     0.45746,     0.45846,     0.45946,     0.46046,     0.46146,     0.46246,     0.46346,     0.46446,     0.46547,     0.46647,     0.46747,     0.46847,     0.46947,     0.47047,     0.47147,     0.47247,     0.47347,     0.47447,     0.47548,     0.47648,     0.47748,     0.47848,     0.47948,\n",
              "           0.48048,     0.48148,     0.48248,     0.48348,     0.48448,     0.48549,     0.48649,     0.48749,     0.48849,     0.48949,     0.49049,     0.49149,     0.49249,     0.49349,     0.49449,      0.4955,      0.4965,      0.4975,      0.4985,      0.4995,      0.5005,      0.5015,      0.5025,      0.5035,\n",
              "            0.5045,     0.50551,     0.50651,     0.50751,     0.50851,     0.50951,     0.51051,     0.51151,     0.51251,     0.51351,     0.51451,     0.51552,     0.51652,     0.51752,     0.51852,     0.51952,     0.52052,     0.52152,     0.52252,     0.52352,     0.52452,     0.52553,     0.52653,     0.52753,\n",
              "           0.52853,     0.52953,     0.53053,     0.53153,     0.53253,     0.53353,     0.53453,     0.53554,     0.53654,     0.53754,     0.53854,     0.53954,     0.54054,     0.54154,     0.54254,     0.54354,     0.54454,     0.54555,     0.54655,     0.54755,     0.54855,     0.54955,     0.55055,     0.55155,\n",
              "           0.55255,     0.55355,     0.55455,     0.55556,     0.55656,     0.55756,     0.55856,     0.55956,     0.56056,     0.56156,     0.56256,     0.56356,     0.56456,     0.56557,     0.56657,     0.56757,     0.56857,     0.56957,     0.57057,     0.57157,     0.57257,     0.57357,     0.57457,     0.57558,\n",
              "           0.57658,     0.57758,     0.57858,     0.57958,     0.58058,     0.58158,     0.58258,     0.58358,     0.58458,     0.58559,     0.58659,     0.58759,     0.58859,     0.58959,     0.59059,     0.59159,     0.59259,     0.59359,     0.59459,      0.5956,      0.5966,      0.5976,      0.5986,      0.5996,\n",
              "            0.6006,      0.6016,      0.6026,      0.6036,      0.6046,     0.60561,     0.60661,     0.60761,     0.60861,     0.60961,     0.61061,     0.61161,     0.61261,     0.61361,     0.61461,     0.61562,     0.61662,     0.61762,     0.61862,     0.61962,     0.62062,     0.62162,     0.62262,     0.62362,\n",
              "           0.62462,     0.62563,     0.62663,     0.62763,     0.62863,     0.62963,     0.63063,     0.63163,     0.63263,     0.63363,     0.63463,     0.63564,     0.63664,     0.63764,     0.63864,     0.63964,     0.64064,     0.64164,     0.64264,     0.64364,     0.64464,     0.64565,     0.64665,     0.64765,\n",
              "           0.64865,     0.64965,     0.65065,     0.65165,     0.65265,     0.65365,     0.65465,     0.65566,     0.65666,     0.65766,     0.65866,     0.65966,     0.66066,     0.66166,     0.66266,     0.66366,     0.66466,     0.66567,     0.66667,     0.66767,     0.66867,     0.66967,     0.67067,     0.67167,\n",
              "           0.67267,     0.67367,     0.67467,     0.67568,     0.67668,     0.67768,     0.67868,     0.67968,     0.68068,     0.68168,     0.68268,     0.68368,     0.68468,     0.68569,     0.68669,     0.68769,     0.68869,     0.68969,     0.69069,     0.69169,     0.69269,     0.69369,     0.69469,      0.6957,\n",
              "            0.6967,      0.6977,      0.6987,      0.6997,      0.7007,      0.7017,      0.7027,      0.7037,      0.7047,     0.70571,     0.70671,     0.70771,     0.70871,     0.70971,     0.71071,     0.71171,     0.71271,     0.71371,     0.71471,     0.71572,     0.71672,     0.71772,     0.71872,     0.71972,\n",
              "           0.72072,     0.72172,     0.72272,     0.72372,     0.72472,     0.72573,     0.72673,     0.72773,     0.72873,     0.72973,     0.73073,     0.73173,     0.73273,     0.73373,     0.73473,     0.73574,     0.73674,     0.73774,     0.73874,     0.73974,     0.74074,     0.74174,     0.74274,     0.74374,\n",
              "           0.74474,     0.74575,     0.74675,     0.74775,     0.74875,     0.74975,     0.75075,     0.75175,     0.75275,     0.75375,     0.75475,     0.75576,     0.75676,     0.75776,     0.75876,     0.75976,     0.76076,     0.76176,     0.76276,     0.76376,     0.76476,     0.76577,     0.76677,     0.76777,\n",
              "           0.76877,     0.76977,     0.77077,     0.77177,     0.77277,     0.77377,     0.77477,     0.77578,     0.77678,     0.77778,     0.77878,     0.77978,     0.78078,     0.78178,     0.78278,     0.78378,     0.78478,     0.78579,     0.78679,     0.78779,     0.78879,     0.78979,     0.79079,     0.79179,\n",
              "           0.79279,     0.79379,     0.79479,      0.7958,      0.7968,      0.7978,      0.7988,      0.7998,      0.8008,      0.8018,      0.8028,      0.8038,      0.8048,     0.80581,     0.80681,     0.80781,     0.80881,     0.80981,     0.81081,     0.81181,     0.81281,     0.81381,     0.81481,     0.81582,\n",
              "           0.81682,     0.81782,     0.81882,     0.81982,     0.82082,     0.82182,     0.82282,     0.82382,     0.82482,     0.82583,     0.82683,     0.82783,     0.82883,     0.82983,     0.83083,     0.83183,     0.83283,     0.83383,     0.83483,     0.83584,     0.83684,     0.83784,     0.83884,     0.83984,\n",
              "           0.84084,     0.84184,     0.84284,     0.84384,     0.84484,     0.84585,     0.84685,     0.84785,     0.84885,     0.84985,     0.85085,     0.85185,     0.85285,     0.85385,     0.85485,     0.85586,     0.85686,     0.85786,     0.85886,     0.85986,     0.86086,     0.86186,     0.86286,     0.86386,\n",
              "           0.86486,     0.86587,     0.86687,     0.86787,     0.86887,     0.86987,     0.87087,     0.87187,     0.87287,     0.87387,     0.87487,     0.87588,     0.87688,     0.87788,     0.87888,     0.87988,     0.88088,     0.88188,     0.88288,     0.88388,     0.88488,     0.88589,     0.88689,     0.88789,\n",
              "           0.88889,     0.88989,     0.89089,     0.89189,     0.89289,     0.89389,     0.89489,      0.8959,      0.8969,      0.8979,      0.8989,      0.8999,      0.9009,      0.9019,      0.9029,      0.9039,      0.9049,     0.90591,     0.90691,     0.90791,     0.90891,     0.90991,     0.91091,     0.91191,\n",
              "           0.91291,     0.91391,     0.91491,     0.91592,     0.91692,     0.91792,     0.91892,     0.91992,     0.92092,     0.92192,     0.92292,     0.92392,     0.92492,     0.92593,     0.92693,     0.92793,     0.92893,     0.92993,     0.93093,     0.93193,     0.93293,     0.93393,     0.93493,     0.93594,\n",
              "           0.93694,     0.93794,     0.93894,     0.93994,     0.94094,     0.94194,     0.94294,     0.94394,     0.94494,     0.94595,     0.94695,     0.94795,     0.94895,     0.94995,     0.95095,     0.95195,     0.95295,     0.95395,     0.95495,     0.95596,     0.95696,     0.95796,     0.95896,     0.95996,\n",
              "           0.96096,     0.96196,     0.96296,     0.96396,     0.96496,     0.96597,     0.96697,     0.96797,     0.96897,     0.96997,     0.97097,     0.97197,     0.97297,     0.97397,     0.97497,     0.97598,     0.97698,     0.97798,     0.97898,     0.97998,     0.98098,     0.98198,     0.98298,     0.98398,\n",
              "           0.98498,     0.98599,     0.98699,     0.98799,     0.98899,     0.98999,     0.99099,     0.99199,     0.99299,     0.99399,     0.99499,       0.996,       0.997,       0.998,       0.999,           1])"
            ]
          },
          "metadata": {},
          "execution_count": 56
        }
      ]
    },
    {
      "cell_type": "code",
      "source": [
        "# Plotting PR curve\n",
        "# len(metrics_val.curves_results)\n",
        "plt.plot(metrics_val.curves_results[0][0], metrics_val.curves_results[0][1][0])\n",
        "plt.show()"
      ],
      "metadata": {
        "id": "bFFgYU8IfjYx",
        "outputId": "564e09eb-f969-4c70-ab09-8c681ff76285",
        "colab": {
          "base_uri": "https://localhost:8080/",
          "height": 190
        }
      },
      "id": "bFFgYU8IfjYx",
      "execution_count": 1,
      "outputs": [
        {
          "output_type": "error",
          "ename": "NameError",
          "evalue": "name 'plt' is not defined",
          "traceback": [
            "\u001b[0;31m---------------------------------------------------------------------------\u001b[0m",
            "\u001b[0;31mNameError\u001b[0m                                 Traceback (most recent call last)",
            "\u001b[0;32m/tmp/ipython-input-1799918045.py\u001b[0m in \u001b[0;36m<cell line: 0>\u001b[0;34m()\u001b[0m\n\u001b[1;32m      1\u001b[0m \u001b[0;31m# Plotting PR curve\u001b[0m\u001b[0;34m\u001b[0m\u001b[0;34m\u001b[0m\u001b[0m\n\u001b[1;32m      2\u001b[0m \u001b[0;31m# len(metrics_val.curves_results)\u001b[0m\u001b[0;34m\u001b[0m\u001b[0;34m\u001b[0m\u001b[0m\n\u001b[0;32m----> 3\u001b[0;31m \u001b[0mplt\u001b[0m\u001b[0;34m.\u001b[0m\u001b[0mplot\u001b[0m\u001b[0;34m(\u001b[0m\u001b[0mmetrics_val\u001b[0m\u001b[0;34m.\u001b[0m\u001b[0mcurves_results\u001b[0m\u001b[0;34m[\u001b[0m\u001b[0;36m0\u001b[0m\u001b[0;34m]\u001b[0m\u001b[0;34m[\u001b[0m\u001b[0;36m0\u001b[0m\u001b[0;34m]\u001b[0m\u001b[0;34m,\u001b[0m \u001b[0mmetrics_val\u001b[0m\u001b[0;34m.\u001b[0m\u001b[0mcurves_results\u001b[0m\u001b[0;34m[\u001b[0m\u001b[0;36m0\u001b[0m\u001b[0;34m]\u001b[0m\u001b[0;34m[\u001b[0m\u001b[0;36m1\u001b[0m\u001b[0;34m]\u001b[0m\u001b[0;34m[\u001b[0m\u001b[0;36m0\u001b[0m\u001b[0;34m]\u001b[0m\u001b[0;34m)\u001b[0m\u001b[0;34m\u001b[0m\u001b[0;34m\u001b[0m\u001b[0m\n\u001b[0m\u001b[1;32m      4\u001b[0m \u001b[0mplt\u001b[0m\u001b[0;34m.\u001b[0m\u001b[0mshow\u001b[0m\u001b[0;34m(\u001b[0m\u001b[0;34m)\u001b[0m\u001b[0;34m\u001b[0m\u001b[0;34m\u001b[0m\u001b[0m\n",
            "\u001b[0;31mNameError\u001b[0m: name 'plt' is not defined"
          ]
        }
      ]
    },
    {
      "cell_type": "code",
      "source": [
        "metrics_val.results_dict"
      ],
      "metadata": {
        "id": "jtE-DjiDfjWA",
        "outputId": "61007ab7-8f9c-4dcf-942a-0f8cf6515a66",
        "colab": {
          "base_uri": "https://localhost:8080/"
        }
      },
      "id": "jtE-DjiDfjWA",
      "execution_count": 73,
      "outputs": [
        {
          "output_type": "execute_result",
          "data": {
            "text/plain": [
              "{'metrics/precision(B)': 0.0,\n",
              " 'metrics/recall(B)': 0.0,\n",
              " 'metrics/mAP50(B)': 0.0,\n",
              " 'metrics/mAP50-95(B)': 0.0,\n",
              " 'fitness': 0.0}"
            ]
          },
          "metadata": {},
          "execution_count": 73
        }
      ]
    },
    {
      "cell_type": "code",
      "source": [
        "import pandas as pd\n",
        "data = pd.read_csv('/content/exploratory_phase/yolo11n_training_dataset_v19/results.csv')"
      ],
      "metadata": {
        "id": "eTcIpS5QfjT8"
      },
      "id": "eTcIpS5QfjT8",
      "execution_count": 77,
      "outputs": []
    },
    {
      "cell_type": "code",
      "source": [
        "precision = data['metrics/precision(B)']\n",
        "recall = data['metrics/recall(B)']\n",
        "\n",
        "import matplotlib.pyplot as plt\n",
        "\n",
        "plt.figure(figsize=(10, 5))\n",
        "plt.plot(precision,recall, marker='o')\n",
        "plt.xlabel('Recall')\n",
        "plt.ylabel('Precision')\n",
        "plt.title('Precision-Recall Curve')\n",
        "plt.grid(True)\n",
        "plt.show()"
      ],
      "metadata": {
        "id": "694iEjJimwAy",
        "outputId": "a9d17bd5-05f2-4a23-adac-c3d042dd974e",
        "colab": {
          "base_uri": "https://localhost:8080/",
          "height": 487
        }
      },
      "id": "694iEjJimwAy",
      "execution_count": 82,
      "outputs": [
        {
          "output_type": "display_data",
          "data": {
            "text/plain": [
              "<Figure size 1000x500 with 1 Axes>"
            ],
            "image/png": "[encoded data removed]"
          },
          "metadata": {}
        }
      ]
    },
    {
      "cell_type": "code",
      "source": [],
      "metadata": {
        "id": "1a4qzmYSmv-N"
      },
      "id": "1a4qzmYSmv-N",
      "execution_count": null,
      "outputs": []
    },
    {
      "cell_type": "code",
      "source": [],
      "metadata": {
        "id": "WG4pQqv5mv8L"
      },
      "id": "WG4pQqv5mv8L",
      "execution_count": null,
      "outputs": []
    },
    {
      "cell_type": "code",
      "source": [],
      "metadata": {
        "id": "jVbKSSMymv3P"
      },
      "id": "jVbKSSMymv3P",
      "execution_count": null,
      "outputs": []
    },
    {
      "cell_type": "code",
      "source": [
        "# Extract results from files\n",
        "# dataset_version,size_ds,size_train,size_val,size_test,mAP_50_val,mAP_50_val_uc,mAP_50_val_ur,mAP_50_test,mAP_50_test_uc,mAP_50_test_ur,P_val,P_val_uc,P_val_ur,P_test,P_test_uc,P_test_ur,R_val,R_val_uc,R_val_ur,R_test,R_test_uc,R_test_ur\n",
        "# 19,298,209,68,21,0.675,0.582,0.769,0.619,0.608,0.629,0.635,0.574,0.696,0.579,0.457,0.7,0.679,0.57,0.788,0.628,0.706,0.551\n",
        "# 22,400,280,60,60,\n",
        "# 23,498,349,89,60,"
      ],
      "metadata": {
        "id": "PA5jAxaohaap"
      },
      "id": "PA5jAxaohaap",
      "execution_count": null,
      "outputs": []
    },
    {
      "cell_type": "code",
      "source": [
        "# Train the model - v22\n",
        "result_model_training = model.train(\n",
        "                                    data=yaml_file,\n",
        "                                    batch = batch,\n",
        "                                    device = device,\n",
        "                                    epochs = epochs,\n",
        "                                    patience = patience,\n",
        "                                    imgsz = imgsz,\n",
        "                                    optimizer = 'AdamW',\n",
        "                                    augment = False, # (bool) apply image augmentation to prediction sources\n",
        "                                    lr0 = 5e-5, # 1e-5 previously\n",
        "                                    auto_augment = None, # (str) auto augmentation policy for classification (randaugment, autoaugment, augmix)\n",
        "                                    momentum = 0.937,\n",
        "                                    plots = plots,\n",
        "                                    project = project,\n",
        "                                    name = name_train\n",
        "                                    )"
      ],
      "metadata": {
        "id": "h7X-dR6mhaVt",
        "outputId": "0d26cb3e-eddb-4ccf-e146-3dabd0462721",
        "colab": {
          "base_uri": "https://localhost:8080/"
        }
      },
      "id": "h7X-dR6mhaVt",
      "execution_count": null,
      "outputs": [
        {
          "output_type": "stream",
          "name": "stdout",
          "text": [
            "Ultralytics 8.3.209 🚀 Python-3.12.11 torch-2.8.0+cu126 CUDA:0 (Tesla T4, 15095MiB)\n",
            "\u001b[34m\u001b[1mengine/trainer: \u001b[0magnostic_nms=False, amp=True, augment=False, auto_augment=None, batch=75, bgr=0.0, box=7.5, cache=False, cfg=None, classes=None, close_mosaic=10, cls=0.5, compile=False, conf=None, copy_paste=0.0, copy_paste_mode=flip, cos_lr=False, cutmix=0.0, data=/content/Storm-Damage-22/data.yaml, degrees=0.0, deterministic=True, device=0, dfl=1.5, dnn=False, dropout=0.0, dynamic=False, embed=None, epochs=75, erasing=0.4, exist_ok=False, fliplr=0.5, flipud=0.0, format=torchscript, fraction=1.0, freeze=None, half=False, hsv_h=0.015, hsv_s=0.7, hsv_v=0.4, imgsz=640, int8=False, iou=0.7, keras=False, kobj=1.0, line_width=None, lr0=5e-05, lrf=0.01, mask_ratio=4, max_det=300, mixup=0.0, mode=train, model=../models/yolo11/yolo11n.pt, momentum=0.937, mosaic=1.0, multi_scale=False, name=yolo11n_training_dataset_v222, nbs=64, nms=False, opset=None, optimize=False, optimizer=AdamW, overlap_mask=True, patience=20, perspective=0.0, plots=True, pose=12.0, pretrained=True, profile=False, project=exploratory_phase, rect=False, resume=False, retina_masks=False, save=True, save_conf=False, save_crop=False, save_dir=/content/exploratory_phase/yolo11n_training_dataset_v222, save_frames=False, save_json=False, save_period=-1, save_txt=False, scale=0.5, seed=0, shear=0.0, show=False, show_boxes=True, show_conf=True, show_labels=True, simplify=True, single_cls=False, source=None, split=val, stream_buffer=False, task=detect, time=None, tracker=botsort.yaml, translate=0.1, val=True, verbose=True, vid_stride=1, visualize=False, warmup_bias_lr=0.1, warmup_epochs=3.0, warmup_momentum=0.8, weight_decay=0.0005, workers=8, workspace=None\n",
            "Overriding model.yaml nc=80 with nc=2\n",
            "\n",
            "                   from  n    params  module                                       arguments                     \n",
            "  0                  -1  1       464  ultralytics.nn.modules.conv.Conv             [3, 16, 3, 2]                 \n",
            "  1                  -1  1      4672  ultralytics.nn.modules.conv.Conv             [16, 32, 3, 2]                \n",
            "  2                  -1  1      6640  ultralytics.nn.modules.block.C3k2            [32, 64, 1, False, 0.25]      \n",
            "  3                  -1  1     36992  ultralytics.nn.modules.conv.Conv             [64, 64, 3, 2]                \n",
            "  4                  -1  1     26080  ultralytics.nn.modules.block.C3k2            [64, 128, 1, False, 0.25]     \n",
            "  5                  -1  1    147712  ultralytics.nn.modules.conv.Conv             [128, 128, 3, 2]              \n",
            "  6                  -1  1     87040  ultralytics.nn.modules.block.C3k2            [128, 128, 1, True]           \n",
            "  7                  -1  1    295424  ultralytics.nn.modules.conv.Conv             [128, 256, 3, 2]              \n",
            "  8                  -1  1    346112  ultralytics.nn.modules.block.C3k2            [256, 256, 1, True]           \n",
            "  9                  -1  1    164608  ultralytics.nn.modules.block.SPPF            [256, 256, 5]                 \n",
            " 10                  -1  1    249728  ultralytics.nn.modules.block.C2PSA           [256, 256, 1]                 \n",
            " 11                  -1  1         0  torch.nn.modules.upsampling.Upsample         [None, 2, 'nearest']          \n",
            " 12             [-1, 6]  1         0  ultralytics.nn.modules.conv.Concat           [1]                           \n",
            " 13                  -1  1    111296  ultralytics.nn.modules.block.C3k2            [384, 128, 1, False]          \n",
            " 14                  -1  1         0  torch.nn.modules.upsampling.Upsample         [None, 2, 'nearest']          \n",
            " 15             [-1, 4]  1         0  ultralytics.nn.modules.conv.Concat           [1]                           \n",
            " 16                  -1  1     32096  ultralytics.nn.modules.block.C3k2            [256, 64, 1, False]           \n",
            " 17                  -1  1     36992  ultralytics.nn.modules.conv.Conv             [64, 64, 3, 2]                \n",
            " 18            [-1, 13]  1         0  ultralytics.nn.modules.conv.Concat           [1]                           \n",
            " 19                  -1  1     86720  ultralytics.nn.modules.block.C3k2            [192, 128, 1, False]          \n",
            " 20                  -1  1    147712  ultralytics.nn.modules.conv.Conv             [128, 128, 3, 2]              \n",
            " 21            [-1, 10]  1         0  ultralytics.nn.modules.conv.Concat           [1]                           \n",
            " 22                  -1  1    378880  ultralytics.nn.modules.block.C3k2            [384, 256, 1, True]           \n",
            " 23        [16, 19, 22]  1    431062  ultralytics.nn.modules.head.Detect           [2, [64, 128, 256]]           \n",
            "YOLO11n summary: 181 layers, 2,590,230 parameters, 2,590,214 gradients, 6.4 GFLOPs\n",
            "\n",
            "Transferred 448/499 items from pretrained weights\n",
            "Freezing layer 'model.23.dfl.conv.weight'\n",
            "\u001b[34m\u001b[1mAMP: \u001b[0mrunning Automatic Mixed Precision (AMP) checks...\n",
            "\u001b[34m\u001b[1mAMP: \u001b[0mchecks passed ✅\n",
            "\u001b[34m\u001b[1mtrain: \u001b[0mFast image access ✅ (ping: 0.0±0.0 ms, read: 172.2±209.6 MB/s, size: 58.8 KB)\n",
            "\u001b[K\u001b[34m\u001b[1mtrain: \u001b[0mScanning /content/Storm-Damage-22/train/labels.cache... 280 images, 36 backgrounds, 0 corrupt: 100% ━━━━━━━━━━━━ 280/280 579.4Kit/s 0.0s\n",
            "\u001b[34m\u001b[1mtrain: \u001b[0m/content/Storm-Damage-22/train/images/Pre_Event_tile_26_37_jpg.rf.fb28ad8286de0cff7f2d5935073b6d7e.jpg: 6 duplicate labels removed\n",
            "\u001b[34m\u001b[1malbumentations: \u001b[0mBlur(p=0.01, blur_limit=(3, 7)), MedianBlur(p=0.01, blur_limit=(3, 7)), ToGray(p=0.01, method='weighted_average', num_output_channels=3), CLAHE(p=0.01, clip_limit=(1.0, 4.0), tile_grid_size=(8, 8))\n",
            "\u001b[34m\u001b[1mval: \u001b[0mFast image access ✅ (ping: 0.1±0.0 ms, read: 20.7±6.5 MB/s, size: 60.5 KB)\n",
            "\u001b[K\u001b[34m\u001b[1mval: \u001b[0mScanning /content/Storm-Damage-22/valid/labels.cache... 60 images, 14 backgrounds, 0 corrupt: 100% ━━━━━━━━━━━━ 60/60 22.5Kit/s 0.0s\n",
            "Plotting labels to /content/exploratory_phase/yolo11n_training_dataset_v222/labels.jpg... \n",
            "\u001b[34m\u001b[1moptimizer:\u001b[0m AdamW(lr=5e-05, momentum=0.937) with parameter groups 81 weight(decay=0.0), 88 weight(decay=0.0005859375), 87 bias(decay=0.0)\n",
            "Image sizes 640 train, 640 val\n",
            "Using 2 dataloader workers\n",
            "Logging results to \u001b[1m/content/exploratory_phase/yolo11n_training_dataset_v222\u001b[0m\n",
            "Starting training for 75 epochs...\n",
            "\n",
            "      Epoch    GPU_mem   box_loss   cls_loss   dfl_loss  Instances       Size\n",
            "\u001b[K       1/75      12.2G      2.336      3.752      1.866       1333        640: 100% ━━━━━━━━━━━━ 4/4 0.2it/s 25.8s\n",
            "\u001b[K                 Class     Images  Instances      Box(P          R      mAP50  mAP50-95): 100% ━━━━━━━━━━━━ 1/1 0.3it/s 3.2s\n",
            "                   all         60        991    0.00397       0.27     0.0179    0.00821\n",
            "\n",
            "      Epoch    GPU_mem   box_loss   cls_loss   dfl_loss  Instances       Size\n",
            "\u001b[K       2/75        12G      2.183      3.674      1.777       1317        640: 100% ━━━━━━━━━━━━ 4/4 1.1it/s 3.5s\n",
            "\u001b[K                 Class     Images  Instances      Box(P          R      mAP50  mAP50-95): 100% ━━━━━━━━━━━━ 1/1 1.2it/s 0.8s\n",
            "                   all         60        991    0.00575      0.303     0.0156     0.0069\n",
            "\n",
            "      Epoch    GPU_mem   box_loss   cls_loss   dfl_loss  Instances       Size\n",
            "\u001b[K       3/75      11.8G      1.664      2.865      1.285       1467        640: 100% ━━━━━━━━━━━━ 4/4 1.3it/s 3.1s\n",
            "\u001b[K                 Class     Images  Instances      Box(P          R      mAP50  mAP50-95): 100% ━━━━━━━━━━━━ 1/1 0.9it/s 1.1s\n",
            "                   all         60        991     0.0299      0.433     0.0752     0.0279\n",
            "\n",
            "      Epoch    GPU_mem   box_loss   cls_loss   dfl_loss  Instances       Size\n",
            "\u001b[K       4/75      13.2G      1.624      2.213      1.233       1379        640: 100% ━━━━━━━━━━━━ 4/4 1.2it/s 3.4s\n",
            "\u001b[K                 Class     Images  Instances      Box(P          R      mAP50  mAP50-95): 100% ━━━━━━━━━━━━ 1/1 0.7it/s 1.4s\n",
            "                   all         60        991     0.0258      0.397     0.0596     0.0183\n",
            "\n",
            "      Epoch    GPU_mem   box_loss   cls_loss   dfl_loss  Instances       Size\n",
            "\u001b[K       5/75      11.8G       1.57      1.961      1.223       1435        640: 100% ━━━━━━━━━━━━ 4/4 1.3it/s 3.2s\n",
            "\u001b[K                 Class     Images  Instances      Box(P          R      mAP50  mAP50-95): 100% ━━━━━━━━━━━━ 1/1 1.0it/s 1.0s\n",
            "                   all         60        991     0.0121      0.237     0.0256    0.00756\n",
            "\n",
            "      Epoch    GPU_mem   box_loss   cls_loss   dfl_loss  Instances       Size\n",
            "\u001b[K       6/75      12.9G      1.594      1.833      1.216       1600        640: 100% ━━━━━━━━━━━━ 4/4 1.3it/s 3.2s\n",
            "\u001b[K                 Class     Images  Instances      Box(P          R      mAP50  mAP50-95): 100% ━━━━━━━━━━━━ 1/1 0.8it/s 1.3s\n",
            "                   all         60        991     0.0121      0.236     0.0155    0.00488\n",
            "\n",
            "      Epoch    GPU_mem   box_loss   cls_loss   dfl_loss  Instances       Size\n",
            "\u001b[K       7/75      13.9G      1.567      1.672      1.199       1164        640: 100% ━━━━━━━━━━━━ 4/4 1.2it/s 3.4s\n",
            "\u001b[K                 Class     Images  Instances      Box(P          R      mAP50  mAP50-95): 100% ━━━━━━━━━━━━ 1/1 0.8it/s 1.2s\n",
            "                   all         60        991    0.00995      0.193     0.0097    0.00281\n",
            "\n",
            "      Epoch    GPU_mem   box_loss   cls_loss   dfl_loss  Instances       Size\n",
            "\u001b[K       8/75      13.6G      1.549      1.588      1.223       1184        640: 100% ━━━━━━━━━━━━ 4/4 1.2it/s 3.3s\n",
            "\u001b[K                 Class     Images  Instances      Box(P          R      mAP50  mAP50-95): 100% ━━━━━━━━━━━━ 1/1 0.9it/s 1.1s\n",
            "                   all         60        991     0.0143      0.254     0.0206    0.00673\n",
            "\n",
            "      Epoch    GPU_mem   box_loss   cls_loss   dfl_loss  Instances       Size\n",
            "\u001b[K       9/75      12.8G      1.547      1.531      1.235       1400        640: 100% ━━━━━━━━━━━━ 4/4 1.2it/s 3.5s\n",
            "\u001b[K                 Class     Images  Instances      Box(P          R      mAP50  mAP50-95): 100% ━━━━━━━━━━━━ 1/1 0.8it/s 1.3s\n",
            "                   all         60        991     0.0197      0.353     0.0401     0.0139\n",
            "\n",
            "      Epoch    GPU_mem   box_loss   cls_loss   dfl_loss  Instances       Size\n",
            "\u001b[K      10/75      13.7G      1.562      1.485      1.217       1303        640: 100% ━━━━━━━━━━━━ 4/4 1.2it/s 3.3s\n",
            "\u001b[K                 Class     Images  Instances      Box(P          R      mAP50  mAP50-95): 100% ━━━━━━━━━━━━ 1/1 0.9it/s 1.1s\n",
            "                   all         60        991     0.0209      0.362     0.0585     0.0196\n",
            "\n",
            "      Epoch    GPU_mem   box_loss   cls_loss   dfl_loss  Instances       Size\n",
            "\u001b[K      11/75      14.1G      1.524      1.447      1.211       1674        640: 100% ━━━━━━━━━━━━ 4/4 1.2it/s 3.3s\n",
            "\u001b[K                 Class     Images  Instances      Box(P          R      mAP50  mAP50-95): 100% ━━━━━━━━━━━━ 1/1 0.7it/s 1.3s\n",
            "                   all         60        991      0.022      0.379     0.0966     0.0353\n",
            "\n",
            "      Epoch    GPU_mem   box_loss   cls_loss   dfl_loss  Instances       Size\n",
            "\u001b[K      12/75      13.4G      1.518        1.4      1.223       1263        640: 100% ━━━━━━━━━━━━ 4/4 1.2it/s 3.3s\n",
            "\u001b[K                 Class     Images  Instances      Box(P          R      mAP50  mAP50-95): 100% ━━━━━━━━━━━━ 1/1 0.9it/s 1.1s\n",
            "                   all         60        991     0.0216      0.403      0.105     0.0403\n",
            "\n",
            "      Epoch    GPU_mem   box_loss   cls_loss   dfl_loss  Instances       Size\n",
            "\u001b[K      13/75      11.7G      1.577      1.382      1.252       1599        640: 100% ━━━━━━━━━━━━ 4/4 1.2it/s 3.4s\n",
            "\u001b[K                 Class     Images  Instances      Box(P          R      mAP50  mAP50-95): 100% ━━━━━━━━━━━━ 1/1 0.8it/s 1.3s\n",
            "                   all         60        991     0.0172      0.344     0.0767      0.029\n",
            "\n",
            "      Epoch    GPU_mem   box_loss   cls_loss   dfl_loss  Instances       Size\n",
            "\u001b[K      14/75      12.5G      1.504      1.353      1.224       1300        640: 100% ━━━━━━━━━━━━ 4/4 1.2it/s 3.4s\n",
            "\u001b[K                 Class     Images  Instances      Box(P          R      mAP50  mAP50-95): 100% ━━━━━━━━━━━━ 1/1 0.8it/s 1.2s\n",
            "                   all         60        991     0.0201      0.392      0.129     0.0486\n",
            "\n",
            "      Epoch    GPU_mem   box_loss   cls_loss   dfl_loss  Instances       Size\n",
            "\u001b[K      15/75      12.7G      1.516      1.318      1.235       1460        640: 100% ━━━━━━━━━━━━ 4/4 1.2it/s 3.2s\n",
            "\u001b[K                 Class     Images  Instances      Box(P          R      mAP50  mAP50-95): 100% ━━━━━━━━━━━━ 1/1 0.9it/s 1.1s\n",
            "                   all         60        991      0.026      0.493      0.204     0.0827\n",
            "\n",
            "      Epoch    GPU_mem   box_loss   cls_loss   dfl_loss  Instances       Size\n",
            "\u001b[K      16/75      13.3G      1.528       1.32      1.217       1268        640: 100% ━━━━━━━━━━━━ 4/4 1.1it/s 3.5s\n",
            "\u001b[K                 Class     Images  Instances      Box(P          R      mAP50  mAP50-95): 100% ━━━━━━━━━━━━ 1/1 0.8it/s 1.3s\n",
            "                   all         60        991     0.0317      0.557      0.236     0.0942\n",
            "\n",
            "      Epoch    GPU_mem   box_loss   cls_loss   dfl_loss  Instances       Size\n",
            "\u001b[K      17/75      11.7G      1.499       1.29      1.192       1251        640: 100% ━━━━━━━━━━━━ 4/4 1.3it/s 3.2s\n",
            "\u001b[K                 Class     Images  Instances      Box(P          R      mAP50  mAP50-95): 100% ━━━━━━━━━━━━ 1/1 0.9it/s 1.1s\n",
            "                   all         60        991     0.0362      0.687      0.325       0.13\n",
            "\n",
            "      Epoch    GPU_mem   box_loss   cls_loss   dfl_loss  Instances       Size\n",
            "\u001b[K      18/75      12.5G      1.519      1.282      1.201       1422        640: 100% ━━━━━━━━━━━━ 4/4 1.2it/s 3.4s\n",
            "\u001b[K                 Class     Images  Instances      Box(P          R      mAP50  mAP50-95): 100% ━━━━━━━━━━━━ 1/1 0.7it/s 1.4s\n",
            "                   all         60        991     0.0408      0.778      0.408      0.185\n",
            "\n",
            "      Epoch    GPU_mem   box_loss   cls_loss   dfl_loss  Instances       Size\n",
            "\u001b[K      19/75      13.9G      1.514      1.228      1.214       1339        640: 100% ━━━━━━━━━━━━ 4/4 1.2it/s 3.4s\n",
            "\u001b[K                 Class     Images  Instances      Box(P          R      mAP50  mAP50-95): 100% ━━━━━━━━━━━━ 1/1 1.0it/s 1.0s\n",
            "                   all         60        991     0.0453      0.793      0.457      0.208\n",
            "\n",
            "      Epoch    GPU_mem   box_loss   cls_loss   dfl_loss  Instances       Size\n",
            "\u001b[K      20/75      12.5G      1.481       1.25      1.199       1335        640: 100% ━━━━━━━━━━━━ 4/4 1.2it/s 3.3s\n",
            "\u001b[K                 Class     Images  Instances      Box(P          R      mAP50  mAP50-95): 100% ━━━━━━━━━━━━ 1/1 0.9it/s 1.1s\n",
            "                   all         60        991      0.667      0.333      0.493      0.226\n",
            "\n",
            "      Epoch    GPU_mem   box_loss   cls_loss   dfl_loss  Instances       Size\n",
            "\u001b[K      21/75      11.3G      1.471      1.301      1.212       1492        640: 100% ━━━━━━━━━━━━ 4/4 1.2it/s 3.3s\n",
            "\u001b[K                 Class     Images  Instances      Box(P          R      mAP50  mAP50-95): 100% ━━━━━━━━━━━━ 1/1 1.0it/s 1.0s\n",
            "                   all         60        991      0.792      0.172      0.555       0.28\n",
            "\n",
            "      Epoch    GPU_mem   box_loss   cls_loss   dfl_loss  Instances       Size\n",
            "\u001b[K      22/75      11.8G      1.486       1.24      1.198       1367        640: 100% ━━━━━━━━━━━━ 4/4 1.3it/s 3.2s\n",
            "\u001b[K                 Class     Images  Instances      Box(P          R      mAP50  mAP50-95): 100% ━━━━━━━━━━━━ 1/1 1.1it/s 0.9s\n",
            "                   all         60        991      0.744      0.232      0.579      0.291\n",
            "\n",
            "      Epoch    GPU_mem   box_loss   cls_loss   dfl_loss  Instances       Size\n",
            "\u001b[K      23/75      12.4G      1.479      1.242      1.211       1154        640: 100% ━━━━━━━━━━━━ 4/4 1.2it/s 3.4s\n",
            "\u001b[K                 Class     Images  Instances      Box(P          R      mAP50  mAP50-95): 100% ━━━━━━━━━━━━ 1/1 0.9it/s 1.1s\n",
            "                   all         60        991      0.713       0.32      0.576      0.277\n",
            "\n",
            "      Epoch    GPU_mem   box_loss   cls_loss   dfl_loss  Instances       Size\n",
            "\u001b[K      24/75      12.7G      1.485       1.23      1.207       1452        640: 100% ━━━━━━━━━━━━ 4/4 1.3it/s 3.2s\n",
            "\u001b[K                 Class     Images  Instances      Box(P          R      mAP50  mAP50-95): 100% ━━━━━━━━━━━━ 1/1 1.1it/s 0.9s\n",
            "                   all         60        991      0.681      0.394      0.592      0.291\n",
            "\n",
            "      Epoch    GPU_mem   box_loss   cls_loss   dfl_loss  Instances       Size\n",
            "\u001b[K      25/75      12.3G      1.492      1.216      1.192       1757        640: 100% ━━━━━━━━━━━━ 4/4 1.2it/s 3.2s\n",
            "\u001b[K                 Class     Images  Instances      Box(P          R      mAP50  mAP50-95): 100% ━━━━━━━━━━━━ 1/1 0.8it/s 1.2s\n",
            "                   all         60        991      0.664      0.485      0.609      0.313\n",
            "\n",
            "      Epoch    GPU_mem   box_loss   cls_loss   dfl_loss  Instances       Size\n",
            "\u001b[K      26/75      12.2G      1.461      1.194      1.191       1494        640: 100% ━━━━━━━━━━━━ 4/4 1.2it/s 3.3s\n",
            "\u001b[K                 Class     Images  Instances      Box(P          R      mAP50  mAP50-95): 100% ━━━━━━━━━━━━ 1/1 1.3it/s 0.8s\n",
            "                   all         60        991      0.648      0.535      0.625      0.329\n",
            "\n",
            "      Epoch    GPU_mem   box_loss   cls_loss   dfl_loss  Instances       Size\n",
            "\u001b[K      27/75      12.2G      1.485      1.246      1.197       1022        640: 100% ━━━━━━━━━━━━ 4/4 1.3it/s 3.2s\n",
            "\u001b[K                 Class     Images  Instances      Box(P          R      mAP50  mAP50-95): 100% ━━━━━━━━━━━━ 1/1 1.5it/s 0.7s\n",
            "                   all         60        991      0.639      0.583      0.634      0.346\n",
            "\n",
            "      Epoch    GPU_mem   box_loss   cls_loss   dfl_loss  Instances       Size\n",
            "\u001b[K      28/75      12.8G      1.489      1.241      1.196       1102        640: 100% ━━━━━━━━━━━━ 4/4 1.1it/s 3.6s\n",
            "\u001b[K                 Class     Images  Instances      Box(P          R      mAP50  mAP50-95): 100% ━━━━━━━━━━━━ 1/1 1.1it/s 0.9s\n",
            "                   all         60        991       0.65      0.624       0.64      0.357\n",
            "\n",
            "      Epoch    GPU_mem   box_loss   cls_loss   dfl_loss  Instances       Size\n",
            "\u001b[K      29/75        12G       1.43      1.161       1.18       1844        640: 100% ━━━━━━━━━━━━ 4/4 1.3it/s 3.2s\n",
            "\u001b[K                 Class     Images  Instances      Box(P          R      mAP50  mAP50-95): 100% ━━━━━━━━━━━━ 1/1 1.4it/s 0.7s\n",
            "                   all         60        991      0.647       0.64      0.638      0.359\n",
            "\n",
            "      Epoch    GPU_mem   box_loss   cls_loss   dfl_loss  Instances       Size\n",
            "\u001b[K      30/75      13.3G      1.451      1.185      1.192       1449        640: 100% ━━━━━━━━━━━━ 4/4 1.2it/s 3.3s\n",
            "\u001b[K                 Class     Images  Instances      Box(P          R      mAP50  mAP50-95): 100% ━━━━━━━━━━━━ 1/1 0.8it/s 1.2s\n",
            "                   all         60        991      0.649      0.649      0.651       0.37\n",
            "\n",
            "      Epoch    GPU_mem   box_loss   cls_loss   dfl_loss  Instances       Size\n",
            "\u001b[K      31/75        13G      1.454      1.168      1.178       1521        640: 100% ━━━━━━━━━━━━ 4/4 1.3it/s 3.2s\n",
            "\u001b[K                 Class     Images  Instances      Box(P          R      mAP50  mAP50-95): 100% ━━━━━━━━━━━━ 1/1 1.4it/s 0.7s\n",
            "                   all         60        991      0.652      0.643      0.654      0.373\n",
            "\n",
            "      Epoch    GPU_mem   box_loss   cls_loss   dfl_loss  Instances       Size\n",
            "\u001b[K      32/75      12.6G      1.423      1.171      1.183       1279        640: 100% ━━━━━━━━━━━━ 4/4 1.3it/s 3.2s\n",
            "\u001b[K                 Class     Images  Instances      Box(P          R      mAP50  mAP50-95): 100% ━━━━━━━━━━━━ 1/1 1.0it/s 1.0s\n",
            "                   all         60        991       0.65      0.653      0.659       0.38\n",
            "\n",
            "      Epoch    GPU_mem   box_loss   cls_loss   dfl_loss  Instances       Size\n",
            "\u001b[K      33/75      12.2G      1.455      1.152      1.186       1564        640: 100% ━━━━━━━━━━━━ 4/4 1.1it/s 3.8s\n",
            "\u001b[K                 Class     Images  Instances      Box(P          R      mAP50  mAP50-95): 100% ━━━━━━━━━━━━ 1/1 1.0it/s 1.0s\n",
            "                   all         60        991      0.666      0.658      0.667      0.383\n",
            "\n",
            "      Epoch    GPU_mem   box_loss   cls_loss   dfl_loss  Instances       Size\n",
            "\u001b[K      34/75      12.1G       1.43      1.149      1.182       1594        640: 100% ━━━━━━━━━━━━ 4/4 1.2it/s 3.3s\n",
            "\u001b[K                 Class     Images  Instances      Box(P          R      mAP50  mAP50-95): 100% ━━━━━━━━━━━━ 1/1 1.4it/s 0.7s\n",
            "                   all         60        991      0.644      0.665      0.664      0.384\n",
            "\n",
            "      Epoch    GPU_mem   box_loss   cls_loss   dfl_loss  Instances       Size\n",
            "\u001b[K      35/75      12.3G      1.458      1.143      1.177       1122        640: 100% ━━━━━━━━━━━━ 4/4 1.2it/s 3.3s\n",
            "\u001b[K                 Class     Images  Instances      Box(P          R      mAP50  mAP50-95): 100% ━━━━━━━━━━━━ 1/1 0.9it/s 1.1s\n",
            "                   all         60        991      0.683      0.638      0.672      0.397\n",
            "\n",
            "      Epoch    GPU_mem   box_loss   cls_loss   dfl_loss  Instances       Size\n",
            "\u001b[K      36/75      12.7G      1.472      1.144      1.168       1535        640: 100% ━━━━━━━━━━━━ 4/4 1.2it/s 3.4s\n",
            "\u001b[K                 Class     Images  Instances      Box(P          R      mAP50  mAP50-95): 100% ━━━━━━━━━━━━ 1/1 1.4it/s 0.7s\n",
            "                   all         60        991      0.675       0.65       0.68      0.406\n",
            "\n",
            "      Epoch    GPU_mem   box_loss   cls_loss   dfl_loss  Instances       Size\n",
            "\u001b[K      37/75        12G      1.458      1.146      1.173       1506        640: 100% ━━━━━━━━━━━━ 4/4 1.2it/s 3.3s\n",
            "\u001b[K                 Class     Images  Instances      Box(P          R      mAP50  mAP50-95): 100% ━━━━━━━━━━━━ 1/1 0.8it/s 1.3s\n",
            "                   all         60        991      0.716      0.654       0.69      0.411\n",
            "\n",
            "      Epoch    GPU_mem   box_loss   cls_loss   dfl_loss  Instances       Size\n",
            "\u001b[K      38/75      12.6G      1.429      1.135      1.165       1284        640: 100% ━━━━━━━━━━━━ 4/4 1.2it/s 3.2s\n",
            "\u001b[K                 Class     Images  Instances      Box(P          R      mAP50  mAP50-95): 100% ━━━━━━━━━━━━ 1/1 1.1it/s 0.9s\n",
            "                   all         60        991      0.702      0.662      0.688      0.414\n",
            "\n",
            "      Epoch    GPU_mem   box_loss   cls_loss   dfl_loss  Instances       Size\n",
            "\u001b[K      39/75      12.8G      1.435      1.133      1.167       1290        640: 100% ━━━━━━━━━━━━ 4/4 1.2it/s 3.3s\n",
            "\u001b[K                 Class     Images  Instances      Box(P          R      mAP50  mAP50-95): 100% ━━━━━━━━━━━━ 1/1 1.3it/s 0.8s\n",
            "                   all         60        991        0.7      0.656      0.687      0.414\n",
            "\n",
            "      Epoch    GPU_mem   box_loss   cls_loss   dfl_loss  Instances       Size\n",
            "\u001b[K      40/75      12.3G      1.399      1.098      1.162       1516        640: 100% ━━━━━━━━━━━━ 4/4 1.1it/s 3.6s\n",
            "\u001b[K                 Class     Images  Instances      Box(P          R      mAP50  mAP50-95): 100% ━━━━━━━━━━━━ 1/1 1.1it/s 0.9s\n",
            "                   all         60        991      0.682      0.663      0.686      0.414\n",
            "\n",
            "      Epoch    GPU_mem   box_loss   cls_loss   dfl_loss  Instances       Size\n",
            "\u001b[K      41/75      13.2G      1.396      1.115      1.157       1402        640: 100% ━━━━━━━━━━━━ 4/4 1.2it/s 3.3s\n",
            "\u001b[K                 Class     Images  Instances      Box(P          R      mAP50  mAP50-95): 100% ━━━━━━━━━━━━ 1/1 1.1it/s 0.9s\n",
            "                   all         60        991      0.709       0.64      0.689      0.412\n",
            "\n",
            "      Epoch    GPU_mem   box_loss   cls_loss   dfl_loss  Instances       Size\n",
            "\u001b[K      42/75      11.9G      1.437      1.131      1.182       1342        640: 100% ━━━━━━━━━━━━ 4/4 1.2it/s 3.4s\n",
            "\u001b[K                 Class     Images  Instances      Box(P          R      mAP50  mAP50-95): 100% ━━━━━━━━━━━━ 1/1 0.9it/s 1.1s\n",
            "                   all         60        991      0.715      0.628      0.694      0.414\n",
            "\n",
            "      Epoch    GPU_mem   box_loss   cls_loss   dfl_loss  Instances       Size\n",
            "\u001b[K      43/75      12.5G      1.426      1.137      1.164       1275        640: 100% ━━━━━━━━━━━━ 4/4 1.2it/s 3.3s\n",
            "\u001b[K                 Class     Images  Instances      Box(P          R      mAP50  mAP50-95): 100% ━━━━━━━━━━━━ 1/1 1.3it/s 0.8s\n",
            "                   all         60        991      0.697      0.656      0.698      0.415\n",
            "\n",
            "      Epoch    GPU_mem   box_loss   cls_loss   dfl_loss  Instances       Size\n",
            "\u001b[K      44/75      12.2G      1.447      1.108      1.177       1243        640: 100% ━━━━━━━━━━━━ 4/4 1.3it/s 3.1s\n",
            "\u001b[K                 Class     Images  Instances      Box(P          R      mAP50  mAP50-95): 100% ━━━━━━━━━━━━ 1/1 1.1it/s 0.9s\n",
            "                   all         60        991      0.694      0.666      0.701      0.419\n",
            "\n",
            "      Epoch    GPU_mem   box_loss   cls_loss   dfl_loss  Instances       Size\n",
            "\u001b[K      45/75        13G      1.449      1.115      1.178       1371        640: 100% ━━━━━━━━━━━━ 4/4 1.2it/s 3.3s\n",
            "\u001b[K                 Class     Images  Instances      Box(P          R      mAP50  mAP50-95): 100% ━━━━━━━━━━━━ 1/1 1.3it/s 0.8s\n",
            "                   all         60        991      0.699      0.663      0.702      0.419\n",
            "\n",
            "      Epoch    GPU_mem   box_loss   cls_loss   dfl_loss  Instances       Size\n",
            "\u001b[K      46/75      11.8G       1.43      1.137      1.178       1583        640: 100% ━━━━━━━━━━━━ 4/4 1.2it/s 3.2s\n",
            "\u001b[K                 Class     Images  Instances      Box(P          R      mAP50  mAP50-95): 100% ━━━━━━━━━━━━ 1/1 1.2it/s 0.8s\n",
            "                   all         60        991        0.7      0.668      0.711      0.422\n",
            "\n",
            "      Epoch    GPU_mem   box_loss   cls_loss   dfl_loss  Instances       Size\n",
            "\u001b[K      47/75        13G      1.414      1.111      1.179       1333        640: 100% ━━━━━━━━━━━━ 4/4 1.1it/s 3.5s\n",
            "\u001b[K                 Class     Images  Instances      Box(P          R      mAP50  mAP50-95): 100% ━━━━━━━━━━━━ 1/1 1.2it/s 0.9s\n",
            "                   all         60        991      0.688      0.654      0.699      0.416\n",
            "\n",
            "      Epoch    GPU_mem   box_loss   cls_loss   dfl_loss  Instances       Size\n",
            "\u001b[K      48/75      12.3G      1.412      1.111      1.147       1687        640: 100% ━━━━━━━━━━━━ 4/4 1.2it/s 3.3s\n",
            "\u001b[K                 Class     Images  Instances      Box(P          R      mAP50  mAP50-95): 100% ━━━━━━━━━━━━ 1/1 1.2it/s 0.8s\n",
            "                   all         60        991      0.676      0.659      0.699      0.407\n",
            "\n",
            "      Epoch    GPU_mem   box_loss   cls_loss   dfl_loss  Instances       Size\n",
            "\u001b[K      49/75      13.2G      1.404      1.102      1.148       1574        640: 100% ━━━━━━━━━━━━ 4/4 1.2it/s 3.3s\n",
            "\u001b[K                 Class     Images  Instances      Box(P          R      mAP50  mAP50-95): 100% ━━━━━━━━━━━━ 1/1 0.9it/s 1.2s\n",
            "                   all         60        991      0.664      0.668      0.697      0.405\n",
            "\n",
            "      Epoch    GPU_mem   box_loss   cls_loss   dfl_loss  Instances       Size\n",
            "\u001b[K      50/75      13.9G      1.413      1.085      1.155       1357        640: 100% ━━━━━━━━━━━━ 4/4 1.2it/s 3.3s\n",
            "\u001b[K                 Class     Images  Instances      Box(P          R      mAP50  mAP50-95): 100% ━━━━━━━━━━━━ 1/1 1.4it/s 0.7s\n",
            "                   all         60        991      0.682       0.65      0.693      0.407\n",
            "\n",
            "      Epoch    GPU_mem   box_loss   cls_loss   dfl_loss  Instances       Size\n",
            "\u001b[K      51/75      12.4G      1.412      1.097      1.161       1333        640: 100% ━━━━━━━━━━━━ 4/4 1.2it/s 3.3s\n",
            "\u001b[K                 Class     Images  Instances      Box(P          R      mAP50  mAP50-95): 100% ━━━━━━━━━━━━ 1/1 1.0it/s 1.0s\n",
            "                   all         60        991      0.687      0.653       0.69      0.411\n",
            "\n",
            "      Epoch    GPU_mem   box_loss   cls_loss   dfl_loss  Instances       Size\n",
            "\u001b[K      52/75      12.7G      1.416      1.102      1.156       1325        640: 100% ━━━━━━━━━━━━ 4/4 1.1it/s 3.5s\n",
            "\u001b[K                 Class     Images  Instances      Box(P          R      mAP50  mAP50-95): 100% ━━━━━━━━━━━━ 1/1 1.6it/s 0.6s\n",
            "                   all         60        991      0.679      0.681      0.692      0.415\n",
            "\n",
            "      Epoch    GPU_mem   box_loss   cls_loss   dfl_loss  Instances       Size\n",
            "\u001b[K      53/75      12.6G      1.415      1.109      1.164       1414        640: 100% ━━━━━━━━━━━━ 4/4 1.2it/s 3.3s\n",
            "\u001b[K                 Class     Images  Instances      Box(P          R      mAP50  mAP50-95): 100% ━━━━━━━━━━━━ 1/1 1.2it/s 0.8s\n",
            "                   all         60        991      0.677      0.674      0.692      0.419\n",
            "\n",
            "      Epoch    GPU_mem   box_loss   cls_loss   dfl_loss  Instances       Size\n",
            "\u001b[K      54/75      12.8G      1.435      1.099      1.173       1709        640: 100% ━━━━━━━━━━━━ 4/4 1.1it/s 3.5s\n",
            "\u001b[K                 Class     Images  Instances      Box(P          R      mAP50  mAP50-95): 100% ━━━━━━━━━━━━ 1/1 1.1it/s 0.9s\n",
            "                   all         60        991      0.669      0.675       0.69      0.415\n",
            "\n",
            "      Epoch    GPU_mem   box_loss   cls_loss   dfl_loss  Instances       Size\n",
            "\u001b[K      55/75      13.6G      1.405      1.088      1.153       1232        640: 100% ━━━━━━━━━━━━ 4/4 1.2it/s 3.3s\n",
            "\u001b[K                 Class     Images  Instances      Box(P          R      mAP50  mAP50-95): 100% ━━━━━━━━━━━━ 1/1 1.6it/s 0.6s\n",
            "                   all         60        991      0.687      0.644      0.696       0.41\n",
            "\n",
            "      Epoch    GPU_mem   box_loss   cls_loss   dfl_loss  Instances       Size\n",
            "\u001b[K      56/75      13.6G      1.451      1.088      1.159       1743        640: 100% ━━━━━━━━━━━━ 4/4 1.2it/s 3.4s\n",
            "\u001b[K                 Class     Images  Instances      Box(P          R      mAP50  mAP50-95): 100% ━━━━━━━━━━━━ 1/1 0.9it/s 1.2s\n",
            "                   all         60        991      0.675      0.666      0.697      0.412\n",
            "\n",
            "      Epoch    GPU_mem   box_loss   cls_loss   dfl_loss  Instances       Size\n",
            "\u001b[K      57/75      12.2G      1.422      1.102      1.153       1744        640: 100% ━━━━━━━━━━━━ 4/4 1.2it/s 3.3s\n",
            "\u001b[K                 Class     Images  Instances      Box(P          R      mAP50  mAP50-95): 100% ━━━━━━━━━━━━ 1/1 1.2it/s 0.9s\n",
            "                   all         60        991      0.677      0.684      0.696       0.41\n",
            "\n",
            "      Epoch    GPU_mem   box_loss   cls_loss   dfl_loss  Instances       Size\n",
            "\u001b[K      58/75      12.1G      1.375      1.101      1.151       1310        640: 100% ━━━━━━━━━━━━ 4/4 1.3it/s 3.2s\n",
            "\u001b[K                 Class     Images  Instances      Box(P          R      mAP50  mAP50-95): 100% ━━━━━━━━━━━━ 1/1 1.3it/s 0.8s\n",
            "                   all         60        991      0.669      0.667      0.693      0.414\n",
            "\n",
            "      Epoch    GPU_mem   box_loss   cls_loss   dfl_loss  Instances       Size\n",
            "\u001b[K      59/75      12.1G      1.414      1.088      1.169       1170        640: 100% ━━━━━━━━━━━━ 4/4 1.1it/s 3.5s\n",
            "\u001b[K                 Class     Images  Instances      Box(P          R      mAP50  mAP50-95): 100% ━━━━━━━━━━━━ 1/1 1.1it/s 0.9s\n",
            "                   all         60        991      0.675      0.649      0.685      0.416\n",
            "\n",
            "      Epoch    GPU_mem   box_loss   cls_loss   dfl_loss  Instances       Size\n",
            "\u001b[K      60/75        12G      1.424      1.109      1.158       1353        640: 100% ━━━━━━━━━━━━ 4/4 1.2it/s 3.3s\n",
            "\u001b[K                 Class     Images  Instances      Box(P          R      mAP50  mAP50-95): 100% ━━━━━━━━━━━━ 1/1 1.2it/s 0.8s\n",
            "                   all         60        991      0.651      0.663      0.686      0.416\n",
            "\n",
            "      Epoch    GPU_mem   box_loss   cls_loss   dfl_loss  Instances       Size\n",
            "\u001b[K      61/75      12.5G      1.393       1.09      1.146       1396        640: 100% ━━━━━━━━━━━━ 4/4 1.2it/s 3.4s\n",
            "\u001b[K                 Class     Images  Instances      Box(P          R      mAP50  mAP50-95): 100% ━━━━━━━━━━━━ 1/1 0.9it/s 1.2s\n",
            "                   all         60        991       0.71      0.615      0.692      0.418\n",
            "\n",
            "      Epoch    GPU_mem   box_loss   cls_loss   dfl_loss  Instances       Size\n",
            "\u001b[K      62/75      12.2G      1.417      1.083      1.152       1443        640: 100% ━━━━━━━━━━━━ 4/4 1.1it/s 3.6s\n",
            "\u001b[K                 Class     Images  Instances      Box(P          R      mAP50  mAP50-95): 100% ━━━━━━━━━━━━ 1/1 0.9it/s 1.1s\n",
            "                   all         60        991      0.678      0.654      0.701      0.422\n",
            "\n",
            "      Epoch    GPU_mem   box_loss   cls_loss   dfl_loss  Instances       Size\n",
            "\u001b[K      63/75      12.3G      1.416      1.076      1.149       1480        640: 100% ━━━━━━━━━━━━ 4/4 1.2it/s 3.4s\n",
            "\u001b[K                 Class     Images  Instances      Box(P          R      mAP50  mAP50-95): 100% ━━━━━━━━━━━━ 1/1 0.9it/s 1.1s\n",
            "                   all         60        991      0.685      0.656      0.704      0.424\n",
            "\n",
            "      Epoch    GPU_mem   box_loss   cls_loss   dfl_loss  Instances       Size\n",
            "\u001b[K      64/75      11.8G      1.411      1.085      1.159       1400        640: 100% ━━━━━━━━━━━━ 4/4 1.2it/s 3.2s\n",
            "\u001b[K                 Class     Images  Instances      Box(P          R      mAP50  mAP50-95): 100% ━━━━━━━━━━━━ 1/1 1.4it/s 0.7s\n",
            "                   all         60        991      0.686      0.667      0.707      0.425\n",
            "\n",
            "      Epoch    GPU_mem   box_loss   cls_loss   dfl_loss  Instances       Size\n",
            "\u001b[K      65/75        13G      1.396       1.08      1.155       1293        640: 100% ━━━━━━━━━━━━ 4/4 1.2it/s 3.3s\n",
            "\u001b[K                 Class     Images  Instances      Box(P          R      mAP50  mAP50-95): 100% ━━━━━━━━━━━━ 1/1 0.9it/s 1.1s\n",
            "                   all         60        991      0.689      0.676      0.707      0.427\n",
            "Closing dataloader mosaic\n",
            "\u001b[34m\u001b[1malbumentations: \u001b[0mBlur(p=0.01, blur_limit=(3, 7)), MedianBlur(p=0.01, blur_limit=(3, 7)), ToGray(p=0.01, method='weighted_average', num_output_channels=3), CLAHE(p=0.01, clip_limit=(1.0, 4.0), tile_grid_size=(8, 8))\n",
            "\n",
            "      Epoch    GPU_mem   box_loss   cls_loss   dfl_loss  Instances       Size\n",
            "\u001b[K      66/75      11.9G      1.433      1.241      1.211        714        640: 100% ━━━━━━━━━━━━ 4/4 0.6it/s 7.1s\n",
            "\u001b[K                 Class     Images  Instances      Box(P          R      mAP50  mAP50-95): 100% ━━━━━━━━━━━━ 1/1 0.9it/s 1.1s\n",
            "                   all         60        991      0.702      0.668      0.708      0.428\n",
            "\n",
            "      Epoch    GPU_mem   box_loss   cls_loss   dfl_loss  Instances       Size\n",
            "\u001b[K      67/75      11.8G      1.398      1.188      1.174        942        640: 100% ━━━━━━━━━━━━ 4/4 1.1it/s 3.6s\n",
            "\u001b[K                 Class     Images  Instances      Box(P          R      mAP50  mAP50-95): 100% ━━━━━━━━━━━━ 1/1 1.3it/s 0.8s\n",
            "                   all         60        991      0.705      0.655      0.714      0.432\n",
            "\n",
            "      Epoch    GPU_mem   box_loss   cls_loss   dfl_loss  Instances       Size\n",
            "\u001b[K      68/75      11.9G      1.401      1.167      1.185        808        640: 100% ━━━━━━━━━━━━ 4/4 1.2it/s 3.3s\n",
            "\u001b[K                 Class     Images  Instances      Box(P          R      mAP50  mAP50-95): 100% ━━━━━━━━━━━━ 1/1 1.3it/s 0.8s\n",
            "                   all         60        991      0.713      0.634      0.708       0.43\n",
            "\n",
            "      Epoch    GPU_mem   box_loss   cls_loss   dfl_loss  Instances       Size\n",
            "\u001b[K      69/75      11.3G      1.369      1.162      1.188        911        640: 100% ━━━━━━━━━━━━ 4/4 1.2it/s 3.3s\n",
            "\u001b[K                 Class     Images  Instances      Box(P          R      mAP50  mAP50-95): 100% ━━━━━━━━━━━━ 1/1 0.9it/s 1.1s\n",
            "                   all         60        991      0.728      0.625      0.703      0.425\n",
            "\n",
            "      Epoch    GPU_mem   box_loss   cls_loss   dfl_loss  Instances       Size\n",
            "\u001b[K      70/75      10.8G      1.388      1.181      1.184        886        640: 100% ━━━━━━━━━━━━ 4/4 1.3it/s 3.1s\n",
            "\u001b[K                 Class     Images  Instances      Box(P          R      mAP50  mAP50-95): 100% ━━━━━━━━━━━━ 1/1 1.2it/s 0.8s\n",
            "                   all         60        991      0.726      0.626      0.698      0.418\n",
            "\n",
            "      Epoch    GPU_mem   box_loss   cls_loss   dfl_loss  Instances       Size\n",
            "\u001b[K      71/75      11.2G      1.387      1.152      1.172       1161        640: 100% ━━━━━━━━━━━━ 4/4 1.3it/s 3.2s\n",
            "\u001b[K                 Class     Images  Instances      Box(P          R      mAP50  mAP50-95): 100% ━━━━━━━━━━━━ 1/1 0.7it/s 1.4s\n",
            "                   all         60        991       0.72      0.641      0.696      0.415\n",
            "\n",
            "      Epoch    GPU_mem   box_loss   cls_loss   dfl_loss  Instances       Size\n",
            "\u001b[K      72/75      11.1G      1.399      1.139      1.173        754        640: 100% ━━━━━━━━━━━━ 4/4 1.1it/s 3.5s\n",
            "\u001b[K                 Class     Images  Instances      Box(P          R      mAP50  mAP50-95): 100% ━━━━━━━━━━━━ 1/1 1.2it/s 0.8s\n",
            "                   all         60        991      0.705      0.648      0.697      0.415\n",
            "\n",
            "      Epoch    GPU_mem   box_loss   cls_loss   dfl_loss  Instances       Size\n",
            "\u001b[K      73/75        11G      1.384      1.141       1.17       1022        640: 100% ━━━━━━━━━━━━ 4/4 1.3it/s 3.1s\n",
            "\u001b[K                 Class     Images  Instances      Box(P          R      mAP50  mAP50-95): 100% ━━━━━━━━━━━━ 1/1 1.2it/s 0.9s\n",
            "                   all         60        991      0.714      0.635      0.696      0.416\n",
            "\n",
            "      Epoch    GPU_mem   box_loss   cls_loss   dfl_loss  Instances       Size\n",
            "\u001b[K      74/75      11.7G      1.374      1.153      1.172       1011        640: 100% ━━━━━━━━━━━━ 4/4 1.2it/s 3.4s\n",
            "\u001b[K                 Class     Images  Instances      Box(P          R      mAP50  mAP50-95): 100% ━━━━━━━━━━━━ 1/1 1.3it/s 0.8s\n",
            "                   all         60        991      0.704       0.64      0.697      0.419\n",
            "\n",
            "      Epoch    GPU_mem   box_loss   cls_loss   dfl_loss  Instances       Size\n",
            "\u001b[K      75/75      11.6G      1.371      1.153      1.191       1005        640: 100% ━━━━━━━━━━━━ 4/4 1.3it/s 3.1s\n",
            "\u001b[K                 Class     Images  Instances      Box(P          R      mAP50  mAP50-95): 100% ━━━━━━━━━━━━ 1/1 1.6it/s 0.6s\n",
            "                   all         60        991      0.705      0.642      0.697       0.42\n",
            "\n",
            "75 epochs completed in 0.124 hours.\n",
            "Optimizer stripped from /content/exploratory_phase/yolo11n_training_dataset_v222/weights/last.pt, 5.5MB\n",
            "Optimizer stripped from /content/exploratory_phase/yolo11n_training_dataset_v222/weights/best.pt, 5.5MB\n",
            "\n",
            "Validating /content/exploratory_phase/yolo11n_training_dataset_v222/weights/best.pt...\n",
            "Ultralytics 8.3.209 🚀 Python-3.12.11 torch-2.8.0+cu126 CUDA:0 (Tesla T4, 15095MiB)\n",
            "YOLO11n summary (fused): 100 layers, 2,582,542 parameters, 0 gradients, 6.3 GFLOPs\n",
            "\u001b[K                 Class     Images  Instances      Box(P          R      mAP50  mAP50-95): 100% ━━━━━━━━━━━━ 1/1 1.8it/s 0.6s\n",
            "                   all         60        991      0.706      0.655      0.714      0.432\n",
            "undamagedcommercialbuilding         23         68      0.569      0.529      0.569      0.399\n",
            "undamagedresidentialbuilding         37        923      0.842      0.781       0.86      0.464\n",
            "Speed: 0.2ms preprocess, 3.2ms inference, 0.0ms loss, 2.2ms postprocess per image\n",
            "Results saved to \u001b[1m/content/exploratory_phase/yolo11n_training_dataset_v222\u001b[0m\n"
          ]
        }
      ]
    },
    {
      "cell_type": "code",
      "source": [
        "# Evaluate the model on the test dataset - v22\n",
        "metrics_test_v22 = model.val(\n",
        "    data=yaml_file,  # Path to the data.yaml file\n",
        "    split=\"test\",                   # Specify the test split\n",
        "    batch = batch,                  # Batch size for evaluation\n",
        "    imgsz=640,                      # Image size\n",
        "    conf=0.5,                      # Confidence threshold\n",
        "    iou=0.7,                        # IoU threshold for NMS\n",
        "    device=device,                     # Use GPU (e.g., \"0\" for the first GPU)\n",
        ")"
      ],
      "metadata": {
        "id": "DsFUj3mnhaPv",
        "outputId": "ecded682-e9dc-49aa-e7d3-d5d05183399a",
        "colab": {
          "base_uri": "https://localhost:8080/"
        }
      },
      "id": "DsFUj3mnhaPv",
      "execution_count": null,
      "outputs": [
        {
          "output_type": "stream",
          "name": "stdout",
          "text": [
            "Ultralytics 8.3.209 🚀 Python-3.12.11 torch-2.8.0+cu126 CUDA:0 (Tesla T4, 15095MiB)\n",
            "YOLO11n summary (fused): 100 layers, 2,582,542 parameters, 0 gradients, 6.3 GFLOPs\n",
            "\u001b[34m\u001b[1mval: \u001b[0mFast image access ✅ (ping: 0.0±0.0 ms, read: 22.1±10.6 MB/s, size: 62.9 KB)\n",
            "\u001b[K\u001b[34m\u001b[1mval: \u001b[0mScanning /content/Storm-Damage-22/test/labels... 60 images, 7 backgrounds, 0 corrupt: 100% ━━━━━━━━━━━━ 60/60 303.9it/s 0.2s\n",
            "\u001b[34m\u001b[1mval: \u001b[0mNew cache created: /content/Storm-Damage-22/test/labels.cache\n",
            "\u001b[K                 Class     Images  Instances      Box(P          R      mAP50  mAP50-95): 100% ━━━━━━━━━━━━ 1/1 0.2it/s 4.3s\n",
            "                   all         60       1198       0.71      0.669      0.704      0.465\n",
            "undamagedcommercialbuilding         18         63      0.625      0.619      0.602       0.42\n",
            "undamagedresidentialbuilding         47       1135      0.795      0.718      0.807       0.51\n",
            "Speed: 0.2ms preprocess, 5.4ms inference, 0.0ms loss, 3.6ms postprocess per image\n",
            "Results saved to \u001b[1m/content/runs/detect/val3\u001b[0m\n"
          ]
        }
      ]
    },
    {
      "cell_type": "code",
      "source": [],
      "metadata": {
        "id": "Qs4Mmxq7nz0k"
      },
      "id": "Qs4Mmxq7nz0k",
      "execution_count": null,
      "outputs": []
    },
    {
      "cell_type": "code",
      "source": [
        "# Train the model - v23\n",
        "result_model_training_v23 = model.train(\n",
        "                                    data=yaml_file,\n",
        "                                    batch = batch,\n",
        "                                    device = device,\n",
        "                                    epochs = epochs,\n",
        "                                    patience = patience,\n",
        "                                    imgsz = imgsz,\n",
        "                                    optimizer = 'AdamW',\n",
        "                                    augment = False, # (bool) apply image augmentation to prediction sources\n",
        "                                    lr0 = 5e-5, # 1e-5 previously\n",
        "                                    auto_augment = None, # (str) auto augmentation policy for classification (randaugment, autoaugment, augmix)\n",
        "                                    momentum = 0.937,\n",
        "                                    plots = plots,\n",
        "                                    project = project,\n",
        "                                    name = name_train\n",
        "                                    )"
      ],
      "metadata": {
        "id": "nK20Fhi4nzyH",
        "outputId": "851af59c-7c1b-4c9a-bf2b-ef2edae52267",
        "colab": {
          "base_uri": "https://localhost:8080/"
        }
      },
      "id": "nK20Fhi4nzyH",
      "execution_count": null,
      "outputs": [
        {
          "output_type": "stream",
          "name": "stdout",
          "text": [
            "Ultralytics 8.3.209 🚀 Python-3.12.11 torch-2.8.0+cu126 CUDA:0 (Tesla T4, 15095MiB)\n",
            "\u001b[34m\u001b[1mengine/trainer: \u001b[0magnostic_nms=False, amp=True, augment=False, auto_augment=None, batch=75, bgr=0.0, box=7.5, cache=False, cfg=None, classes=None, close_mosaic=10, cls=0.5, compile=False, conf=None, copy_paste=0.0, copy_paste_mode=flip, cos_lr=False, cutmix=0.0, data=/content/Storm-Damage-23/data.yaml, degrees=0.0, deterministic=True, device=0, dfl=1.5, dnn=False, dropout=0.0, dynamic=False, embed=None, epochs=75, erasing=0.4, exist_ok=False, fliplr=0.5, flipud=0.0, format=torchscript, fraction=1.0, freeze=None, half=False, hsv_h=0.015, hsv_s=0.7, hsv_v=0.4, imgsz=640, int8=False, iou=0.7, keras=False, kobj=1.0, line_width=None, lr0=5e-05, lrf=0.01, mask_ratio=4, max_det=300, mixup=0.0, mode=train, model=../models/yolo11/yolo11n.pt, momentum=0.937, mosaic=1.0, multi_scale=False, name=yolo11n_training_dataset_v23, nbs=64, nms=False, opset=None, optimize=False, optimizer=AdamW, overlap_mask=True, patience=20, perspective=0.0, plots=True, pose=12.0, pretrained=True, profile=False, project=exploratory_phase, rect=False, resume=False, retina_masks=False, save=True, save_conf=False, save_crop=False, save_dir=/content/exploratory_phase/yolo11n_training_dataset_v23, save_frames=False, save_json=False, save_period=-1, save_txt=False, scale=0.5, seed=0, shear=0.0, show=False, show_boxes=True, show_conf=True, show_labels=True, simplify=True, single_cls=False, source=None, split=val, stream_buffer=False, task=detect, time=None, tracker=botsort.yaml, translate=0.1, val=True, verbose=True, vid_stride=1, visualize=False, warmup_bias_lr=0.1, warmup_epochs=3.0, warmup_momentum=0.8, weight_decay=0.0005, workers=8, workspace=None\n",
            "Overriding model.yaml nc=80 with nc=2\n",
            "\n",
            "                   from  n    params  module                                       arguments                     \n",
            "  0                  -1  1       464  ultralytics.nn.modules.conv.Conv             [3, 16, 3, 2]                 \n",
            "  1                  -1  1      4672  ultralytics.nn.modules.conv.Conv             [16, 32, 3, 2]                \n",
            "  2                  -1  1      6640  ultralytics.nn.modules.block.C3k2            [32, 64, 1, False, 0.25]      \n",
            "  3                  -1  1     36992  ultralytics.nn.modules.conv.Conv             [64, 64, 3, 2]                \n",
            "  4                  -1  1     26080  ultralytics.nn.modules.block.C3k2            [64, 128, 1, False, 0.25]     \n",
            "  5                  -1  1    147712  ultralytics.nn.modules.conv.Conv             [128, 128, 3, 2]              \n",
            "  6                  -1  1     87040  ultralytics.nn.modules.block.C3k2            [128, 128, 1, True]           \n",
            "  7                  -1  1    295424  ultralytics.nn.modules.conv.Conv             [128, 256, 3, 2]              \n",
            "  8                  -1  1    346112  ultralytics.nn.modules.block.C3k2            [256, 256, 1, True]           \n",
            "  9                  -1  1    164608  ultralytics.nn.modules.block.SPPF            [256, 256, 5]                 \n",
            " 10                  -1  1    249728  ultralytics.nn.modules.block.C2PSA           [256, 256, 1]                 \n",
            " 11                  -1  1         0  torch.nn.modules.upsampling.Upsample         [None, 2, 'nearest']          \n",
            " 12             [-1, 6]  1         0  ultralytics.nn.modules.conv.Concat           [1]                           \n",
            " 13                  -1  1    111296  ultralytics.nn.modules.block.C3k2            [384, 128, 1, False]          \n",
            " 14                  -1  1         0  torch.nn.modules.upsampling.Upsample         [None, 2, 'nearest']          \n",
            " 15             [-1, 4]  1         0  ultralytics.nn.modules.conv.Concat           [1]                           \n",
            " 16                  -1  1     32096  ultralytics.nn.modules.block.C3k2            [256, 64, 1, False]           \n",
            " 17                  -1  1     36992  ultralytics.nn.modules.conv.Conv             [64, 64, 3, 2]                \n",
            " 18            [-1, 13]  1         0  ultralytics.nn.modules.conv.Concat           [1]                           \n",
            " 19                  -1  1     86720  ultralytics.nn.modules.block.C3k2            [192, 128, 1, False]          \n",
            " 20                  -1  1    147712  ultralytics.nn.modules.conv.Conv             [128, 128, 3, 2]              \n",
            " 21            [-1, 10]  1         0  ultralytics.nn.modules.conv.Concat           [1]                           \n",
            " 22                  -1  1    378880  ultralytics.nn.modules.block.C3k2            [384, 256, 1, True]           \n",
            " 23        [16, 19, 22]  1    431062  ultralytics.nn.modules.head.Detect           [2, [64, 128, 256]]           \n",
            "YOLO11n summary: 181 layers, 2,590,230 parameters, 2,590,214 gradients, 6.4 GFLOPs\n",
            "\n",
            "Transferred 448/499 items from pretrained weights\n",
            "Freezing layer 'model.23.dfl.conv.weight'\n",
            "\u001b[34m\u001b[1mAMP: \u001b[0mrunning Automatic Mixed Precision (AMP) checks...\n",
            "\u001b[34m\u001b[1mAMP: \u001b[0mchecks passed ✅\n",
            "\u001b[34m\u001b[1mtrain: \u001b[0mFast image access ✅ (ping: 0.0±0.0 ms, read: 1731.4±431.2 MB/s, size: 66.2 KB)\n",
            "\u001b[K\u001b[34m\u001b[1mtrain: \u001b[0mScanning /content/Storm-Damage-23/train/labels... 349 images, 36 backgrounds, 0 corrupt: 100% ━━━━━━━━━━━━ 349/349 2.1Kit/s 0.2s\n",
            "\u001b[34m\u001b[1mtrain: \u001b[0m/content/Storm-Damage-23/train/images/Pre_Event_tile_26_37_jpg.rf.fb28ad8286de0cff7f2d5935073b6d7e.jpg: 6 duplicate labels removed\n",
            "\u001b[34m\u001b[1mtrain: \u001b[0mNew cache created: /content/Storm-Damage-23/train/labels.cache\n",
            "\u001b[34m\u001b[1malbumentations: \u001b[0mBlur(p=0.01, blur_limit=(3, 7)), MedianBlur(p=0.01, blur_limit=(3, 7)), ToGray(p=0.01, method='weighted_average', num_output_channels=3), CLAHE(p=0.01, clip_limit=(1.0, 4.0), tile_grid_size=(8, 8))\n",
            "\u001b[34m\u001b[1mval: \u001b[0mFast image access ✅ (ping: 0.0±0.0 ms, read: 706.7±503.7 MB/s, size: 58.9 KB)\n",
            "\u001b[K\u001b[34m\u001b[1mval: \u001b[0mScanning /content/Storm-Damage-23/valid/labels... 89 images, 15 backgrounds, 0 corrupt: 100% ━━━━━━━━━━━━ 89/89 757.0it/s 0.1s\n",
            "\u001b[34m\u001b[1mval: \u001b[0mNew cache created: /content/Storm-Damage-23/valid/labels.cache\n",
            "Plotting labels to /content/exploratory_phase/yolo11n_training_dataset_v23/labels.jpg... \n",
            "\u001b[34m\u001b[1moptimizer:\u001b[0m AdamW(lr=5e-05, momentum=0.937) with parameter groups 81 weight(decay=0.0), 88 weight(decay=0.0005859375), 87 bias(decay=0.0)\n",
            "Image sizes 640 train, 640 val\n",
            "Using 2 dataloader workers\n",
            "Logging results to \u001b[1m/content/exploratory_phase/yolo11n_training_dataset_v23\u001b[0m\n",
            "Starting training for 75 epochs...\n",
            "\n",
            "      Epoch    GPU_mem   box_loss   cls_loss   dfl_loss  Instances       Size\n",
            "\u001b[K       1/75      13.8G      2.282      3.766      1.803       1111        640: 100% ━━━━━━━━━━━━ 5/5 0.2it/s 25.5s\n",
            "\u001b[K                 Class     Images  Instances      Box(P          R      mAP50  mAP50-95): 100% ━━━━━━━━━━━━ 1/1 0.3it/s 3.6s\n",
            "                   all         89       1838    0.00449      0.256     0.0156    0.00574\n",
            "\n",
            "      Epoch    GPU_mem   box_loss   cls_loss   dfl_loss  Instances       Size\n",
            "\u001b[K       2/75      11.9G       2.02      3.562       1.65       1413        640: 100% ━━━━━━━━━━━━ 5/5 1.1it/s 4.6s\n",
            "\u001b[K                 Class     Images  Instances      Box(P          R      mAP50  mAP50-95): 100% ━━━━━━━━━━━━ 1/1 0.7it/s 1.4s\n",
            "                   all         89       1838     0.0405      0.607       0.11     0.0454\n",
            "\n",
            "      Epoch    GPU_mem   box_loss   cls_loss   dfl_loss  Instances       Size\n",
            "\u001b[K       3/75      11.7G      1.563      2.559        1.2       1614        640: 100% ━━━━━━━━━━━━ 5/5 1.2it/s 4.2s\n",
            "\u001b[K                 Class     Images  Instances      Box(P          R      mAP50  mAP50-95): 100% ━━━━━━━━━━━━ 1/1 0.7it/s 1.4s\n",
            "                   all         89       1838      0.021      0.162     0.0138    0.00691\n",
            "\n",
            "      Epoch    GPU_mem   box_loss   cls_loss   dfl_loss  Instances       Size\n",
            "\u001b[K       4/75      11.4G      1.495      1.935      1.168       1341        640: 100% ━━━━━━━━━━━━ 5/5 1.2it/s 4.2s\n",
            "\u001b[K                 Class     Images  Instances      Box(P          R      mAP50  mAP50-95): 100% ━━━━━━━━━━━━ 1/1 0.7it/s 1.5s\n",
            "                   all         89       1838     0.0137      0.212     0.0567     0.0167\n",
            "\n",
            "      Epoch    GPU_mem   box_loss   cls_loss   dfl_loss  Instances       Size\n",
            "\u001b[K       5/75      13.6G      1.516      1.807      1.184       1330        640: 100% ━━━━━━━━━━━━ 5/5 1.1it/s 4.6s\n",
            "\u001b[K                 Class     Images  Instances      Box(P          R      mAP50  mAP50-95): 100% ━━━━━━━━━━━━ 1/1 0.4it/s 2.5s\n",
            "                   all         89       1838    0.00833      0.129     0.0299    0.00752\n",
            "\n",
            "      Epoch    GPU_mem   box_loss   cls_loss   dfl_loss  Instances       Size\n",
            "\u001b[K       6/75      12.5G      1.475      1.682       1.16       1557        640: 100% ━━━━━━━━━━━━ 5/5 1.2it/s 4.1s\n",
            "\u001b[K                 Class     Images  Instances      Box(P          R      mAP50  mAP50-95): 100% ━━━━━━━━━━━━ 1/1 0.7it/s 1.5s\n",
            "                   all         89       1838     0.0152      0.234     0.0423     0.0126\n",
            "\n",
            "      Epoch    GPU_mem   box_loss   cls_loss   dfl_loss  Instances       Size\n",
            "\u001b[K       7/75      13.3G      1.452      1.539      1.187       1081        640: 100% ━━━━━━━━━━━━ 5/5 1.0it/s 5.1s\n",
            "\u001b[K                 Class     Images  Instances      Box(P          R      mAP50  mAP50-95): 100% ━━━━━━━━━━━━ 1/1 0.5it/s 1.9s\n",
            "                   all         89       1838      0.013      0.201     0.0438     0.0108\n",
            "\n",
            "      Epoch    GPU_mem   box_loss   cls_loss   dfl_loss  Instances       Size\n",
            "\u001b[K       8/75      13.4G      1.459      1.463       1.17       1293        640: 100% ━━━━━━━━━━━━ 5/5 1.2it/s 4.2s\n",
            "\u001b[K                 Class     Images  Instances      Box(P          R      mAP50  mAP50-95): 100% ━━━━━━━━━━━━ 1/1 0.6it/s 1.6s\n",
            "                   all         89       1838     0.0133      0.203     0.0537     0.0136\n",
            "\n",
            "      Epoch    GPU_mem   box_loss   cls_loss   dfl_loss  Instances       Size\n",
            "\u001b[K       9/75      12.4G      1.471      1.413      1.201       1153        640: 100% ━━━━━━━━━━━━ 5/5 1.1it/s 4.4s\n",
            "\u001b[K                 Class     Images  Instances      Box(P          R      mAP50  mAP50-95): 100% ━━━━━━━━━━━━ 1/1 0.6it/s 1.7s\n",
            "                   all         89       1838     0.0249      0.316      0.104     0.0322\n",
            "\n",
            "      Epoch    GPU_mem   box_loss   cls_loss   dfl_loss  Instances       Size\n",
            "\u001b[K      10/75      12.7G      1.453      1.358      1.172       1397        640: 100% ━━━━━━━━━━━━ 5/5 1.1it/s 4.5s\n",
            "\u001b[K                 Class     Images  Instances      Box(P          R      mAP50  mAP50-95): 100% ━━━━━━━━━━━━ 1/1 0.6it/s 1.7s\n",
            "                   all         89       1838     0.0287      0.533      0.172     0.0587\n",
            "\n",
            "      Epoch    GPU_mem   box_loss   cls_loss   dfl_loss  Instances       Size\n",
            "\u001b[K      11/75      12.4G      1.404      1.317      1.175       1328        640: 100% ━━━━━━━━━━━━ 5/5 1.1it/s 4.4s\n",
            "\u001b[K                 Class     Images  Instances      Box(P          R      mAP50  mAP50-95): 100% ━━━━━━━━━━━━ 1/1 0.6it/s 1.8s\n",
            "                   all         89       1838     0.0335      0.611      0.214     0.0787\n",
            "\n",
            "      Epoch    GPU_mem   box_loss   cls_loss   dfl_loss  Instances       Size\n",
            "\u001b[K      12/75      13.3G       1.39       1.26      1.169       1778        640: 100% ━━━━━━━━━━━━ 5/5 1.2it/s 4.2s\n",
            "\u001b[K                 Class     Images  Instances      Box(P          R      mAP50  mAP50-95): 100% ━━━━━━━━━━━━ 1/1 0.5it/s 1.9s\n",
            "                   all         89       1838     0.0293       0.48      0.143     0.0536\n",
            "\n",
            "      Epoch    GPU_mem   box_loss   cls_loss   dfl_loss  Instances       Size\n",
            "\u001b[K      13/75      12.1G      1.406      1.263      1.166       1532        640: 100% ━━━━━━━━━━━━ 5/5 1.2it/s 4.2s\n",
            "\u001b[K                 Class     Images  Instances      Box(P          R      mAP50  mAP50-95): 100% ━━━━━━━━━━━━ 1/1 0.6it/s 1.7s\n",
            "                   all         89       1838     0.0341      0.606      0.223     0.0837\n",
            "\n",
            "      Epoch    GPU_mem   box_loss   cls_loss   dfl_loss  Instances       Size\n",
            "\u001b[K      14/75      13.6G      1.435      1.247      1.173       1293        640: 100% ━━━━━━━━━━━━ 5/5 1.2it/s 4.2s\n",
            "\u001b[K                 Class     Images  Instances      Box(P          R      mAP50  mAP50-95): 100% ━━━━━━━━━━━━ 1/1 0.5it/s 2.1s\n",
            "                   all         89       1838     0.0923      0.552      0.247     0.0935\n",
            "\n",
            "      Epoch    GPU_mem   box_loss   cls_loss   dfl_loss  Instances       Size\n",
            "\u001b[K      15/75      13.3G      1.382      1.234      1.155       1811        640: 100% ━━━━━━━━━━━━ 5/5 1.1it/s 4.4s\n",
            "\u001b[K                 Class     Images  Instances      Box(P          R      mAP50  mAP50-95): 100% ━━━━━━━━━━━━ 1/1 0.6it/s 1.7s\n",
            "                   all         89       1838      0.662      0.188      0.398      0.167\n",
            "\n",
            "      Epoch    GPU_mem   box_loss   cls_loss   dfl_loss  Instances       Size\n",
            "\u001b[K      16/75      12.5G      1.375      1.183      1.151       1482        640: 100% ━━━━━━━━━━━━ 5/5 1.1it/s 4.4s\n",
            "\u001b[K                 Class     Images  Instances      Box(P          R      mAP50  mAP50-95): 100% ━━━━━━━━━━━━ 1/1 0.6it/s 1.7s\n",
            "                   all         89       1838      0.729      0.101      0.434      0.183\n",
            "\n",
            "      Epoch    GPU_mem   box_loss   cls_loss   dfl_loss  Instances       Size\n",
            "\u001b[K      17/75      13.6G      1.444      1.233      1.163       1345        640: 100% ━━━━━━━━━━━━ 5/5 1.2it/s 4.2s\n",
            "\u001b[K                 Class     Images  Instances      Box(P          R      mAP50  mAP50-95): 100% ━━━━━━━━━━━━ 1/1 0.7it/s 1.4s\n",
            "                   all         89       1838      0.712      0.152      0.436      0.186\n",
            "\n",
            "      Epoch    GPU_mem   box_loss   cls_loss   dfl_loss  Instances       Size\n",
            "\u001b[K      18/75      13.2G      1.369      1.185      1.146       1679        640: 100% ━━━━━━━━━━━━ 5/5 1.1it/s 4.7s\n",
            "\u001b[K                 Class     Images  Instances      Box(P          R      mAP50  mAP50-95): 100% ━━━━━━━━━━━━ 1/1 0.7it/s 1.5s\n",
            "                   all         89       1838      0.753      0.245      0.559      0.282\n",
            "\n",
            "      Epoch    GPU_mem   box_loss   cls_loss   dfl_loss  Instances       Size\n",
            "\u001b[K      19/75      12.6G      1.363      1.142      1.145       1282        640: 100% ━━━━━━━━━━━━ 5/5 1.2it/s 4.2s\n",
            "\u001b[K                 Class     Images  Instances      Box(P          R      mAP50  mAP50-95): 100% ━━━━━━━━━━━━ 1/1 0.8it/s 1.3s\n",
            "                   all         89       1838      0.711       0.35      0.549      0.269\n",
            "\n",
            "      Epoch    GPU_mem   box_loss   cls_loss   dfl_loss  Instances       Size\n",
            "\u001b[K      20/75      12.4G      1.368      1.143      1.144       1145        640: 100% ━━━━━━━━━━━━ 5/5 1.1it/s 4.5s\n",
            "\u001b[K                 Class     Images  Instances      Box(P          R      mAP50  mAP50-95): 100% ━━━━━━━━━━━━ 1/1 0.8it/s 1.3s\n",
            "                   all         89       1838      0.672      0.457      0.563       0.28\n",
            "\n",
            "      Epoch    GPU_mem   box_loss   cls_loss   dfl_loss  Instances       Size\n",
            "\u001b[K      21/75      12.3G       1.35      1.142      1.141       1726        640: 100% ━━━━━━━━━━━━ 5/5 1.1it/s 4.4s\n",
            "\u001b[K                 Class     Images  Instances      Box(P          R      mAP50  mAP50-95): 100% ━━━━━━━━━━━━ 1/1 0.7it/s 1.5s\n",
            "                   all         89       1838      0.652      0.511      0.593      0.314\n",
            "\n",
            "      Epoch    GPU_mem   box_loss   cls_loss   dfl_loss  Instances       Size\n",
            "\u001b[K      22/75      12.3G      1.329      1.123      1.131       1462        640: 100% ━━━━━━━━━━━━ 5/5 1.2it/s 4.2s\n",
            "\u001b[K                 Class     Images  Instances      Box(P          R      mAP50  mAP50-95): 100% ━━━━━━━━━━━━ 1/1 0.8it/s 1.3s\n",
            "                   all         89       1838      0.629      0.538      0.592       0.32\n",
            "\n",
            "      Epoch    GPU_mem   box_loss   cls_loss   dfl_loss  Instances       Size\n",
            "\u001b[K      23/75      12.4G      1.352      1.148      1.151       1136        640: 100% ━━━━━━━━━━━━ 5/5 1.2it/s 4.1s\n",
            "\u001b[K                 Class     Images  Instances      Box(P          R      mAP50  mAP50-95): 100% ━━━━━━━━━━━━ 1/1 0.8it/s 1.3s\n",
            "                   all         89       1838      0.647      0.605      0.636      0.366\n",
            "\n",
            "      Epoch    GPU_mem   box_loss   cls_loss   dfl_loss  Instances       Size\n",
            "\u001b[K      24/75      12.4G       1.36      1.095      1.148       1343        640: 100% ━━━━━━━━━━━━ 5/5 1.1it/s 4.6s\n",
            "\u001b[K                 Class     Images  Instances      Box(P          R      mAP50  mAP50-95): 100% ━━━━━━━━━━━━ 1/1 1.0it/s 1.0s\n",
            "                   all         89       1838      0.676      0.656      0.666      0.405\n",
            "\n",
            "      Epoch    GPU_mem   box_loss   cls_loss   dfl_loss  Instances       Size\n",
            "\u001b[K      25/75      13.2G      1.345      1.091      1.132       1284        640: 100% ━━━━━━━━━━━━ 5/5 1.2it/s 4.2s\n",
            "\u001b[K                 Class     Images  Instances      Box(P          R      mAP50  mAP50-95): 100% ━━━━━━━━━━━━ 1/1 0.6it/s 1.6s\n",
            "                   all         89       1838      0.667      0.667      0.673      0.402\n",
            "\n",
            "      Epoch    GPU_mem   box_loss   cls_loss   dfl_loss  Instances       Size\n",
            "\u001b[K      26/75      13.1G      1.342      1.096      1.128       1171        640: 100% ━━━━━━━━━━━━ 5/5 1.2it/s 4.3s\n",
            "\u001b[K                 Class     Images  Instances      Box(P          R      mAP50  mAP50-95): 100% ━━━━━━━━━━━━ 1/1 0.9it/s 1.1s\n",
            "                   all         89       1838       0.65       0.67      0.675      0.396\n",
            "\n",
            "      Epoch    GPU_mem   box_loss   cls_loss   dfl_loss  Instances       Size\n",
            "\u001b[K      27/75      13.4G      1.318       1.07      1.108       1334        640: 100% ━━━━━━━━━━━━ 5/5 1.1it/s 4.5s\n",
            "\u001b[K                 Class     Images  Instances      Box(P          R      mAP50  mAP50-95): 100% ━━━━━━━━━━━━ 1/1 0.7it/s 1.4s\n",
            "                   all         89       1838      0.691      0.655      0.686      0.403\n",
            "\n",
            "      Epoch    GPU_mem   box_loss   cls_loss   dfl_loss  Instances       Size\n",
            "\u001b[K      28/75      13.8G      1.353      1.101      1.124       1624        640: 100% ━━━━━━━━━━━━ 5/5 1.2it/s 4.1s\n",
            "\u001b[K                 Class     Images  Instances      Box(P          R      mAP50  mAP50-95): 100% ━━━━━━━━━━━━ 1/1 0.9it/s 1.1s\n",
            "                   all         89       1838      0.702      0.649      0.696      0.415\n",
            "\n",
            "      Epoch    GPU_mem   box_loss   cls_loss   dfl_loss  Instances       Size\n",
            "\u001b[K      29/75        13G      1.274      1.052      1.107       1482        640: 100% ━━━━━━━━━━━━ 5/5 1.0it/s 4.8s\n",
            "\u001b[K                 Class     Images  Instances      Box(P          R      mAP50  mAP50-95): 100% ━━━━━━━━━━━━ 1/1 0.8it/s 1.3s\n",
            "                   all         89       1838      0.653      0.669      0.696      0.422\n",
            "\n",
            "      Epoch    GPU_mem   box_loss   cls_loss   dfl_loss  Instances       Size\n",
            "\u001b[K      30/75      13.7G        1.3       1.04      1.119       1396        640: 100% ━━━━━━━━━━━━ 5/5 1.2it/s 4.1s\n",
            "\u001b[K                 Class     Images  Instances      Box(P          R      mAP50  mAP50-95): 100% ━━━━━━━━━━━━ 1/1 0.9it/s 1.1s\n",
            "                   all         89       1838      0.661      0.682        0.7      0.424\n",
            "\n",
            "      Epoch    GPU_mem   box_loss   cls_loss   dfl_loss  Instances       Size\n",
            "\u001b[K      31/75      14.2G      1.337      1.073      1.134       1330        640: 100% ━━━━━━━━━━━━ 5/5 1.1it/s 4.5s\n",
            "\u001b[K                 Class     Images  Instances      Box(P          R      mAP50  mAP50-95): 100% ━━━━━━━━━━━━ 1/1 0.9it/s 1.1s\n",
            "                   all         89       1838      0.682      0.676      0.709      0.441\n",
            "\n",
            "      Epoch    GPU_mem   box_loss   cls_loss   dfl_loss  Instances       Size\n",
            "\u001b[K      32/75      12.8G      1.308      1.086      1.112       1292        640: 100% ━━━━━━━━━━━━ 5/5 1.2it/s 4.3s\n",
            "\u001b[K                 Class     Images  Instances      Box(P          R      mAP50  mAP50-95): 100% ━━━━━━━━━━━━ 1/1 0.9it/s 1.1s\n",
            "                   all         89       1838      0.712      0.695      0.726      0.468\n",
            "\n",
            "      Epoch    GPU_mem   box_loss   cls_loss   dfl_loss  Instances       Size\n",
            "\u001b[K      33/75      12.9G      1.352      1.065      1.118       1357        640: 100% ━━━━━━━━━━━━ 5/5 1.1it/s 4.5s\n",
            "\u001b[K                 Class     Images  Instances      Box(P          R      mAP50  mAP50-95): 100% ━━━━━━━━━━━━ 1/1 0.8it/s 1.2s\n",
            "                   all         89       1838      0.698      0.678      0.721      0.459\n",
            "\n",
            "      Epoch    GPU_mem   box_loss   cls_loss   dfl_loss  Instances       Size\n",
            "\u001b[K      34/75      14.3G      1.323      1.055      1.107       1329        640: 100% ━━━━━━━━━━━━ 5/5 1.1it/s 4.6s\n",
            "\u001b[K                 Class     Images  Instances      Box(P          R      mAP50  mAP50-95): 100% ━━━━━━━━━━━━ 1/1 0.9it/s 1.2s\n",
            "                   all         89       1838      0.692      0.697      0.721      0.447\n",
            "\n",
            "      Epoch    GPU_mem   box_loss   cls_loss   dfl_loss  Instances       Size\n",
            "\u001b[K      35/75      13.2G      1.305      1.039      1.092       1665        640: 100% ━━━━━━━━━━━━ 5/5 1.0it/s 5.0s\n",
            "\u001b[K                 Class     Images  Instances      Box(P          R      mAP50  mAP50-95): 100% ━━━━━━━━━━━━ 1/1 0.6it/s 1.6s\n",
            "                   all         89       1838      0.702      0.687      0.726      0.463\n",
            "\n",
            "      Epoch    GPU_mem   box_loss   cls_loss   dfl_loss  Instances       Size\n",
            "\u001b[K      36/75      12.1G      1.305      1.033      1.095       1492        640: 100% ━━━━━━━━━━━━ 5/5 1.1it/s 4.6s\n",
            "\u001b[K                 Class     Images  Instances      Box(P          R      mAP50  mAP50-95): 100% ━━━━━━━━━━━━ 1/1 0.5it/s 2.2s\n",
            "                   all         89       1838      0.678      0.694      0.722       0.46\n",
            "\n",
            "      Epoch    GPU_mem   box_loss   cls_loss   dfl_loss  Instances       Size\n",
            "\u001b[K      37/75      13.4G      1.307      1.046      1.113       1298        640: 100% ━━━━━━━━━━━━ 5/5 1.1it/s 4.5s\n",
            "\u001b[K                 Class     Images  Instances      Box(P          R      mAP50  mAP50-95): 100% ━━━━━━━━━━━━ 1/1 0.8it/s 1.2s\n",
            "                   all         89       1838      0.709      0.678       0.73      0.455\n",
            "\n",
            "      Epoch    GPU_mem   box_loss   cls_loss   dfl_loss  Instances       Size\n",
            "\u001b[K      38/75      13.7G      1.325      1.024      1.105       1609        640: 100% ━━━━━━━━━━━━ 5/5 1.0it/s 5.1s\n",
            "\u001b[K                 Class     Images  Instances      Box(P          R      mAP50  mAP50-95): 100% ━━━━━━━━━━━━ 1/1 0.8it/s 1.2s\n",
            "                   all         89       1838      0.706        0.7       0.74      0.474\n",
            "\n",
            "      Epoch    GPU_mem   box_loss   cls_loss   dfl_loss  Instances       Size\n",
            "\u001b[K      39/75        14G      1.301       1.04      1.118       1223        640: 100% ━━━━━━━━━━━━ 5/5 1.2it/s 4.2s\n",
            "\u001b[K                 Class     Images  Instances      Box(P          R      mAP50  mAP50-95): 100% ━━━━━━━━━━━━ 1/1 0.8it/s 1.2s\n",
            "                   all         89       1838      0.709      0.684      0.737      0.477\n",
            "\n",
            "      Epoch    GPU_mem   box_loss   cls_loss   dfl_loss  Instances       Size\n",
            "\u001b[K      40/75      12.1G      1.315      1.049      1.106       1488        640: 100% ━━━━━━━━━━━━ 5/5 1.1it/s 4.5s\n",
            "\u001b[K                 Class     Images  Instances      Box(P          R      mAP50  mAP50-95): 100% ━━━━━━━━━━━━ 1/1 0.7it/s 1.4s\n",
            "                   all         89       1838       0.74      0.675      0.734      0.476\n",
            "\n",
            "      Epoch    GPU_mem   box_loss   cls_loss   dfl_loss  Instances       Size\n",
            "\u001b[K      41/75      12.7G      1.261      1.016      1.094       1553        640: 100% ━━━━━━━━━━━━ 5/5 1.2it/s 4.3s\n",
            "\u001b[K                 Class     Images  Instances      Box(P          R      mAP50  mAP50-95): 100% ━━━━━━━━━━━━ 1/1 0.8it/s 1.2s\n",
            "                   all         89       1838      0.739      0.671      0.742      0.469\n",
            "\n",
            "      Epoch    GPU_mem   box_loss   cls_loss   dfl_loss  Instances       Size\n",
            "\u001b[K      42/75      13.6G      1.294      1.018      1.092       1355        640: 100% ━━━━━━━━━━━━ 5/5 1.0it/s 4.8s\n",
            "\u001b[K                 Class     Images  Instances      Box(P          R      mAP50  mAP50-95): 100% ━━━━━━━━━━━━ 1/1 0.6it/s 1.7s\n",
            "                   all         89       1838      0.699      0.691      0.745      0.484\n",
            "\n",
            "      Epoch    GPU_mem   box_loss   cls_loss   dfl_loss  Instances       Size\n",
            "\u001b[K      43/75      13.3G      1.264      1.012      1.095       1413        640: 100% ━━━━━━━━━━━━ 5/5 1.2it/s 4.3s\n",
            "\u001b[K                 Class     Images  Instances      Box(P          R      mAP50  mAP50-95): 100% ━━━━━━━━━━━━ 1/1 0.6it/s 1.6s\n",
            "                   all         89       1838      0.721        0.7      0.746      0.494\n",
            "\n",
            "      Epoch    GPU_mem   box_loss   cls_loss   dfl_loss  Instances       Size\n",
            "\u001b[K      44/75      12.5G       1.31      1.027      1.108       1208        640: 100% ━━━━━━━━━━━━ 5/5 1.2it/s 4.2s\n",
            "\u001b[K                 Class     Images  Instances      Box(P          R      mAP50  mAP50-95): 100% ━━━━━━━━━━━━ 1/1 0.9it/s 1.2s\n",
            "                   all         89       1838      0.706      0.711      0.742      0.482\n",
            "\n",
            "      Epoch    GPU_mem   box_loss   cls_loss   dfl_loss  Instances       Size\n",
            "\u001b[K      45/75        14G      1.318       1.04      1.125       1491        640: 100% ━━━━━━━━━━━━ 5/5 1.2it/s 4.2s\n",
            "\u001b[K                 Class     Images  Instances      Box(P          R      mAP50  mAP50-95): 100% ━━━━━━━━━━━━ 1/1 0.6it/s 1.6s\n",
            "                   all         89       1838       0.75      0.686      0.739      0.483\n",
            "\n",
            "      Epoch    GPU_mem   box_loss   cls_loss   dfl_loss  Instances       Size\n",
            "\u001b[K      46/75      12.8G      1.266      1.008       1.09       1352        640: 100% ━━━━━━━━━━━━ 5/5 1.1it/s 4.4s\n",
            "\u001b[K                 Class     Images  Instances      Box(P          R      mAP50  mAP50-95): 100% ━━━━━━━━━━━━ 1/1 0.9it/s 1.2s\n",
            "                   all         89       1838      0.757      0.667      0.741       0.48\n",
            "\n",
            "      Epoch    GPU_mem   box_loss   cls_loss   dfl_loss  Instances       Size\n",
            "\u001b[K      47/75      12.9G       1.34      1.032      1.117       1666        640: 100% ━━━━━━━━━━━━ 5/5 1.1it/s 4.7s\n",
            "\u001b[K                 Class     Images  Instances      Box(P          R      mAP50  mAP50-95): 100% ━━━━━━━━━━━━ 1/1 0.7it/s 1.5s\n",
            "                   all         89       1838      0.758      0.668      0.743      0.481\n",
            "\n",
            "      Epoch    GPU_mem   box_loss   cls_loss   dfl_loss  Instances       Size\n",
            "\u001b[K      48/75      13.4G       1.27     0.9933      1.102       1241        640: 100% ━━━━━━━━━━━━ 5/5 1.2it/s 4.3s\n",
            "\u001b[K                 Class     Images  Instances      Box(P          R      mAP50  mAP50-95): 100% ━━━━━━━━━━━━ 1/1 0.9it/s 1.1s\n",
            "                   all         89       1838      0.757       0.67      0.745      0.485\n",
            "\n",
            "      Epoch    GPU_mem   box_loss   cls_loss   dfl_loss  Instances       Size\n",
            "\u001b[K      49/75      13.7G      1.288      1.024      1.097       1354        640: 100% ━━━━━━━━━━━━ 5/5 1.1it/s 4.5s\n",
            "\u001b[K                 Class     Images  Instances      Box(P          R      mAP50  mAP50-95): 100% ━━━━━━━━━━━━ 1/1 0.8it/s 1.3s\n",
            "                   all         89       1838      0.769       0.67      0.743      0.486\n",
            "\n",
            "      Epoch    GPU_mem   box_loss   cls_loss   dfl_loss  Instances       Size\n",
            "\u001b[K      50/75        12G      1.288     0.9976      1.101       1263        640: 100% ━━━━━━━━━━━━ 5/5 1.2it/s 4.1s\n",
            "\u001b[K                 Class     Images  Instances      Box(P          R      mAP50  mAP50-95): 100% ━━━━━━━━━━━━ 1/1 0.8it/s 1.2s\n",
            "                   all         89       1838      0.768      0.669      0.741       0.48\n",
            "\n",
            "      Epoch    GPU_mem   box_loss   cls_loss   dfl_loss  Instances       Size\n",
            "\u001b[K      51/75      12.3G      1.258     0.9992      1.086       1252        640: 100% ━━━━━━━━━━━━ 5/5 1.1it/s 4.5s\n",
            "\u001b[K                 Class     Images  Instances      Box(P          R      mAP50  mAP50-95): 100% ━━━━━━━━━━━━ 1/1 0.7it/s 1.3s\n",
            "                   all         89       1838      0.706      0.721      0.742      0.475\n",
            "\n",
            "      Epoch    GPU_mem   box_loss   cls_loss   dfl_loss  Instances       Size\n",
            "\u001b[K      52/75      12.5G      1.298      1.001      1.101       1539        640: 100% ━━━━━━━━━━━━ 5/5 1.1it/s 4.5s\n",
            "\u001b[K                 Class     Images  Instances      Box(P          R      mAP50  mAP50-95): 100% ━━━━━━━━━━━━ 1/1 0.7it/s 1.4s\n",
            "                   all         89       1838      0.703      0.723      0.738      0.473\n",
            "\n",
            "      Epoch    GPU_mem   box_loss   cls_loss   dfl_loss  Instances       Size\n",
            "\u001b[K      53/75      14.1G      1.301      1.014      1.102       1564        640: 100% ━━━━━━━━━━━━ 5/5 1.0it/s 4.9s\n",
            "\u001b[K                 Class     Images  Instances      Box(P          R      mAP50  mAP50-95): 100% ━━━━━━━━━━━━ 1/1 0.8it/s 1.3s\n",
            "                   all         89       1838      0.712      0.717      0.738      0.472\n",
            "\n",
            "      Epoch    GPU_mem   box_loss   cls_loss   dfl_loss  Instances       Size\n",
            "\u001b[K      54/75      13.6G      1.266      1.004      1.091       1209        640: 100% ━━━━━━━━━━━━ 5/5 1.2it/s 4.3s\n",
            "\u001b[K                 Class     Images  Instances      Box(P          R      mAP50  mAP50-95): 100% ━━━━━━━━━━━━ 1/1 0.8it/s 1.3s\n",
            "                   all         89       1838      0.712      0.714      0.737      0.472\n",
            "\n",
            "      Epoch    GPU_mem   box_loss   cls_loss   dfl_loss  Instances       Size\n",
            "\u001b[K      55/75      12.6G      1.287      1.006      1.098       1563        640: 100% ━━━━━━━━━━━━ 5/5 1.1it/s 4.5s\n",
            "\u001b[K                 Class     Images  Instances      Box(P          R      mAP50  mAP50-95): 100% ━━━━━━━━━━━━ 1/1 0.8it/s 1.3s\n",
            "                   all         89       1838      0.708      0.725      0.752      0.482\n",
            "\n",
            "      Epoch    GPU_mem   box_loss   cls_loss   dfl_loss  Instances       Size\n",
            "\u001b[K      56/75      13.4G      1.285     0.9935      1.097       1279        640: 100% ━━━━━━━━━━━━ 5/5 1.1it/s 4.5s\n",
            "\u001b[K                 Class     Images  Instances      Box(P          R      mAP50  mAP50-95): 100% ━━━━━━━━━━━━ 1/1 0.5it/s 2.1s\n",
            "                   all         89       1838      0.707      0.714      0.749      0.478\n",
            "\n",
            "      Epoch    GPU_mem   box_loss   cls_loss   dfl_loss  Instances       Size\n",
            "\u001b[K      57/75      11.8G      1.258      0.986      1.089       1583        640: 100% ━━━━━━━━━━━━ 5/5 1.1it/s 4.4s\n",
            "\u001b[K                 Class     Images  Instances      Box(P          R      mAP50  mAP50-95): 100% ━━━━━━━━━━━━ 1/1 0.7it/s 1.4s\n",
            "                   all         89       1838       0.75      0.682      0.745      0.471\n",
            "\n",
            "      Epoch    GPU_mem   box_loss   cls_loss   dfl_loss  Instances       Size\n",
            "\u001b[K      58/75      12.3G      1.301      1.023       1.11       1596        640: 100% ━━━━━━━━━━━━ 5/5 1.2it/s 4.1s\n",
            "\u001b[K                 Class     Images  Instances      Box(P          R      mAP50  mAP50-95): 100% ━━━━━━━━━━━━ 1/1 0.6it/s 1.6s\n",
            "                   all         89       1838      0.729      0.706      0.752      0.483\n",
            "\n",
            "      Epoch    GPU_mem   box_loss   cls_loss   dfl_loss  Instances       Size\n",
            "\u001b[K      59/75      12.5G      1.211     0.9731      1.075       1368        640: 100% ━━━━━━━━━━━━ 5/5 1.2it/s 4.3s\n",
            "\u001b[K                 Class     Images  Instances      Box(P          R      mAP50  mAP50-95): 100% ━━━━━━━━━━━━ 1/1 0.9it/s 1.1s\n",
            "                   all         89       1838      0.777      0.671      0.753      0.493\n",
            "\n",
            "      Epoch    GPU_mem   box_loss   cls_loss   dfl_loss  Instances       Size\n",
            "\u001b[K      60/75      11.9G      1.289     0.9977      1.103       1724        640: 100% ━━━━━━━━━━━━ 5/5 1.2it/s 4.1s\n",
            "\u001b[K                 Class     Images  Instances      Box(P          R      mAP50  mAP50-95): 100% ━━━━━━━━━━━━ 1/1 0.6it/s 1.7s\n",
            "                   all         89       1838      0.735      0.704      0.744      0.487\n",
            "\n",
            "      Epoch    GPU_mem   box_loss   cls_loss   dfl_loss  Instances       Size\n",
            "\u001b[K      61/75      12.7G      1.288      0.989      1.093       1441        640: 100% ━━━━━━━━━━━━ 5/5 1.1it/s 4.5s\n",
            "\u001b[K                 Class     Images  Instances      Box(P          R      mAP50  mAP50-95): 100% ━━━━━━━━━━━━ 1/1 0.9it/s 1.1s\n",
            "                   all         89       1838      0.718      0.712      0.742      0.478\n",
            "\n",
            "      Epoch    GPU_mem   box_loss   cls_loss   dfl_loss  Instances       Size\n",
            "\u001b[K      62/75      12.6G      1.277     0.9813      1.093       1350        640: 100% ━━━━━━━━━━━━ 5/5 1.1it/s 4.4s\n",
            "\u001b[K                 Class     Images  Instances      Box(P          R      mAP50  mAP50-95): 100% ━━━━━━━━━━━━ 1/1 0.7it/s 1.4s\n",
            "                   all         89       1838      0.776      0.663      0.743      0.479\n",
            "\n",
            "      Epoch    GPU_mem   box_loss   cls_loss   dfl_loss  Instances       Size\n",
            "\u001b[K      63/75        12G      1.271     0.9879      1.095       1402        640: 100% ━━━━━━━━━━━━ 5/5 1.2it/s 4.1s\n",
            "\u001b[K                 Class     Images  Instances      Box(P          R      mAP50  mAP50-95): 100% ━━━━━━━━━━━━ 1/1 1.0it/s 1.0s\n",
            "                   all         89       1838      0.733      0.711      0.746      0.485\n",
            "\u001b[34m\u001b[1mEarlyStopping: \u001b[0mTraining stopped early as no improvement observed in last 20 epochs. Best results observed at epoch 43, best model saved as best.pt.\n",
            "To update EarlyStopping(patience=20) pass a new patience value, i.e. `patience=300` or use `patience=0` to disable EarlyStopping.\n",
            "\n",
            "63 epochs completed in 0.132 hours.\n",
            "Optimizer stripped from /content/exploratory_phase/yolo11n_training_dataset_v23/weights/last.pt, 5.5MB\n",
            "Optimizer stripped from /content/exploratory_phase/yolo11n_training_dataset_v23/weights/best.pt, 5.5MB\n",
            "\n",
            "Validating /content/exploratory_phase/yolo11n_training_dataset_v23/weights/best.pt...\n",
            "Ultralytics 8.3.209 🚀 Python-3.12.11 torch-2.8.0+cu126 CUDA:0 (Tesla T4, 15095MiB)\n",
            "YOLO11n summary (fused): 100 layers, 2,582,542 parameters, 0 gradients, 6.3 GFLOPs\n",
            "\u001b[K                 Class     Images  Instances      Box(P          R      mAP50  mAP50-95): 100% ━━━━━━━━━━━━ 1/1 1.3it/s 0.8s\n",
            "                   all         89       1838      0.733      0.693      0.746      0.493\n",
            "undamagedcommercialbuilding         30        110      0.618      0.545      0.594      0.405\n",
            "undamagedresidentialbuilding         62       1728      0.848       0.84      0.898      0.581\n",
            "Speed: 0.2ms preprocess, 2.5ms inference, 0.0ms loss, 2.3ms postprocess per image\n",
            "Results saved to \u001b[1m/content/exploratory_phase/yolo11n_training_dataset_v23\u001b[0m\n"
          ]
        }
      ]
    },
    {
      "cell_type": "code",
      "source": [
        "# Evaluate the model on the test dataset - v23\n",
        "metrics_test_v23 = model.val(\n",
        "    data=yaml_file,  # Path to the data.yaml file\n",
        "    split=\"test\",                   # Specify the test split\n",
        "    batch = batch,                  # Batch size for evaluation\n",
        "    imgsz=640,                      # Image size\n",
        "    conf=0.5,                      # Confidence threshold\n",
        "    iou=0.7,                        # IoU threshold for NMS\n",
        "    device=device,                     # Use GPU (e.g., \"0\" for the first GPU)\n",
        ")"
      ],
      "metadata": {
        "id": "KwwndQGSnzvi",
        "outputId": "fcb13439-7a04-417d-b09d-c0c427d666a3",
        "colab": {
          "base_uri": "https://localhost:8080/"
        }
      },
      "id": "KwwndQGSnzvi",
      "execution_count": null,
      "outputs": [
        {
          "output_type": "stream",
          "name": "stdout",
          "text": [
            "Ultralytics 8.3.209 🚀 Python-3.12.11 torch-2.8.0+cu126 CUDA:0 (Tesla T4, 15095MiB)\n",
            "\u001b[34m\u001b[1mval: \u001b[0mFast image access ✅ (ping: 0.0±0.0 ms, read: 1499.5±559.9 MB/s, size: 58.1 KB)\n",
            "\u001b[K\u001b[34m\u001b[1mval: \u001b[0mScanning /content/Storm-Damage-23/test/labels.cache... 60 images, 7 backgrounds, 0 corrupt: 100% ━━━━━━━━━━━━ 60/60 9.6Kit/s 0.0s\n",
            "\u001b[K                 Class     Images  Instances      Box(P          R      mAP50  mAP50-95): 100% ━━━━━━━━━━━━ 1/1 0.5it/s 2.1s\n",
            "                   all         60       1198      0.745      0.587      0.683       0.49\n",
            "undamagedcommercialbuilding         18         63      0.646      0.492      0.593      0.466\n",
            "undamagedresidentialbuilding         47       1135      0.845      0.683      0.774      0.514\n",
            "Speed: 0.2ms preprocess, 4.8ms inference, 0.0ms loss, 2.8ms postprocess per image\n",
            "Results saved to \u001b[1m/content/runs/detect/val5\u001b[0m\n"
          ]
        }
      ]
    },
    {
      "cell_type": "code",
      "source": [],
      "metadata": {
        "id": "ZhfD9BdBo6Ut"
      },
      "id": "ZhfD9BdBo6Ut",
      "execution_count": null,
      "outputs": []
    },
    {
      "cell_type": "code",
      "source": [],
      "metadata": {
        "id": "_dRHlyxbo6PI"
      },
      "id": "_dRHlyxbo6PI",
      "execution_count": null,
      "outputs": []
    },
    {
      "cell_type": "code",
      "source": [],
      "metadata": {
        "id": "gEN3frMjnzoC"
      },
      "id": "gEN3frMjnzoC",
      "execution_count": null,
      "outputs": []
    },
    {
      "cell_type": "code",
      "source": [
        "sult_model_training = model.train(\n",
        "                                    data=yaml_file,\n",
        "                                    batch = batch,\n",
        "                                    device = device,\n",
        "                                    epochs = epochs,\n",
        "                                    patience = patience,\n",
        "                                    imgsz = imgsz,\n",
        "                                    optimizer = 'AdamW',\n",
        "                                    augment = False, # (bool) apply image augmentation to prediction sources\n",
        "                                    lr0 = 1e-5,\n",
        "                                    auto_augment = None, # (str) auto augmentation policy for classification (randaugment, autoaugment, augmix)\n",
        "                                    momentum = 0.937,\n",
        "                                    plots = plots,\n",
        "                                    project = project,\n",
        "                                    name = name_train\n",
        "                                    )"
      ],
      "metadata": {
        "id": "JabsHPT0PuUy"
      },
      "id": "JabsHPT0PuUy",
      "execution_count": null,
      "outputs": []
    },
    {
      "cell_type": "code",
      "source": [
        "# Evaluate the model on the test dataset\n",
        "metrics_test = model.val(\n",
        "    data=yaml_file,  # Path to the data.yaml file\n",
        "    split=\"test\",                   # Specify the test split\n",
        "    batch = batch,                  # Batch size for evaluation\n",
        "    imgsz=640,                      # Image size\n",
        "    conf=0.25,                      # Confidence threshold\n",
        "    iou=0.7,                        # IoU threshold for NMS\n",
        "    device=device,                     # Use GPU (e.g., \"0\" for the first GPU)\n",
        ")"
      ],
      "metadata": {
        "id": "xLCWrCHPPuQE",
        "colab": {
          "base_uri": "https://localhost:8080/"
        },
        "outputId": "605b525d-0dc6-4ae5-dd9d-96dda33ca0ae"
      },
      "id": "xLCWrCHPPuQE",
      "execution_count": null,
      "outputs": [
        {
          "output_type": "stream",
          "name": "stdout",
          "text": [
            "Ultralytics 8.3.199 🚀 Python-3.12.11 torch-2.8.0+cu126 CUDA:0 (Tesla T4, 15095MiB)\n",
            "\u001b[34m\u001b[1mval: \u001b[0mFast image access ✅ (ping: 0.0±0.0 ms, read: 1651.5±390.5 MB/s, size: 60.9 KB)\n",
            "\u001b[K\u001b[34m\u001b[1mval: \u001b[0mScanning /content/Storm-Damage-21/test/labels.cache... 31 images, 4 backgrounds, 0 corrupt: 100% ━━━━━━━━━━━━ 31/31 35.8Kit/s 0.0s\n",
            "\u001b[K                 Class     Images  Instances      Box(P          R      mAP50  mAP50-95): 100% ━━━━━━━━━━━━ 1/1 1.0it/s 1.0s\n",
            "                   all         31        736      0.675      0.739      0.692       0.48\n",
            "undamagedcommercialbuilding          7         22      0.525      0.727      0.556      0.408\n",
            "undamagedresidentialbuilding         25        714      0.826      0.751      0.828      0.552\n",
            "Speed: 0.2ms preprocess, 5.4ms inference, 0.0ms loss, 4.0ms postprocess per image\n",
            "Results saved to \u001b[1m/content/exploratory_phase/yolo11n_training_dataset_v2110\u001b[0m\n"
          ]
        }
      ]
    },
    {
      "cell_type": "code",
      "source": [
        "# Evaluate the model on the test dataset\n",
        "metrics_validation = model.val(\n",
        "    data=yaml_file,  # Path to the data.yaml file\n",
        "    split=\"val\",                   # Specify the test split\n",
        "    batch=batch,                  # Batch size for evaluation\n",
        "    imgsz=640,                      # Image size\n",
        "    conf=0.25,                      # Confidence threshold\n",
        "    iou=0.7,                        # IoU threshold for NMS\n",
        "    device=device,                     # Use GPU (e.g., \"0\" for the first GPU)\n",
        ")"
      ],
      "metadata": {
        "id": "d8f2KxQUPuHQ",
        "colab": {
          "base_uri": "https://localhost:8080/"
        },
        "outputId": "679f4b11-21a2-411e-e192-7ea4746af26f"
      },
      "id": "d8f2KxQUPuHQ",
      "execution_count": null,
      "outputs": [
        {
          "output_type": "stream",
          "name": "stdout",
          "text": [
            "Ultralytics 8.3.199 🚀 Python-3.12.11 torch-2.8.0+cu126 CUDA:0 (Tesla T4, 15095MiB)\n",
            "\u001b[34m\u001b[1mval: \u001b[0mFast image access ✅ (ping: 0.0±0.0 ms, read: 1476.5±325.0 MB/s, size: 61.2 KB)\n",
            "\u001b[K\u001b[34m\u001b[1mval: \u001b[0mScanning /content/Storm-Damage-21/valid/labels.cache... 86 images, 18 backgrounds, 0 corrupt: 100% ━━━━━━━━━━━━ 86/86 91.8Kit/s 0.0s\n",
            "\u001b[K                 Class     Images  Instances      Box(P          R      mAP50  mAP50-95): 100% ━━━━━━━━━━━━ 2/2 0.5it/s 3.7s\n",
            "                   all         86       1318       0.74      0.753      0.781      0.511\n",
            "undamagedcommercialbuilding         35        117      0.685      0.701      0.722       0.51\n",
            "undamagedresidentialbuilding         51       1201      0.795      0.805      0.841      0.512\n",
            "Speed: 12.8ms preprocess, 5.2ms inference, 0.0ms loss, 2.1ms postprocess per image\n",
            "Results saved to \u001b[1m/content/exploratory_phase/yolo11n_training_dataset_v219\u001b[0m\n"
          ]
        }
      ]
    },
    {
      "cell_type": "code",
      "source": [
        "# Best model evaluation\n",
        "model_best_v20 = YOLO(\"best_model_v20/best.pt\")  # load a custom trained model\n",
        "model_best_v20.info()"
      ],
      "metadata": {
        "id": "dKAbAmb3PuAe",
        "colab": {
          "base_uri": "https://localhost:8080/"
        },
        "outputId": "635499f0-5995-4a84-aca8-b3c76a10bbb3"
      },
      "id": "dKAbAmb3PuAe",
      "execution_count": null,
      "outputs": [
        {
          "output_type": "stream",
          "name": "stdout",
          "text": [
            "YOLO11n summary: 181 layers, 2,590,230 parameters, 0 gradients, 6.4 GFLOPs\n"
          ]
        },
        {
          "output_type": "execute_result",
          "data": {
            "text/plain": [
              "(181, 2590230, 0, 6.4416768)"
            ]
          },
          "metadata": {},
          "execution_count": 38
        }
      ]
    },
    {
      "cell_type": "code",
      "source": [
        "metrics_model_v20 = model_best_v20.val(\n",
        "    data=yaml_file,  # Path to the data.yaml file\n",
        "    split=\"test\",                   # Specify the test split\n",
        "    batch = batch,                  # Batch size for evaluation\n",
        "    imgsz=640,                      # Image size\n",
        "    conf=0.25,                      # Confidence threshold\n",
        "    iou=0.7,                        # IoU threshold for NMS\n",
        "    device=device,                     # Use GPU (e.g., \"0\" for the first GPU)\n",
        ")"
      ],
      "metadata": {
        "id": "7rtojg1yLuWi",
        "colab": {
          "base_uri": "https://localhost:8080/"
        },
        "outputId": "b64ecde7-1916-44e1-a33a-d28e984172e3"
      },
      "id": "7rtojg1yLuWi",
      "execution_count": null,
      "outputs": [
        {
          "output_type": "stream",
          "name": "stdout",
          "text": [
            "Ultralytics 8.3.199 🚀 Python-3.12.11 torch-2.8.0+cu126 CUDA:0 (Tesla T4, 15095MiB)\n",
            "\u001b[34m\u001b[1mval: \u001b[0mFast image access ✅ (ping: 0.0±0.0 ms, read: 1485.2±707.6 MB/s, size: 61.3 KB)\n",
            "\u001b[K\u001b[34m\u001b[1mval: \u001b[0mScanning /content/Storm-Damage-20/test/labels.cache... 21 images, 4 backgrounds, 0 corrupt: 100% ━━━━━━━━━━━━ 21/21 23.7Kit/s 0.0s\n",
            "\u001b[K                 Class     Images  Instances      Box(P          R      mAP50  mAP50-95): 100% ━━━━━━━━━━━━ 1/1 1.1it/s 0.9s\n",
            "                   all         21        313      0.521      0.633      0.537      0.269\n",
            "undamagedcommercialbuilding          5         17      0.349      0.706       0.45      0.258\n",
            "undamagedresidentialbuilding         16        296      0.693      0.561      0.624       0.28\n",
            "Speed: 0.2ms preprocess, 5.7ms inference, 0.0ms loss, 2.4ms postprocess per image\n",
            "Results saved to \u001b[1m/content/runs/detect/val5\u001b[0m\n"
          ]
        }
      ]
    },
    {
      "cell_type": "code",
      "source": [
        "metrics_model_v20_test = metrics_model_v20"
      ],
      "metadata": {
        "id": "d0EuE1fJ_W8U"
      },
      "id": "d0EuE1fJ_W8U",
      "execution_count": null,
      "outputs": []
    },
    {
      "cell_type": "code",
      "source": [
        "metrics_model_v20_val = model_best_v20.val(\n",
        "    data=yaml_file,  # Path to the data.yaml file\n",
        "    split=\"val\",                   # Specify the test split\n",
        "    batch = batch,                  # Batch size for evaluation\n",
        "    imgsz=640,                      # Image size\n",
        "    conf=0.25,                      # Confidence threshold\n",
        "    iou=0.7,                        # IoU threshold for NMS\n",
        "    device=device,                     # Use GPU (e.g., \"0\" for the first GPU)\n",
        ")"
      ],
      "metadata": {
        "colab": {
          "base_uri": "https://localhost:8080/"
        },
        "id": "Goq8Zpq9-2QC",
        "outputId": "307460ca-144a-4bb9-c93b-eb143591e04f"
      },
      "id": "Goq8Zpq9-2QC",
      "execution_count": null,
      "outputs": [
        {
          "output_type": "stream",
          "name": "stdout",
          "text": [
            "Ultralytics 8.3.199 🚀 Python-3.12.11 torch-2.8.0+cu126 CUDA:0 (Tesla T4, 15095MiB)\n",
            "\u001b[34m\u001b[1mval: \u001b[0mFast image access ✅ (ping: 0.0±0.0 ms, read: 1739.5±437.8 MB/s, size: 52.7 KB)\n",
            "\u001b[K\u001b[34m\u001b[1mval: \u001b[0mScanning /content/Storm-Damage-20/valid/labels.cache... 68 images, 18 backgrounds, 0 corrupt: 100% ━━━━━━━━━━━━ 68/68 107.4Kit/s 0.0s\n",
            "\u001b[K                 Class     Images  Instances      Box(P          R      mAP50  mAP50-95): 100% ━━━━━━━━━━━━ 1/1 0.2it/s 6.4s\n",
            "                   all         68        990      0.704      0.693      0.713      0.414\n",
            "undamagedcommercialbuilding         28         93      0.625      0.646      0.645      0.428\n",
            "undamagedresidentialbuilding         36        897      0.782       0.74      0.781        0.4\n",
            "Speed: 0.3ms preprocess, 5.5ms inference, 0.0ms loss, 15.7ms postprocess per image\n",
            "Results saved to \u001b[1m/content/runs/detect/val6\u001b[0m\n"
          ]
        }
      ]
    },
    {
      "cell_type": "code",
      "source": [
        "metrics_model_v20_test.box.map50"
      ],
      "metadata": {
        "colab": {
          "base_uri": "https://localhost:8080/"
        },
        "id": "LQSoBVwE_bkq",
        "outputId": "92f90099-48e7-4386-c587-b878883db1f3"
      },
      "id": "LQSoBVwE_bkq",
      "execution_count": null,
      "outputs": [
        {
          "output_type": "execute_result",
          "data": {
            "text/plain": [
              "np.float64(0.5370464752390851)"
            ]
          },
          "metadata": {},
          "execution_count": 60
        }
      ]
    },
    {
      "cell_type": "code",
      "source": [
        "metrics_model_v20_val.box.map50"
      ],
      "metadata": {
        "colab": {
          "base_uri": "https://localhost:8080/"
        },
        "id": "skhne_Tj_bgx",
        "outputId": "774859ce-632c-44f4-9ff5-40c7ae313dec"
      },
      "id": "skhne_Tj_bgx",
      "execution_count": null,
      "outputs": [
        {
          "output_type": "execute_result",
          "data": {
            "text/plain": [
              "np.float64(0.7132242930093187)"
            ]
          },
          "metadata": {},
          "execution_count": 59
        }
      ]
    },
    {
      "cell_type": "code",
      "execution_count": null,
      "id": "l1yu7216mVFt",
      "metadata": {
        "colab": {
          "base_uri": "https://localhost:8080/",
          "height": 17
        },
        "id": "l1yu7216mVFt",
        "outputId": "921bbe43-5f75-47ac-93c0-1be6eb89399f"
      },
      "outputs": [
        {
          "output_type": "display_data",
          "data": {
            "text/plain": [
              "<IPython.core.display.Javascript object>"
            ],
            "application/javascript": [
              "\n",
              "    async function download(id, filename, size) {\n",
              "      if (!google.colab.kernel.accessAllowed) {\n",
              "        return;\n",
              "      }\n",
              "      const div = document.createElement('div');\n",
              "      const label = document.createElement('label');\n",
              "      label.textContent = `Downloading \"${filename}\": `;\n",
              "      div.appendChild(label);\n",
              "      const progress = document.createElement('progress');\n",
              "      progress.max = size;\n",
              "      div.appendChild(progress);\n",
              "      document.body.appendChild(div);\n",
              "\n",
              "      const buffers = [];\n",
              "      let downloaded = 0;\n",
              "\n",
              "      const channel = await google.colab.kernel.comms.open(id);\n",
              "      // Send a message to notify the kernel that we're ready.\n",
              "      channel.send({})\n",
              "\n",
              "      for await (const message of channel.messages) {\n",
              "        // Send a message to notify the kernel that we're ready.\n",
              "        channel.send({})\n",
              "        if (message.buffers) {\n",
              "          for (const buffer of message.buffers) {\n",
              "            buffers.push(buffer);\n",
              "            downloaded += buffer.byteLength;\n",
              "            progress.value = downloaded;\n",
              "          }\n",
              "        }\n",
              "      }\n",
              "      const blob = new Blob(buffers, {type: 'application/binary'});\n",
              "      const a = document.createElement('a');\n",
              "      a.href = window.URL.createObjectURL(blob);\n",
              "      a.download = filename;\n",
              "      div.appendChild(a);\n",
              "      a.click();\n",
              "      div.remove();\n",
              "    }\n",
              "  "
            ]
          },
          "metadata": {}
        },
        {
          "output_type": "display_data",
          "data": {
            "text/plain": [
              "<IPython.core.display.Javascript object>"
            ],
            "application/javascript": [
              "download(\"download_44b4e880-dcce-4d91-94f4-66e65c383f67\", \"train_dv21_sizen_Best_p781.zip\", 3734694)"
            ]
          },
          "metadata": {}
        }
      ],
      "source": [
        "from google.colab import files\n",
        "import os\n",
        "\n",
        "dir_to_zip = '/content/exploratory_phase/yolo11n_training_dataset_v219' #@param {type: \"string\"}\n",
        "output_filename = 'train_dv21_sizen_Best_p781.zip' #@param {type: \"string\"}\n",
        "delete_dir_after_download = \"No\"  #@param ['Yes', 'No']\n",
        "\n",
        "os.system( \"zip -r {} {}\".format( output_filename , dir_to_zip ) )\n",
        "\n",
        "if delete_dir_after_download == \"Yes\":\n",
        "    os.system( \"rm -r {}\".format( dir_to_zip ) )\n",
        "\n",
        "files.download( output_filename )"
      ]
    },
    {
      "cell_type": "code",
      "source": [
        "# Define search space\n",
        "search_space = {\n",
        "    \"lr0\": (1e-7, 1e-5),\n",
        "}\n",
        "\n",
        "model.tune(\n",
        "    data=yaml_file,\n",
        "    epochs=10,\n",
        "    iterations=10,\n",
        "    optimizer=\"AdamW\",\n",
        "    space=search_space,\n",
        "    plots=True,\n",
        "    save=True,\n",
        "    val=True,\n",
        ")"
      ],
      "metadata": {
        "id": "wFv3lVpnV24X",
        "outputId": "1c3d902d-9a7b-4f43-851d-c7630465e755",
        "colab": {
          "base_uri": "https://localhost:8080/",
          "height": 1000
        }
      },
      "id": "wFv3lVpnV24X",
      "execution_count": null,
      "outputs": [
        {
          "output_type": "stream",
          "name": "stdout",
          "text": [
            "\u001b[34m\u001b[1mTuner: \u001b[0mInitialized Tuner instance with 'tune_dir=runs/detect/tune3'\n",
            "\u001b[34m\u001b[1mTuner: \u001b[0m💡 Learn about tuning at https://docs.ultralytics.com/guides/hyperparameter-tuning\n",
            "\u001b[34m\u001b[1mTuner: \u001b[0mStarting iteration 1/10 with hyperparameters: {'lr0': 1e-05}\n",
            "Saved runs/detect/tune3/tune_scatter_plots.png\n",
            "Saved runs/detect/tune3/tune_fitness.png\n",
            "\n",
            "\u001b[34m\u001b[1mTuner: \u001b[0m1/10 iterations complete ✅ (160.16s)\n",
            "\u001b[34m\u001b[1mTuner: \u001b[0mResults saved to \u001b[1mruns/detect/tune3\u001b[0m\n",
            "\u001b[34m\u001b[1mTuner: \u001b[0mBest fitness=0.32673 observed at iteration 1\n",
            "\u001b[34m\u001b[1mTuner: \u001b[0mBest fitness metrics are {'metrics/precision(B)': 0.54884, 'metrics/recall(B)': 0.6011, 'metrics/mAP50(B)': 0.58511, 'metrics/mAP50-95(B)': 0.29802, 'val/box_loss': 1.66166, 'val/cls_loss': 1.49102, 'val/dfl_loss': 1.32241, 'fitness': 0.32673}\n",
            "\u001b[34m\u001b[1mTuner: \u001b[0mBest fitness model is runs/detect/train3\n",
            "\u001b[34m\u001b[1mTuner: \u001b[0mBest fitness hyperparameters are printed below.\n",
            "\n",
            "Printing '\u001b[1m\u001b[30mruns/detect/tune3/best_hyperparameters.yaml\u001b[0m'\n",
            "\n",
            "lr0: 1.0e-05\n",
            "\n",
            "\u001b[34m\u001b[1mTuner: \u001b[0mStarting iteration 2/10 with hyperparameters: {'lr0': 1e-05}\n",
            "Saved runs/detect/tune3/tune_scatter_plots.png\n",
            "Saved runs/detect/tune3/tune_fitness.png\n",
            "\n",
            "\u001b[34m\u001b[1mTuner: \u001b[0m2/10 iterations complete ✅ (316.63s)\n",
            "\u001b[34m\u001b[1mTuner: \u001b[0mResults saved to \u001b[1mruns/detect/tune3\u001b[0m\n",
            "\u001b[34m\u001b[1mTuner: \u001b[0mBest fitness=0.32673 observed at iteration 1\n",
            "\u001b[34m\u001b[1mTuner: \u001b[0mBest fitness metrics are {'metrics/precision(B)': 0.54884, 'metrics/recall(B)': 0.6011, 'metrics/mAP50(B)': 0.58511, 'metrics/mAP50-95(B)': 0.29802, 'val/box_loss': 1.66166, 'val/cls_loss': 1.49102, 'val/dfl_loss': 1.32241, 'fitness': 0.32673}\n",
            "\u001b[34m\u001b[1mTuner: \u001b[0mBest fitness model is runs/detect/train3\n",
            "\u001b[34m\u001b[1mTuner: \u001b[0mBest fitness hyperparameters are printed below.\n",
            "\n",
            "Printing '\u001b[1m\u001b[30mruns/detect/tune3/best_hyperparameters.yaml\u001b[0m'\n",
            "\n",
            "lr0: 1.0e-05\n",
            "\n",
            "\u001b[34m\u001b[1mTuner: \u001b[0mStarting iteration 3/10 with hyperparameters: {'lr0': 1e-05}\n",
            "Saved runs/detect/tune3/tune_scatter_plots.png\n",
            "Saved runs/detect/tune3/tune_fitness.png\n",
            "\n",
            "\u001b[34m\u001b[1mTuner: \u001b[0m3/10 iterations complete ✅ (473.62s)\n",
            "\u001b[34m\u001b[1mTuner: \u001b[0mResults saved to \u001b[1mruns/detect/tune3\u001b[0m\n",
            "\u001b[34m\u001b[1mTuner: \u001b[0mBest fitness=0.32673 observed at iteration 1\n",
            "\u001b[34m\u001b[1mTuner: \u001b[0mBest fitness metrics are {'metrics/precision(B)': 0.54884, 'metrics/recall(B)': 0.6011, 'metrics/mAP50(B)': 0.58511, 'metrics/mAP50-95(B)': 0.29802, 'val/box_loss': 1.66166, 'val/cls_loss': 1.49102, 'val/dfl_loss': 1.32241, 'fitness': 0.32673}\n",
            "\u001b[34m\u001b[1mTuner: \u001b[0mBest fitness model is runs/detect/train3\n",
            "\u001b[34m\u001b[1mTuner: \u001b[0mBest fitness hyperparameters are printed below.\n",
            "\n",
            "Printing '\u001b[1m\u001b[30mruns/detect/tune3/best_hyperparameters.yaml\u001b[0m'\n",
            "\n",
            "lr0: 1.0e-05\n",
            "\n",
            "\u001b[34m\u001b[1mTuner: \u001b[0mStarting iteration 4/10 with hyperparameters: {'lr0': 1e-05}\n",
            "Saved runs/detect/tune3/tune_scatter_plots.png\n",
            "Saved runs/detect/tune3/tune_fitness.png\n",
            "\n",
            "\u001b[34m\u001b[1mTuner: \u001b[0m4/10 iterations complete ✅ (629.31s)\n",
            "\u001b[34m\u001b[1mTuner: \u001b[0mResults saved to \u001b[1mruns/detect/tune3\u001b[0m\n",
            "\u001b[34m\u001b[1mTuner: \u001b[0mBest fitness=0.32673 observed at iteration 1\n",
            "\u001b[34m\u001b[1mTuner: \u001b[0mBest fitness metrics are {'metrics/precision(B)': 0.54884, 'metrics/recall(B)': 0.6011, 'metrics/mAP50(B)': 0.58511, 'metrics/mAP50-95(B)': 0.29802, 'val/box_loss': 1.66166, 'val/cls_loss': 1.49102, 'val/dfl_loss': 1.32241, 'fitness': 0.32673}\n",
            "\u001b[34m\u001b[1mTuner: \u001b[0mBest fitness model is runs/detect/train3\n",
            "\u001b[34m\u001b[1mTuner: \u001b[0mBest fitness hyperparameters are printed below.\n",
            "\n",
            "Printing '\u001b[1m\u001b[30mruns/detect/tune3/best_hyperparameters.yaml\u001b[0m'\n",
            "\n",
            "lr0: 1.0e-05\n",
            "\n",
            "\u001b[34m\u001b[1mTuner: \u001b[0mStarting iteration 5/10 with hyperparameters: {'lr0': 1e-05}\n",
            "Saved runs/detect/tune3/tune_scatter_plots.png\n",
            "Saved runs/detect/tune3/tune_fitness.png\n",
            "\n",
            "\u001b[34m\u001b[1mTuner: \u001b[0m5/10 iterations complete ✅ (786.87s)\n",
            "\u001b[34m\u001b[1mTuner: \u001b[0mResults saved to \u001b[1mruns/detect/tune3\u001b[0m\n",
            "\u001b[34m\u001b[1mTuner: \u001b[0mBest fitness=0.32673 observed at iteration 1\n",
            "\u001b[34m\u001b[1mTuner: \u001b[0mBest fitness metrics are {'metrics/precision(B)': 0.54884, 'metrics/recall(B)': 0.6011, 'metrics/mAP50(B)': 0.58511, 'metrics/mAP50-95(B)': 0.29802, 'val/box_loss': 1.66166, 'val/cls_loss': 1.49102, 'val/dfl_loss': 1.32241, 'fitness': 0.32673}\n",
            "\u001b[34m\u001b[1mTuner: \u001b[0mBest fitness model is runs/detect/train3\n",
            "\u001b[34m\u001b[1mTuner: \u001b[0mBest fitness hyperparameters are printed below.\n",
            "\n",
            "Printing '\u001b[1m\u001b[30mruns/detect/tune3/best_hyperparameters.yaml\u001b[0m'\n",
            "\n",
            "lr0: 1.0e-05\n",
            "\n",
            "\u001b[34m\u001b[1mTuner: \u001b[0mStarting iteration 6/10 with hyperparameters: {'lr0': 1e-05}\n"
          ]
        },
        {
          "output_type": "error",
          "ename": "KeyboardInterrupt",
          "evalue": "",
          "traceback": [
            "\u001b[0;31m---------------------------------------------------------------------------\u001b[0m",
            "\u001b[0;31mKeyboardInterrupt\u001b[0m                         Traceback (most recent call last)",
            "\u001b[0;32m/tmp/ipython-input-37315063.py\u001b[0m in \u001b[0;36m<cell line: 0>\u001b[0;34m()\u001b[0m\n\u001b[1;32m      4\u001b[0m }\n\u001b[1;32m      5\u001b[0m \u001b[0;34m\u001b[0m\u001b[0m\n\u001b[0;32m----> 6\u001b[0;31m model.tune(\n\u001b[0m\u001b[1;32m      7\u001b[0m     \u001b[0mdata\u001b[0m\u001b[0;34m=\u001b[0m\u001b[0myaml_file\u001b[0m\u001b[0;34m,\u001b[0m\u001b[0;34m\u001b[0m\u001b[0;34m\u001b[0m\u001b[0m\n\u001b[1;32m      8\u001b[0m     \u001b[0mepochs\u001b[0m\u001b[0;34m=\u001b[0m\u001b[0;36m10\u001b[0m\u001b[0;34m,\u001b[0m\u001b[0;34m\u001b[0m\u001b[0;34m\u001b[0m\u001b[0m\n",
            "\u001b[0;32m/usr/local/lib/python3.12/dist-packages/ultralytics/engine/model.py\u001b[0m in \u001b[0;36mtune\u001b[0;34m(self, use_ray, iterations, *args, **kwargs)\u001b[0m\n\u001b[1;32m    852\u001b[0m             \u001b[0mcustom\u001b[0m \u001b[0;34m=\u001b[0m \u001b[0;34m{\u001b[0m\u001b[0;34m}\u001b[0m  \u001b[0;31m# method defaults\u001b[0m\u001b[0;34m\u001b[0m\u001b[0;34m\u001b[0m\u001b[0m\n\u001b[1;32m    853\u001b[0m             \u001b[0margs\u001b[0m \u001b[0;34m=\u001b[0m \u001b[0;34m{\u001b[0m\u001b[0;34m**\u001b[0m\u001b[0mself\u001b[0m\u001b[0;34m.\u001b[0m\u001b[0moverrides\u001b[0m\u001b[0;34m,\u001b[0m \u001b[0;34m**\u001b[0m\u001b[0mcustom\u001b[0m\u001b[0;34m,\u001b[0m \u001b[0;34m**\u001b[0m\u001b[0mkwargs\u001b[0m\u001b[0;34m,\u001b[0m \u001b[0;34m\"mode\"\u001b[0m\u001b[0;34m:\u001b[0m \u001b[0;34m\"train\"\u001b[0m\u001b[0;34m}\u001b[0m  \u001b[0;31m# highest priority args on the right\u001b[0m\u001b[0;34m\u001b[0m\u001b[0;34m\u001b[0m\u001b[0m\n\u001b[0;32m--> 854\u001b[0;31m             \u001b[0;32mreturn\u001b[0m \u001b[0mTuner\u001b[0m\u001b[0;34m(\u001b[0m\u001b[0margs\u001b[0m\u001b[0;34m=\u001b[0m\u001b[0margs\u001b[0m\u001b[0;34m,\u001b[0m \u001b[0m_callbacks\u001b[0m\u001b[0;34m=\u001b[0m\u001b[0mself\u001b[0m\u001b[0;34m.\u001b[0m\u001b[0mcallbacks\u001b[0m\u001b[0;34m)\u001b[0m\u001b[0;34m(\u001b[0m\u001b[0mmodel\u001b[0m\u001b[0;34m=\u001b[0m\u001b[0mself\u001b[0m\u001b[0;34m,\u001b[0m \u001b[0miterations\u001b[0m\u001b[0;34m=\u001b[0m\u001b[0miterations\u001b[0m\u001b[0;34m)\u001b[0m\u001b[0;34m\u001b[0m\u001b[0;34m\u001b[0m\u001b[0m\n\u001b[0m\u001b[1;32m    855\u001b[0m \u001b[0;34m\u001b[0m\u001b[0m\n\u001b[1;32m    856\u001b[0m     \u001b[0;32mdef\u001b[0m \u001b[0m_apply\u001b[0m\u001b[0;34m(\u001b[0m\u001b[0mself\u001b[0m\u001b[0;34m,\u001b[0m \u001b[0mfn\u001b[0m\u001b[0;34m)\u001b[0m \u001b[0;34m->\u001b[0m \u001b[0;34m\"Model\"\u001b[0m\u001b[0;34m:\u001b[0m\u001b[0;34m\u001b[0m\u001b[0;34m\u001b[0m\u001b[0m\n",
            "\u001b[0;32m/usr/local/lib/python3.12/dist-packages/ultralytics/engine/tuner.py\u001b[0m in \u001b[0;36m__call__\u001b[0;34m(self, model, iterations, cleanup)\u001b[0m\n\u001b[1;32m    197\u001b[0m                 \u001b[0mlaunch\u001b[0m \u001b[0;34m=\u001b[0m \u001b[0;34m[\u001b[0m\u001b[0m__import__\u001b[0m\u001b[0;34m(\u001b[0m\u001b[0;34m\"sys\"\u001b[0m\u001b[0;34m)\u001b[0m\u001b[0;34m.\u001b[0m\u001b[0mexecutable\u001b[0m\u001b[0;34m,\u001b[0m \u001b[0;34m\"-m\"\u001b[0m\u001b[0;34m,\u001b[0m \u001b[0;34m\"ultralytics.cfg.__init__\"\u001b[0m\u001b[0;34m]\u001b[0m  \u001b[0;31m# workaround yolo not found\u001b[0m\u001b[0;34m\u001b[0m\u001b[0;34m\u001b[0m\u001b[0m\n\u001b[1;32m    198\u001b[0m                 \u001b[0mcmd\u001b[0m \u001b[0;34m=\u001b[0m \u001b[0;34m[\u001b[0m\u001b[0;34m*\u001b[0m\u001b[0mlaunch\u001b[0m\u001b[0;34m,\u001b[0m \u001b[0;34m\"train\"\u001b[0m\u001b[0;34m,\u001b[0m \u001b[0;34m*\u001b[0m\u001b[0;34m(\u001b[0m\u001b[0;34mf\"{k}={v}\"\u001b[0m \u001b[0;32mfor\u001b[0m \u001b[0mk\u001b[0m\u001b[0;34m,\u001b[0m \u001b[0mv\u001b[0m \u001b[0;32min\u001b[0m \u001b[0mtrain_args\u001b[0m\u001b[0;34m.\u001b[0m\u001b[0mitems\u001b[0m\u001b[0;34m(\u001b[0m\u001b[0;34m)\u001b[0m\u001b[0;34m)\u001b[0m\u001b[0;34m]\u001b[0m\u001b[0;34m\u001b[0m\u001b[0;34m\u001b[0m\u001b[0m\n\u001b[0;32m--> 199\u001b[0;31m                 \u001b[0mreturn_code\u001b[0m \u001b[0;34m=\u001b[0m \u001b[0msubprocess\u001b[0m\u001b[0;34m.\u001b[0m\u001b[0mrun\u001b[0m\u001b[0;34m(\u001b[0m\u001b[0mcmd\u001b[0m\u001b[0;34m,\u001b[0m \u001b[0mcheck\u001b[0m\u001b[0;34m=\u001b[0m\u001b[0;32mTrue\u001b[0m\u001b[0;34m)\u001b[0m\u001b[0;34m.\u001b[0m\u001b[0mreturncode\u001b[0m\u001b[0;34m\u001b[0m\u001b[0;34m\u001b[0m\u001b[0m\n\u001b[0m\u001b[1;32m    200\u001b[0m                 \u001b[0mckpt_file\u001b[0m \u001b[0;34m=\u001b[0m \u001b[0mweights_dir\u001b[0m \u001b[0;34m/\u001b[0m \u001b[0;34m(\u001b[0m\u001b[0;34m\"best.pt\"\u001b[0m \u001b[0;32mif\u001b[0m \u001b[0;34m(\u001b[0m\u001b[0mweights_dir\u001b[0m \u001b[0;34m/\u001b[0m \u001b[0;34m\"best.pt\"\u001b[0m\u001b[0;34m)\u001b[0m\u001b[0;34m.\u001b[0m\u001b[0mexists\u001b[0m\u001b[0;34m(\u001b[0m\u001b[0;34m)\u001b[0m \u001b[0;32melse\u001b[0m \u001b[0;34m\"last.pt\"\u001b[0m\u001b[0;34m)\u001b[0m\u001b[0;34m\u001b[0m\u001b[0;34m\u001b[0m\u001b[0m\n\u001b[1;32m    201\u001b[0m                 \u001b[0mmetrics\u001b[0m \u001b[0;34m=\u001b[0m \u001b[0mtorch_load\u001b[0m\u001b[0;34m(\u001b[0m\u001b[0mckpt_file\u001b[0m\u001b[0;34m)\u001b[0m\u001b[0;34m[\u001b[0m\u001b[0;34m\"train_metrics\"\u001b[0m\u001b[0;34m]\u001b[0m\u001b[0;34m\u001b[0m\u001b[0;34m\u001b[0m\u001b[0m\n",
            "\u001b[0;32m/usr/lib/python3.12/subprocess.py\u001b[0m in \u001b[0;36mrun\u001b[0;34m(input, capture_output, timeout, check, *popenargs, **kwargs)\u001b[0m\n\u001b[1;32m    548\u001b[0m     \u001b[0;32mwith\u001b[0m \u001b[0mPopen\u001b[0m\u001b[0;34m(\u001b[0m\u001b[0;34m*\u001b[0m\u001b[0mpopenargs\u001b[0m\u001b[0;34m,\u001b[0m \u001b[0;34m**\u001b[0m\u001b[0mkwargs\u001b[0m\u001b[0;34m)\u001b[0m \u001b[0;32mas\u001b[0m \u001b[0mprocess\u001b[0m\u001b[0;34m:\u001b[0m\u001b[0;34m\u001b[0m\u001b[0;34m\u001b[0m\u001b[0m\n\u001b[1;32m    549\u001b[0m         \u001b[0;32mtry\u001b[0m\u001b[0;34m:\u001b[0m\u001b[0;34m\u001b[0m\u001b[0;34m\u001b[0m\u001b[0m\n\u001b[0;32m--> 550\u001b[0;31m             \u001b[0mstdout\u001b[0m\u001b[0;34m,\u001b[0m \u001b[0mstderr\u001b[0m \u001b[0;34m=\u001b[0m \u001b[0mprocess\u001b[0m\u001b[0;34m.\u001b[0m\u001b[0mcommunicate\u001b[0m\u001b[0;34m(\u001b[0m\u001b[0minput\u001b[0m\u001b[0;34m,\u001b[0m \u001b[0mtimeout\u001b[0m\u001b[0;34m=\u001b[0m\u001b[0mtimeout\u001b[0m\u001b[0;34m)\u001b[0m\u001b[0;34m\u001b[0m\u001b[0;34m\u001b[0m\u001b[0m\n\u001b[0m\u001b[1;32m    551\u001b[0m         \u001b[0;32mexcept\u001b[0m \u001b[0mTimeoutExpired\u001b[0m \u001b[0;32mas\u001b[0m \u001b[0mexc\u001b[0m\u001b[0;34m:\u001b[0m\u001b[0;34m\u001b[0m\u001b[0;34m\u001b[0m\u001b[0m\n\u001b[1;32m    552\u001b[0m             \u001b[0mprocess\u001b[0m\u001b[0;34m.\u001b[0m\u001b[0mkill\u001b[0m\u001b[0;34m(\u001b[0m\u001b[0;34m)\u001b[0m\u001b[0;34m\u001b[0m\u001b[0;34m\u001b[0m\u001b[0m\n",
            "\u001b[0;32m/usr/lib/python3.12/subprocess.py\u001b[0m in \u001b[0;36mcommunicate\u001b[0;34m(self, input, timeout)\u001b[0m\n\u001b[1;32m   1199\u001b[0m                 \u001b[0mstderr\u001b[0m \u001b[0;34m=\u001b[0m \u001b[0mself\u001b[0m\u001b[0;34m.\u001b[0m\u001b[0mstderr\u001b[0m\u001b[0;34m.\u001b[0m\u001b[0mread\u001b[0m\u001b[0;34m(\u001b[0m\u001b[0;34m)\u001b[0m\u001b[0;34m\u001b[0m\u001b[0;34m\u001b[0m\u001b[0m\n\u001b[1;32m   1200\u001b[0m                 \u001b[0mself\u001b[0m\u001b[0;34m.\u001b[0m\u001b[0mstderr\u001b[0m\u001b[0;34m.\u001b[0m\u001b[0mclose\u001b[0m\u001b[0;34m(\u001b[0m\u001b[0;34m)\u001b[0m\u001b[0;34m\u001b[0m\u001b[0;34m\u001b[0m\u001b[0m\n\u001b[0;32m-> 1201\u001b[0;31m             \u001b[0mself\u001b[0m\u001b[0;34m.\u001b[0m\u001b[0mwait\u001b[0m\u001b[0;34m(\u001b[0m\u001b[0;34m)\u001b[0m\u001b[0;34m\u001b[0m\u001b[0;34m\u001b[0m\u001b[0m\n\u001b[0m\u001b[1;32m   1202\u001b[0m         \u001b[0;32melse\u001b[0m\u001b[0;34m:\u001b[0m\u001b[0;34m\u001b[0m\u001b[0;34m\u001b[0m\u001b[0m\n\u001b[1;32m   1203\u001b[0m             \u001b[0;32mif\u001b[0m \u001b[0mtimeout\u001b[0m \u001b[0;32mis\u001b[0m \u001b[0;32mnot\u001b[0m \u001b[0;32mNone\u001b[0m\u001b[0;34m:\u001b[0m\u001b[0;34m\u001b[0m\u001b[0;34m\u001b[0m\u001b[0m\n",
            "\u001b[0;32m/usr/lib/python3.12/subprocess.py\u001b[0m in \u001b[0;36mwait\u001b[0;34m(self, timeout)\u001b[0m\n\u001b[1;32m   1262\u001b[0m             \u001b[0mendtime\u001b[0m \u001b[0;34m=\u001b[0m \u001b[0m_time\u001b[0m\u001b[0;34m(\u001b[0m\u001b[0;34m)\u001b[0m \u001b[0;34m+\u001b[0m \u001b[0mtimeout\u001b[0m\u001b[0;34m\u001b[0m\u001b[0;34m\u001b[0m\u001b[0m\n\u001b[1;32m   1263\u001b[0m         \u001b[0;32mtry\u001b[0m\u001b[0;34m:\u001b[0m\u001b[0;34m\u001b[0m\u001b[0;34m\u001b[0m\u001b[0m\n\u001b[0;32m-> 1264\u001b[0;31m             \u001b[0;32mreturn\u001b[0m \u001b[0mself\u001b[0m\u001b[0;34m.\u001b[0m\u001b[0m_wait\u001b[0m\u001b[0;34m(\u001b[0m\u001b[0mtimeout\u001b[0m\u001b[0;34m=\u001b[0m\u001b[0mtimeout\u001b[0m\u001b[0;34m)\u001b[0m\u001b[0;34m\u001b[0m\u001b[0;34m\u001b[0m\u001b[0m\n\u001b[0m\u001b[1;32m   1265\u001b[0m         \u001b[0;32mexcept\u001b[0m \u001b[0mKeyboardInterrupt\u001b[0m\u001b[0;34m:\u001b[0m\u001b[0;34m\u001b[0m\u001b[0;34m\u001b[0m\u001b[0m\n\u001b[1;32m   1266\u001b[0m             \u001b[0;31m# https://bugs.python.org/issue25942\u001b[0m\u001b[0;34m\u001b[0m\u001b[0;34m\u001b[0m\u001b[0m\n",
            "\u001b[0;32m/usr/lib/python3.12/subprocess.py\u001b[0m in \u001b[0;36m_wait\u001b[0;34m(self, timeout)\u001b[0m\n\u001b[1;32m   2051\u001b[0m                         \u001b[0;32mif\u001b[0m \u001b[0mself\u001b[0m\u001b[0;34m.\u001b[0m\u001b[0mreturncode\u001b[0m \u001b[0;32mis\u001b[0m \u001b[0;32mnot\u001b[0m \u001b[0;32mNone\u001b[0m\u001b[0;34m:\u001b[0m\u001b[0;34m\u001b[0m\u001b[0;34m\u001b[0m\u001b[0m\n\u001b[1;32m   2052\u001b[0m                             \u001b[0;32mbreak\u001b[0m  \u001b[0;31m# Another thread waited.\u001b[0m\u001b[0;34m\u001b[0m\u001b[0;34m\u001b[0m\u001b[0m\n\u001b[0;32m-> 2053\u001b[0;31m                         \u001b[0;34m(\u001b[0m\u001b[0mpid\u001b[0m\u001b[0;34m,\u001b[0m \u001b[0msts\u001b[0m\u001b[0;34m)\u001b[0m \u001b[0;34m=\u001b[0m \u001b[0mself\u001b[0m\u001b[0;34m.\u001b[0m\u001b[0m_try_wait\u001b[0m\u001b[0;34m(\u001b[0m\u001b[0;36m0\u001b[0m\u001b[0;34m)\u001b[0m\u001b[0;34m\u001b[0m\u001b[0;34m\u001b[0m\u001b[0m\n\u001b[0m\u001b[1;32m   2054\u001b[0m                         \u001b[0;31m# Check the pid and loop as waitpid has been known to\u001b[0m\u001b[0;34m\u001b[0m\u001b[0;34m\u001b[0m\u001b[0m\n\u001b[1;32m   2055\u001b[0m                         \u001b[0;31m# return 0 even without WNOHANG in odd situations.\u001b[0m\u001b[0;34m\u001b[0m\u001b[0;34m\u001b[0m\u001b[0m\n",
            "\u001b[0;32m/usr/lib/python3.12/subprocess.py\u001b[0m in \u001b[0;36m_try_wait\u001b[0;34m(self, wait_flags)\u001b[0m\n\u001b[1;32m   2009\u001b[0m             \u001b[0;34m\"\"\"All callers to this function MUST hold self._waitpid_lock.\"\"\"\u001b[0m\u001b[0;34m\u001b[0m\u001b[0;34m\u001b[0m\u001b[0m\n\u001b[1;32m   2010\u001b[0m             \u001b[0;32mtry\u001b[0m\u001b[0;34m:\u001b[0m\u001b[0;34m\u001b[0m\u001b[0;34m\u001b[0m\u001b[0m\n\u001b[0;32m-> 2011\u001b[0;31m                 \u001b[0;34m(\u001b[0m\u001b[0mpid\u001b[0m\u001b[0;34m,\u001b[0m \u001b[0msts\u001b[0m\u001b[0;34m)\u001b[0m \u001b[0;34m=\u001b[0m \u001b[0mos\u001b[0m\u001b[0;34m.\u001b[0m\u001b[0mwaitpid\u001b[0m\u001b[0;34m(\u001b[0m\u001b[0mself\u001b[0m\u001b[0;34m.\u001b[0m\u001b[0mpid\u001b[0m\u001b[0;34m,\u001b[0m \u001b[0mwait_flags\u001b[0m\u001b[0;34m)\u001b[0m\u001b[0;34m\u001b[0m\u001b[0;34m\u001b[0m\u001b[0m\n\u001b[0m\u001b[1;32m   2012\u001b[0m             \u001b[0;32mexcept\u001b[0m \u001b[0mChildProcessError\u001b[0m\u001b[0;34m:\u001b[0m\u001b[0;34m\u001b[0m\u001b[0;34m\u001b[0m\u001b[0m\n\u001b[1;32m   2013\u001b[0m                 \u001b[0;31m# This happens if SIGCLD is set to be ignored or waiting\u001b[0m\u001b[0;34m\u001b[0m\u001b[0;34m\u001b[0m\u001b[0m\n",
            "\u001b[0;31mKeyboardInterrupt\u001b[0m: "
          ]
        }
      ]
    },
    {
      "cell_type": "code",
      "execution_count": null,
      "id": "Cih0UqZWnjtB",
      "metadata": {
        "colab": {
          "base_uri": "https://localhost:8080/",
          "height": 34
        },
        "id": "Cih0UqZWnjtB",
        "outputId": "204adc4e-31d8-4eba-a2c0-7e4c1f466856"
      },
      "outputs": [
        {
          "data": {
            "application/javascript": "\n    async function download(id, filename, size) {\n      if (!google.colab.kernel.accessAllowed) {\n        return;\n      }\n      const div = document.createElement('div');\n      const label = document.createElement('label');\n      label.textContent = `Downloading \"${filename}\": `;\n      div.appendChild(label);\n      const progress = document.createElement('progress');\n      progress.max = size;\n      div.appendChild(progress);\n      document.body.appendChild(div);\n\n      const buffers = [];\n      let downloaded = 0;\n\n      const channel = await google.colab.kernel.comms.open(id);\n      // Send a message to notify the kernel that we're ready.\n      channel.send({})\n\n      for await (const message of channel.messages) {\n        // Send a message to notify the kernel that we're ready.\n        channel.send({})\n        if (message.buffers) {\n          for (const buffer of message.buffers) {\n            buffers.push(buffer);\n            downloaded += buffer.byteLength;\n            progress.value = downloaded;\n          }\n        }\n      }\n      const blob = new Blob(buffers, {type: 'application/binary'});\n      const a = document.createElement('a');\n      a.href = window.URL.createObjectURL(blob);\n      a.download = filename;\n      div.appendChild(a);\n      a.click();\n      div.remove();\n    }\n  ",
            "text/plain": [
              "<IPython.core.display.Javascript object>"
            ]
          },
          "metadata": {},
          "output_type": "display_data"
        },
        {
          "data": {
            "application/javascript": "download(\"download_928e9ce9-da1d-491b-8cec-ea0825700c09\", \"yolo11n_training_dataset_v14\", 4096)",
            "text/plain": [
              "<IPython.core.display.Javascript object>"
            ]
          },
          "metadata": {},
          "output_type": "display_data"
        }
      ],
      "source": [
        "from google.colab import files\n",
        "files.download(\"/content/exploratory_phase/yolo11n_training_dataset_v14\")"
      ]
    },
    {
      "cell_type": "code",
      "execution_count": null,
      "id": "DVwzOYt6qF9g",
      "metadata": {
        "colab": {
          "base_uri": "https://localhost:8080/"
        },
        "id": "DVwzOYt6qF9g",
        "outputId": "92b9638f-777b-4649-9cfe-46a684989409",
        "collapsed": true
      },
      "outputs": [
        {
          "output_type": "execute_result",
          "data": {
            "text/plain": [
              "ultralytics.utils.metrics.DetMetrics object with attributes:\n",
              "\n",
              "ap_class_index: array([0, 1])\n",
              "box: ultralytics.utils.metrics.Metric object\n",
              "confusion_matrix: <ultralytics.utils.metrics.ConfusionMatrix object at 0x7bc49e6eb860>\n",
              "curves: ['Precision-Recall(B)', 'F1-Confidence(B)', 'Precision-Confidence(B)', 'Recall-Confidence(B)']\n",
              "curves_results: [[array([          0,    0.001001,    0.002002,    0.003003,    0.004004,    0.005005,    0.006006,    0.007007,    0.008008,    0.009009,     0.01001,    0.011011,    0.012012,    0.013013,    0.014014,    0.015015,    0.016016,    0.017017,    0.018018,    0.019019,     0.02002,    0.021021,    0.022022,    0.023023,\n",
              "          0.024024,    0.025025,    0.026026,    0.027027,    0.028028,    0.029029,     0.03003,    0.031031,    0.032032,    0.033033,    0.034034,    0.035035,    0.036036,    0.037037,    0.038038,    0.039039,     0.04004,    0.041041,    0.042042,    0.043043,    0.044044,    0.045045,    0.046046,    0.047047,\n",
              "          0.048048,    0.049049,     0.05005,    0.051051,    0.052052,    0.053053,    0.054054,    0.055055,    0.056056,    0.057057,    0.058058,    0.059059,     0.06006,    0.061061,    0.062062,    0.063063,    0.064064,    0.065065,    0.066066,    0.067067,    0.068068,    0.069069,     0.07007,    0.071071,\n",
              "          0.072072,    0.073073,    0.074074,    0.075075,    0.076076,    0.077077,    0.078078,    0.079079,     0.08008,    0.081081,    0.082082,    0.083083,    0.084084,    0.085085,    0.086086,    0.087087,    0.088088,    0.089089,     0.09009,    0.091091,    0.092092,    0.093093,    0.094094,    0.095095,\n",
              "          0.096096,    0.097097,    0.098098,    0.099099,      0.1001,      0.1011,      0.1021,      0.1031,      0.1041,     0.10511,     0.10611,     0.10711,     0.10811,     0.10911,     0.11011,     0.11111,     0.11211,     0.11311,     0.11411,     0.11512,     0.11612,     0.11712,     0.11812,     0.11912,\n",
              "           0.12012,     0.12112,     0.12212,     0.12312,     0.12412,     0.12513,     0.12613,     0.12713,     0.12813,     0.12913,     0.13013,     0.13113,     0.13213,     0.13313,     0.13413,     0.13514,     0.13614,     0.13714,     0.13814,     0.13914,     0.14014,     0.14114,     0.14214,     0.14314,\n",
              "           0.14414,     0.14515,     0.14615,     0.14715,     0.14815,     0.14915,     0.15015,     0.15115,     0.15215,     0.15315,     0.15415,     0.15516,     0.15616,     0.15716,     0.15816,     0.15916,     0.16016,     0.16116,     0.16216,     0.16316,     0.16416,     0.16517,     0.16617,     0.16717,\n",
              "           0.16817,     0.16917,     0.17017,     0.17117,     0.17217,     0.17317,     0.17417,     0.17518,     0.17618,     0.17718,     0.17818,     0.17918,     0.18018,     0.18118,     0.18218,     0.18318,     0.18418,     0.18519,     0.18619,     0.18719,     0.18819,     0.18919,     0.19019,     0.19119,\n",
              "           0.19219,     0.19319,     0.19419,      0.1952,      0.1962,      0.1972,      0.1982,      0.1992,      0.2002,      0.2012,      0.2022,      0.2032,      0.2042,     0.20521,     0.20621,     0.20721,     0.20821,     0.20921,     0.21021,     0.21121,     0.21221,     0.21321,     0.21421,     0.21522,\n",
              "           0.21622,     0.21722,     0.21822,     0.21922,     0.22022,     0.22122,     0.22222,     0.22322,     0.22422,     0.22523,     0.22623,     0.22723,     0.22823,     0.22923,     0.23023,     0.23123,     0.23223,     0.23323,     0.23423,     0.23524,     0.23624,     0.23724,     0.23824,     0.23924,\n",
              "           0.24024,     0.24124,     0.24224,     0.24324,     0.24424,     0.24525,     0.24625,     0.24725,     0.24825,     0.24925,     0.25025,     0.25125,     0.25225,     0.25325,     0.25425,     0.25526,     0.25626,     0.25726,     0.25826,     0.25926,     0.26026,     0.26126,     0.26226,     0.26326,\n",
              "           0.26426,     0.26527,     0.26627,     0.26727,     0.26827,     0.26927,     0.27027,     0.27127,     0.27227,     0.27327,     0.27427,     0.27528,     0.27628,     0.27728,     0.27828,     0.27928,     0.28028,     0.28128,     0.28228,     0.28328,     0.28428,     0.28529,     0.28629,     0.28729,\n",
              "           0.28829,     0.28929,     0.29029,     0.29129,     0.29229,     0.29329,     0.29429,      0.2953,      0.2963,      0.2973,      0.2983,      0.2993,      0.3003,      0.3013,      0.3023,      0.3033,      0.3043,     0.30531,     0.30631,     0.30731,     0.30831,     0.30931,     0.31031,     0.31131,\n",
              "           0.31231,     0.31331,     0.31431,     0.31532,     0.31632,     0.31732,     0.31832,     0.31932,     0.32032,     0.32132,     0.32232,     0.32332,     0.32432,     0.32533,     0.32633,     0.32733,     0.32833,     0.32933,     0.33033,     0.33133,     0.33233,     0.33333,     0.33433,     0.33534,\n",
              "           0.33634,     0.33734,     0.33834,     0.33934,     0.34034,     0.34134,     0.34234,     0.34334,     0.34434,     0.34535,     0.34635,     0.34735,     0.34835,     0.34935,     0.35035,     0.35135,     0.35235,     0.35335,     0.35435,     0.35536,     0.35636,     0.35736,     0.35836,     0.35936,\n",
              "           0.36036,     0.36136,     0.36236,     0.36336,     0.36436,     0.36537,     0.36637,     0.36737,     0.36837,     0.36937,     0.37037,     0.37137,     0.37237,     0.37337,     0.37437,     0.37538,     0.37638,     0.37738,     0.37838,     0.37938,     0.38038,     0.38138,     0.38238,     0.38338,\n",
              "           0.38438,     0.38539,     0.38639,     0.38739,     0.38839,     0.38939,     0.39039,     0.39139,     0.39239,     0.39339,     0.39439,      0.3954,      0.3964,      0.3974,      0.3984,      0.3994,      0.4004,      0.4014,      0.4024,      0.4034,      0.4044,     0.40541,     0.40641,     0.40741,\n",
              "           0.40841,     0.40941,     0.41041,     0.41141,     0.41241,     0.41341,     0.41441,     0.41542,     0.41642,     0.41742,     0.41842,     0.41942,     0.42042,     0.42142,     0.42242,     0.42342,     0.42442,     0.42543,     0.42643,     0.42743,     0.42843,     0.42943,     0.43043,     0.43143,\n",
              "           0.43243,     0.43343,     0.43443,     0.43544,     0.43644,     0.43744,     0.43844,     0.43944,     0.44044,     0.44144,     0.44244,     0.44344,     0.44444,     0.44545,     0.44645,     0.44745,     0.44845,     0.44945,     0.45045,     0.45145,     0.45245,     0.45345,     0.45445,     0.45546,\n",
              "           0.45646,     0.45746,     0.45846,     0.45946,     0.46046,     0.46146,     0.46246,     0.46346,     0.46446,     0.46547,     0.46647,     0.46747,     0.46847,     0.46947,     0.47047,     0.47147,     0.47247,     0.47347,     0.47447,     0.47548,     0.47648,     0.47748,     0.47848,     0.47948,\n",
              "           0.48048,     0.48148,     0.48248,     0.48348,     0.48448,     0.48549,     0.48649,     0.48749,     0.48849,     0.48949,     0.49049,     0.49149,     0.49249,     0.49349,     0.49449,      0.4955,      0.4965,      0.4975,      0.4985,      0.4995,      0.5005,      0.5015,      0.5025,      0.5035,\n",
              "            0.5045,     0.50551,     0.50651,     0.50751,     0.50851,     0.50951,     0.51051,     0.51151,     0.51251,     0.51351,     0.51451,     0.51552,     0.51652,     0.51752,     0.51852,     0.51952,     0.52052,     0.52152,     0.52252,     0.52352,     0.52452,     0.52553,     0.52653,     0.52753,\n",
              "           0.52853,     0.52953,     0.53053,     0.53153,     0.53253,     0.53353,     0.53453,     0.53554,     0.53654,     0.53754,     0.53854,     0.53954,     0.54054,     0.54154,     0.54254,     0.54354,     0.54454,     0.54555,     0.54655,     0.54755,     0.54855,     0.54955,     0.55055,     0.55155,\n",
              "           0.55255,     0.55355,     0.55455,     0.55556,     0.55656,     0.55756,     0.55856,     0.55956,     0.56056,     0.56156,     0.56256,     0.56356,     0.56456,     0.56557,     0.56657,     0.56757,     0.56857,     0.56957,     0.57057,     0.57157,     0.57257,     0.57357,     0.57457,     0.57558,\n",
              "           0.57658,     0.57758,     0.57858,     0.57958,     0.58058,     0.58158,     0.58258,     0.58358,     0.58458,     0.58559,     0.58659,     0.58759,     0.58859,     0.58959,     0.59059,     0.59159,     0.59259,     0.59359,     0.59459,      0.5956,      0.5966,      0.5976,      0.5986,      0.5996,\n",
              "            0.6006,      0.6016,      0.6026,      0.6036,      0.6046,     0.60561,     0.60661,     0.60761,     0.60861,     0.60961,     0.61061,     0.61161,     0.61261,     0.61361,     0.61461,     0.61562,     0.61662,     0.61762,     0.61862,     0.61962,     0.62062,     0.62162,     0.62262,     0.62362,\n",
              "           0.62462,     0.62563,     0.62663,     0.62763,     0.62863,     0.62963,     0.63063,     0.63163,     0.63263,     0.63363,     0.63463,     0.63564,     0.63664,     0.63764,     0.63864,     0.63964,     0.64064,     0.64164,     0.64264,     0.64364,     0.64464,     0.64565,     0.64665,     0.64765,\n",
              "           0.64865,     0.64965,     0.65065,     0.65165,     0.65265,     0.65365,     0.65465,     0.65566,     0.65666,     0.65766,     0.65866,     0.65966,     0.66066,     0.66166,     0.66266,     0.66366,     0.66466,     0.66567,     0.66667,     0.66767,     0.66867,     0.66967,     0.67067,     0.67167,\n",
              "           0.67267,     0.67367,     0.67467,     0.67568,     0.67668,     0.67768,     0.67868,     0.67968,     0.68068,     0.68168,     0.68268,     0.68368,     0.68468,     0.68569,     0.68669,     0.68769,     0.68869,     0.68969,     0.69069,     0.69169,     0.69269,     0.69369,     0.69469,      0.6957,\n",
              "            0.6967,      0.6977,      0.6987,      0.6997,      0.7007,      0.7017,      0.7027,      0.7037,      0.7047,     0.70571,     0.70671,     0.70771,     0.70871,     0.70971,     0.71071,     0.71171,     0.71271,     0.71371,     0.71471,     0.71572,     0.71672,     0.71772,     0.71872,     0.71972,\n",
              "           0.72072,     0.72172,     0.72272,     0.72372,     0.72472,     0.72573,     0.72673,     0.72773,     0.72873,     0.72973,     0.73073,     0.73173,     0.73273,     0.73373,     0.73473,     0.73574,     0.73674,     0.73774,     0.73874,     0.73974,     0.74074,     0.74174,     0.74274,     0.74374,\n",
              "           0.74474,     0.74575,     0.74675,     0.74775,     0.74875,     0.74975,     0.75075,     0.75175,     0.75275,     0.75375,     0.75475,     0.75576,     0.75676,     0.75776,     0.75876,     0.75976,     0.76076,     0.76176,     0.76276,     0.76376,     0.76476,     0.76577,     0.76677,     0.76777,\n",
              "           0.76877,     0.76977,     0.77077,     0.77177,     0.77277,     0.77377,     0.77477,     0.77578,     0.77678,     0.77778,     0.77878,     0.77978,     0.78078,     0.78178,     0.78278,     0.78378,     0.78478,     0.78579,     0.78679,     0.78779,     0.78879,     0.78979,     0.79079,     0.79179,\n",
              "           0.79279,     0.79379,     0.79479,      0.7958,      0.7968,      0.7978,      0.7988,      0.7998,      0.8008,      0.8018,      0.8028,      0.8038,      0.8048,     0.80581,     0.80681,     0.80781,     0.80881,     0.80981,     0.81081,     0.81181,     0.81281,     0.81381,     0.81481,     0.81582,\n",
              "           0.81682,     0.81782,     0.81882,     0.81982,     0.82082,     0.82182,     0.82282,     0.82382,     0.82482,     0.82583,     0.82683,     0.82783,     0.82883,     0.82983,     0.83083,     0.83183,     0.83283,     0.83383,     0.83483,     0.83584,     0.83684,     0.83784,     0.83884,     0.83984,\n",
              "           0.84084,     0.84184,     0.84284,     0.84384,     0.84484,     0.84585,     0.84685,     0.84785,     0.84885,     0.84985,     0.85085,     0.85185,     0.85285,     0.85385,     0.85485,     0.85586,     0.85686,     0.85786,     0.85886,     0.85986,     0.86086,     0.86186,     0.86286,     0.86386,\n",
              "           0.86486,     0.86587,     0.86687,     0.86787,     0.86887,     0.86987,     0.87087,     0.87187,     0.87287,     0.87387,     0.87487,     0.87588,     0.87688,     0.87788,     0.87888,     0.87988,     0.88088,     0.88188,     0.88288,     0.88388,     0.88488,     0.88589,     0.88689,     0.88789,\n",
              "           0.88889,     0.88989,     0.89089,     0.89189,     0.89289,     0.89389,     0.89489,      0.8959,      0.8969,      0.8979,      0.8989,      0.8999,      0.9009,      0.9019,      0.9029,      0.9039,      0.9049,     0.90591,     0.90691,     0.90791,     0.90891,     0.90991,     0.91091,     0.91191,\n",
              "           0.91291,     0.91391,     0.91491,     0.91592,     0.91692,     0.91792,     0.91892,     0.91992,     0.92092,     0.92192,     0.92292,     0.92392,     0.92492,     0.92593,     0.92693,     0.92793,     0.92893,     0.92993,     0.93093,     0.93193,     0.93293,     0.93393,     0.93493,     0.93594,\n",
              "           0.93694,     0.93794,     0.93894,     0.93994,     0.94094,     0.94194,     0.94294,     0.94394,     0.94494,     0.94595,     0.94695,     0.94795,     0.94895,     0.94995,     0.95095,     0.95195,     0.95295,     0.95395,     0.95495,     0.95596,     0.95696,     0.95796,     0.95896,     0.95996,\n",
              "           0.96096,     0.96196,     0.96296,     0.96396,     0.96496,     0.96597,     0.96697,     0.96797,     0.96897,     0.96997,     0.97097,     0.97197,     0.97297,     0.97397,     0.97497,     0.97598,     0.97698,     0.97798,     0.97898,     0.97998,     0.98098,     0.98198,     0.98298,     0.98398,\n",
              "           0.98498,     0.98599,     0.98699,     0.98799,     0.98899,     0.98999,     0.99099,     0.99199,     0.99299,     0.99399,     0.99499,       0.996,       0.997,       0.998,       0.999,           1]), array([[          1,           1,           1, ...,   0.0033087,   0.0016543,           0],\n",
              "       [          1,           1,           1, ...,   0.0033625,   0.0016812,           0]]), 'Recall', 'Precision'], [array([          0,    0.001001,    0.002002,    0.003003,    0.004004,    0.005005,    0.006006,    0.007007,    0.008008,    0.009009,     0.01001,    0.011011,    0.012012,    0.013013,    0.014014,    0.015015,    0.016016,    0.017017,    0.018018,    0.019019,     0.02002,    0.021021,    0.022022,    0.023023,\n",
              "          0.024024,    0.025025,    0.026026,    0.027027,    0.028028,    0.029029,     0.03003,    0.031031,    0.032032,    0.033033,    0.034034,    0.035035,    0.036036,    0.037037,    0.038038,    0.039039,     0.04004,    0.041041,    0.042042,    0.043043,    0.044044,    0.045045,    0.046046,    0.047047,\n",
              "          0.048048,    0.049049,     0.05005,    0.051051,    0.052052,    0.053053,    0.054054,    0.055055,    0.056056,    0.057057,    0.058058,    0.059059,     0.06006,    0.061061,    0.062062,    0.063063,    0.064064,    0.065065,    0.066066,    0.067067,    0.068068,    0.069069,     0.07007,    0.071071,\n",
              "          0.072072,    0.073073,    0.074074,    0.075075,    0.076076,    0.077077,    0.078078,    0.079079,     0.08008,    0.081081,    0.082082,    0.083083,    0.084084,    0.085085,    0.086086,    0.087087,    0.088088,    0.089089,     0.09009,    0.091091,    0.092092,    0.093093,    0.094094,    0.095095,\n",
              "          0.096096,    0.097097,    0.098098,    0.099099,      0.1001,      0.1011,      0.1021,      0.1031,      0.1041,     0.10511,     0.10611,     0.10711,     0.10811,     0.10911,     0.11011,     0.11111,     0.11211,     0.11311,     0.11411,     0.11512,     0.11612,     0.11712,     0.11812,     0.11912,\n",
              "           0.12012,     0.12112,     0.12212,     0.12312,     0.12412,     0.12513,     0.12613,     0.12713,     0.12813,     0.12913,     0.13013,     0.13113,     0.13213,     0.13313,     0.13413,     0.13514,     0.13614,     0.13714,     0.13814,     0.13914,     0.14014,     0.14114,     0.14214,     0.14314,\n",
              "           0.14414,     0.14515,     0.14615,     0.14715,     0.14815,     0.14915,     0.15015,     0.15115,     0.15215,     0.15315,     0.15415,     0.15516,     0.15616,     0.15716,     0.15816,     0.15916,     0.16016,     0.16116,     0.16216,     0.16316,     0.16416,     0.16517,     0.16617,     0.16717,\n",
              "           0.16817,     0.16917,     0.17017,     0.17117,     0.17217,     0.17317,     0.17417,     0.17518,     0.17618,     0.17718,     0.17818,     0.17918,     0.18018,     0.18118,     0.18218,     0.18318,     0.18418,     0.18519,     0.18619,     0.18719,     0.18819,     0.18919,     0.19019,     0.19119,\n",
              "           0.19219,     0.19319,     0.19419,      0.1952,      0.1962,      0.1972,      0.1982,      0.1992,      0.2002,      0.2012,      0.2022,      0.2032,      0.2042,     0.20521,     0.20621,     0.20721,     0.20821,     0.20921,     0.21021,     0.21121,     0.21221,     0.21321,     0.21421,     0.21522,\n",
              "           0.21622,     0.21722,     0.21822,     0.21922,     0.22022,     0.22122,     0.22222,     0.22322,     0.22422,     0.22523,     0.22623,     0.22723,     0.22823,     0.22923,     0.23023,     0.23123,     0.23223,     0.23323,     0.23423,     0.23524,     0.23624,     0.23724,     0.23824,     0.23924,\n",
              "           0.24024,     0.24124,     0.24224,     0.24324,     0.24424,     0.24525,     0.24625,     0.24725,     0.24825,     0.24925,     0.25025,     0.25125,     0.25225,     0.25325,     0.25425,     0.25526,     0.25626,     0.25726,     0.25826,     0.25926,     0.26026,     0.26126,     0.26226,     0.26326,\n",
              "           0.26426,     0.26527,     0.26627,     0.26727,     0.26827,     0.26927,     0.27027,     0.27127,     0.27227,     0.27327,     0.27427,     0.27528,     0.27628,     0.27728,     0.27828,     0.27928,     0.28028,     0.28128,     0.28228,     0.28328,     0.28428,     0.28529,     0.28629,     0.28729,\n",
              "           0.28829,     0.28929,     0.29029,     0.29129,     0.29229,     0.29329,     0.29429,      0.2953,      0.2963,      0.2973,      0.2983,      0.2993,      0.3003,      0.3013,      0.3023,      0.3033,      0.3043,     0.30531,     0.30631,     0.30731,     0.30831,     0.30931,     0.31031,     0.31131,\n",
              "           0.31231,     0.31331,     0.31431,     0.31532,     0.31632,     0.31732,     0.31832,     0.31932,     0.32032,     0.32132,     0.32232,     0.32332,     0.32432,     0.32533,     0.32633,     0.32733,     0.32833,     0.32933,     0.33033,     0.33133,     0.33233,     0.33333,     0.33433,     0.33534,\n",
              "           0.33634,     0.33734,     0.33834,     0.33934,     0.34034,     0.34134,     0.34234,     0.34334,     0.34434,     0.34535,     0.34635,     0.34735,     0.34835,     0.34935,     0.35035,     0.35135,     0.35235,     0.35335,     0.35435,     0.35536,     0.35636,     0.35736,     0.35836,     0.35936,\n",
              "           0.36036,     0.36136,     0.36236,     0.36336,     0.36436,     0.36537,     0.36637,     0.36737,     0.36837,     0.36937,     0.37037,     0.37137,     0.37237,     0.37337,     0.37437,     0.37538,     0.37638,     0.37738,     0.37838,     0.37938,     0.38038,     0.38138,     0.38238,     0.38338,\n",
              "           0.38438,     0.38539,     0.38639,     0.38739,     0.38839,     0.38939,     0.39039,     0.39139,     0.39239,     0.39339,     0.39439,      0.3954,      0.3964,      0.3974,      0.3984,      0.3994,      0.4004,      0.4014,      0.4024,      0.4034,      0.4044,     0.40541,     0.40641,     0.40741,\n",
              "           0.40841,     0.40941,     0.41041,     0.41141,     0.41241,     0.41341,     0.41441,     0.41542,     0.41642,     0.41742,     0.41842,     0.41942,     0.42042,     0.42142,     0.42242,     0.42342,     0.42442,     0.42543,     0.42643,     0.42743,     0.42843,     0.42943,     0.43043,     0.43143,\n",
              "           0.43243,     0.43343,     0.43443,     0.43544,     0.43644,     0.43744,     0.43844,     0.43944,     0.44044,     0.44144,     0.44244,     0.44344,     0.44444,     0.44545,     0.44645,     0.44745,     0.44845,     0.44945,     0.45045,     0.45145,     0.45245,     0.45345,     0.45445,     0.45546,\n",
              "           0.45646,     0.45746,     0.45846,     0.45946,     0.46046,     0.46146,     0.46246,     0.46346,     0.46446,     0.46547,     0.46647,     0.46747,     0.46847,     0.46947,     0.47047,     0.47147,     0.47247,     0.47347,     0.47447,     0.47548,     0.47648,     0.47748,     0.47848,     0.47948,\n",
              "           0.48048,     0.48148,     0.48248,     0.48348,     0.48448,     0.48549,     0.48649,     0.48749,     0.48849,     0.48949,     0.49049,     0.49149,     0.49249,     0.49349,     0.49449,      0.4955,      0.4965,      0.4975,      0.4985,      0.4995,      0.5005,      0.5015,      0.5025,      0.5035,\n",
              "            0.5045,     0.50551,     0.50651,     0.50751,     0.50851,     0.50951,     0.51051,     0.51151,     0.51251,     0.51351,     0.51451,     0.51552,     0.51652,     0.51752,     0.51852,     0.51952,     0.52052,     0.52152,     0.52252,     0.52352,     0.52452,     0.52553,     0.52653,     0.52753,\n",
              "           0.52853,     0.52953,     0.53053,     0.53153,     0.53253,     0.53353,     0.53453,     0.53554,     0.53654,     0.53754,     0.53854,     0.53954,     0.54054,     0.54154,     0.54254,     0.54354,     0.54454,     0.54555,     0.54655,     0.54755,     0.54855,     0.54955,     0.55055,     0.55155,\n",
              "           0.55255,     0.55355,     0.55455,     0.55556,     0.55656,     0.55756,     0.55856,     0.55956,     0.56056,     0.56156,     0.56256,     0.56356,     0.56456,     0.56557,     0.56657,     0.56757,     0.56857,     0.56957,     0.57057,     0.57157,     0.57257,     0.57357,     0.57457,     0.57558,\n",
              "           0.57658,     0.57758,     0.57858,     0.57958,     0.58058,     0.58158,     0.58258,     0.58358,     0.58458,     0.58559,     0.58659,     0.58759,     0.58859,     0.58959,     0.59059,     0.59159,     0.59259,     0.59359,     0.59459,      0.5956,      0.5966,      0.5976,      0.5986,      0.5996,\n",
              "            0.6006,      0.6016,      0.6026,      0.6036,      0.6046,     0.60561,     0.60661,     0.60761,     0.60861,     0.60961,     0.61061,     0.61161,     0.61261,     0.61361,     0.61461,     0.61562,     0.61662,     0.61762,     0.61862,     0.61962,     0.62062,     0.62162,     0.62262,     0.62362,\n",
              "           0.62462,     0.62563,     0.62663,     0.62763,     0.62863,     0.62963,     0.63063,     0.63163,     0.63263,     0.63363,     0.63463,     0.63564,     0.63664,     0.63764,     0.63864,     0.63964,     0.64064,     0.64164,     0.64264,     0.64364,     0.64464,     0.64565,     0.64665,     0.64765,\n",
              "           0.64865,     0.64965,     0.65065,     0.65165,     0.65265,     0.65365,     0.65465,     0.65566,     0.65666,     0.65766,     0.65866,     0.65966,     0.66066,     0.66166,     0.66266,     0.66366,     0.66466,     0.66567,     0.66667,     0.66767,     0.66867,     0.66967,     0.67067,     0.67167,\n",
              "           0.67267,     0.67367,     0.67467,     0.67568,     0.67668,     0.67768,     0.67868,     0.67968,     0.68068,     0.68168,     0.68268,     0.68368,     0.68468,     0.68569,     0.68669,     0.68769,     0.68869,     0.68969,     0.69069,     0.69169,     0.69269,     0.69369,     0.69469,      0.6957,\n",
              "            0.6967,      0.6977,      0.6987,      0.6997,      0.7007,      0.7017,      0.7027,      0.7037,      0.7047,     0.70571,     0.70671,     0.70771,     0.70871,     0.70971,     0.71071,     0.71171,     0.71271,     0.71371,     0.71471,     0.71572,     0.71672,     0.71772,     0.71872,     0.71972,\n",
              "           0.72072,     0.72172,     0.72272,     0.72372,     0.72472,     0.72573,     0.72673,     0.72773,     0.72873,     0.72973,     0.73073,     0.73173,     0.73273,     0.73373,     0.73473,     0.73574,     0.73674,     0.73774,     0.73874,     0.73974,     0.74074,     0.74174,     0.74274,     0.74374,\n",
              "           0.74474,     0.74575,     0.74675,     0.74775,     0.74875,     0.74975,     0.75075,     0.75175,     0.75275,     0.75375,     0.75475,     0.75576,     0.75676,     0.75776,     0.75876,     0.75976,     0.76076,     0.76176,     0.76276,     0.76376,     0.76476,     0.76577,     0.76677,     0.76777,\n",
              "           0.76877,     0.76977,     0.77077,     0.77177,     0.77277,     0.77377,     0.77477,     0.77578,     0.77678,     0.77778,     0.77878,     0.77978,     0.78078,     0.78178,     0.78278,     0.78378,     0.78478,     0.78579,     0.78679,     0.78779,     0.78879,     0.78979,     0.79079,     0.79179,\n",
              "           0.79279,     0.79379,     0.79479,      0.7958,      0.7968,      0.7978,      0.7988,      0.7998,      0.8008,      0.8018,      0.8028,      0.8038,      0.8048,     0.80581,     0.80681,     0.80781,     0.80881,     0.80981,     0.81081,     0.81181,     0.81281,     0.81381,     0.81481,     0.81582,\n",
              "           0.81682,     0.81782,     0.81882,     0.81982,     0.82082,     0.82182,     0.82282,     0.82382,     0.82482,     0.82583,     0.82683,     0.82783,     0.82883,     0.82983,     0.83083,     0.83183,     0.83283,     0.83383,     0.83483,     0.83584,     0.83684,     0.83784,     0.83884,     0.83984,\n",
              "           0.84084,     0.84184,     0.84284,     0.84384,     0.84484,     0.84585,     0.84685,     0.84785,     0.84885,     0.84985,     0.85085,     0.85185,     0.85285,     0.85385,     0.85485,     0.85586,     0.85686,     0.85786,     0.85886,     0.85986,     0.86086,     0.86186,     0.86286,     0.86386,\n",
              "           0.86486,     0.86587,     0.86687,     0.86787,     0.86887,     0.86987,     0.87087,     0.87187,     0.87287,     0.87387,     0.87487,     0.87588,     0.87688,     0.87788,     0.87888,     0.87988,     0.88088,     0.88188,     0.88288,     0.88388,     0.88488,     0.88589,     0.88689,     0.88789,\n",
              "           0.88889,     0.88989,     0.89089,     0.89189,     0.89289,     0.89389,     0.89489,      0.8959,      0.8969,      0.8979,      0.8989,      0.8999,      0.9009,      0.9019,      0.9029,      0.9039,      0.9049,     0.90591,     0.90691,     0.90791,     0.90891,     0.90991,     0.91091,     0.91191,\n",
              "           0.91291,     0.91391,     0.91491,     0.91592,     0.91692,     0.91792,     0.91892,     0.91992,     0.92092,     0.92192,     0.92292,     0.92392,     0.92492,     0.92593,     0.92693,     0.92793,     0.92893,     0.92993,     0.93093,     0.93193,     0.93293,     0.93393,     0.93493,     0.93594,\n",
              "           0.93694,     0.93794,     0.93894,     0.93994,     0.94094,     0.94194,     0.94294,     0.94394,     0.94494,     0.94595,     0.94695,     0.94795,     0.94895,     0.94995,     0.95095,     0.95195,     0.95295,     0.95395,     0.95495,     0.95596,     0.95696,     0.95796,     0.95896,     0.95996,\n",
              "           0.96096,     0.96196,     0.96296,     0.96396,     0.96496,     0.96597,     0.96697,     0.96797,     0.96897,     0.96997,     0.97097,     0.97197,     0.97297,     0.97397,     0.97497,     0.97598,     0.97698,     0.97798,     0.97898,     0.97998,     0.98098,     0.98198,     0.98298,     0.98398,\n",
              "           0.98498,     0.98599,     0.98699,     0.98799,     0.98899,     0.98999,     0.99099,     0.99199,     0.99299,     0.99399,     0.99499,       0.996,       0.997,       0.998,       0.999,           1]), array([[   0.034915,    0.034915,    0.055204, ...,           0,           0,           0],\n",
              "       [    0.11942,     0.11942,     0.16493, ...,           0,           0,           0]]), 'Confidence', 'F1'], [array([          0,    0.001001,    0.002002,    0.003003,    0.004004,    0.005005,    0.006006,    0.007007,    0.008008,    0.009009,     0.01001,    0.011011,    0.012012,    0.013013,    0.014014,    0.015015,    0.016016,    0.017017,    0.018018,    0.019019,     0.02002,    0.021021,    0.022022,    0.023023,\n",
              "          0.024024,    0.025025,    0.026026,    0.027027,    0.028028,    0.029029,     0.03003,    0.031031,    0.032032,    0.033033,    0.034034,    0.035035,    0.036036,    0.037037,    0.038038,    0.039039,     0.04004,    0.041041,    0.042042,    0.043043,    0.044044,    0.045045,    0.046046,    0.047047,\n",
              "          0.048048,    0.049049,     0.05005,    0.051051,    0.052052,    0.053053,    0.054054,    0.055055,    0.056056,    0.057057,    0.058058,    0.059059,     0.06006,    0.061061,    0.062062,    0.063063,    0.064064,    0.065065,    0.066066,    0.067067,    0.068068,    0.069069,     0.07007,    0.071071,\n",
              "          0.072072,    0.073073,    0.074074,    0.075075,    0.076076,    0.077077,    0.078078,    0.079079,     0.08008,    0.081081,    0.082082,    0.083083,    0.084084,    0.085085,    0.086086,    0.087087,    0.088088,    0.089089,     0.09009,    0.091091,    0.092092,    0.093093,    0.094094,    0.095095,\n",
              "          0.096096,    0.097097,    0.098098,    0.099099,      0.1001,      0.1011,      0.1021,      0.1031,      0.1041,     0.10511,     0.10611,     0.10711,     0.10811,     0.10911,     0.11011,     0.11111,     0.11211,     0.11311,     0.11411,     0.11512,     0.11612,     0.11712,     0.11812,     0.11912,\n",
              "           0.12012,     0.12112,     0.12212,     0.12312,     0.12412,     0.12513,     0.12613,     0.12713,     0.12813,     0.12913,     0.13013,     0.13113,     0.13213,     0.13313,     0.13413,     0.13514,     0.13614,     0.13714,     0.13814,     0.13914,     0.14014,     0.14114,     0.14214,     0.14314,\n",
              "           0.14414,     0.14515,     0.14615,     0.14715,     0.14815,     0.14915,     0.15015,     0.15115,     0.15215,     0.15315,     0.15415,     0.15516,     0.15616,     0.15716,     0.15816,     0.15916,     0.16016,     0.16116,     0.16216,     0.16316,     0.16416,     0.16517,     0.16617,     0.16717,\n",
              "           0.16817,     0.16917,     0.17017,     0.17117,     0.17217,     0.17317,     0.17417,     0.17518,     0.17618,     0.17718,     0.17818,     0.17918,     0.18018,     0.18118,     0.18218,     0.18318,     0.18418,     0.18519,     0.18619,     0.18719,     0.18819,     0.18919,     0.19019,     0.19119,\n",
              "           0.19219,     0.19319,     0.19419,      0.1952,      0.1962,      0.1972,      0.1982,      0.1992,      0.2002,      0.2012,      0.2022,      0.2032,      0.2042,     0.20521,     0.20621,     0.20721,     0.20821,     0.20921,     0.21021,     0.21121,     0.21221,     0.21321,     0.21421,     0.21522,\n",
              "           0.21622,     0.21722,     0.21822,     0.21922,     0.22022,     0.22122,     0.22222,     0.22322,     0.22422,     0.22523,     0.22623,     0.22723,     0.22823,     0.22923,     0.23023,     0.23123,     0.23223,     0.23323,     0.23423,     0.23524,     0.23624,     0.23724,     0.23824,     0.23924,\n",
              "           0.24024,     0.24124,     0.24224,     0.24324,     0.24424,     0.24525,     0.24625,     0.24725,     0.24825,     0.24925,     0.25025,     0.25125,     0.25225,     0.25325,     0.25425,     0.25526,     0.25626,     0.25726,     0.25826,     0.25926,     0.26026,     0.26126,     0.26226,     0.26326,\n",
              "           0.26426,     0.26527,     0.26627,     0.26727,     0.26827,     0.26927,     0.27027,     0.27127,     0.27227,     0.27327,     0.27427,     0.27528,     0.27628,     0.27728,     0.27828,     0.27928,     0.28028,     0.28128,     0.28228,     0.28328,     0.28428,     0.28529,     0.28629,     0.28729,\n",
              "           0.28829,     0.28929,     0.29029,     0.29129,     0.29229,     0.29329,     0.29429,      0.2953,      0.2963,      0.2973,      0.2983,      0.2993,      0.3003,      0.3013,      0.3023,      0.3033,      0.3043,     0.30531,     0.30631,     0.30731,     0.30831,     0.30931,     0.31031,     0.31131,\n",
              "           0.31231,     0.31331,     0.31431,     0.31532,     0.31632,     0.31732,     0.31832,     0.31932,     0.32032,     0.32132,     0.32232,     0.32332,     0.32432,     0.32533,     0.32633,     0.32733,     0.32833,     0.32933,     0.33033,     0.33133,     0.33233,     0.33333,     0.33433,     0.33534,\n",
              "           0.33634,     0.33734,     0.33834,     0.33934,     0.34034,     0.34134,     0.34234,     0.34334,     0.34434,     0.34535,     0.34635,     0.34735,     0.34835,     0.34935,     0.35035,     0.35135,     0.35235,     0.35335,     0.35435,     0.35536,     0.35636,     0.35736,     0.35836,     0.35936,\n",
              "           0.36036,     0.36136,     0.36236,     0.36336,     0.36436,     0.36537,     0.36637,     0.36737,     0.36837,     0.36937,     0.37037,     0.37137,     0.37237,     0.37337,     0.37437,     0.37538,     0.37638,     0.37738,     0.37838,     0.37938,     0.38038,     0.38138,     0.38238,     0.38338,\n",
              "           0.38438,     0.38539,     0.38639,     0.38739,     0.38839,     0.38939,     0.39039,     0.39139,     0.39239,     0.39339,     0.39439,      0.3954,      0.3964,      0.3974,      0.3984,      0.3994,      0.4004,      0.4014,      0.4024,      0.4034,      0.4044,     0.40541,     0.40641,     0.40741,\n",
              "           0.40841,     0.40941,     0.41041,     0.41141,     0.41241,     0.41341,     0.41441,     0.41542,     0.41642,     0.41742,     0.41842,     0.41942,     0.42042,     0.42142,     0.42242,     0.42342,     0.42442,     0.42543,     0.42643,     0.42743,     0.42843,     0.42943,     0.43043,     0.43143,\n",
              "           0.43243,     0.43343,     0.43443,     0.43544,     0.43644,     0.43744,     0.43844,     0.43944,     0.44044,     0.44144,     0.44244,     0.44344,     0.44444,     0.44545,     0.44645,     0.44745,     0.44845,     0.44945,     0.45045,     0.45145,     0.45245,     0.45345,     0.45445,     0.45546,\n",
              "           0.45646,     0.45746,     0.45846,     0.45946,     0.46046,     0.46146,     0.46246,     0.46346,     0.46446,     0.46547,     0.46647,     0.46747,     0.46847,     0.46947,     0.47047,     0.47147,     0.47247,     0.47347,     0.47447,     0.47548,     0.47648,     0.47748,     0.47848,     0.47948,\n",
              "           0.48048,     0.48148,     0.48248,     0.48348,     0.48448,     0.48549,     0.48649,     0.48749,     0.48849,     0.48949,     0.49049,     0.49149,     0.49249,     0.49349,     0.49449,      0.4955,      0.4965,      0.4975,      0.4985,      0.4995,      0.5005,      0.5015,      0.5025,      0.5035,\n",
              "            0.5045,     0.50551,     0.50651,     0.50751,     0.50851,     0.50951,     0.51051,     0.51151,     0.51251,     0.51351,     0.51451,     0.51552,     0.51652,     0.51752,     0.51852,     0.51952,     0.52052,     0.52152,     0.52252,     0.52352,     0.52452,     0.52553,     0.52653,     0.52753,\n",
              "           0.52853,     0.52953,     0.53053,     0.53153,     0.53253,     0.53353,     0.53453,     0.53554,     0.53654,     0.53754,     0.53854,     0.53954,     0.54054,     0.54154,     0.54254,     0.54354,     0.54454,     0.54555,     0.54655,     0.54755,     0.54855,     0.54955,     0.55055,     0.55155,\n",
              "           0.55255,     0.55355,     0.55455,     0.55556,     0.55656,     0.55756,     0.55856,     0.55956,     0.56056,     0.56156,     0.56256,     0.56356,     0.56456,     0.56557,     0.56657,     0.56757,     0.56857,     0.56957,     0.57057,     0.57157,     0.57257,     0.57357,     0.57457,     0.57558,\n",
              "           0.57658,     0.57758,     0.57858,     0.57958,     0.58058,     0.58158,     0.58258,     0.58358,     0.58458,     0.58559,     0.58659,     0.58759,     0.58859,     0.58959,     0.59059,     0.59159,     0.59259,     0.59359,     0.59459,      0.5956,      0.5966,      0.5976,      0.5986,      0.5996,\n",
              "            0.6006,      0.6016,      0.6026,      0.6036,      0.6046,     0.60561,     0.60661,     0.60761,     0.60861,     0.60961,     0.61061,     0.61161,     0.61261,     0.61361,     0.61461,     0.61562,     0.61662,     0.61762,     0.61862,     0.61962,     0.62062,     0.62162,     0.62262,     0.62362,\n",
              "           0.62462,     0.62563,     0.62663,     0.62763,     0.62863,     0.62963,     0.63063,     0.63163,     0.63263,     0.63363,     0.63463,     0.63564,     0.63664,     0.63764,     0.63864,     0.63964,     0.64064,     0.64164,     0.64264,     0.64364,     0.64464,     0.64565,     0.64665,     0.64765,\n",
              "           0.64865,     0.64965,     0.65065,     0.65165,     0.65265,     0.65365,     0.65465,     0.65566,     0.65666,     0.65766,     0.65866,     0.65966,     0.66066,     0.66166,     0.66266,     0.66366,     0.66466,     0.66567,     0.66667,     0.66767,     0.66867,     0.66967,     0.67067,     0.67167,\n",
              "           0.67267,     0.67367,     0.67467,     0.67568,     0.67668,     0.67768,     0.67868,     0.67968,     0.68068,     0.68168,     0.68268,     0.68368,     0.68468,     0.68569,     0.68669,     0.68769,     0.68869,     0.68969,     0.69069,     0.69169,     0.69269,     0.69369,     0.69469,      0.6957,\n",
              "            0.6967,      0.6977,      0.6987,      0.6997,      0.7007,      0.7017,      0.7027,      0.7037,      0.7047,     0.70571,     0.70671,     0.70771,     0.70871,     0.70971,     0.71071,     0.71171,     0.71271,     0.71371,     0.71471,     0.71572,     0.71672,     0.71772,     0.71872,     0.71972,\n",
              "           0.72072,     0.72172,     0.72272,     0.72372,     0.72472,     0.72573,     0.72673,     0.72773,     0.72873,     0.72973,     0.73073,     0.73173,     0.73273,     0.73373,     0.73473,     0.73574,     0.73674,     0.73774,     0.73874,     0.73974,     0.74074,     0.74174,     0.74274,     0.74374,\n",
              "           0.74474,     0.74575,     0.74675,     0.74775,     0.74875,     0.74975,     0.75075,     0.75175,     0.75275,     0.75375,     0.75475,     0.75576,     0.75676,     0.75776,     0.75876,     0.75976,     0.76076,     0.76176,     0.76276,     0.76376,     0.76476,     0.76577,     0.76677,     0.76777,\n",
              "           0.76877,     0.76977,     0.77077,     0.77177,     0.77277,     0.77377,     0.77477,     0.77578,     0.77678,     0.77778,     0.77878,     0.77978,     0.78078,     0.78178,     0.78278,     0.78378,     0.78478,     0.78579,     0.78679,     0.78779,     0.78879,     0.78979,     0.79079,     0.79179,\n",
              "           0.79279,     0.79379,     0.79479,      0.7958,      0.7968,      0.7978,      0.7988,      0.7998,      0.8008,      0.8018,      0.8028,      0.8038,      0.8048,     0.80581,     0.80681,     0.80781,     0.80881,     0.80981,     0.81081,     0.81181,     0.81281,     0.81381,     0.81481,     0.81582,\n",
              "           0.81682,     0.81782,     0.81882,     0.81982,     0.82082,     0.82182,     0.82282,     0.82382,     0.82482,     0.82583,     0.82683,     0.82783,     0.82883,     0.82983,     0.83083,     0.83183,     0.83283,     0.83383,     0.83483,     0.83584,     0.83684,     0.83784,     0.83884,     0.83984,\n",
              "           0.84084,     0.84184,     0.84284,     0.84384,     0.84484,     0.84585,     0.84685,     0.84785,     0.84885,     0.84985,     0.85085,     0.85185,     0.85285,     0.85385,     0.85485,     0.85586,     0.85686,     0.85786,     0.85886,     0.85986,     0.86086,     0.86186,     0.86286,     0.86386,\n",
              "           0.86486,     0.86587,     0.86687,     0.86787,     0.86887,     0.86987,     0.87087,     0.87187,     0.87287,     0.87387,     0.87487,     0.87588,     0.87688,     0.87788,     0.87888,     0.87988,     0.88088,     0.88188,     0.88288,     0.88388,     0.88488,     0.88589,     0.88689,     0.88789,\n",
              "           0.88889,     0.88989,     0.89089,     0.89189,     0.89289,     0.89389,     0.89489,      0.8959,      0.8969,      0.8979,      0.8989,      0.8999,      0.9009,      0.9019,      0.9029,      0.9039,      0.9049,     0.90591,     0.90691,     0.90791,     0.90891,     0.90991,     0.91091,     0.91191,\n",
              "           0.91291,     0.91391,     0.91491,     0.91592,     0.91692,     0.91792,     0.91892,     0.91992,     0.92092,     0.92192,     0.92292,     0.92392,     0.92492,     0.92593,     0.92693,     0.92793,     0.92893,     0.92993,     0.93093,     0.93193,     0.93293,     0.93393,     0.93493,     0.93594,\n",
              "           0.93694,     0.93794,     0.93894,     0.93994,     0.94094,     0.94194,     0.94294,     0.94394,     0.94494,     0.94595,     0.94695,     0.94795,     0.94895,     0.94995,     0.95095,     0.95195,     0.95295,     0.95395,     0.95495,     0.95596,     0.95696,     0.95796,     0.95896,     0.95996,\n",
              "           0.96096,     0.96196,     0.96296,     0.96396,     0.96496,     0.96597,     0.96697,     0.96797,     0.96897,     0.96997,     0.97097,     0.97197,     0.97297,     0.97397,     0.97497,     0.97598,     0.97698,     0.97798,     0.97898,     0.97998,     0.98098,     0.98198,     0.98298,     0.98398,\n",
              "           0.98498,     0.98599,     0.98699,     0.98799,     0.98899,     0.98999,     0.99099,     0.99199,     0.99299,     0.99399,     0.99499,       0.996,       0.997,       0.998,       0.999,           1]), array([[   0.017771,    0.017771,    0.028394, ...,           1,           1,           1],\n",
              "       [   0.063662,    0.063662,    0.090213, ...,           1,           1,           1]]), 'Confidence', 'Precision'], [array([          0,    0.001001,    0.002002,    0.003003,    0.004004,    0.005005,    0.006006,    0.007007,    0.008008,    0.009009,     0.01001,    0.011011,    0.012012,    0.013013,    0.014014,    0.015015,    0.016016,    0.017017,    0.018018,    0.019019,     0.02002,    0.021021,    0.022022,    0.023023,\n",
              "          0.024024,    0.025025,    0.026026,    0.027027,    0.028028,    0.029029,     0.03003,    0.031031,    0.032032,    0.033033,    0.034034,    0.035035,    0.036036,    0.037037,    0.038038,    0.039039,     0.04004,    0.041041,    0.042042,    0.043043,    0.044044,    0.045045,    0.046046,    0.047047,\n",
              "          0.048048,    0.049049,     0.05005,    0.051051,    0.052052,    0.053053,    0.054054,    0.055055,    0.056056,    0.057057,    0.058058,    0.059059,     0.06006,    0.061061,    0.062062,    0.063063,    0.064064,    0.065065,    0.066066,    0.067067,    0.068068,    0.069069,     0.07007,    0.071071,\n",
              "          0.072072,    0.073073,    0.074074,    0.075075,    0.076076,    0.077077,    0.078078,    0.079079,     0.08008,    0.081081,    0.082082,    0.083083,    0.084084,    0.085085,    0.086086,    0.087087,    0.088088,    0.089089,     0.09009,    0.091091,    0.092092,    0.093093,    0.094094,    0.095095,\n",
              "          0.096096,    0.097097,    0.098098,    0.099099,      0.1001,      0.1011,      0.1021,      0.1031,      0.1041,     0.10511,     0.10611,     0.10711,     0.10811,     0.10911,     0.11011,     0.11111,     0.11211,     0.11311,     0.11411,     0.11512,     0.11612,     0.11712,     0.11812,     0.11912,\n",
              "           0.12012,     0.12112,     0.12212,     0.12312,     0.12412,     0.12513,     0.12613,     0.12713,     0.12813,     0.12913,     0.13013,     0.13113,     0.13213,     0.13313,     0.13413,     0.13514,     0.13614,     0.13714,     0.13814,     0.13914,     0.14014,     0.14114,     0.14214,     0.14314,\n",
              "           0.14414,     0.14515,     0.14615,     0.14715,     0.14815,     0.14915,     0.15015,     0.15115,     0.15215,     0.15315,     0.15415,     0.15516,     0.15616,     0.15716,     0.15816,     0.15916,     0.16016,     0.16116,     0.16216,     0.16316,     0.16416,     0.16517,     0.16617,     0.16717,\n",
              "           0.16817,     0.16917,     0.17017,     0.17117,     0.17217,     0.17317,     0.17417,     0.17518,     0.17618,     0.17718,     0.17818,     0.17918,     0.18018,     0.18118,     0.18218,     0.18318,     0.18418,     0.18519,     0.18619,     0.18719,     0.18819,     0.18919,     0.19019,     0.19119,\n",
              "           0.19219,     0.19319,     0.19419,      0.1952,      0.1962,      0.1972,      0.1982,      0.1992,      0.2002,      0.2012,      0.2022,      0.2032,      0.2042,     0.20521,     0.20621,     0.20721,     0.20821,     0.20921,     0.21021,     0.21121,     0.21221,     0.21321,     0.21421,     0.21522,\n",
              "           0.21622,     0.21722,     0.21822,     0.21922,     0.22022,     0.22122,     0.22222,     0.22322,     0.22422,     0.22523,     0.22623,     0.22723,     0.22823,     0.22923,     0.23023,     0.23123,     0.23223,     0.23323,     0.23423,     0.23524,     0.23624,     0.23724,     0.23824,     0.23924,\n",
              "           0.24024,     0.24124,     0.24224,     0.24324,     0.24424,     0.24525,     0.24625,     0.24725,     0.24825,     0.24925,     0.25025,     0.25125,     0.25225,     0.25325,     0.25425,     0.25526,     0.25626,     0.25726,     0.25826,     0.25926,     0.26026,     0.26126,     0.26226,     0.26326,\n",
              "           0.26426,     0.26527,     0.26627,     0.26727,     0.26827,     0.26927,     0.27027,     0.27127,     0.27227,     0.27327,     0.27427,     0.27528,     0.27628,     0.27728,     0.27828,     0.27928,     0.28028,     0.28128,     0.28228,     0.28328,     0.28428,     0.28529,     0.28629,     0.28729,\n",
              "           0.28829,     0.28929,     0.29029,     0.29129,     0.29229,     0.29329,     0.29429,      0.2953,      0.2963,      0.2973,      0.2983,      0.2993,      0.3003,      0.3013,      0.3023,      0.3033,      0.3043,     0.30531,     0.30631,     0.30731,     0.30831,     0.30931,     0.31031,     0.31131,\n",
              "           0.31231,     0.31331,     0.31431,     0.31532,     0.31632,     0.31732,     0.31832,     0.31932,     0.32032,     0.32132,     0.32232,     0.32332,     0.32432,     0.32533,     0.32633,     0.32733,     0.32833,     0.32933,     0.33033,     0.33133,     0.33233,     0.33333,     0.33433,     0.33534,\n",
              "           0.33634,     0.33734,     0.33834,     0.33934,     0.34034,     0.34134,     0.34234,     0.34334,     0.34434,     0.34535,     0.34635,     0.34735,     0.34835,     0.34935,     0.35035,     0.35135,     0.35235,     0.35335,     0.35435,     0.35536,     0.35636,     0.35736,     0.35836,     0.35936,\n",
              "           0.36036,     0.36136,     0.36236,     0.36336,     0.36436,     0.36537,     0.36637,     0.36737,     0.36837,     0.36937,     0.37037,     0.37137,     0.37237,     0.37337,     0.37437,     0.37538,     0.37638,     0.37738,     0.37838,     0.37938,     0.38038,     0.38138,     0.38238,     0.38338,\n",
              "           0.38438,     0.38539,     0.38639,     0.38739,     0.38839,     0.38939,     0.39039,     0.39139,     0.39239,     0.39339,     0.39439,      0.3954,      0.3964,      0.3974,      0.3984,      0.3994,      0.4004,      0.4014,      0.4024,      0.4034,      0.4044,     0.40541,     0.40641,     0.40741,\n",
              "           0.40841,     0.40941,     0.41041,     0.41141,     0.41241,     0.41341,     0.41441,     0.41542,     0.41642,     0.41742,     0.41842,     0.41942,     0.42042,     0.42142,     0.42242,     0.42342,     0.42442,     0.42543,     0.42643,     0.42743,     0.42843,     0.42943,     0.43043,     0.43143,\n",
              "           0.43243,     0.43343,     0.43443,     0.43544,     0.43644,     0.43744,     0.43844,     0.43944,     0.44044,     0.44144,     0.44244,     0.44344,     0.44444,     0.44545,     0.44645,     0.44745,     0.44845,     0.44945,     0.45045,     0.45145,     0.45245,     0.45345,     0.45445,     0.45546,\n",
              "           0.45646,     0.45746,     0.45846,     0.45946,     0.46046,     0.46146,     0.46246,     0.46346,     0.46446,     0.46547,     0.46647,     0.46747,     0.46847,     0.46947,     0.47047,     0.47147,     0.47247,     0.47347,     0.47447,     0.47548,     0.47648,     0.47748,     0.47848,     0.47948,\n",
              "           0.48048,     0.48148,     0.48248,     0.48348,     0.48448,     0.48549,     0.48649,     0.48749,     0.48849,     0.48949,     0.49049,     0.49149,     0.49249,     0.49349,     0.49449,      0.4955,      0.4965,      0.4975,      0.4985,      0.4995,      0.5005,      0.5015,      0.5025,      0.5035,\n",
              "            0.5045,     0.50551,     0.50651,     0.50751,     0.50851,     0.50951,     0.51051,     0.51151,     0.51251,     0.51351,     0.51451,     0.51552,     0.51652,     0.51752,     0.51852,     0.51952,     0.52052,     0.52152,     0.52252,     0.52352,     0.52452,     0.52553,     0.52653,     0.52753,\n",
              "           0.52853,     0.52953,     0.53053,     0.53153,     0.53253,     0.53353,     0.53453,     0.53554,     0.53654,     0.53754,     0.53854,     0.53954,     0.54054,     0.54154,     0.54254,     0.54354,     0.54454,     0.54555,     0.54655,     0.54755,     0.54855,     0.54955,     0.55055,     0.55155,\n",
              "           0.55255,     0.55355,     0.55455,     0.55556,     0.55656,     0.55756,     0.55856,     0.55956,     0.56056,     0.56156,     0.56256,     0.56356,     0.56456,     0.56557,     0.56657,     0.56757,     0.56857,     0.56957,     0.57057,     0.57157,     0.57257,     0.57357,     0.57457,     0.57558,\n",
              "           0.57658,     0.57758,     0.57858,     0.57958,     0.58058,     0.58158,     0.58258,     0.58358,     0.58458,     0.58559,     0.58659,     0.58759,     0.58859,     0.58959,     0.59059,     0.59159,     0.59259,     0.59359,     0.59459,      0.5956,      0.5966,      0.5976,      0.5986,      0.5996,\n",
              "            0.6006,      0.6016,      0.6026,      0.6036,      0.6046,     0.60561,     0.60661,     0.60761,     0.60861,     0.60961,     0.61061,     0.61161,     0.61261,     0.61361,     0.61461,     0.61562,     0.61662,     0.61762,     0.61862,     0.61962,     0.62062,     0.62162,     0.62262,     0.62362,\n",
              "           0.62462,     0.62563,     0.62663,     0.62763,     0.62863,     0.62963,     0.63063,     0.63163,     0.63263,     0.63363,     0.63463,     0.63564,     0.63664,     0.63764,     0.63864,     0.63964,     0.64064,     0.64164,     0.64264,     0.64364,     0.64464,     0.64565,     0.64665,     0.64765,\n",
              "           0.64865,     0.64965,     0.65065,     0.65165,     0.65265,     0.65365,     0.65465,     0.65566,     0.65666,     0.65766,     0.65866,     0.65966,     0.66066,     0.66166,     0.66266,     0.66366,     0.66466,     0.66567,     0.66667,     0.66767,     0.66867,     0.66967,     0.67067,     0.67167,\n",
              "           0.67267,     0.67367,     0.67467,     0.67568,     0.67668,     0.67768,     0.67868,     0.67968,     0.68068,     0.68168,     0.68268,     0.68368,     0.68468,     0.68569,     0.68669,     0.68769,     0.68869,     0.68969,     0.69069,     0.69169,     0.69269,     0.69369,     0.69469,      0.6957,\n",
              "            0.6967,      0.6977,      0.6987,      0.6997,      0.7007,      0.7017,      0.7027,      0.7037,      0.7047,     0.70571,     0.70671,     0.70771,     0.70871,     0.70971,     0.71071,     0.71171,     0.71271,     0.71371,     0.71471,     0.71572,     0.71672,     0.71772,     0.71872,     0.71972,\n",
              "           0.72072,     0.72172,     0.72272,     0.72372,     0.72472,     0.72573,     0.72673,     0.72773,     0.72873,     0.72973,     0.73073,     0.73173,     0.73273,     0.73373,     0.73473,     0.73574,     0.73674,     0.73774,     0.73874,     0.73974,     0.74074,     0.74174,     0.74274,     0.74374,\n",
              "           0.74474,     0.74575,     0.74675,     0.74775,     0.74875,     0.74975,     0.75075,     0.75175,     0.75275,     0.75375,     0.75475,     0.75576,     0.75676,     0.75776,     0.75876,     0.75976,     0.76076,     0.76176,     0.76276,     0.76376,     0.76476,     0.76577,     0.76677,     0.76777,\n",
              "           0.76877,     0.76977,     0.77077,     0.77177,     0.77277,     0.77377,     0.77477,     0.77578,     0.77678,     0.77778,     0.77878,     0.77978,     0.78078,     0.78178,     0.78278,     0.78378,     0.78478,     0.78579,     0.78679,     0.78779,     0.78879,     0.78979,     0.79079,     0.79179,\n",
              "           0.79279,     0.79379,     0.79479,      0.7958,      0.7968,      0.7978,      0.7988,      0.7998,      0.8008,      0.8018,      0.8028,      0.8038,      0.8048,     0.80581,     0.80681,     0.80781,     0.80881,     0.80981,     0.81081,     0.81181,     0.81281,     0.81381,     0.81481,     0.81582,\n",
              "           0.81682,     0.81782,     0.81882,     0.81982,     0.82082,     0.82182,     0.82282,     0.82382,     0.82482,     0.82583,     0.82683,     0.82783,     0.82883,     0.82983,     0.83083,     0.83183,     0.83283,     0.83383,     0.83483,     0.83584,     0.83684,     0.83784,     0.83884,     0.83984,\n",
              "           0.84084,     0.84184,     0.84284,     0.84384,     0.84484,     0.84585,     0.84685,     0.84785,     0.84885,     0.84985,     0.85085,     0.85185,     0.85285,     0.85385,     0.85485,     0.85586,     0.85686,     0.85786,     0.85886,     0.85986,     0.86086,     0.86186,     0.86286,     0.86386,\n",
              "           0.86486,     0.86587,     0.86687,     0.86787,     0.86887,     0.86987,     0.87087,     0.87187,     0.87287,     0.87387,     0.87487,     0.87588,     0.87688,     0.87788,     0.87888,     0.87988,     0.88088,     0.88188,     0.88288,     0.88388,     0.88488,     0.88589,     0.88689,     0.88789,\n",
              "           0.88889,     0.88989,     0.89089,     0.89189,     0.89289,     0.89389,     0.89489,      0.8959,      0.8969,      0.8979,      0.8989,      0.8999,      0.9009,      0.9019,      0.9029,      0.9039,      0.9049,     0.90591,     0.90691,     0.90791,     0.90891,     0.90991,     0.91091,     0.91191,\n",
              "           0.91291,     0.91391,     0.91491,     0.91592,     0.91692,     0.91792,     0.91892,     0.91992,     0.92092,     0.92192,     0.92292,     0.92392,     0.92492,     0.92593,     0.92693,     0.92793,     0.92893,     0.92993,     0.93093,     0.93193,     0.93293,     0.93393,     0.93493,     0.93594,\n",
              "           0.93694,     0.93794,     0.93894,     0.93994,     0.94094,     0.94194,     0.94294,     0.94394,     0.94494,     0.94595,     0.94695,     0.94795,     0.94895,     0.94995,     0.95095,     0.95195,     0.95295,     0.95395,     0.95495,     0.95596,     0.95696,     0.95796,     0.95896,     0.95996,\n",
              "           0.96096,     0.96196,     0.96296,     0.96396,     0.96496,     0.96597,     0.96697,     0.96797,     0.96897,     0.96997,     0.97097,     0.97197,     0.97297,     0.97397,     0.97497,     0.97598,     0.97698,     0.97798,     0.97898,     0.97998,     0.98098,     0.98198,     0.98298,     0.98398,\n",
              "           0.98498,     0.98599,     0.98699,     0.98799,     0.98899,     0.98999,     0.99099,     0.99199,     0.99299,     0.99399,     0.99499,       0.996,       0.997,       0.998,       0.999,           1]), array([[    0.98925,     0.98925,     0.98925, ...,           0,           0,           0],\n",
              "       [     0.9621,      0.9621,     0.95987, ...,           0,           0,           0]]), 'Confidence', 'Recall']]\n",
              "fitness: np.float64(0.4212944231897226)\n",
              "keys: ['metrics/precision(B)', 'metrics/recall(B)', 'metrics/mAP50(B)', 'metrics/mAP50-95(B)']\n",
              "maps: array([    0.40197,      0.3786])\n",
              "names: {0: 'undamagedcommercialbuilding', 1: 'undamagedresidentialbuilding'}\n",
              "nt_per_class: array([ 93, 897])\n",
              "nt_per_image: array([28, 36])\n",
              "results_dict: {'metrics/precision(B)': 0.6655043519086232, 'metrics/recall(B)': 0.6610026252382494, 'metrics/mAP50(B)': 0.7003697205753432, 'metrics/mAP50-95(B)': 0.3902860568135425, 'fitness': 0.4212944231897226}\n",
              "save_dir: PosixPath('exploratory_phase/yolo11n_training_dataset_v203')\n",
              "speed: {'preprocess': 0.2571414411751421, 'inference': 3.287700544119081, 'loss': 0.000373647059645651, 'postprocess': 1.8915947352946418}\n",
              "stats: {'tp': [], 'conf': [], 'pred_cls': [], 'target_cls': [], 'target_img': []}\n",
              "task: 'detect'"
            ]
          },
          "metadata": {},
          "execution_count": 25
        }
      ],
      "source": [
        "result_model_training"
      ]
    },
    {
      "cell_type": "code",
      "source": [
        "results_test = model.val(data=yaml_file, split='test')"
      ],
      "metadata": {
        "id": "Q2JNTvcLktUW",
        "outputId": "6d7eca26-5a3b-40c5-ae9b-0833a7fe9db9",
        "colab": {
          "base_uri": "https://localhost:8080/"
        }
      },
      "id": "Q2JNTvcLktUW",
      "execution_count": null,
      "outputs": [
        {
          "output_type": "stream",
          "name": "stdout",
          "text": [
            "Ultralytics 8.3.184 🚀 Python-3.12.11 torch-2.8.0+cu126 CUDA:0 (Tesla T4, 15095MiB)\n",
            "\u001b[34m\u001b[1mval: \u001b[0mFast image access ✅ (ping: 0.0±0.0 ms, read: 2361.5±632.7 MB/s, size: 61.8 KB)\n"
          ]
        },
        {
          "output_type": "stream",
          "name": "stderr",
          "text": [
            "\u001b[34m\u001b[1mval: \u001b[0mScanning /content/Storm-Damage-19/test/labels.cache... 21 images, 4 backgrounds, 0 corrupt: 100%|██████████| 21/21 [00:00<?, ?it/s]\n",
            "                 Class     Images  Instances      Box(P          R      mAP50  mAP50-95): 100%|██████████| 1/1 [00:00<00:00,  1.73it/s]\n"
          ]
        },
        {
          "output_type": "stream",
          "name": "stdout",
          "text": [
            "                   all         21        313      0.559       0.66      0.639        0.3\n",
            "undamagedcommercialbuilding          5         17      0.444      0.706      0.655       0.33\n",
            "undamagedresidentialbuilding         16        296      0.675      0.615      0.623       0.27\n",
            "Speed: 0.2ms preprocess, 5.5ms inference, 0.0ms loss, 4.9ms postprocess per image\n",
            "Results saved to \u001b[1mexploratory_phase/yolo11n_training_dataset_v194\u001b[0m\n"
          ]
        }
      ]
    },
    {
      "cell_type": "code",
      "source": [
        "results_test"
      ],
      "metadata": {
        "collapsed": true,
        "id": "kpTwZjrMktSh",
        "outputId": "c873b0ff-f3b9-41a9-d814-fa40e8718c42",
        "colab": {
          "base_uri": "https://localhost:8080/"
        }
      },
      "id": "kpTwZjrMktSh",
      "execution_count": null,
      "outputs": [
        {
          "output_type": "execute_result",
          "data": {
            "text/plain": [
              "ultralytics.utils.metrics.DetMetrics object with attributes:\n",
              "\n",
              "ap_class_index: array([0, 1])\n",
              "box: ultralytics.utils.metrics.Metric object\n",
              "confusion_matrix: <ultralytics.utils.metrics.ConfusionMatrix object at 0x78d9a57fa4e0>\n",
              "curves: ['Precision-Recall(B)', 'F1-Confidence(B)', 'Precision-Confidence(B)', 'Recall-Confidence(B)']\n",
              "curves_results: [[array([          0,    0.001001,    0.002002,    0.003003,    0.004004,    0.005005,    0.006006,    0.007007,    0.008008,    0.009009,     0.01001,    0.011011,    0.012012,    0.013013,    0.014014,    0.015015,    0.016016,    0.017017,    0.018018,    0.019019,     0.02002,    0.021021,    0.022022,    0.023023,\n",
              "          0.024024,    0.025025,    0.026026,    0.027027,    0.028028,    0.029029,     0.03003,    0.031031,    0.032032,    0.033033,    0.034034,    0.035035,    0.036036,    0.037037,    0.038038,    0.039039,     0.04004,    0.041041,    0.042042,    0.043043,    0.044044,    0.045045,    0.046046,    0.047047,\n",
              "          0.048048,    0.049049,     0.05005,    0.051051,    0.052052,    0.053053,    0.054054,    0.055055,    0.056056,    0.057057,    0.058058,    0.059059,     0.06006,    0.061061,    0.062062,    0.063063,    0.064064,    0.065065,    0.066066,    0.067067,    0.068068,    0.069069,     0.07007,    0.071071,\n",
              "          0.072072,    0.073073,    0.074074,    0.075075,    0.076076,    0.077077,    0.078078,    0.079079,     0.08008,    0.081081,    0.082082,    0.083083,    0.084084,    0.085085,    0.086086,    0.087087,    0.088088,    0.089089,     0.09009,    0.091091,    0.092092,    0.093093,    0.094094,    0.095095,\n",
              "          0.096096,    0.097097,    0.098098,    0.099099,      0.1001,      0.1011,      0.1021,      0.1031,      0.1041,     0.10511,     0.10611,     0.10711,     0.10811,     0.10911,     0.11011,     0.11111,     0.11211,     0.11311,     0.11411,     0.11512,     0.11612,     0.11712,     0.11812,     0.11912,\n",
              "           0.12012,     0.12112,     0.12212,     0.12312,     0.12412,     0.12513,     0.12613,     0.12713,     0.12813,     0.12913,     0.13013,     0.13113,     0.13213,     0.13313,     0.13413,     0.13514,     0.13614,     0.13714,     0.13814,     0.13914,     0.14014,     0.14114,     0.14214,     0.14314,\n",
              "           0.14414,     0.14515,     0.14615,     0.14715,     0.14815,     0.14915,     0.15015,     0.15115,     0.15215,     0.15315,     0.15415,     0.15516,     0.15616,     0.15716,     0.15816,     0.15916,     0.16016,     0.16116,     0.16216,     0.16316,     0.16416,     0.16517,     0.16617,     0.16717,\n",
              "           0.16817,     0.16917,     0.17017,     0.17117,     0.17217,     0.17317,     0.17417,     0.17518,     0.17618,     0.17718,     0.17818,     0.17918,     0.18018,     0.18118,     0.18218,     0.18318,     0.18418,     0.18519,     0.18619,     0.18719,     0.18819,     0.18919,     0.19019,     0.19119,\n",
              "           0.19219,     0.19319,     0.19419,      0.1952,      0.1962,      0.1972,      0.1982,      0.1992,      0.2002,      0.2012,      0.2022,      0.2032,      0.2042,     0.20521,     0.20621,     0.20721,     0.20821,     0.20921,     0.21021,     0.21121,     0.21221,     0.21321,     0.21421,     0.21522,\n",
              "           0.21622,     0.21722,     0.21822,     0.21922,     0.22022,     0.22122,     0.22222,     0.22322,     0.22422,     0.22523,     0.22623,     0.22723,     0.22823,     0.22923,     0.23023,     0.23123,     0.23223,     0.23323,     0.23423,     0.23524,     0.23624,     0.23724,     0.23824,     0.23924,\n",
              "           0.24024,     0.24124,     0.24224,     0.24324,     0.24424,     0.24525,     0.24625,     0.24725,     0.24825,     0.24925,     0.25025,     0.25125,     0.25225,     0.25325,     0.25425,     0.25526,     0.25626,     0.25726,     0.25826,     0.25926,     0.26026,     0.26126,     0.26226,     0.26326,\n",
              "           0.26426,     0.26527,     0.26627,     0.26727,     0.26827,     0.26927,     0.27027,     0.27127,     0.27227,     0.27327,     0.27427,     0.27528,     0.27628,     0.27728,     0.27828,     0.27928,     0.28028,     0.28128,     0.28228,     0.28328,     0.28428,     0.28529,     0.28629,     0.28729,\n",
              "           0.28829,     0.28929,     0.29029,     0.29129,     0.29229,     0.29329,     0.29429,      0.2953,      0.2963,      0.2973,      0.2983,      0.2993,      0.3003,      0.3013,      0.3023,      0.3033,      0.3043,     0.30531,     0.30631,     0.30731,     0.30831,     0.30931,     0.31031,     0.31131,\n",
              "           0.31231,     0.31331,     0.31431,     0.31532,     0.31632,     0.31732,     0.31832,     0.31932,     0.32032,     0.32132,     0.32232,     0.32332,     0.32432,     0.32533,     0.32633,     0.32733,     0.32833,     0.32933,     0.33033,     0.33133,     0.33233,     0.33333,     0.33433,     0.33534,\n",
              "           0.33634,     0.33734,     0.33834,     0.33934,     0.34034,     0.34134,     0.34234,     0.34334,     0.34434,     0.34535,     0.34635,     0.34735,     0.34835,     0.34935,     0.35035,     0.35135,     0.35235,     0.35335,     0.35435,     0.35536,     0.35636,     0.35736,     0.35836,     0.35936,\n",
              "           0.36036,     0.36136,     0.36236,     0.36336,     0.36436,     0.36537,     0.36637,     0.36737,     0.36837,     0.36937,     0.37037,     0.37137,     0.37237,     0.37337,     0.37437,     0.37538,     0.37638,     0.37738,     0.37838,     0.37938,     0.38038,     0.38138,     0.38238,     0.38338,\n",
              "           0.38438,     0.38539,     0.38639,     0.38739,     0.38839,     0.38939,     0.39039,     0.39139,     0.39239,     0.39339,     0.39439,      0.3954,      0.3964,      0.3974,      0.3984,      0.3994,      0.4004,      0.4014,      0.4024,      0.4034,      0.4044,     0.40541,     0.40641,     0.40741,\n",
              "           0.40841,     0.40941,     0.41041,     0.41141,     0.41241,     0.41341,     0.41441,     0.41542,     0.41642,     0.41742,     0.41842,     0.41942,     0.42042,     0.42142,     0.42242,     0.42342,     0.42442,     0.42543,     0.42643,     0.42743,     0.42843,     0.42943,     0.43043,     0.43143,\n",
              "           0.43243,     0.43343,     0.43443,     0.43544,     0.43644,     0.43744,     0.43844,     0.43944,     0.44044,     0.44144,     0.44244,     0.44344,     0.44444,     0.44545,     0.44645,     0.44745,     0.44845,     0.44945,     0.45045,     0.45145,     0.45245,     0.45345,     0.45445,     0.45546,\n",
              "           0.45646,     0.45746,     0.45846,     0.45946,     0.46046,     0.46146,     0.46246,     0.46346,     0.46446,     0.46547,     0.46647,     0.46747,     0.46847,     0.46947,     0.47047,     0.47147,     0.47247,     0.47347,     0.47447,     0.47548,     0.47648,     0.47748,     0.47848,     0.47948,\n",
              "           0.48048,     0.48148,     0.48248,     0.48348,     0.48448,     0.48549,     0.48649,     0.48749,     0.48849,     0.48949,     0.49049,     0.49149,     0.49249,     0.49349,     0.49449,      0.4955,      0.4965,      0.4975,      0.4985,      0.4995,      0.5005,      0.5015,      0.5025,      0.5035,\n",
              "            0.5045,     0.50551,     0.50651,     0.50751,     0.50851,     0.50951,     0.51051,     0.51151,     0.51251,     0.51351,     0.51451,     0.51552,     0.51652,     0.51752,     0.51852,     0.51952,     0.52052,     0.52152,     0.52252,     0.52352,     0.52452,     0.52553,     0.52653,     0.52753,\n",
              "           0.52853,     0.52953,     0.53053,     0.53153,     0.53253,     0.53353,     0.53453,     0.53554,     0.53654,     0.53754,     0.53854,     0.53954,     0.54054,     0.54154,     0.54254,     0.54354,     0.54454,     0.54555,     0.54655,     0.54755,     0.54855,     0.54955,     0.55055,     0.55155,\n",
              "           0.55255,     0.55355,     0.55455,     0.55556,     0.55656,     0.55756,     0.55856,     0.55956,     0.56056,     0.56156,     0.56256,     0.56356,     0.56456,     0.56557,     0.56657,     0.56757,     0.56857,     0.56957,     0.57057,     0.57157,     0.57257,     0.57357,     0.57457,     0.57558,\n",
              "           0.57658,     0.57758,     0.57858,     0.57958,     0.58058,     0.58158,     0.58258,     0.58358,     0.58458,     0.58559,     0.58659,     0.58759,     0.58859,     0.58959,     0.59059,     0.59159,     0.59259,     0.59359,     0.59459,      0.5956,      0.5966,      0.5976,      0.5986,      0.5996,\n",
              "            0.6006,      0.6016,      0.6026,      0.6036,      0.6046,     0.60561,     0.60661,     0.60761,     0.60861,     0.60961,     0.61061,     0.61161,     0.61261,     0.61361,     0.61461,     0.61562,     0.61662,     0.61762,     0.61862,     0.61962,     0.62062,     0.62162,     0.62262,     0.62362,\n",
              "           0.62462,     0.62563,     0.62663,     0.62763,     0.62863,     0.62963,     0.63063,     0.63163,     0.63263,     0.63363,     0.63463,     0.63564,     0.63664,     0.63764,     0.63864,     0.63964,     0.64064,     0.64164,     0.64264,     0.64364,     0.64464,     0.64565,     0.64665,     0.64765,\n",
              "           0.64865,     0.64965,     0.65065,     0.65165,     0.65265,     0.65365,     0.65465,     0.65566,     0.65666,     0.65766,     0.65866,     0.65966,     0.66066,     0.66166,     0.66266,     0.66366,     0.66466,     0.66567,     0.66667,     0.66767,     0.66867,     0.66967,     0.67067,     0.67167,\n",
              "           0.67267,     0.67367,     0.67467,     0.67568,     0.67668,     0.67768,     0.67868,     0.67968,     0.68068,     0.68168,     0.68268,     0.68368,     0.68468,     0.68569,     0.68669,     0.68769,     0.68869,     0.68969,     0.69069,     0.69169,     0.69269,     0.69369,     0.69469,      0.6957,\n",
              "            0.6967,      0.6977,      0.6987,      0.6997,      0.7007,      0.7017,      0.7027,      0.7037,      0.7047,     0.70571,     0.70671,     0.70771,     0.70871,     0.70971,     0.71071,     0.71171,     0.71271,     0.71371,     0.71471,     0.71572,     0.71672,     0.71772,     0.71872,     0.71972,\n",
              "           0.72072,     0.72172,     0.72272,     0.72372,     0.72472,     0.72573,     0.72673,     0.72773,     0.72873,     0.72973,     0.73073,     0.73173,     0.73273,     0.73373,     0.73473,     0.73574,     0.73674,     0.73774,     0.73874,     0.73974,     0.74074,     0.74174,     0.74274,     0.74374,\n",
              "           0.74474,     0.74575,     0.74675,     0.74775,     0.74875,     0.74975,     0.75075,     0.75175,     0.75275,     0.75375,     0.75475,     0.75576,     0.75676,     0.75776,     0.75876,     0.75976,     0.76076,     0.76176,     0.76276,     0.76376,     0.76476,     0.76577,     0.76677,     0.76777,\n",
              "           0.76877,     0.76977,     0.77077,     0.77177,     0.77277,     0.77377,     0.77477,     0.77578,     0.77678,     0.77778,     0.77878,     0.77978,     0.78078,     0.78178,     0.78278,     0.78378,     0.78478,     0.78579,     0.78679,     0.78779,     0.78879,     0.78979,     0.79079,     0.79179,\n",
              "           0.79279,     0.79379,     0.79479,      0.7958,      0.7968,      0.7978,      0.7988,      0.7998,      0.8008,      0.8018,      0.8028,      0.8038,      0.8048,     0.80581,     0.80681,     0.80781,     0.80881,     0.80981,     0.81081,     0.81181,     0.81281,     0.81381,     0.81481,     0.81582,\n",
              "           0.81682,     0.81782,     0.81882,     0.81982,     0.82082,     0.82182,     0.82282,     0.82382,     0.82482,     0.82583,     0.82683,     0.82783,     0.82883,     0.82983,     0.83083,     0.83183,     0.83283,     0.83383,     0.83483,     0.83584,     0.83684,     0.83784,     0.83884,     0.83984,\n",
              "           0.84084,     0.84184,     0.84284,     0.84384,     0.84484,     0.84585,     0.84685,     0.84785,     0.84885,     0.84985,     0.85085,     0.85185,     0.85285,     0.85385,     0.85485,     0.85586,     0.85686,     0.85786,     0.85886,     0.85986,     0.86086,     0.86186,     0.86286,     0.86386,\n",
              "           0.86486,     0.86587,     0.86687,     0.86787,     0.86887,     0.86987,     0.87087,     0.87187,     0.87287,     0.87387,     0.87487,     0.87588,     0.87688,     0.87788,     0.87888,     0.87988,     0.88088,     0.88188,     0.88288,     0.88388,     0.88488,     0.88589,     0.88689,     0.88789,\n",
              "           0.88889,     0.88989,     0.89089,     0.89189,     0.89289,     0.89389,     0.89489,      0.8959,      0.8969,      0.8979,      0.8989,      0.8999,      0.9009,      0.9019,      0.9029,      0.9039,      0.9049,     0.90591,     0.90691,     0.90791,     0.90891,     0.90991,     0.91091,     0.91191,\n",
              "           0.91291,     0.91391,     0.91491,     0.91592,     0.91692,     0.91792,     0.91892,     0.91992,     0.92092,     0.92192,     0.92292,     0.92392,     0.92492,     0.92593,     0.92693,     0.92793,     0.92893,     0.92993,     0.93093,     0.93193,     0.93293,     0.93393,     0.93493,     0.93594,\n",
              "           0.93694,     0.93794,     0.93894,     0.93994,     0.94094,     0.94194,     0.94294,     0.94394,     0.94494,     0.94595,     0.94695,     0.94795,     0.94895,     0.94995,     0.95095,     0.95195,     0.95295,     0.95395,     0.95495,     0.95596,     0.95696,     0.95796,     0.95896,     0.95996,\n",
              "           0.96096,     0.96196,     0.96296,     0.96396,     0.96496,     0.96597,     0.96697,     0.96797,     0.96897,     0.96997,     0.97097,     0.97197,     0.97297,     0.97397,     0.97497,     0.97598,     0.97698,     0.97798,     0.97898,     0.97998,     0.98098,     0.98198,     0.98298,     0.98398,\n",
              "           0.98498,     0.98599,     0.98699,     0.98799,     0.98899,     0.98999,     0.99099,     0.99199,     0.99299,     0.99399,     0.99499,       0.996,       0.997,       0.998,       0.999,           1]), array([[          1,           1,           1, ...,  0.00034313,  0.00017156,           0],\n",
              "       [          1,           1,           1, ...,   0.0012527,  0.00062635,           0]]), 'Recall', 'Precision'], [array([          0,    0.001001,    0.002002,    0.003003,    0.004004,    0.005005,    0.006006,    0.007007,    0.008008,    0.009009,     0.01001,    0.011011,    0.012012,    0.013013,    0.014014,    0.015015,    0.016016,    0.017017,    0.018018,    0.019019,     0.02002,    0.021021,    0.022022,    0.023023,\n",
              "          0.024024,    0.025025,    0.026026,    0.027027,    0.028028,    0.029029,     0.03003,    0.031031,    0.032032,    0.033033,    0.034034,    0.035035,    0.036036,    0.037037,    0.038038,    0.039039,     0.04004,    0.041041,    0.042042,    0.043043,    0.044044,    0.045045,    0.046046,    0.047047,\n",
              "          0.048048,    0.049049,     0.05005,    0.051051,    0.052052,    0.053053,    0.054054,    0.055055,    0.056056,    0.057057,    0.058058,    0.059059,     0.06006,    0.061061,    0.062062,    0.063063,    0.064064,    0.065065,    0.066066,    0.067067,    0.068068,    0.069069,     0.07007,    0.071071,\n",
              "          0.072072,    0.073073,    0.074074,    0.075075,    0.076076,    0.077077,    0.078078,    0.079079,     0.08008,    0.081081,    0.082082,    0.083083,    0.084084,    0.085085,    0.086086,    0.087087,    0.088088,    0.089089,     0.09009,    0.091091,    0.092092,    0.093093,    0.094094,    0.095095,\n",
              "          0.096096,    0.097097,    0.098098,    0.099099,      0.1001,      0.1011,      0.1021,      0.1031,      0.1041,     0.10511,     0.10611,     0.10711,     0.10811,     0.10911,     0.11011,     0.11111,     0.11211,     0.11311,     0.11411,     0.11512,     0.11612,     0.11712,     0.11812,     0.11912,\n",
              "           0.12012,     0.12112,     0.12212,     0.12312,     0.12412,     0.12513,     0.12613,     0.12713,     0.12813,     0.12913,     0.13013,     0.13113,     0.13213,     0.13313,     0.13413,     0.13514,     0.13614,     0.13714,     0.13814,     0.13914,     0.14014,     0.14114,     0.14214,     0.14314,\n",
              "           0.14414,     0.14515,     0.14615,     0.14715,     0.14815,     0.14915,     0.15015,     0.15115,     0.15215,     0.15315,     0.15415,     0.15516,     0.15616,     0.15716,     0.15816,     0.15916,     0.16016,     0.16116,     0.16216,     0.16316,     0.16416,     0.16517,     0.16617,     0.16717,\n",
              "           0.16817,     0.16917,     0.17017,     0.17117,     0.17217,     0.17317,     0.17417,     0.17518,     0.17618,     0.17718,     0.17818,     0.17918,     0.18018,     0.18118,     0.18218,     0.18318,     0.18418,     0.18519,     0.18619,     0.18719,     0.18819,     0.18919,     0.19019,     0.19119,\n",
              "           0.19219,     0.19319,     0.19419,      0.1952,      0.1962,      0.1972,      0.1982,      0.1992,      0.2002,      0.2012,      0.2022,      0.2032,      0.2042,     0.20521,     0.20621,     0.20721,     0.20821,     0.20921,     0.21021,     0.21121,     0.21221,     0.21321,     0.21421,     0.21522,\n",
              "           0.21622,     0.21722,     0.21822,     0.21922,     0.22022,     0.22122,     0.22222,     0.22322,     0.22422,     0.22523,     0.22623,     0.22723,     0.22823,     0.22923,     0.23023,     0.23123,     0.23223,     0.23323,     0.23423,     0.23524,     0.23624,     0.23724,     0.23824,     0.23924,\n",
              "           0.24024,     0.24124,     0.24224,     0.24324,     0.24424,     0.24525,     0.24625,     0.24725,     0.24825,     0.24925,     0.25025,     0.25125,     0.25225,     0.25325,     0.25425,     0.25526,     0.25626,     0.25726,     0.25826,     0.25926,     0.26026,     0.26126,     0.26226,     0.26326,\n",
              "           0.26426,     0.26527,     0.26627,     0.26727,     0.26827,     0.26927,     0.27027,     0.27127,     0.27227,     0.27327,     0.27427,     0.27528,     0.27628,     0.27728,     0.27828,     0.27928,     0.28028,     0.28128,     0.28228,     0.28328,     0.28428,     0.28529,     0.28629,     0.28729,\n",
              "           0.28829,     0.28929,     0.29029,     0.29129,     0.29229,     0.29329,     0.29429,      0.2953,      0.2963,      0.2973,      0.2983,      0.2993,      0.3003,      0.3013,      0.3023,      0.3033,      0.3043,     0.30531,     0.30631,     0.30731,     0.30831,     0.30931,     0.31031,     0.31131,\n",
              "           0.31231,     0.31331,     0.31431,     0.31532,     0.31632,     0.31732,     0.31832,     0.31932,     0.32032,     0.32132,     0.32232,     0.32332,     0.32432,     0.32533,     0.32633,     0.32733,     0.32833,     0.32933,     0.33033,     0.33133,     0.33233,     0.33333,     0.33433,     0.33534,\n",
              "           0.33634,     0.33734,     0.33834,     0.33934,     0.34034,     0.34134,     0.34234,     0.34334,     0.34434,     0.34535,     0.34635,     0.34735,     0.34835,     0.34935,     0.35035,     0.35135,     0.35235,     0.35335,     0.35435,     0.35536,     0.35636,     0.35736,     0.35836,     0.35936,\n",
              "           0.36036,     0.36136,     0.36236,     0.36336,     0.36436,     0.36537,     0.36637,     0.36737,     0.36837,     0.36937,     0.37037,     0.37137,     0.37237,     0.37337,     0.37437,     0.37538,     0.37638,     0.37738,     0.37838,     0.37938,     0.38038,     0.38138,     0.38238,     0.38338,\n",
              "           0.38438,     0.38539,     0.38639,     0.38739,     0.38839,     0.38939,     0.39039,     0.39139,     0.39239,     0.39339,     0.39439,      0.3954,      0.3964,      0.3974,      0.3984,      0.3994,      0.4004,      0.4014,      0.4024,      0.4034,      0.4044,     0.40541,     0.40641,     0.40741,\n",
              "           0.40841,     0.40941,     0.41041,     0.41141,     0.41241,     0.41341,     0.41441,     0.41542,     0.41642,     0.41742,     0.41842,     0.41942,     0.42042,     0.42142,     0.42242,     0.42342,     0.42442,     0.42543,     0.42643,     0.42743,     0.42843,     0.42943,     0.43043,     0.43143,\n",
              "           0.43243,     0.43343,     0.43443,     0.43544,     0.43644,     0.43744,     0.43844,     0.43944,     0.44044,     0.44144,     0.44244,     0.44344,     0.44444,     0.44545,     0.44645,     0.44745,     0.44845,     0.44945,     0.45045,     0.45145,     0.45245,     0.45345,     0.45445,     0.45546,\n",
              "           0.45646,     0.45746,     0.45846,     0.45946,     0.46046,     0.46146,     0.46246,     0.46346,     0.46446,     0.46547,     0.46647,     0.46747,     0.46847,     0.46947,     0.47047,     0.47147,     0.47247,     0.47347,     0.47447,     0.47548,     0.47648,     0.47748,     0.47848,     0.47948,\n",
              "           0.48048,     0.48148,     0.48248,     0.48348,     0.48448,     0.48549,     0.48649,     0.48749,     0.48849,     0.48949,     0.49049,     0.49149,     0.49249,     0.49349,     0.49449,      0.4955,      0.4965,      0.4975,      0.4985,      0.4995,      0.5005,      0.5015,      0.5025,      0.5035,\n",
              "            0.5045,     0.50551,     0.50651,     0.50751,     0.50851,     0.50951,     0.51051,     0.51151,     0.51251,     0.51351,     0.51451,     0.51552,     0.51652,     0.51752,     0.51852,     0.51952,     0.52052,     0.52152,     0.52252,     0.52352,     0.52452,     0.52553,     0.52653,     0.52753,\n",
              "           0.52853,     0.52953,     0.53053,     0.53153,     0.53253,     0.53353,     0.53453,     0.53554,     0.53654,     0.53754,     0.53854,     0.53954,     0.54054,     0.54154,     0.54254,     0.54354,     0.54454,     0.54555,     0.54655,     0.54755,     0.54855,     0.54955,     0.55055,     0.55155,\n",
              "           0.55255,     0.55355,     0.55455,     0.55556,     0.55656,     0.55756,     0.55856,     0.55956,     0.56056,     0.56156,     0.56256,     0.56356,     0.56456,     0.56557,     0.56657,     0.56757,     0.56857,     0.56957,     0.57057,     0.57157,     0.57257,     0.57357,     0.57457,     0.57558,\n",
              "           0.57658,     0.57758,     0.57858,     0.57958,     0.58058,     0.58158,     0.58258,     0.58358,     0.58458,     0.58559,     0.58659,     0.58759,     0.58859,     0.58959,     0.59059,     0.59159,     0.59259,     0.59359,     0.59459,      0.5956,      0.5966,      0.5976,      0.5986,      0.5996,\n",
              "            0.6006,      0.6016,      0.6026,      0.6036,      0.6046,     0.60561,     0.60661,     0.60761,     0.60861,     0.60961,     0.61061,     0.61161,     0.61261,     0.61361,     0.61461,     0.61562,     0.61662,     0.61762,     0.61862,     0.61962,     0.62062,     0.62162,     0.62262,     0.62362,\n",
              "           0.62462,     0.62563,     0.62663,     0.62763,     0.62863,     0.62963,     0.63063,     0.63163,     0.63263,     0.63363,     0.63463,     0.63564,     0.63664,     0.63764,     0.63864,     0.63964,     0.64064,     0.64164,     0.64264,     0.64364,     0.64464,     0.64565,     0.64665,     0.64765,\n",
              "           0.64865,     0.64965,     0.65065,     0.65165,     0.65265,     0.65365,     0.65465,     0.65566,     0.65666,     0.65766,     0.65866,     0.65966,     0.66066,     0.66166,     0.66266,     0.66366,     0.66466,     0.66567,     0.66667,     0.66767,     0.66867,     0.66967,     0.67067,     0.67167,\n",
              "           0.67267,     0.67367,     0.67467,     0.67568,     0.67668,     0.67768,     0.67868,     0.67968,     0.68068,     0.68168,     0.68268,     0.68368,     0.68468,     0.68569,     0.68669,     0.68769,     0.68869,     0.68969,     0.69069,     0.69169,     0.69269,     0.69369,     0.69469,      0.6957,\n",
              "            0.6967,      0.6977,      0.6987,      0.6997,      0.7007,      0.7017,      0.7027,      0.7037,      0.7047,     0.70571,     0.70671,     0.70771,     0.70871,     0.70971,     0.71071,     0.71171,     0.71271,     0.71371,     0.71471,     0.71572,     0.71672,     0.71772,     0.71872,     0.71972,\n",
              "           0.72072,     0.72172,     0.72272,     0.72372,     0.72472,     0.72573,     0.72673,     0.72773,     0.72873,     0.72973,     0.73073,     0.73173,     0.73273,     0.73373,     0.73473,     0.73574,     0.73674,     0.73774,     0.73874,     0.73974,     0.74074,     0.74174,     0.74274,     0.74374,\n",
              "           0.74474,     0.74575,     0.74675,     0.74775,     0.74875,     0.74975,     0.75075,     0.75175,     0.75275,     0.75375,     0.75475,     0.75576,     0.75676,     0.75776,     0.75876,     0.75976,     0.76076,     0.76176,     0.76276,     0.76376,     0.76476,     0.76577,     0.76677,     0.76777,\n",
              "           0.76877,     0.76977,     0.77077,     0.77177,     0.77277,     0.77377,     0.77477,     0.77578,     0.77678,     0.77778,     0.77878,     0.77978,     0.78078,     0.78178,     0.78278,     0.78378,     0.78478,     0.78579,     0.78679,     0.78779,     0.78879,     0.78979,     0.79079,     0.79179,\n",
              "           0.79279,     0.79379,     0.79479,      0.7958,      0.7968,      0.7978,      0.7988,      0.7998,      0.8008,      0.8018,      0.8028,      0.8038,      0.8048,     0.80581,     0.80681,     0.80781,     0.80881,     0.80981,     0.81081,     0.81181,     0.81281,     0.81381,     0.81481,     0.81582,\n",
              "           0.81682,     0.81782,     0.81882,     0.81982,     0.82082,     0.82182,     0.82282,     0.82382,     0.82482,     0.82583,     0.82683,     0.82783,     0.82883,     0.82983,     0.83083,     0.83183,     0.83283,     0.83383,     0.83483,     0.83584,     0.83684,     0.83784,     0.83884,     0.83984,\n",
              "           0.84084,     0.84184,     0.84284,     0.84384,     0.84484,     0.84585,     0.84685,     0.84785,     0.84885,     0.84985,     0.85085,     0.85185,     0.85285,     0.85385,     0.85485,     0.85586,     0.85686,     0.85786,     0.85886,     0.85986,     0.86086,     0.86186,     0.86286,     0.86386,\n",
              "           0.86486,     0.86587,     0.86687,     0.86787,     0.86887,     0.86987,     0.87087,     0.87187,     0.87287,     0.87387,     0.87487,     0.87588,     0.87688,     0.87788,     0.87888,     0.87988,     0.88088,     0.88188,     0.88288,     0.88388,     0.88488,     0.88589,     0.88689,     0.88789,\n",
              "           0.88889,     0.88989,     0.89089,     0.89189,     0.89289,     0.89389,     0.89489,      0.8959,      0.8969,      0.8979,      0.8989,      0.8999,      0.9009,      0.9019,      0.9029,      0.9039,      0.9049,     0.90591,     0.90691,     0.90791,     0.90891,     0.90991,     0.91091,     0.91191,\n",
              "           0.91291,     0.91391,     0.91491,     0.91592,     0.91692,     0.91792,     0.91892,     0.91992,     0.92092,     0.92192,     0.92292,     0.92392,     0.92492,     0.92593,     0.92693,     0.92793,     0.92893,     0.92993,     0.93093,     0.93193,     0.93293,     0.93393,     0.93493,     0.93594,\n",
              "           0.93694,     0.93794,     0.93894,     0.93994,     0.94094,     0.94194,     0.94294,     0.94394,     0.94494,     0.94595,     0.94695,     0.94795,     0.94895,     0.94995,     0.95095,     0.95195,     0.95295,     0.95395,     0.95495,     0.95596,     0.95696,     0.95796,     0.95896,     0.95996,\n",
              "           0.96096,     0.96196,     0.96296,     0.96396,     0.96496,     0.96597,     0.96697,     0.96797,     0.96897,     0.96997,     0.97097,     0.97197,     0.97297,     0.97397,     0.97497,     0.97598,     0.97698,     0.97798,     0.97898,     0.97998,     0.98098,     0.98198,     0.98298,     0.98398,\n",
              "           0.98498,     0.98599,     0.98699,     0.98799,     0.98899,     0.98999,     0.99099,     0.99199,     0.99299,     0.99399,     0.99499,       0.996,       0.997,       0.998,       0.999,           1]), array([[    0.01995,     0.01995,    0.022677, ...,           0,           0,           0],\n",
              "       [    0.10741,     0.10741,     0.11698, ...,           0,           0,           0]]), 'Confidence', 'F1'], [array([          0,    0.001001,    0.002002,    0.003003,    0.004004,    0.005005,    0.006006,    0.007007,    0.008008,    0.009009,     0.01001,    0.011011,    0.012012,    0.013013,    0.014014,    0.015015,    0.016016,    0.017017,    0.018018,    0.019019,     0.02002,    0.021021,    0.022022,    0.023023,\n",
              "          0.024024,    0.025025,    0.026026,    0.027027,    0.028028,    0.029029,     0.03003,    0.031031,    0.032032,    0.033033,    0.034034,    0.035035,    0.036036,    0.037037,    0.038038,    0.039039,     0.04004,    0.041041,    0.042042,    0.043043,    0.044044,    0.045045,    0.046046,    0.047047,\n",
              "          0.048048,    0.049049,     0.05005,    0.051051,    0.052052,    0.053053,    0.054054,    0.055055,    0.056056,    0.057057,    0.058058,    0.059059,     0.06006,    0.061061,    0.062062,    0.063063,    0.064064,    0.065065,    0.066066,    0.067067,    0.068068,    0.069069,     0.07007,    0.071071,\n",
              "          0.072072,    0.073073,    0.074074,    0.075075,    0.076076,    0.077077,    0.078078,    0.079079,     0.08008,    0.081081,    0.082082,    0.083083,    0.084084,    0.085085,    0.086086,    0.087087,    0.088088,    0.089089,     0.09009,    0.091091,    0.092092,    0.093093,    0.094094,    0.095095,\n",
              "          0.096096,    0.097097,    0.098098,    0.099099,      0.1001,      0.1011,      0.1021,      0.1031,      0.1041,     0.10511,     0.10611,     0.10711,     0.10811,     0.10911,     0.11011,     0.11111,     0.11211,     0.11311,     0.11411,     0.11512,     0.11612,     0.11712,     0.11812,     0.11912,\n",
              "           0.12012,     0.12112,     0.12212,     0.12312,     0.12412,     0.12513,     0.12613,     0.12713,     0.12813,     0.12913,     0.13013,     0.13113,     0.13213,     0.13313,     0.13413,     0.13514,     0.13614,     0.13714,     0.13814,     0.13914,     0.14014,     0.14114,     0.14214,     0.14314,\n",
              "           0.14414,     0.14515,     0.14615,     0.14715,     0.14815,     0.14915,     0.15015,     0.15115,     0.15215,     0.15315,     0.15415,     0.15516,     0.15616,     0.15716,     0.15816,     0.15916,     0.16016,     0.16116,     0.16216,     0.16316,     0.16416,     0.16517,     0.16617,     0.16717,\n",
              "           0.16817,     0.16917,     0.17017,     0.17117,     0.17217,     0.17317,     0.17417,     0.17518,     0.17618,     0.17718,     0.17818,     0.17918,     0.18018,     0.18118,     0.18218,     0.18318,     0.18418,     0.18519,     0.18619,     0.18719,     0.18819,     0.18919,     0.19019,     0.19119,\n",
              "           0.19219,     0.19319,     0.19419,      0.1952,      0.1962,      0.1972,      0.1982,      0.1992,      0.2002,      0.2012,      0.2022,      0.2032,      0.2042,     0.20521,     0.20621,     0.20721,     0.20821,     0.20921,     0.21021,     0.21121,     0.21221,     0.21321,     0.21421,     0.21522,\n",
              "           0.21622,     0.21722,     0.21822,     0.21922,     0.22022,     0.22122,     0.22222,     0.22322,     0.22422,     0.22523,     0.22623,     0.22723,     0.22823,     0.22923,     0.23023,     0.23123,     0.23223,     0.23323,     0.23423,     0.23524,     0.23624,     0.23724,     0.23824,     0.23924,\n",
              "           0.24024,     0.24124,     0.24224,     0.24324,     0.24424,     0.24525,     0.24625,     0.24725,     0.24825,     0.24925,     0.25025,     0.25125,     0.25225,     0.25325,     0.25425,     0.25526,     0.25626,     0.25726,     0.25826,     0.25926,     0.26026,     0.26126,     0.26226,     0.26326,\n",
              "           0.26426,     0.26527,     0.26627,     0.26727,     0.26827,     0.26927,     0.27027,     0.27127,     0.27227,     0.27327,     0.27427,     0.27528,     0.27628,     0.27728,     0.27828,     0.27928,     0.28028,     0.28128,     0.28228,     0.28328,     0.28428,     0.28529,     0.28629,     0.28729,\n",
              "           0.28829,     0.28929,     0.29029,     0.29129,     0.29229,     0.29329,     0.29429,      0.2953,      0.2963,      0.2973,      0.2983,      0.2993,      0.3003,      0.3013,      0.3023,      0.3033,      0.3043,     0.30531,     0.30631,     0.30731,     0.30831,     0.30931,     0.31031,     0.31131,\n",
              "           0.31231,     0.31331,     0.31431,     0.31532,     0.31632,     0.31732,     0.31832,     0.31932,     0.32032,     0.32132,     0.32232,     0.32332,     0.32432,     0.32533,     0.32633,     0.32733,     0.32833,     0.32933,     0.33033,     0.33133,     0.33233,     0.33333,     0.33433,     0.33534,\n",
              "           0.33634,     0.33734,     0.33834,     0.33934,     0.34034,     0.34134,     0.34234,     0.34334,     0.34434,     0.34535,     0.34635,     0.34735,     0.34835,     0.34935,     0.35035,     0.35135,     0.35235,     0.35335,     0.35435,     0.35536,     0.35636,     0.35736,     0.35836,     0.35936,\n",
              "           0.36036,     0.36136,     0.36236,     0.36336,     0.36436,     0.36537,     0.36637,     0.36737,     0.36837,     0.36937,     0.37037,     0.37137,     0.37237,     0.37337,     0.37437,     0.37538,     0.37638,     0.37738,     0.37838,     0.37938,     0.38038,     0.38138,     0.38238,     0.38338,\n",
              "           0.38438,     0.38539,     0.38639,     0.38739,     0.38839,     0.38939,     0.39039,     0.39139,     0.39239,     0.39339,     0.39439,      0.3954,      0.3964,      0.3974,      0.3984,      0.3994,      0.4004,      0.4014,      0.4024,      0.4034,      0.4044,     0.40541,     0.40641,     0.40741,\n",
              "           0.40841,     0.40941,     0.41041,     0.41141,     0.41241,     0.41341,     0.41441,     0.41542,     0.41642,     0.41742,     0.41842,     0.41942,     0.42042,     0.42142,     0.42242,     0.42342,     0.42442,     0.42543,     0.42643,     0.42743,     0.42843,     0.42943,     0.43043,     0.43143,\n",
              "           0.43243,     0.43343,     0.43443,     0.43544,     0.43644,     0.43744,     0.43844,     0.43944,     0.44044,     0.44144,     0.44244,     0.44344,     0.44444,     0.44545,     0.44645,     0.44745,     0.44845,     0.44945,     0.45045,     0.45145,     0.45245,     0.45345,     0.45445,     0.45546,\n",
              "           0.45646,     0.45746,     0.45846,     0.45946,     0.46046,     0.46146,     0.46246,     0.46346,     0.46446,     0.46547,     0.46647,     0.46747,     0.46847,     0.46947,     0.47047,     0.47147,     0.47247,     0.47347,     0.47447,     0.47548,     0.47648,     0.47748,     0.47848,     0.47948,\n",
              "           0.48048,     0.48148,     0.48248,     0.48348,     0.48448,     0.48549,     0.48649,     0.48749,     0.48849,     0.48949,     0.49049,     0.49149,     0.49249,     0.49349,     0.49449,      0.4955,      0.4965,      0.4975,      0.4985,      0.4995,      0.5005,      0.5015,      0.5025,      0.5035,\n",
              "            0.5045,     0.50551,     0.50651,     0.50751,     0.50851,     0.50951,     0.51051,     0.51151,     0.51251,     0.51351,     0.51451,     0.51552,     0.51652,     0.51752,     0.51852,     0.51952,     0.52052,     0.52152,     0.52252,     0.52352,     0.52452,     0.52553,     0.52653,     0.52753,\n",
              "           0.52853,     0.52953,     0.53053,     0.53153,     0.53253,     0.53353,     0.53453,     0.53554,     0.53654,     0.53754,     0.53854,     0.53954,     0.54054,     0.54154,     0.54254,     0.54354,     0.54454,     0.54555,     0.54655,     0.54755,     0.54855,     0.54955,     0.55055,     0.55155,\n",
              "           0.55255,     0.55355,     0.55455,     0.55556,     0.55656,     0.55756,     0.55856,     0.55956,     0.56056,     0.56156,     0.56256,     0.56356,     0.56456,     0.56557,     0.56657,     0.56757,     0.56857,     0.56957,     0.57057,     0.57157,     0.57257,     0.57357,     0.57457,     0.57558,\n",
              "           0.57658,     0.57758,     0.57858,     0.57958,     0.58058,     0.58158,     0.58258,     0.58358,     0.58458,     0.58559,     0.58659,     0.58759,     0.58859,     0.58959,     0.59059,     0.59159,     0.59259,     0.59359,     0.59459,      0.5956,      0.5966,      0.5976,      0.5986,      0.5996,\n",
              "            0.6006,      0.6016,      0.6026,      0.6036,      0.6046,     0.60561,     0.60661,     0.60761,     0.60861,     0.60961,     0.61061,     0.61161,     0.61261,     0.61361,     0.61461,     0.61562,     0.61662,     0.61762,     0.61862,     0.61962,     0.62062,     0.62162,     0.62262,     0.62362,\n",
              "           0.62462,     0.62563,     0.62663,     0.62763,     0.62863,     0.62963,     0.63063,     0.63163,     0.63263,     0.63363,     0.63463,     0.63564,     0.63664,     0.63764,     0.63864,     0.63964,     0.64064,     0.64164,     0.64264,     0.64364,     0.64464,     0.64565,     0.64665,     0.64765,\n",
              "           0.64865,     0.64965,     0.65065,     0.65165,     0.65265,     0.65365,     0.65465,     0.65566,     0.65666,     0.65766,     0.65866,     0.65966,     0.66066,     0.66166,     0.66266,     0.66366,     0.66466,     0.66567,     0.66667,     0.66767,     0.66867,     0.66967,     0.67067,     0.67167,\n",
              "           0.67267,     0.67367,     0.67467,     0.67568,     0.67668,     0.67768,     0.67868,     0.67968,     0.68068,     0.68168,     0.68268,     0.68368,     0.68468,     0.68569,     0.68669,     0.68769,     0.68869,     0.68969,     0.69069,     0.69169,     0.69269,     0.69369,     0.69469,      0.6957,\n",
              "            0.6967,      0.6977,      0.6987,      0.6997,      0.7007,      0.7017,      0.7027,      0.7037,      0.7047,     0.70571,     0.70671,     0.70771,     0.70871,     0.70971,     0.71071,     0.71171,     0.71271,     0.71371,     0.71471,     0.71572,     0.71672,     0.71772,     0.71872,     0.71972,\n",
              "           0.72072,     0.72172,     0.72272,     0.72372,     0.72472,     0.72573,     0.72673,     0.72773,     0.72873,     0.72973,     0.73073,     0.73173,     0.73273,     0.73373,     0.73473,     0.73574,     0.73674,     0.73774,     0.73874,     0.73974,     0.74074,     0.74174,     0.74274,     0.74374,\n",
              "           0.74474,     0.74575,     0.74675,     0.74775,     0.74875,     0.74975,     0.75075,     0.75175,     0.75275,     0.75375,     0.75475,     0.75576,     0.75676,     0.75776,     0.75876,     0.75976,     0.76076,     0.76176,     0.76276,     0.76376,     0.76476,     0.76577,     0.76677,     0.76777,\n",
              "           0.76877,     0.76977,     0.77077,     0.77177,     0.77277,     0.77377,     0.77477,     0.77578,     0.77678,     0.77778,     0.77878,     0.77978,     0.78078,     0.78178,     0.78278,     0.78378,     0.78478,     0.78579,     0.78679,     0.78779,     0.78879,     0.78979,     0.79079,     0.79179,\n",
              "           0.79279,     0.79379,     0.79479,      0.7958,      0.7968,      0.7978,      0.7988,      0.7998,      0.8008,      0.8018,      0.8028,      0.8038,      0.8048,     0.80581,     0.80681,     0.80781,     0.80881,     0.80981,     0.81081,     0.81181,     0.81281,     0.81381,     0.81481,     0.81582,\n",
              "           0.81682,     0.81782,     0.81882,     0.81982,     0.82082,     0.82182,     0.82282,     0.82382,     0.82482,     0.82583,     0.82683,     0.82783,     0.82883,     0.82983,     0.83083,     0.83183,     0.83283,     0.83383,     0.83483,     0.83584,     0.83684,     0.83784,     0.83884,     0.83984,\n",
              "           0.84084,     0.84184,     0.84284,     0.84384,     0.84484,     0.84585,     0.84685,     0.84785,     0.84885,     0.84985,     0.85085,     0.85185,     0.85285,     0.85385,     0.85485,     0.85586,     0.85686,     0.85786,     0.85886,     0.85986,     0.86086,     0.86186,     0.86286,     0.86386,\n",
              "           0.86486,     0.86587,     0.86687,     0.86787,     0.86887,     0.86987,     0.87087,     0.87187,     0.87287,     0.87387,     0.87487,     0.87588,     0.87688,     0.87788,     0.87888,     0.87988,     0.88088,     0.88188,     0.88288,     0.88388,     0.88488,     0.88589,     0.88689,     0.88789,\n",
              "           0.88889,     0.88989,     0.89089,     0.89189,     0.89289,     0.89389,     0.89489,      0.8959,      0.8969,      0.8979,      0.8989,      0.8999,      0.9009,      0.9019,      0.9029,      0.9039,      0.9049,     0.90591,     0.90691,     0.90791,     0.90891,     0.90991,     0.91091,     0.91191,\n",
              "           0.91291,     0.91391,     0.91491,     0.91592,     0.91692,     0.91792,     0.91892,     0.91992,     0.92092,     0.92192,     0.92292,     0.92392,     0.92492,     0.92593,     0.92693,     0.92793,     0.92893,     0.92993,     0.93093,     0.93193,     0.93293,     0.93393,     0.93493,     0.93594,\n",
              "           0.93694,     0.93794,     0.93894,     0.93994,     0.94094,     0.94194,     0.94294,     0.94394,     0.94494,     0.94595,     0.94695,     0.94795,     0.94895,     0.94995,     0.95095,     0.95195,     0.95295,     0.95395,     0.95495,     0.95596,     0.95696,     0.95796,     0.95896,     0.95996,\n",
              "           0.96096,     0.96196,     0.96296,     0.96396,     0.96496,     0.96597,     0.96697,     0.96797,     0.96897,     0.96997,     0.97097,     0.97197,     0.97297,     0.97397,     0.97497,     0.97598,     0.97698,     0.97798,     0.97898,     0.97998,     0.98098,     0.98198,     0.98298,     0.98398,\n",
              "           0.98498,     0.98599,     0.98699,     0.98799,     0.98899,     0.98999,     0.99099,     0.99199,     0.99299,     0.99399,     0.99499,       0.996,       0.997,       0.998,       0.999,           1]), array([[   0.010082,    0.010082,    0.011477, ...,           1,           1,           1],\n",
              "       [   0.057076,    0.057076,    0.062511, ...,           1,           1,           1]]), 'Confidence', 'Precision'], [array([          0,    0.001001,    0.002002,    0.003003,    0.004004,    0.005005,    0.006006,    0.007007,    0.008008,    0.009009,     0.01001,    0.011011,    0.012012,    0.013013,    0.014014,    0.015015,    0.016016,    0.017017,    0.018018,    0.019019,     0.02002,    0.021021,    0.022022,    0.023023,\n",
              "          0.024024,    0.025025,    0.026026,    0.027027,    0.028028,    0.029029,     0.03003,    0.031031,    0.032032,    0.033033,    0.034034,    0.035035,    0.036036,    0.037037,    0.038038,    0.039039,     0.04004,    0.041041,    0.042042,    0.043043,    0.044044,    0.045045,    0.046046,    0.047047,\n",
              "          0.048048,    0.049049,     0.05005,    0.051051,    0.052052,    0.053053,    0.054054,    0.055055,    0.056056,    0.057057,    0.058058,    0.059059,     0.06006,    0.061061,    0.062062,    0.063063,    0.064064,    0.065065,    0.066066,    0.067067,    0.068068,    0.069069,     0.07007,    0.071071,\n",
              "          0.072072,    0.073073,    0.074074,    0.075075,    0.076076,    0.077077,    0.078078,    0.079079,     0.08008,    0.081081,    0.082082,    0.083083,    0.084084,    0.085085,    0.086086,    0.087087,    0.088088,    0.089089,     0.09009,    0.091091,    0.092092,    0.093093,    0.094094,    0.095095,\n",
              "          0.096096,    0.097097,    0.098098,    0.099099,      0.1001,      0.1011,      0.1021,      0.1031,      0.1041,     0.10511,     0.10611,     0.10711,     0.10811,     0.10911,     0.11011,     0.11111,     0.11211,     0.11311,     0.11411,     0.11512,     0.11612,     0.11712,     0.11812,     0.11912,\n",
              "           0.12012,     0.12112,     0.12212,     0.12312,     0.12412,     0.12513,     0.12613,     0.12713,     0.12813,     0.12913,     0.13013,     0.13113,     0.13213,     0.13313,     0.13413,     0.13514,     0.13614,     0.13714,     0.13814,     0.13914,     0.14014,     0.14114,     0.14214,     0.14314,\n",
              "           0.14414,     0.14515,     0.14615,     0.14715,     0.14815,     0.14915,     0.15015,     0.15115,     0.15215,     0.15315,     0.15415,     0.15516,     0.15616,     0.15716,     0.15816,     0.15916,     0.16016,     0.16116,     0.16216,     0.16316,     0.16416,     0.16517,     0.16617,     0.16717,\n",
              "           0.16817,     0.16917,     0.17017,     0.17117,     0.17217,     0.17317,     0.17417,     0.17518,     0.17618,     0.17718,     0.17818,     0.17918,     0.18018,     0.18118,     0.18218,     0.18318,     0.18418,     0.18519,     0.18619,     0.18719,     0.18819,     0.18919,     0.19019,     0.19119,\n",
              "           0.19219,     0.19319,     0.19419,      0.1952,      0.1962,      0.1972,      0.1982,      0.1992,      0.2002,      0.2012,      0.2022,      0.2032,      0.2042,     0.20521,     0.20621,     0.20721,     0.20821,     0.20921,     0.21021,     0.21121,     0.21221,     0.21321,     0.21421,     0.21522,\n",
              "           0.21622,     0.21722,     0.21822,     0.21922,     0.22022,     0.22122,     0.22222,     0.22322,     0.22422,     0.22523,     0.22623,     0.22723,     0.22823,     0.22923,     0.23023,     0.23123,     0.23223,     0.23323,     0.23423,     0.23524,     0.23624,     0.23724,     0.23824,     0.23924,\n",
              "           0.24024,     0.24124,     0.24224,     0.24324,     0.24424,     0.24525,     0.24625,     0.24725,     0.24825,     0.24925,     0.25025,     0.25125,     0.25225,     0.25325,     0.25425,     0.25526,     0.25626,     0.25726,     0.25826,     0.25926,     0.26026,     0.26126,     0.26226,     0.26326,\n",
              "           0.26426,     0.26527,     0.26627,     0.26727,     0.26827,     0.26927,     0.27027,     0.27127,     0.27227,     0.27327,     0.27427,     0.27528,     0.27628,     0.27728,     0.27828,     0.27928,     0.28028,     0.28128,     0.28228,     0.28328,     0.28428,     0.28529,     0.28629,     0.28729,\n",
              "           0.28829,     0.28929,     0.29029,     0.29129,     0.29229,     0.29329,     0.29429,      0.2953,      0.2963,      0.2973,      0.2983,      0.2993,      0.3003,      0.3013,      0.3023,      0.3033,      0.3043,     0.30531,     0.30631,     0.30731,     0.30831,     0.30931,     0.31031,     0.31131,\n",
              "           0.31231,     0.31331,     0.31431,     0.31532,     0.31632,     0.31732,     0.31832,     0.31932,     0.32032,     0.32132,     0.32232,     0.32332,     0.32432,     0.32533,     0.32633,     0.32733,     0.32833,     0.32933,     0.33033,     0.33133,     0.33233,     0.33333,     0.33433,     0.33534,\n",
              "           0.33634,     0.33734,     0.33834,     0.33934,     0.34034,     0.34134,     0.34234,     0.34334,     0.34434,     0.34535,     0.34635,     0.34735,     0.34835,     0.34935,     0.35035,     0.35135,     0.35235,     0.35335,     0.35435,     0.35536,     0.35636,     0.35736,     0.35836,     0.35936,\n",
              "           0.36036,     0.36136,     0.36236,     0.36336,     0.36436,     0.36537,     0.36637,     0.36737,     0.36837,     0.36937,     0.37037,     0.37137,     0.37237,     0.37337,     0.37437,     0.37538,     0.37638,     0.37738,     0.37838,     0.37938,     0.38038,     0.38138,     0.38238,     0.38338,\n",
              "           0.38438,     0.38539,     0.38639,     0.38739,     0.38839,     0.38939,     0.39039,     0.39139,     0.39239,     0.39339,     0.39439,      0.3954,      0.3964,      0.3974,      0.3984,      0.3994,      0.4004,      0.4014,      0.4024,      0.4034,      0.4044,     0.40541,     0.40641,     0.40741,\n",
              "           0.40841,     0.40941,     0.41041,     0.41141,     0.41241,     0.41341,     0.41441,     0.41542,     0.41642,     0.41742,     0.41842,     0.41942,     0.42042,     0.42142,     0.42242,     0.42342,     0.42442,     0.42543,     0.42643,     0.42743,     0.42843,     0.42943,     0.43043,     0.43143,\n",
              "           0.43243,     0.43343,     0.43443,     0.43544,     0.43644,     0.43744,     0.43844,     0.43944,     0.44044,     0.44144,     0.44244,     0.44344,     0.44444,     0.44545,     0.44645,     0.44745,     0.44845,     0.44945,     0.45045,     0.45145,     0.45245,     0.45345,     0.45445,     0.45546,\n",
              "           0.45646,     0.45746,     0.45846,     0.45946,     0.46046,     0.46146,     0.46246,     0.46346,     0.46446,     0.46547,     0.46647,     0.46747,     0.46847,     0.46947,     0.47047,     0.47147,     0.47247,     0.47347,     0.47447,     0.47548,     0.47648,     0.47748,     0.47848,     0.47948,\n",
              "           0.48048,     0.48148,     0.48248,     0.48348,     0.48448,     0.48549,     0.48649,     0.48749,     0.48849,     0.48949,     0.49049,     0.49149,     0.49249,     0.49349,     0.49449,      0.4955,      0.4965,      0.4975,      0.4985,      0.4995,      0.5005,      0.5015,      0.5025,      0.5035,\n",
              "            0.5045,     0.50551,     0.50651,     0.50751,     0.50851,     0.50951,     0.51051,     0.51151,     0.51251,     0.51351,     0.51451,     0.51552,     0.51652,     0.51752,     0.51852,     0.51952,     0.52052,     0.52152,     0.52252,     0.52352,     0.52452,     0.52553,     0.52653,     0.52753,\n",
              "           0.52853,     0.52953,     0.53053,     0.53153,     0.53253,     0.53353,     0.53453,     0.53554,     0.53654,     0.53754,     0.53854,     0.53954,     0.54054,     0.54154,     0.54254,     0.54354,     0.54454,     0.54555,     0.54655,     0.54755,     0.54855,     0.54955,     0.55055,     0.55155,\n",
              "           0.55255,     0.55355,     0.55455,     0.55556,     0.55656,     0.55756,     0.55856,     0.55956,     0.56056,     0.56156,     0.56256,     0.56356,     0.56456,     0.56557,     0.56657,     0.56757,     0.56857,     0.56957,     0.57057,     0.57157,     0.57257,     0.57357,     0.57457,     0.57558,\n",
              "           0.57658,     0.57758,     0.57858,     0.57958,     0.58058,     0.58158,     0.58258,     0.58358,     0.58458,     0.58559,     0.58659,     0.58759,     0.58859,     0.58959,     0.59059,     0.59159,     0.59259,     0.59359,     0.59459,      0.5956,      0.5966,      0.5976,      0.5986,      0.5996,\n",
              "            0.6006,      0.6016,      0.6026,      0.6036,      0.6046,     0.60561,     0.60661,     0.60761,     0.60861,     0.60961,     0.61061,     0.61161,     0.61261,     0.61361,     0.61461,     0.61562,     0.61662,     0.61762,     0.61862,     0.61962,     0.62062,     0.62162,     0.62262,     0.62362,\n",
              "           0.62462,     0.62563,     0.62663,     0.62763,     0.62863,     0.62963,     0.63063,     0.63163,     0.63263,     0.63363,     0.63463,     0.63564,     0.63664,     0.63764,     0.63864,     0.63964,     0.64064,     0.64164,     0.64264,     0.64364,     0.64464,     0.64565,     0.64665,     0.64765,\n",
              "           0.64865,     0.64965,     0.65065,     0.65165,     0.65265,     0.65365,     0.65465,     0.65566,     0.65666,     0.65766,     0.65866,     0.65966,     0.66066,     0.66166,     0.66266,     0.66366,     0.66466,     0.66567,     0.66667,     0.66767,     0.66867,     0.66967,     0.67067,     0.67167,\n",
              "           0.67267,     0.67367,     0.67467,     0.67568,     0.67668,     0.67768,     0.67868,     0.67968,     0.68068,     0.68168,     0.68268,     0.68368,     0.68468,     0.68569,     0.68669,     0.68769,     0.68869,     0.68969,     0.69069,     0.69169,     0.69269,     0.69369,     0.69469,      0.6957,\n",
              "            0.6967,      0.6977,      0.6987,      0.6997,      0.7007,      0.7017,      0.7027,      0.7037,      0.7047,     0.70571,     0.70671,     0.70771,     0.70871,     0.70971,     0.71071,     0.71171,     0.71271,     0.71371,     0.71471,     0.71572,     0.71672,     0.71772,     0.71872,     0.71972,\n",
              "           0.72072,     0.72172,     0.72272,     0.72372,     0.72472,     0.72573,     0.72673,     0.72773,     0.72873,     0.72973,     0.73073,     0.73173,     0.73273,     0.73373,     0.73473,     0.73574,     0.73674,     0.73774,     0.73874,     0.73974,     0.74074,     0.74174,     0.74274,     0.74374,\n",
              "           0.74474,     0.74575,     0.74675,     0.74775,     0.74875,     0.74975,     0.75075,     0.75175,     0.75275,     0.75375,     0.75475,     0.75576,     0.75676,     0.75776,     0.75876,     0.75976,     0.76076,     0.76176,     0.76276,     0.76376,     0.76476,     0.76577,     0.76677,     0.76777,\n",
              "           0.76877,     0.76977,     0.77077,     0.77177,     0.77277,     0.77377,     0.77477,     0.77578,     0.77678,     0.77778,     0.77878,     0.77978,     0.78078,     0.78178,     0.78278,     0.78378,     0.78478,     0.78579,     0.78679,     0.78779,     0.78879,     0.78979,     0.79079,     0.79179,\n",
              "           0.79279,     0.79379,     0.79479,      0.7958,      0.7968,      0.7978,      0.7988,      0.7998,      0.8008,      0.8018,      0.8028,      0.8038,      0.8048,     0.80581,     0.80681,     0.80781,     0.80881,     0.80981,     0.81081,     0.81181,     0.81281,     0.81381,     0.81481,     0.81582,\n",
              "           0.81682,     0.81782,     0.81882,     0.81982,     0.82082,     0.82182,     0.82282,     0.82382,     0.82482,     0.82583,     0.82683,     0.82783,     0.82883,     0.82983,     0.83083,     0.83183,     0.83283,     0.83383,     0.83483,     0.83584,     0.83684,     0.83784,     0.83884,     0.83984,\n",
              "           0.84084,     0.84184,     0.84284,     0.84384,     0.84484,     0.84585,     0.84685,     0.84785,     0.84885,     0.84985,     0.85085,     0.85185,     0.85285,     0.85385,     0.85485,     0.85586,     0.85686,     0.85786,     0.85886,     0.85986,     0.86086,     0.86186,     0.86286,     0.86386,\n",
              "           0.86486,     0.86587,     0.86687,     0.86787,     0.86887,     0.86987,     0.87087,     0.87187,     0.87287,     0.87387,     0.87487,     0.87588,     0.87688,     0.87788,     0.87888,     0.87988,     0.88088,     0.88188,     0.88288,     0.88388,     0.88488,     0.88589,     0.88689,     0.88789,\n",
              "           0.88889,     0.88989,     0.89089,     0.89189,     0.89289,     0.89389,     0.89489,      0.8959,      0.8969,      0.8979,      0.8989,      0.8999,      0.9009,      0.9019,      0.9029,      0.9039,      0.9049,     0.90591,     0.90691,     0.90791,     0.90891,     0.90991,     0.91091,     0.91191,\n",
              "           0.91291,     0.91391,     0.91491,     0.91592,     0.91692,     0.91792,     0.91892,     0.91992,     0.92092,     0.92192,     0.92292,     0.92392,     0.92492,     0.92593,     0.92693,     0.92793,     0.92893,     0.92993,     0.93093,     0.93193,     0.93293,     0.93393,     0.93493,     0.93594,\n",
              "           0.93694,     0.93794,     0.93894,     0.93994,     0.94094,     0.94194,     0.94294,     0.94394,     0.94494,     0.94595,     0.94695,     0.94795,     0.94895,     0.94995,     0.95095,     0.95195,     0.95295,     0.95395,     0.95495,     0.95596,     0.95696,     0.95796,     0.95896,     0.95996,\n",
              "           0.96096,     0.96196,     0.96296,     0.96396,     0.96496,     0.96597,     0.96697,     0.96797,     0.96897,     0.96997,     0.97097,     0.97197,     0.97297,     0.97397,     0.97497,     0.97598,     0.97698,     0.97798,     0.97898,     0.97998,     0.98098,     0.98198,     0.98298,     0.98398,\n",
              "           0.98498,     0.98599,     0.98699,     0.98799,     0.98899,     0.98999,     0.99099,     0.99199,     0.99299,     0.99399,     0.99499,       0.996,       0.997,       0.998,       0.999,           1]), array([[    0.94118,     0.94118,     0.94118, ...,           0,           0,           0],\n",
              "       [    0.90878,     0.90878,     0.90878, ...,           0,           0,           0]]), 'Confidence', 'Recall']]\n",
              "fitness: np.float64(0.33385409632883256)\n",
              "keys: ['metrics/precision(B)', 'metrics/recall(B)', 'metrics/mAP50(B)', 'metrics/mAP50-95(B)']\n",
              "maps: array([     0.3301,     0.26976])\n",
              "names: {0: 'undamagedcommercialbuilding', 1: 'undamagedresidentialbuilding'}\n",
              "nt_per_class: array([ 17, 296])\n",
              "nt_per_image: array([ 5, 16])\n",
              "results_dict: {'metrics/precision(B)': 0.5593118148280083, 'metrics/recall(B)': 0.6603736089030208, 'metrics/mAP50(B)': 0.6391766169993673, 'metrics/mAP50-95(B)': 0.2999293718098842, 'fitness': 0.33385409632883256}\n",
              "save_dir: PosixPath('exploratory_phase/yolo11n_training_dataset_v194')\n",
              "speed: {'preprocess': 0.22275276190460622, 'inference': 5.533037952383373, 'loss': 0.00047323809277648773, 'postprocess': 4.864380285718133}\n",
              "stats: {'tp': [], 'conf': [], 'pred_cls': [], 'target_cls': [], 'target_img': []}\n",
              "task: 'detect'"
            ]
          },
          "metadata": {},
          "execution_count": 23
        }
      ]
    },
    {
      "cell_type": "code",
      "source": [
        "results_test.box.map50"
      ],
      "metadata": {
        "id": "q_c3ccBXktPL",
        "outputId": "fda20667-87dd-4b5a-b4ed-528efde252ec",
        "colab": {
          "base_uri": "https://localhost:8080/"
        }
      },
      "id": "q_c3ccBXktPL",
      "execution_count": null,
      "outputs": [
        {
          "output_type": "execute_result",
          "data": {
            "text/plain": [
              "np.float64(0.6391766169993673)"
            ]
          },
          "metadata": {},
          "execution_count": 25
        }
      ]
    },
    {
      "cell_type": "markdown",
      "id": "u4vMkNPurNXr",
      "metadata": {
        "id": "u4vMkNPurNXr"
      },
      "source": [
        "## Use trained model for inference"
      ]
    },
    {
      "cell_type": "code",
      "source": [
        "from google.colab import drive\n",
        "drive.mount(\"/content/drive\")"
      ],
      "metadata": {
        "id": "LLFdc1ycx6pi",
        "outputId": "363e17fa-bed8-4bc3-db10-708647ca1c18",
        "colab": {
          "base_uri": "https://localhost:8080/"
        }
      },
      "id": "LLFdc1ycx6pi",
      "execution_count": null,
      "outputs": [
        {
          "output_type": "stream",
          "name": "stdout",
          "text": [
            "Drive already mounted at /content/drive; to attempt to forcibly remount, call drive.mount(\"/content/drive\", force_remount=True).\n"
          ]
        }
      ]
    },
    {
      "cell_type": "code",
      "execution_count": null,
      "id": "vqrUhrtA2d9C",
      "metadata": {
        "id": "vqrUhrtA2d9C"
      },
      "outputs": [],
      "source": [
        "path_gdrive_images = '/content/drive/MyDrive/Images_Pre_Event/pre_JPEG_Tiles/'"
      ]
    },
    {
      "cell_type": "code",
      "execution_count": null,
      "id": "D0403gEu2I8f",
      "metadata": {
        "colab": {
          "base_uri": "https://localhost:8080/"
        },
        "id": "D0403gEu2I8f",
        "outputId": "7d19f082-bfb3-4d22-9e50-17258e30978e"
      },
      "outputs": [
        {
          "output_type": "execute_result",
          "data": {
            "text/plain": [
              "['/content/drive/MyDrive/Images_Pre_Event/pre_JPEG_Tiles/Pre_Event_tile_0_18.jpg',\n",
              " '/content/drive/MyDrive/Images_Pre_Event/pre_JPEG_Tiles/Pre_Event_tile_0_24.jpg',\n",
              " '/content/drive/MyDrive/Images_Pre_Event/pre_JPEG_Tiles/Pre_Event_tile_0_30.jpg',\n",
              " '/content/drive/MyDrive/Images_Pre_Event/pre_JPEG_Tiles/Pre_Event_tile_0_4.jpg',\n",
              " '/content/drive/MyDrive/Images_Pre_Event/pre_JPEG_Tiles/Pre_Event_tile_0_5.jpg',\n",
              " '/content/drive/MyDrive/Images_Pre_Event/pre_JPEG_Tiles/Pre_Event_tile_10_102.jpg',\n",
              " '/content/drive/MyDrive/Images_Pre_Event/pre_JPEG_Tiles/Pre_Event_tile_10_103.jpg',\n",
              " '/content/drive/MyDrive/Images_Pre_Event/pre_JPEG_Tiles/Pre_Event_tile_10_18.jpg',\n",
              " '/content/drive/MyDrive/Images_Pre_Event/pre_JPEG_Tiles/Pre_Event_tile_10_19.jpg',\n",
              " '/content/drive/MyDrive/Images_Pre_Event/pre_JPEG_Tiles/Pre_Event_tile_10_24.jpg',\n",
              " '/content/drive/MyDrive/Images_Pre_Event/pre_JPEG_Tiles/Pre_Event_tile_10_25.jpg',\n",
              " '/content/drive/MyDrive/Images_Pre_Event/pre_JPEG_Tiles/Pre_Event_tile_10_30.jpg',\n",
              " '/content/drive/MyDrive/Images_Pre_Event/pre_JPEG_Tiles/Pre_Event_tile_10_31.jpg',\n",
              " '/content/drive/MyDrive/Images_Pre_Event/pre_JPEG_Tiles/Pre_Event_tile_10_6.jpg',\n",
              " '/content/drive/MyDrive/Images_Pre_Event/pre_JPEG_Tiles/Pre_Event_tile_10_7.jpg',\n",
              " '/content/drive/MyDrive/Images_Pre_Event/pre_JPEG_Tiles/Pre_Event_tile_11_106.jpg',\n",
              " '/content/drive/MyDrive/Images_Pre_Event/pre_JPEG_Tiles/Pre_Event_tile_11_107.jpg',\n",
              " '/content/drive/MyDrive/Images_Pre_Event/pre_JPEG_Tiles/Pre_Event_tile_11_112.jpg',\n",
              " '/content/drive/MyDrive/Images_Pre_Event/pre_JPEG_Tiles/Pre_Event_tile_11_113.jpg',\n",
              " '/content/drive/MyDrive/Images_Pre_Event/pre_JPEG_Tiles/Pre_Event_tile_11_58.jpg',\n",
              " '/content/drive/MyDrive/Images_Pre_Event/pre_JPEG_Tiles/Pre_Event_tile_11_64.jpg',\n",
              " '/content/drive/MyDrive/Images_Pre_Event/pre_JPEG_Tiles/Pre_Event_tile_11_70.jpg',\n",
              " '/content/drive/MyDrive/Images_Pre_Event/pre_JPEG_Tiles/Pre_Event_tile_12_20.jpg',\n",
              " '/content/drive/MyDrive/Images_Pre_Event/pre_JPEG_Tiles/Pre_Event_tile_12_21.jpg',\n",
              " '/content/drive/MyDrive/Images_Pre_Event/pre_JPEG_Tiles/Pre_Event_tile_12_34.jpg',\n",
              " '/content/drive/MyDrive/Images_Pre_Event/pre_JPEG_Tiles/Pre_Event_tile_12_35.jpg',\n",
              " '/content/drive/MyDrive/Images_Pre_Event/pre_JPEG_Tiles/Pre_Event_tile_12_4.jpg',\n",
              " '/content/drive/MyDrive/Images_Pre_Event/pre_JPEG_Tiles/Pre_Event_tile_12_5.jpg',\n",
              " '/content/drive/MyDrive/Images_Pre_Event/pre_JPEG_Tiles/Pre_Event_tile_13_48.jpg',\n",
              " '/content/drive/MyDrive/Images_Pre_Event/pre_JPEG_Tiles/Pre_Event_tile_13_49.jpg',\n",
              " '/content/drive/MyDrive/Images_Pre_Event/pre_JPEG_Tiles/Pre_Event_tile_13_60.jpg',\n",
              " '/content/drive/MyDrive/Images_Pre_Event/pre_JPEG_Tiles/Pre_Event_tile_13_61.jpg',\n",
              " '/content/drive/MyDrive/Images_Pre_Event/pre_JPEG_Tiles/Pre_Event_tile_13_74.jpg',\n",
              " '/content/drive/MyDrive/Images_Pre_Event/pre_JPEG_Tiles/Pre_Event_tile_13_75.jpg',\n",
              " '/content/drive/MyDrive/Images_Pre_Event/pre_JPEG_Tiles/Pre_Event_tile_14_2.jpg',\n",
              " '/content/drive/MyDrive/Images_Pre_Event/pre_JPEG_Tiles/Pre_Event_tile_14_40.jpg',\n",
              " '/content/drive/MyDrive/Images_Pre_Event/pre_JPEG_Tiles/Pre_Event_tile_14_41.jpg',\n",
              " '/content/drive/MyDrive/Images_Pre_Event/pre_JPEG_Tiles/Pre_Event_tile_14_54.jpg',\n",
              " '/content/drive/MyDrive/Images_Pre_Event/pre_JPEG_Tiles/Pre_Event_tile_14_55.jpg',\n",
              " '/content/drive/MyDrive/Images_Pre_Event/pre_JPEG_Tiles/Pre_Event_tile_14_68.jpg',\n",
              " '/content/drive/MyDrive/Images_Pre_Event/pre_JPEG_Tiles/Pre_Event_tile_14_69.jpg',\n",
              " '/content/drive/MyDrive/Images_Pre_Event/pre_JPEG_Tiles/Pre_Event_tile_14_82.jpg',\n",
              " '/content/drive/MyDrive/Images_Pre_Event/pre_JPEG_Tiles/Pre_Event_tile_14_83.jpg',\n",
              " '/content/drive/MyDrive/Images_Pre_Event/pre_JPEG_Tiles/Pre_Event_tile_14_96.jpg',\n",
              " '/content/drive/MyDrive/Images_Pre_Event/pre_JPEG_Tiles/Pre_Event_tile_14_97.jpg',\n",
              " '/content/drive/MyDrive/Images_Pre_Event/pre_JPEG_Tiles/Pre_Event_tile_15_14.jpg',\n",
              " '/content/drive/MyDrive/Images_Pre_Event/pre_JPEG_Tiles/Pre_Event_tile_15_28.jpg',\n",
              " '/content/drive/MyDrive/Images_Pre_Event/pre_JPEG_Tiles/Pre_Event_tile_15_29.jpg',\n",
              " '/content/drive/MyDrive/Images_Pre_Event/pre_JPEG_Tiles/Pre_Event_tile_16_0.jpg',\n",
              " '/content/drive/MyDrive/Images_Pre_Event/pre_JPEG_Tiles/Pre_Event_tile_16_45.jpg',\n",
              " '/content/drive/MyDrive/Images_Pre_Event/pre_JPEG_Tiles/Pre_Event_tile_16_51.jpg',\n",
              " '/content/drive/MyDrive/Images_Pre_Event/pre_JPEG_Tiles/Pre_Event_tile_16_79.jpg',\n",
              " '/content/drive/MyDrive/Images_Pre_Event/pre_JPEG_Tiles/Pre_Event_tile_16_86.jpg',\n",
              " '/content/drive/MyDrive/Images_Pre_Event/pre_JPEG_Tiles/Pre_Event_tile_16_92.jpg',\n",
              " '/content/drive/MyDrive/Images_Pre_Event/pre_JPEG_Tiles/Pre_Event_tile_17_10.jpg',\n",
              " '/content/drive/MyDrive/Images_Pre_Event/pre_JPEG_Tiles/Pre_Event_tile_17_11.jpg',\n",
              " '/content/drive/MyDrive/Images_Pre_Event/pre_JPEG_Tiles/Pre_Event_tile_17_38.jpg',\n",
              " '/content/drive/MyDrive/Images_Pre_Event/pre_JPEG_Tiles/Pre_Event_tile_17_39.jpg',\n",
              " '/content/drive/MyDrive/Images_Pre_Event/pre_JPEG_Tiles/Pre_Event_tile_18_104.jpg',\n",
              " '/content/drive/MyDrive/Images_Pre_Event/pre_JPEG_Tiles/Pre_Event_tile_18_105.jpg',\n",
              " '/content/drive/MyDrive/Images_Pre_Event/pre_JPEG_Tiles/Pre_Event_tile_18_110.jpg',\n",
              " '/content/drive/MyDrive/Images_Pre_Event/pre_JPEG_Tiles/Pre_Event_tile_18_111.jpg',\n",
              " '/content/drive/MyDrive/Images_Pre_Event/pre_JPEG_Tiles/Pre_Event_tile_18_40.jpg',\n",
              " '/content/drive/MyDrive/Images_Pre_Event/pre_JPEG_Tiles/Pre_Event_tile_18_54.jpg',\n",
              " '/content/drive/MyDrive/Images_Pre_Event/pre_JPEG_Tiles/Pre_Event_tile_18_68.jpg',\n",
              " '/content/drive/MyDrive/Images_Pre_Event/pre_JPEG_Tiles/Pre_Event_tile_18_83.jpg',\n",
              " '/content/drive/MyDrive/Images_Pre_Event/pre_JPEG_Tiles/Pre_Event_tile_18_97.jpg',\n",
              " '/content/drive/MyDrive/Images_Pre_Event/pre_JPEG_Tiles/Pre_Event_tile_19_100.jpg',\n",
              " '/content/drive/MyDrive/Images_Pre_Event/pre_JPEG_Tiles/Pre_Event_tile_19_114.jpg',\n",
              " '/content/drive/MyDrive/Images_Pre_Event/pre_JPEG_Tiles/Pre_Event_tile_19_14.jpg',\n",
              " '/content/drive/MyDrive/Images_Pre_Event/pre_JPEG_Tiles/Pre_Event_tile_19_15.jpg',\n",
              " '/content/drive/MyDrive/Images_Pre_Event/pre_JPEG_Tiles/Pre_Event_tile_19_28.jpg',\n",
              " '/content/drive/MyDrive/Images_Pre_Event/pre_JPEG_Tiles/Pre_Event_tile_19_29.jpg',\n",
              " '/content/drive/MyDrive/Images_Pre_Event/pre_JPEG_Tiles/Pre_Event_tile_1_58.jpg',\n",
              " '/content/drive/MyDrive/Images_Pre_Event/pre_JPEG_Tiles/Pre_Event_tile_1_59.jpg',\n",
              " '/content/drive/MyDrive/Images_Pre_Event/pre_JPEG_Tiles/Pre_Event_tile_1_64.jpg',\n",
              " '/content/drive/MyDrive/Images_Pre_Event/pre_JPEG_Tiles/Pre_Event_tile_1_65.jpg',\n",
              " '/content/drive/MyDrive/Images_Pre_Event/pre_JPEG_Tiles/Pre_Event_tile_1_70.jpg',\n",
              " '/content/drive/MyDrive/Images_Pre_Event/pre_JPEG_Tiles/Pre_Event_tile_1_71.jpg',\n",
              " '/content/drive/MyDrive/Images_Pre_Event/pre_JPEG_Tiles/Pre_Event_tile_20_44.jpg',\n",
              " '/content/drive/MyDrive/Images_Pre_Event/pre_JPEG_Tiles/Pre_Event_tile_20_50.jpg',\n",
              " '/content/drive/MyDrive/Images_Pre_Event/pre_JPEG_Tiles/Pre_Event_tile_20_78.jpg',\n",
              " '/content/drive/MyDrive/Images_Pre_Event/pre_JPEG_Tiles/Pre_Event_tile_20_86.jpg',\n",
              " '/content/drive/MyDrive/Images_Pre_Event/pre_JPEG_Tiles/Pre_Event_tile_20_87.jpg',\n",
              " '/content/drive/MyDrive/Images_Pre_Event/pre_JPEG_Tiles/Pre_Event_tile_20_92.jpg',\n",
              " '/content/drive/MyDrive/Images_Pre_Event/pre_JPEG_Tiles/Pre_Event_tile_20_93.jpg',\n",
              " '/content/drive/MyDrive/Images_Pre_Event/pre_JPEG_Tiles/Pre_Event_tile_21_10.jpg',\n",
              " '/content/drive/MyDrive/Images_Pre_Event/pre_JPEG_Tiles/Pre_Event_tile_21_11.jpg',\n",
              " '/content/drive/MyDrive/Images_Pre_Event/pre_JPEG_Tiles/Pre_Event_tile_21_38.jpg',\n",
              " '/content/drive/MyDrive/Images_Pre_Event/pre_JPEG_Tiles/Pre_Event_tile_21_39.jpg',\n",
              " '/content/drive/MyDrive/Images_Pre_Event/pre_JPEG_Tiles/Pre_Event_tile_22_109.jpg',\n",
              " '/content/drive/MyDrive/Images_Pre_Event/pre_JPEG_Tiles/Pre_Event_tile_22_40.jpg',\n",
              " '/content/drive/MyDrive/Images_Pre_Event/pre_JPEG_Tiles/Pre_Event_tile_22_41.jpg',\n",
              " '/content/drive/MyDrive/Images_Pre_Event/pre_JPEG_Tiles/Pre_Event_tile_22_54.jpg',\n",
              " '/content/drive/MyDrive/Images_Pre_Event/pre_JPEG_Tiles/Pre_Event_tile_22_55.jpg',\n",
              " '/content/drive/MyDrive/Images_Pre_Event/pre_JPEG_Tiles/Pre_Event_tile_22_68.jpg',\n",
              " '/content/drive/MyDrive/Images_Pre_Event/pre_JPEG_Tiles/Pre_Event_tile_22_69.jpg',\n",
              " '/content/drive/MyDrive/Images_Pre_Event/pre_JPEG_Tiles/Pre_Event_tile_22_82.jpg',\n",
              " '/content/drive/MyDrive/Images_Pre_Event/pre_JPEG_Tiles/Pre_Event_tile_22_83.jpg',\n",
              " '/content/drive/MyDrive/Images_Pre_Event/pre_JPEG_Tiles/Pre_Event_tile_22_96.jpg',\n",
              " '/content/drive/MyDrive/Images_Pre_Event/pre_JPEG_Tiles/Pre_Event_tile_22_97.jpg',\n",
              " '/content/drive/MyDrive/Images_Pre_Event/pre_JPEG_Tiles/Pre_Event_tile_23_15.jpg',\n",
              " '/content/drive/MyDrive/Images_Pre_Event/pre_JPEG_Tiles/Pre_Event_tile_23_29.jpg',\n",
              " '/content/drive/MyDrive/Images_Pre_Event/pre_JPEG_Tiles/Pre_Event_tile_23_9.jpg',\n",
              " '/content/drive/MyDrive/Images_Pre_Event/pre_JPEG_Tiles/Pre_Event_tile_24_20.jpg',\n",
              " '/content/drive/MyDrive/Images_Pre_Event/pre_JPEG_Tiles/Pre_Event_tile_24_34.jpg',\n",
              " '/content/drive/MyDrive/Images_Pre_Event/pre_JPEG_Tiles/Pre_Event_tile_25_48.jpg',\n",
              " '/content/drive/MyDrive/Images_Pre_Event/pre_JPEG_Tiles/Pre_Event_tile_25_49.jpg',\n",
              " '/content/drive/MyDrive/Images_Pre_Event/pre_JPEG_Tiles/Pre_Event_tile_25_60.jpg',\n",
              " '/content/drive/MyDrive/Images_Pre_Event/pre_JPEG_Tiles/Pre_Event_tile_25_61.jpg',\n",
              " '/content/drive/MyDrive/Images_Pre_Event/pre_JPEG_Tiles/Pre_Event_tile_25_74.jpg',\n",
              " '/content/drive/MyDrive/Images_Pre_Event/pre_JPEG_Tiles/Pre_Event_tile_25_75.jpg',\n",
              " '/content/drive/MyDrive/Images_Pre_Event/pre_JPEG_Tiles/Pre_Event_tile_26_100.jpg',\n",
              " '/content/drive/MyDrive/Images_Pre_Event/pre_JPEG_Tiles/Pre_Event_tile_26_101.jpg',\n",
              " '/content/drive/MyDrive/Images_Pre_Event/pre_JPEG_Tiles/Pre_Event_tile_26_114.jpg',\n",
              " '/content/drive/MyDrive/Images_Pre_Event/pre_JPEG_Tiles/Pre_Event_tile_26_115.jpg',\n",
              " '/content/drive/MyDrive/Images_Pre_Event/pre_JPEG_Tiles/Pre_Event_tile_26_18.jpg',\n",
              " '/content/drive/MyDrive/Images_Pre_Event/pre_JPEG_Tiles/Pre_Event_tile_26_19.jpg',\n",
              " '/content/drive/MyDrive/Images_Pre_Event/pre_JPEG_Tiles/Pre_Event_tile_26_24.jpg',\n",
              " '/content/drive/MyDrive/Images_Pre_Event/pre_JPEG_Tiles/Pre_Event_tile_26_25.jpg',\n",
              " '/content/drive/MyDrive/Images_Pre_Event/pre_JPEG_Tiles/Pre_Event_tile_26_30.jpg',\n",
              " '/content/drive/MyDrive/Images_Pre_Event/pre_JPEG_Tiles/Pre_Event_tile_26_31.jpg',\n",
              " '/content/drive/MyDrive/Images_Pre_Event/pre_JPEG_Tiles/Pre_Event_tile_27_104.jpg',\n",
              " '/content/drive/MyDrive/Images_Pre_Event/pre_JPEG_Tiles/Pre_Event_tile_27_105.jpg',\n",
              " '/content/drive/MyDrive/Images_Pre_Event/pre_JPEG_Tiles/Pre_Event_tile_27_110.jpg',\n",
              " '/content/drive/MyDrive/Images_Pre_Event/pre_JPEG_Tiles/Pre_Event_tile_27_111.jpg',\n",
              " '/content/drive/MyDrive/Images_Pre_Event/pre_JPEG_Tiles/Pre_Event_tile_27_59.jpg',\n",
              " '/content/drive/MyDrive/Images_Pre_Event/pre_JPEG_Tiles/Pre_Event_tile_27_65.jpg',\n",
              " '/content/drive/MyDrive/Images_Pre_Event/pre_JPEG_Tiles/Pre_Event_tile_27_71.jpg',\n",
              " '/content/drive/MyDrive/Images_Pre_Event/pre_JPEG_Tiles/Pre_Event_tile_28_20.jpg',\n",
              " '/content/drive/MyDrive/Images_Pre_Event/pre_JPEG_Tiles/Pre_Event_tile_28_21.jpg',\n",
              " '/content/drive/MyDrive/Images_Pre_Event/pre_JPEG_Tiles/Pre_Event_tile_28_34.jpg',\n",
              " '/content/drive/MyDrive/Images_Pre_Event/pre_JPEG_Tiles/Pre_Event_tile_28_35.jpg',\n",
              " '/content/drive/MyDrive/Images_Pre_Event/pre_JPEG_Tiles/Pre_Event_tile_29_2.jpg',\n",
              " '/content/drive/MyDrive/Images_Pre_Event/pre_JPEG_Tiles/Pre_Event_tile_29_3.jpg',\n",
              " '/content/drive/MyDrive/Images_Pre_Event/pre_JPEG_Tiles/Pre_Event_tile_29_48.jpg',\n",
              " '/content/drive/MyDrive/Images_Pre_Event/pre_JPEG_Tiles/Pre_Event_tile_29_60.jpg',\n",
              " '/content/drive/MyDrive/Images_Pre_Event/pre_JPEG_Tiles/Pre_Event_tile_29_74.jpg',\n",
              " '/content/drive/MyDrive/Images_Pre_Event/pre_JPEG_Tiles/Pre_Event_tile_2_20.jpg',\n",
              " '/content/drive/MyDrive/Images_Pre_Event/pre_JPEG_Tiles/Pre_Event_tile_2_21.jpg',\n",
              " '/content/drive/MyDrive/Images_Pre_Event/pre_JPEG_Tiles/Pre_Event_tile_2_34.jpg',\n",
              " '/content/drive/MyDrive/Images_Pre_Event/pre_JPEG_Tiles/Pre_Event_tile_2_35.jpg',\n",
              " '/content/drive/MyDrive/Images_Pre_Event/pre_JPEG_Tiles/Pre_Event_tile_2_6.jpg',\n",
              " '/content/drive/MyDrive/Images_Pre_Event/pre_JPEG_Tiles/Pre_Event_tile_2_7.jpg',\n",
              " '/content/drive/MyDrive/Images_Pre_Event/pre_JPEG_Tiles/Pre_Event_tile_30_3.jpg',\n",
              " '/content/drive/MyDrive/Images_Pre_Event/pre_JPEG_Tiles/Pre_Event_tile_30_41.jpg',\n",
              " '/content/drive/MyDrive/Images_Pre_Event/pre_JPEG_Tiles/Pre_Event_tile_30_55.jpg',\n",
              " '/content/drive/MyDrive/Images_Pre_Event/pre_JPEG_Tiles/Pre_Event_tile_30_69.jpg',\n",
              " '/content/drive/MyDrive/Images_Pre_Event/pre_JPEG_Tiles/Pre_Event_tile_30_82.jpg',\n",
              " '/content/drive/MyDrive/Images_Pre_Event/pre_JPEG_Tiles/Pre_Event_tile_30_96.jpg',\n",
              " '/content/drive/MyDrive/Images_Pre_Event/pre_JPEG_Tiles/Pre_Event_tile_31_14.jpg',\n",
              " '/content/drive/MyDrive/Images_Pre_Event/pre_JPEG_Tiles/Pre_Event_tile_31_15.jpg',\n",
              " '/content/drive/MyDrive/Images_Pre_Event/pre_JPEG_Tiles/Pre_Event_tile_31_28.jpg',\n",
              " '/content/drive/MyDrive/Images_Pre_Event/pre_JPEG_Tiles/Pre_Event_tile_31_29.jpg',\n",
              " '/content/drive/MyDrive/Images_Pre_Event/pre_JPEG_Tiles/Pre_Event_tile_32_1.jpg',\n",
              " '/content/drive/MyDrive/Images_Pre_Event/pre_JPEG_Tiles/Pre_Event_tile_32_109.jpg',\n",
              " '/content/drive/MyDrive/Images_Pre_Event/pre_JPEG_Tiles/Pre_Event_tile_32_44.jpg',\n",
              " '/content/drive/MyDrive/Images_Pre_Event/pre_JPEG_Tiles/Pre_Event_tile_32_45.jpg',\n",
              " '/content/drive/MyDrive/Images_Pre_Event/pre_JPEG_Tiles/Pre_Event_tile_32_50.jpg',\n",
              " '/content/drive/MyDrive/Images_Pre_Event/pre_JPEG_Tiles/Pre_Event_tile_32_51.jpg',\n",
              " '/content/drive/MyDrive/Images_Pre_Event/pre_JPEG_Tiles/Pre_Event_tile_32_78.jpg',\n",
              " '/content/drive/MyDrive/Images_Pre_Event/pre_JPEG_Tiles/Pre_Event_tile_32_79.jpg',\n",
              " '/content/drive/MyDrive/Images_Pre_Event/pre_JPEG_Tiles/Pre_Event_tile_32_86.jpg',\n",
              " '/content/drive/MyDrive/Images_Pre_Event/pre_JPEG_Tiles/Pre_Event_tile_32_87.jpg',\n",
              " '/content/drive/MyDrive/Images_Pre_Event/pre_JPEG_Tiles/Pre_Event_tile_32_92.jpg',\n",
              " '/content/drive/MyDrive/Images_Pre_Event/pre_JPEG_Tiles/Pre_Event_tile_32_93.jpg',\n",
              " '/content/drive/MyDrive/Images_Pre_Event/pre_JPEG_Tiles/Pre_Event_tile_33_10.jpg',\n",
              " '/content/drive/MyDrive/Images_Pre_Event/pre_JPEG_Tiles/Pre_Event_tile_33_38.jpg',\n",
              " '/content/drive/MyDrive/Images_Pre_Event/pre_JPEG_Tiles/Pre_Event_tile_34_19.jpg',\n",
              " '/content/drive/MyDrive/Images_Pre_Event/pre_JPEG_Tiles/Pre_Event_tile_34_25.jpg',\n",
              " '/content/drive/MyDrive/Images_Pre_Event/pre_JPEG_Tiles/Pre_Event_tile_34_31.jpg',\n",
              " '/content/drive/MyDrive/Images_Pre_Event/pre_JPEG_Tiles/Pre_Event_tile_34_6.jpg',\n",
              " '/content/drive/MyDrive/Images_Pre_Event/pre_JPEG_Tiles/Pre_Event_tile_34_7.jpg',\n",
              " '/content/drive/MyDrive/Images_Pre_Event/pre_JPEG_Tiles/Pre_Event_tile_35_58.jpg',\n",
              " '/content/drive/MyDrive/Images_Pre_Event/pre_JPEG_Tiles/Pre_Event_tile_35_59.jpg',\n",
              " '/content/drive/MyDrive/Images_Pre_Event/pre_JPEG_Tiles/Pre_Event_tile_35_64.jpg',\n",
              " '/content/drive/MyDrive/Images_Pre_Event/pre_JPEG_Tiles/Pre_Event_tile_35_65.jpg',\n",
              " '/content/drive/MyDrive/Images_Pre_Event/pre_JPEG_Tiles/Pre_Event_tile_35_70.jpg',\n",
              " '/content/drive/MyDrive/Images_Pre_Event/pre_JPEG_Tiles/Pre_Event_tile_35_71.jpg',\n",
              " '/content/drive/MyDrive/Images_Pre_Event/pre_JPEG_Tiles/Pre_Event_tile_36_100.jpg',\n",
              " '/content/drive/MyDrive/Images_Pre_Event/pre_JPEG_Tiles/Pre_Event_tile_36_101.jpg',\n",
              " '/content/drive/MyDrive/Images_Pre_Event/pre_JPEG_Tiles/Pre_Event_tile_36_114.jpg',\n",
              " '/content/drive/MyDrive/Images_Pre_Event/pre_JPEG_Tiles/Pre_Event_tile_36_115.jpg',\n",
              " '/content/drive/MyDrive/Images_Pre_Event/pre_JPEG_Tiles/Pre_Event_tile_36_20.jpg',\n",
              " '/content/drive/MyDrive/Images_Pre_Event/pre_JPEG_Tiles/Pre_Event_tile_36_21.jpg',\n",
              " '/content/drive/MyDrive/Images_Pre_Event/pre_JPEG_Tiles/Pre_Event_tile_36_34.jpg',\n",
              " '/content/drive/MyDrive/Images_Pre_Event/pre_JPEG_Tiles/Pre_Event_tile_36_35.jpg',\n",
              " '/content/drive/MyDrive/Images_Pre_Event/pre_JPEG_Tiles/Pre_Event_tile_36_4.jpg',\n",
              " '/content/drive/MyDrive/Images_Pre_Event/pre_JPEG_Tiles/Pre_Event_tile_36_5.jpg',\n",
              " '/content/drive/MyDrive/Images_Pre_Event/pre_JPEG_Tiles/Pre_Event_tile_37_104.jpg',\n",
              " '/content/drive/MyDrive/Images_Pre_Event/pre_JPEG_Tiles/Pre_Event_tile_37_105.jpg',\n",
              " '/content/drive/MyDrive/Images_Pre_Event/pre_JPEG_Tiles/Pre_Event_tile_37_110.jpg',\n",
              " '/content/drive/MyDrive/Images_Pre_Event/pre_JPEG_Tiles/Pre_Event_tile_37_111.jpg',\n",
              " '/content/drive/MyDrive/Images_Pre_Event/pre_JPEG_Tiles/Pre_Event_tile_37_48.jpg',\n",
              " '/content/drive/MyDrive/Images_Pre_Event/pre_JPEG_Tiles/Pre_Event_tile_37_60.jpg',\n",
              " '/content/drive/MyDrive/Images_Pre_Event/pre_JPEG_Tiles/Pre_Event_tile_37_74.jpg',\n",
              " '/content/drive/MyDrive/Images_Pre_Event/pre_JPEG_Tiles/Pre_Event_tile_38_18.jpg',\n",
              " '/content/drive/MyDrive/Images_Pre_Event/pre_JPEG_Tiles/Pre_Event_tile_38_19.jpg',\n",
              " '/content/drive/MyDrive/Images_Pre_Event/pre_JPEG_Tiles/Pre_Event_tile_38_24.jpg',\n",
              " '/content/drive/MyDrive/Images_Pre_Event/pre_JPEG_Tiles/Pre_Event_tile_38_25.jpg',\n",
              " '/content/drive/MyDrive/Images_Pre_Event/pre_JPEG_Tiles/Pre_Event_tile_38_30.jpg',\n",
              " '/content/drive/MyDrive/Images_Pre_Event/pre_JPEG_Tiles/Pre_Event_tile_38_31.jpg',\n",
              " '/content/drive/MyDrive/Images_Pre_Event/pre_JPEG_Tiles/Pre_Event_tile_39_59.jpg',\n",
              " '/content/drive/MyDrive/Images_Pre_Event/pre_JPEG_Tiles/Pre_Event_tile_39_65.jpg',\n",
              " '/content/drive/MyDrive/Images_Pre_Event/pre_JPEG_Tiles/Pre_Event_tile_39_71.jpg',\n",
              " '/content/drive/MyDrive/Images_Pre_Event/pre_JPEG_Tiles/Pre_Event_tile_3_108.jpg',\n",
              " '/content/drive/MyDrive/Images_Pre_Event/pre_JPEG_Tiles/Pre_Event_tile_3_49.jpg',\n",
              " '/content/drive/MyDrive/Images_Pre_Event/pre_JPEG_Tiles/Pre_Event_tile_3_61.jpg',\n",
              " '/content/drive/MyDrive/Images_Pre_Event/pre_JPEG_Tiles/Pre_Event_tile_3_75.jpg',\n",
              " '/content/drive/MyDrive/Images_Pre_Event/pre_JPEG_Tiles/Pre_Event_tile_40_108.jpg',\n",
              " '/content/drive/MyDrive/Images_Pre_Event/pre_JPEG_Tiles/Pre_Event_tile_40_109.jpg',\n",
              " '/content/drive/MyDrive/Images_Pre_Event/pre_JPEG_Tiles/Pre_Event_tile_40_15.jpg',\n",
              " '/content/drive/MyDrive/Images_Pre_Event/pre_JPEG_Tiles/Pre_Event_tile_40_29.jpg',\n",
              " '/content/drive/MyDrive/Images_Pre_Event/pre_JPEG_Tiles/Pre_Event_tile_41_40.jpg',\n",
              " '/content/drive/MyDrive/Images_Pre_Event/pre_JPEG_Tiles/Pre_Event_tile_41_41.jpg',\n",
              " '/content/drive/MyDrive/Images_Pre_Event/pre_JPEG_Tiles/Pre_Event_tile_41_54.jpg',\n",
              " '/content/drive/MyDrive/Images_Pre_Event/pre_JPEG_Tiles/Pre_Event_tile_41_55.jpg',\n",
              " '/content/drive/MyDrive/Images_Pre_Event/pre_JPEG_Tiles/Pre_Event_tile_41_68.jpg',\n",
              " '/content/drive/MyDrive/Images_Pre_Event/pre_JPEG_Tiles/Pre_Event_tile_41_69.jpg',\n",
              " '/content/drive/MyDrive/Images_Pre_Event/pre_JPEG_Tiles/Pre_Event_tile_41_82.jpg',\n",
              " '/content/drive/MyDrive/Images_Pre_Event/pre_JPEG_Tiles/Pre_Event_tile_41_83.jpg',\n",
              " '/content/drive/MyDrive/Images_Pre_Event/pre_JPEG_Tiles/Pre_Event_tile_41_96.jpg',\n",
              " '/content/drive/MyDrive/Images_Pre_Event/pre_JPEG_Tiles/Pre_Event_tile_41_97.jpg',\n",
              " '/content/drive/MyDrive/Images_Pre_Event/pre_JPEG_Tiles/Pre_Event_tile_42_10.jpg',\n",
              " '/content/drive/MyDrive/Images_Pre_Event/pre_JPEG_Tiles/Pre_Event_tile_42_11.jpg',\n",
              " '/content/drive/MyDrive/Images_Pre_Event/pre_JPEG_Tiles/Pre_Event_tile_42_38.jpg',\n",
              " '/content/drive/MyDrive/Images_Pre_Event/pre_JPEG_Tiles/Pre_Event_tile_42_39.jpg',\n",
              " '/content/drive/MyDrive/Images_Pre_Event/pre_JPEG_Tiles/Pre_Event_tile_42_8.jpg',\n",
              " '/content/drive/MyDrive/Images_Pre_Event/pre_JPEG_Tiles/Pre_Event_tile_43_44.jpg',\n",
              " '/content/drive/MyDrive/Images_Pre_Event/pre_JPEG_Tiles/Pre_Event_tile_43_50.jpg',\n",
              " '/content/drive/MyDrive/Images_Pre_Event/pre_JPEG_Tiles/Pre_Event_tile_43_78.jpg',\n",
              " '/content/drive/MyDrive/Images_Pre_Event/pre_JPEG_Tiles/Pre_Event_tile_43_87.jpg',\n",
              " '/content/drive/MyDrive/Images_Pre_Event/pre_JPEG_Tiles/Pre_Event_tile_43_93.jpg',\n",
              " '/content/drive/MyDrive/Images_Pre_Event/pre_JPEG_Tiles/Pre_Event_tile_44_101.jpg',\n",
              " '/content/drive/MyDrive/Images_Pre_Event/pre_JPEG_Tiles/Pre_Event_tile_44_115.jpg',\n",
              " '/content/drive/MyDrive/Images_Pre_Event/pre_JPEG_Tiles/Pre_Event_tile_44_59.jpg',\n",
              " '/content/drive/MyDrive/Images_Pre_Event/pre_JPEG_Tiles/Pre_Event_tile_44_65.jpg',\n",
              " '/content/drive/MyDrive/Images_Pre_Event/pre_JPEG_Tiles/Pre_Event_tile_44_71.jpg',\n",
              " '/content/drive/MyDrive/Images_Pre_Event/pre_JPEG_Tiles/Pre_Event_tile_45_104.jpg',\n",
              " '/content/drive/MyDrive/Images_Pre_Event/pre_JPEG_Tiles/Pre_Event_tile_45_110.jpg',\n",
              " '/content/drive/MyDrive/Images_Pre_Event/pre_JPEG_Tiles/Pre_Event_tile_45_18.jpg',\n",
              " '/content/drive/MyDrive/Images_Pre_Event/pre_JPEG_Tiles/Pre_Event_tile_45_19.jpg',\n",
              " '/content/drive/MyDrive/Images_Pre_Event/pre_JPEG_Tiles/Pre_Event_tile_45_24.jpg',\n",
              " '/content/drive/MyDrive/Images_Pre_Event/pre_JPEG_Tiles/Pre_Event_tile_45_25.jpg',\n",
              " '/content/drive/MyDrive/Images_Pre_Event/pre_JPEG_Tiles/Pre_Event_tile_45_30.jpg',\n",
              " '/content/drive/MyDrive/Images_Pre_Event/pre_JPEG_Tiles/Pre_Event_tile_45_31.jpg',\n",
              " '/content/drive/MyDrive/Images_Pre_Event/pre_JPEG_Tiles/Pre_Event_tile_46_48.jpg',\n",
              " '/content/drive/MyDrive/Images_Pre_Event/pre_JPEG_Tiles/Pre_Event_tile_46_49.jpg',\n",
              " '/content/drive/MyDrive/Images_Pre_Event/pre_JPEG_Tiles/Pre_Event_tile_46_60.jpg',\n",
              " '/content/drive/MyDrive/Images_Pre_Event/pre_JPEG_Tiles/Pre_Event_tile_46_61.jpg',\n",
              " '/content/drive/MyDrive/Images_Pre_Event/pre_JPEG_Tiles/Pre_Event_tile_46_74.jpg',\n",
              " '/content/drive/MyDrive/Images_Pre_Event/pre_JPEG_Tiles/Pre_Event_tile_46_75.jpg',\n",
              " '/content/drive/MyDrive/Images_Pre_Event/pre_JPEG_Tiles/Pre_Event_tile_47_20.jpg',\n",
              " '/content/drive/MyDrive/Images_Pre_Event/pre_JPEG_Tiles/Pre_Event_tile_47_34.jpg',\n",
              " '/content/drive/MyDrive/Images_Pre_Event/pre_JPEG_Tiles/Pre_Event_tile_48_2.jpg',\n",
              " '/content/drive/MyDrive/Images_Pre_Event/pre_JPEG_Tiles/Pre_Event_tile_48_3.jpg',\n",
              " '/content/drive/MyDrive/Images_Pre_Event/pre_JPEG_Tiles/Pre_Event_tile_48_58.jpg',\n",
              " '/content/drive/MyDrive/Images_Pre_Event/pre_JPEG_Tiles/Pre_Event_tile_48_59.jpg',\n",
              " '/content/drive/MyDrive/Images_Pre_Event/pre_JPEG_Tiles/Pre_Event_tile_48_64.jpg',\n",
              " '/content/drive/MyDrive/Images_Pre_Event/pre_JPEG_Tiles/Pre_Event_tile_48_65.jpg',\n",
              " '/content/drive/MyDrive/Images_Pre_Event/pre_JPEG_Tiles/Pre_Event_tile_48_70.jpg',\n",
              " '/content/drive/MyDrive/Images_Pre_Event/pre_JPEG_Tiles/Pre_Event_tile_48_71.jpg',\n",
              " '/content/drive/MyDrive/Images_Pre_Event/pre_JPEG_Tiles/Pre_Event_tile_49_19.jpg',\n",
              " '/content/drive/MyDrive/Images_Pre_Event/pre_JPEG_Tiles/Pre_Event_tile_49_24.jpg',\n",
              " '/content/drive/MyDrive/Images_Pre_Event/pre_JPEG_Tiles/Pre_Event_tile_49_25.jpg',\n",
              " '/content/drive/MyDrive/Images_Pre_Event/pre_JPEG_Tiles/Pre_Event_tile_49_30.jpg',\n",
              " '/content/drive/MyDrive/Images_Pre_Event/pre_JPEG_Tiles/Pre_Event_tile_49_31.jpg',\n",
              " '/content/drive/MyDrive/Images_Pre_Event/pre_JPEG_Tiles/Pre_Event_tile_4_0.jpg',\n",
              " '/content/drive/MyDrive/Images_Pre_Event/pre_JPEG_Tiles/Pre_Event_tile_4_40.jpg',\n",
              " '/content/drive/MyDrive/Images_Pre_Event/pre_JPEG_Tiles/Pre_Event_tile_4_54.jpg',\n",
              " '/content/drive/MyDrive/Images_Pre_Event/pre_JPEG_Tiles/Pre_Event_tile_4_68.jpg',\n",
              " '/content/drive/MyDrive/Images_Pre_Event/pre_JPEG_Tiles/Pre_Event_tile_4_83.jpg',\n",
              " '/content/drive/MyDrive/Images_Pre_Event/pre_JPEG_Tiles/Pre_Event_tile_4_97.jpg',\n",
              " '/content/drive/MyDrive/Images_Pre_Event/pre_JPEG_Tiles/Pre_Event_tile_50_10.jpg',\n",
              " '/content/drive/MyDrive/Images_Pre_Event/pre_JPEG_Tiles/Pre_Event_tile_50_108.jpg',\n",
              " '/content/drive/MyDrive/Images_Pre_Event/pre_JPEG_Tiles/Pre_Event_tile_50_109.jpg',\n",
              " '/content/drive/MyDrive/Images_Pre_Event/pre_JPEG_Tiles/Pre_Event_tile_50_38.jpg',\n",
              " '/content/drive/MyDrive/Images_Pre_Event/pre_JPEG_Tiles/Pre_Event_tile_51_2.jpg',\n",
              " '/content/drive/MyDrive/Images_Pre_Event/pre_JPEG_Tiles/Pre_Event_tile_51_44.jpg',\n",
              " '/content/drive/MyDrive/Images_Pre_Event/pre_JPEG_Tiles/Pre_Event_tile_51_45.jpg',\n",
              " '/content/drive/MyDrive/Images_Pre_Event/pre_JPEG_Tiles/Pre_Event_tile_51_50.jpg',\n",
              " '/content/drive/MyDrive/Images_Pre_Event/pre_JPEG_Tiles/Pre_Event_tile_51_51.jpg',\n",
              " '/content/drive/MyDrive/Images_Pre_Event/pre_JPEG_Tiles/Pre_Event_tile_51_78.jpg',\n",
              " '/content/drive/MyDrive/Images_Pre_Event/pre_JPEG_Tiles/Pre_Event_tile_51_79.jpg',\n",
              " '/content/drive/MyDrive/Images_Pre_Event/pre_JPEG_Tiles/Pre_Event_tile_51_86.jpg',\n",
              " '/content/drive/MyDrive/Images_Pre_Event/pre_JPEG_Tiles/Pre_Event_tile_51_87.jpg',\n",
              " '/content/drive/MyDrive/Images_Pre_Event/pre_JPEG_Tiles/Pre_Event_tile_51_92.jpg',\n",
              " '/content/drive/MyDrive/Images_Pre_Event/pre_JPEG_Tiles/Pre_Event_tile_51_93.jpg',\n",
              " '/content/drive/MyDrive/Images_Pre_Event/pre_JPEG_Tiles/Pre_Event_tile_52_14.jpg',\n",
              " '/content/drive/MyDrive/Images_Pre_Event/pre_JPEG_Tiles/Pre_Event_tile_52_15.jpg',\n",
              " '/content/drive/MyDrive/Images_Pre_Event/pre_JPEG_Tiles/Pre_Event_tile_52_28.jpg',\n",
              " '/content/drive/MyDrive/Images_Pre_Event/pre_JPEG_Tiles/Pre_Event_tile_52_29.jpg',\n",
              " '/content/drive/MyDrive/Images_Pre_Event/pre_JPEG_Tiles/Pre_Event_tile_53_0.jpg',\n",
              " '/content/drive/MyDrive/Images_Pre_Event/pre_JPEG_Tiles/Pre_Event_tile_53_41.jpg',\n",
              " '/content/drive/MyDrive/Images_Pre_Event/pre_JPEG_Tiles/Pre_Event_tile_53_55.jpg',\n",
              " '/content/drive/MyDrive/Images_Pre_Event/pre_JPEG_Tiles/Pre_Event_tile_53_68.jpg',\n",
              " '/content/drive/MyDrive/Images_Pre_Event/pre_JPEG_Tiles/Pre_Event_tile_53_69.jpg',\n",
              " '/content/drive/MyDrive/Images_Pre_Event/pre_JPEG_Tiles/Pre_Event_tile_53_82.jpg',\n",
              " '/content/drive/MyDrive/Images_Pre_Event/pre_JPEG_Tiles/Pre_Event_tile_53_96.jpg',\n",
              " '/content/drive/MyDrive/Images_Pre_Event/pre_JPEG_Tiles/Pre_Event_tile_54_101.jpg',\n",
              " '/content/drive/MyDrive/Images_Pre_Event/pre_JPEG_Tiles/Pre_Event_tile_54_115.jpg',\n",
              " '/content/drive/MyDrive/Images_Pre_Event/pre_JPEG_Tiles/Pre_Event_tile_54_48.jpg',\n",
              " '/content/drive/MyDrive/Images_Pre_Event/pre_JPEG_Tiles/Pre_Event_tile_54_60.jpg',\n",
              " '/content/drive/MyDrive/Images_Pre_Event/pre_JPEG_Tiles/Pre_Event_tile_54_61.jpg',\n",
              " '/content/drive/MyDrive/Images_Pre_Event/pre_JPEG_Tiles/Pre_Event_tile_54_74.jpg',\n",
              " '/content/drive/MyDrive/Images_Pre_Event/pre_JPEG_Tiles/Pre_Event_tile_54_75.jpg',\n",
              " '/content/drive/MyDrive/Images_Pre_Event/pre_JPEG_Tiles/Pre_Event_tile_55_104.jpg',\n",
              " '/content/drive/MyDrive/Images_Pre_Event/pre_JPEG_Tiles/Pre_Event_tile_55_110.jpg',\n",
              " '/content/drive/MyDrive/Images_Pre_Event/pre_JPEG_Tiles/Pre_Event_tile_55_20.jpg',\n",
              " '/content/drive/MyDrive/Images_Pre_Event/pre_JPEG_Tiles/Pre_Event_tile_55_21.jpg',\n",
              " '/content/drive/MyDrive/Images_Pre_Event/pre_JPEG_Tiles/Pre_Event_tile_55_34.jpg',\n",
              " '/content/drive/MyDrive/Images_Pre_Event/pre_JPEG_Tiles/Pre_Event_tile_55_35.jpg',\n",
              " '/content/drive/MyDrive/Images_Pre_Event/pre_JPEG_Tiles/Pre_Event_tile_55_6.jpg',\n",
              " '/content/drive/MyDrive/Images_Pre_Event/pre_JPEG_Tiles/Pre_Event_tile_55_7.jpg',\n",
              " '/content/drive/MyDrive/Images_Pre_Event/pre_JPEG_Tiles/Pre_Event_tile_56_58.jpg',\n",
              " '/content/drive/MyDrive/Images_Pre_Event/pre_JPEG_Tiles/Pre_Event_tile_56_59.jpg',\n",
              " '/content/drive/MyDrive/Images_Pre_Event/pre_JPEG_Tiles/Pre_Event_tile_56_64.jpg',\n",
              " '/content/drive/MyDrive/Images_Pre_Event/pre_JPEG_Tiles/Pre_Event_tile_56_65.jpg',\n",
              " '/content/drive/MyDrive/Images_Pre_Event/pre_JPEG_Tiles/Pre_Event_tile_56_70.jpg',\n",
              " '/content/drive/MyDrive/Images_Pre_Event/pre_JPEG_Tiles/Pre_Event_tile_56_71.jpg',\n",
              " '/content/drive/MyDrive/Images_Pre_Event/pre_JPEG_Tiles/Pre_Event_tile_57_19.jpg',\n",
              " '/content/drive/MyDrive/Images_Pre_Event/pre_JPEG_Tiles/Pre_Event_tile_57_25.jpg',\n",
              " '/content/drive/MyDrive/Images_Pre_Event/pre_JPEG_Tiles/Pre_Event_tile_57_31.jpg',\n",
              " '/content/drive/MyDrive/Images_Pre_Event/pre_JPEG_Tiles/Pre_Event_tile_57_4.jpg',\n",
              " '/content/drive/MyDrive/Images_Pre_Event/pre_JPEG_Tiles/Pre_Event_tile_57_5.jpg',\n",
              " '/content/drive/MyDrive/Images_Pre_Event/pre_JPEG_Tiles/Pre_Event_tile_58_48.jpg',\n",
              " '/content/drive/MyDrive/Images_Pre_Event/pre_JPEG_Tiles/Pre_Event_tile_58_49.jpg',\n",
              " '/content/drive/MyDrive/Images_Pre_Event/pre_JPEG_Tiles/Pre_Event_tile_58_60.jpg',\n",
              " '/content/drive/MyDrive/Images_Pre_Event/pre_JPEG_Tiles/Pre_Event_tile_58_61.jpg',\n",
              " '/content/drive/MyDrive/Images_Pre_Event/pre_JPEG_Tiles/Pre_Event_tile_58_74.jpg',\n",
              " '/content/drive/MyDrive/Images_Pre_Event/pre_JPEG_Tiles/Pre_Event_tile_58_75.jpg',\n",
              " '/content/drive/MyDrive/Images_Pre_Event/pre_JPEG_Tiles/Pre_Event_tile_5_14.jpg',\n",
              " '/content/drive/MyDrive/Images_Pre_Event/pre_JPEG_Tiles/Pre_Event_tile_5_15.jpg',\n",
              " '/content/drive/MyDrive/Images_Pre_Event/pre_JPEG_Tiles/Pre_Event_tile_5_28.jpg',\n",
              " '/content/drive/MyDrive/Images_Pre_Event/pre_JPEG_Tiles/Pre_Event_tile_5_29.jpg',\n",
              " '/content/drive/MyDrive/Images_Pre_Event/pre_JPEG_Tiles/Pre_Event_tile_6_104.jpg',\n",
              " '/content/drive/MyDrive/Images_Pre_Event/pre_JPEG_Tiles/Pre_Event_tile_6_105.jpg',\n",
              " '/content/drive/MyDrive/Images_Pre_Event/pre_JPEG_Tiles/Pre_Event_tile_6_110.jpg',\n",
              " '/content/drive/MyDrive/Images_Pre_Event/pre_JPEG_Tiles/Pre_Event_tile_6_111.jpg',\n",
              " '/content/drive/MyDrive/Images_Pre_Event/pre_JPEG_Tiles/Pre_Event_tile_6_2.jpg',\n",
              " '/content/drive/MyDrive/Images_Pre_Event/pre_JPEG_Tiles/Pre_Event_tile_6_44.jpg',\n",
              " '/content/drive/MyDrive/Images_Pre_Event/pre_JPEG_Tiles/Pre_Event_tile_6_45.jpg',\n",
              " '/content/drive/MyDrive/Images_Pre_Event/pre_JPEG_Tiles/Pre_Event_tile_6_50.jpg',\n",
              " '/content/drive/MyDrive/Images_Pre_Event/pre_JPEG_Tiles/Pre_Event_tile_6_51.jpg',\n",
              " '/content/drive/MyDrive/Images_Pre_Event/pre_JPEG_Tiles/Pre_Event_tile_6_78.jpg',\n",
              " '/content/drive/MyDrive/Images_Pre_Event/pre_JPEG_Tiles/Pre_Event_tile_6_79.jpg',\n",
              " '/content/drive/MyDrive/Images_Pre_Event/pre_JPEG_Tiles/Pre_Event_tile_6_86.jpg',\n",
              " '/content/drive/MyDrive/Images_Pre_Event/pre_JPEG_Tiles/Pre_Event_tile_6_87.jpg',\n",
              " '/content/drive/MyDrive/Images_Pre_Event/pre_JPEG_Tiles/Pre_Event_tile_6_92.jpg',\n",
              " '/content/drive/MyDrive/Images_Pre_Event/pre_JPEG_Tiles/Pre_Event_tile_6_93.jpg',\n",
              " '/content/drive/MyDrive/Images_Pre_Event/pre_JPEG_Tiles/Pre_Event_tile_7_100.jpg',\n",
              " '/content/drive/MyDrive/Images_Pre_Event/pre_JPEG_Tiles/Pre_Event_tile_7_101.jpg',\n",
              " '/content/drive/MyDrive/Images_Pre_Event/pre_JPEG_Tiles/Pre_Event_tile_7_11.jpg',\n",
              " '/content/drive/MyDrive/Images_Pre_Event/pre_JPEG_Tiles/Pre_Event_tile_7_114.jpg',\n",
              " '/content/drive/MyDrive/Images_Pre_Event/pre_JPEG_Tiles/Pre_Event_tile_7_115.jpg',\n",
              " '/content/drive/MyDrive/Images_Pre_Event/pre_JPEG_Tiles/Pre_Event_tile_7_39.jpg',\n",
              " '/content/drive/MyDrive/Images_Pre_Event/pre_JPEG_Tiles/Pre_Event_tile_8_40.jpg',\n",
              " '/content/drive/MyDrive/Images_Pre_Event/pre_JPEG_Tiles/Pre_Event_tile_8_41.jpg',\n",
              " '/content/drive/MyDrive/Images_Pre_Event/pre_JPEG_Tiles/Pre_Event_tile_8_54.jpg',\n",
              " '/content/drive/MyDrive/Images_Pre_Event/pre_JPEG_Tiles/Pre_Event_tile_8_55.jpg',\n",
              " '/content/drive/MyDrive/Images_Pre_Event/pre_JPEG_Tiles/Pre_Event_tile_8_68.jpg',\n",
              " '/content/drive/MyDrive/Images_Pre_Event/pre_JPEG_Tiles/Pre_Event_tile_8_69.jpg',\n",
              " '/content/drive/MyDrive/Images_Pre_Event/pre_JPEG_Tiles/Pre_Event_tile_8_82.jpg',\n",
              " '/content/drive/MyDrive/Images_Pre_Event/pre_JPEG_Tiles/Pre_Event_tile_8_83.jpg',\n",
              " '/content/drive/MyDrive/Images_Pre_Event/pre_JPEG_Tiles/Pre_Event_tile_8_96.jpg',\n",
              " '/content/drive/MyDrive/Images_Pre_Event/pre_JPEG_Tiles/Pre_Event_tile_8_97.jpg',\n",
              " '/content/drive/MyDrive/Images_Pre_Event/pre_JPEG_Tiles/Pre_Event_tile_9_14.jpg',\n",
              " '/content/drive/MyDrive/Images_Pre_Event/pre_JPEG_Tiles/Pre_Event_tile_9_28.jpg']"
            ]
          },
          "metadata": {},
          "execution_count": 38
        }
      ],
      "source": [
        "images_inference = [path_gdrive_images+filename for filename in os.listdir(path_gdrive_images)]\n",
        "images_inference.sort()\n",
        "images_inference"
      ]
    },
    {
      "cell_type": "code",
      "execution_count": null,
      "id": "2tx659y5qTeH",
      "metadata": {
        "colab": {
          "base_uri": "https://localhost:8080/"
        },
        "id": "2tx659y5qTeH",
        "outputId": "2be3365d-84b4-407b-96f8-a5cedc014de5"
      },
      "outputs": [
        {
          "output_type": "stream",
          "name": "stdout",
          "text": [
            "\n",
            "0: 640x640 39 undamagedresidentialbuildings, 3.4ms\n",
            "1: 640x640 34 undamagedresidentialbuildings, 3.4ms\n",
            "2: 640x640 (no detections), 3.4ms\n",
            "3: 640x640 (no detections), 3.4ms\n",
            "4: 640x640 (no detections), 3.4ms\n",
            "5: 640x640 14 undamagedresidentialbuildings, 3.4ms\n",
            "6: 640x640 (no detections), 3.4ms\n",
            "7: 640x640 58 undamagedresidentialbuildings, 3.4ms\n",
            "8: 640x640 1 undamagedcommercialbuilding, 41 undamagedresidentialbuildings, 3.4ms\n",
            "9: 640x640 51 undamagedresidentialbuildings, 3.4ms\n",
            "10: 640x640 3 undamagedcommercialbuildings, 32 undamagedresidentialbuildings, 3.4ms\n",
            "11: 640x640 42 undamagedresidentialbuildings, 3.4ms\n",
            "12: 640x640 20 undamagedresidentialbuildings, 3.4ms\n",
            "13: 640x640 (no detections), 3.4ms\n",
            "14: 640x640 (no detections), 3.4ms\n",
            "15: 640x640 (no detections), 3.4ms\n",
            "16: 640x640 (no detections), 3.4ms\n",
            "17: 640x640 4 undamagedresidentialbuildings, 3.4ms\n",
            "18: 640x640 (no detections), 3.4ms\n",
            "19: 640x640 36 undamagedresidentialbuildings, 3.4ms\n",
            "20: 640x640 4 undamagedresidentialbuildings, 3.4ms\n",
            "21: 640x640 1 undamagedresidentialbuilding, 3.4ms\n",
            "22: 640x640 62 undamagedresidentialbuildings, 3.4ms\n",
            "23: 640x640 69 undamagedresidentialbuildings, 3.4ms\n",
            "24: 640x640 41 undamagedresidentialbuildings, 3.4ms\n",
            "25: 640x640 2 undamagedcommercialbuildings, 30 undamagedresidentialbuildings, 3.4ms\n",
            "26: 640x640 (no detections), 3.4ms\n",
            "27: 640x640 (no detections), 3.4ms\n",
            "28: 640x640 1 undamagedcommercialbuilding, 10 undamagedresidentialbuildings, 3.4ms\n",
            "29: 640x640 5 undamagedcommercialbuildings, 11 undamagedresidentialbuildings, 3.4ms\n",
            "30: 640x640 41 undamagedresidentialbuildings, 3.4ms\n",
            "31: 640x640 1 undamagedcommercialbuilding, 22 undamagedresidentialbuildings, 3.4ms\n",
            "32: 640x640 2 undamagedresidentialbuildings, 3.4ms\n",
            "33: 640x640 13 undamagedresidentialbuildings, 3.4ms\n",
            "34: 640x640 (no detections), 3.4ms\n",
            "35: 640x640 11 undamagedresidentialbuildings, 3.4ms\n",
            "36: 640x640 (no detections), 3.4ms\n",
            "37: 640x640 53 undamagedresidentialbuildings, 3.4ms\n",
            "38: 640x640 44 undamagedresidentialbuildings, 3.4ms\n",
            "39: 640x640 18 undamagedresidentialbuildings, 3.4ms\n",
            "40: 640x640 2 undamagedresidentialbuildings, 3.4ms\n",
            "41: 640x640 (no detections), 3.4ms\n",
            "42: 640x640 (no detections), 3.4ms\n",
            "43: 640x640 1 undamagedresidentialbuilding, 3.4ms\n",
            "44: 640x640 (no detections), 3.4ms\n",
            "45: 640x640 (no detections), 3.4ms\n",
            "46: 640x640 27 undamagedresidentialbuildings, 3.4ms\n",
            "47: 640x640 32 undamagedresidentialbuildings, 3.4ms\n",
            "48: 640x640 (no detections), 3.4ms\n",
            "49: 640x640 2 undamagedcommercialbuildings, 13 undamagedresidentialbuildings, 3.4ms\n",
            "50: 640x640 1 undamagedcommercialbuilding, 33 undamagedresidentialbuildings, 3.4ms\n",
            "51: 640x640 7 undamagedresidentialbuildings, 3.4ms\n",
            "52: 640x640 7 undamagedresidentialbuildings, 3.4ms\n",
            "53: 640x640 (no detections), 3.4ms\n",
            "54: 640x640 (no detections), 3.4ms\n",
            "55: 640x640 (no detections), 3.4ms\n",
            "56: 640x640 21 undamagedresidentialbuildings, 3.4ms\n",
            "57: 640x640 4 undamagedcommercialbuildings, 4 undamagedresidentialbuildings, 3.4ms\n",
            "58: 640x640 (no detections), 3.4ms\n",
            "59: 640x640 (no detections), 3.4ms\n",
            "60: 640x640 (no detections), 3.4ms\n",
            "61: 640x640 (no detections), 3.4ms\n",
            "62: 640x640 39 undamagedresidentialbuildings, 3.4ms\n",
            "63: 640x640 14 undamagedresidentialbuildings, 3.4ms\n",
            "64: 640x640 (no detections), 3.4ms\n",
            "65: 640x640 1 undamagedcommercialbuilding, 1 undamagedresidentialbuilding, 3.4ms\n",
            "66: 640x640 (no detections), 3.4ms\n",
            "67: 640x640 (no detections), 3.4ms\n",
            "68: 640x640 (no detections), 3.4ms\n",
            "69: 640x640 (no detections), 3.4ms\n",
            "70: 640x640 (no detections), 3.4ms\n",
            "71: 640x640 (no detections), 3.4ms\n",
            "72: 640x640 2 undamagedcommercialbuildings, 3.4ms\n",
            "73: 640x640 17 undamagedresidentialbuildings, 3.4ms\n",
            "74: 640x640 25 undamagedresidentialbuildings, 3.4ms\n",
            "75: 640x640 24 undamagedresidentialbuildings, 3.4ms\n",
            "76: 640x640 1 undamagedcommercialbuilding, 8 undamagedresidentialbuildings, 3.4ms\n",
            "77: 640x640 (no detections), 3.4ms\n",
            "78: 640x640 (no detections), 3.4ms\n",
            "79: 640x640 (no detections), 3.4ms\n",
            "80: 640x640 18 undamagedresidentialbuildings, 3.4ms\n",
            "81: 640x640 10 undamagedresidentialbuildings, 3.4ms\n",
            "82: 640x640 (no detections), 3.4ms\n",
            "83: 640x640 5 undamagedresidentialbuildings, 3.4ms\n",
            "84: 640x640 (no detections), 3.4ms\n",
            "85: 640x640 (no detections), 3.4ms\n",
            "86: 640x640 (no detections), 3.4ms\n",
            "87: 640x640 (no detections), 3.4ms\n",
            "88: 640x640 (no detections), 3.4ms\n",
            "89: 640x640 (no detections), 3.4ms\n",
            "90: 640x640 (no detections), 3.4ms\n",
            "91: 640x640 (no detections), 3.4ms\n",
            "92: 640x640 (no detections), 3.4ms\n",
            "93: 640x640 1 undamagedcommercialbuilding, 3.4ms\n",
            "94: 640x640 1 undamagedcommercialbuilding, 13 undamagedresidentialbuildings, 3.4ms\n",
            "95: 640x640 57 undamagedresidentialbuildings, 3.4ms\n",
            "96: 640x640 7 undamagedcommercialbuildings, 3.4ms\n",
            "97: 640x640 (no detections), 3.4ms\n",
            "98: 640x640 (no detections), 3.4ms\n",
            "99: 640x640 (no detections), 3.4ms\n",
            "100: 640x640 (no detections), 3.4ms\n",
            "101: 640x640 1 undamagedcommercialbuilding, 3 undamagedresidentialbuildings, 3.4ms\n",
            "102: 640x640 1 undamagedcommercialbuilding, 2 undamagedresidentialbuildings, 3.4ms\n",
            "103: 640x640 (no detections), 3.4ms\n",
            "104: 640x640 (no detections), 3.4ms\n",
            "105: 640x640 1 undamagedcommercialbuilding, 3.4ms\n",
            "106: 640x640 3 undamagedresidentialbuildings, 3.4ms\n",
            "107: 640x640 24 undamagedresidentialbuildings, 3.4ms\n",
            "108: 640x640 1 undamagedcommercialbuilding, 3.4ms\n",
            "109: 640x640 3 undamagedcommercialbuildings, 3.4ms\n",
            "110: 640x640 16 undamagedresidentialbuildings, 3.4ms\n",
            "111: 640x640 (no detections), 3.4ms\n",
            "112: 640x640 (no detections), 3.4ms\n",
            "113: 640x640 (no detections), 3.4ms\n",
            "114: 640x640 (no detections), 3.4ms\n",
            "115: 640x640 (no detections), 3.4ms\n",
            "116: 640x640 (no detections), 3.4ms\n",
            "117: 640x640 (no detections), 3.4ms\n",
            "118: 640x640 41 undamagedresidentialbuildings, 3.4ms\n",
            "119: 640x640 15 undamagedresidentialbuildings, 3.4ms\n",
            "120: 640x640 65 undamagedresidentialbuildings, 3.4ms\n",
            "121: 640x640 36 undamagedresidentialbuildings, 3.4ms\n",
            "122: 640x640 (no detections), 3.4ms\n",
            "123: 640x640 1 undamagedresidentialbuilding, 3.4ms\n",
            "124: 640x640 (no detections), 3.4ms\n",
            "125: 640x640 (no detections), 3.4ms\n",
            "126: 640x640 5 undamagedcommercialbuildings, 3.4ms\n",
            "127: 640x640 23 undamagedresidentialbuildings, 3.4ms\n",
            "128: 640x640 12 undamagedresidentialbuildings, 3.4ms\n",
            "129: 640x640 (no detections), 3.4ms\n",
            "130: 640x640 (no detections), 3.4ms\n",
            "131: 640x640 1 undamagedcommercialbuilding, 2 undamagedresidentialbuildings, 3.4ms\n",
            "132: 640x640 1 undamagedcommercialbuilding, 1 undamagedresidentialbuilding, 3.4ms\n",
            "133: 640x640 (no detections), 3.4ms\n",
            "134: 640x640 (no detections), 3.4ms\n",
            "135: 640x640 13 undamagedresidentialbuildings, 3.4ms\n",
            "136: 640x640 2 undamagedcommercialbuildings, 3.4ms\n",
            "137: 640x640 51 undamagedresidentialbuildings, 3.4ms\n",
            "138: 640x640 25 undamagedresidentialbuildings, 3.4ms\n",
            "139: 640x640 2 undamagedcommercialbuildings, 34 undamagedresidentialbuildings, 3.4ms\n",
            "140: 640x640 3 undamagedresidentialbuildings, 3.4ms\n",
            "141: 640x640 7 undamagedresidentialbuildings, 3.4ms\n",
            "142: 640x640 (no detections), 3.4ms\n",
            "143: 640x640 (no detections), 3.4ms\n",
            "144: 640x640 (no detections), 3.4ms\n",
            "145: 640x640 (no detections), 3.4ms\n",
            "146: 640x640 (no detections), 3.4ms\n",
            "147: 640x640 5 undamagedresidentialbuildings, 3.4ms\n",
            "148: 640x640 (no detections), 3.4ms\n",
            "149: 640x640 (no detections), 3.4ms\n",
            "150: 640x640 (no detections), 3.4ms\n",
            "151: 640x640 (no detections), 3.4ms\n",
            "152: 640x640 (no detections), 3.4ms\n",
            "153: 640x640 1 undamagedresidentialbuilding, 3.4ms\n",
            "154: 640x640 (no detections), 3.4ms\n",
            "155: 640x640 (no detections), 3.4ms\n",
            "156: 640x640 2 undamagedcommercialbuildings, 3.4ms\n",
            "157: 640x640 2 undamagedcommercialbuildings, 3.4ms\n",
            "158: 640x640 42 undamagedresidentialbuildings, 3.4ms\n",
            "159: 640x640 (no detections), 3.4ms\n",
            "160: 640x640 1 undamagedresidentialbuilding, 3.4ms\n",
            "161: 640x640 3 undamagedresidentialbuildings, 3.4ms\n",
            "162: 640x640 (no detections), 3.4ms\n",
            "163: 640x640 2 undamagedresidentialbuildings, 3.4ms\n",
            "164: 640x640 (no detections), 3.4ms\n",
            "165: 640x640 (no detections), 3.4ms\n",
            "166: 640x640 (no detections), 3.4ms\n",
            "167: 640x640 3 undamagedresidentialbuildings, 3.4ms\n",
            "168: 640x640 (no detections), 3.4ms\n",
            "169: 640x640 (no detections), 3.4ms\n",
            "170: 640x640 (no detections), 3.4ms\n",
            "171: 640x640 (no detections), 3.4ms\n",
            "172: 640x640 (no detections), 3.4ms\n",
            "173: 640x640 20 undamagedresidentialbuildings, 3.4ms\n",
            "174: 640x640 7 undamagedresidentialbuildings, 3.4ms\n",
            "175: 640x640 35 undamagedresidentialbuildings, 3.4ms\n",
            "176: 640x640 34 undamagedresidentialbuildings, 3.4ms\n",
            "177: 640x640 4 undamagedresidentialbuildings, 3.4ms\n",
            "178: 640x640 11 undamagedresidentialbuildings, 3.4ms\n",
            "179: 640x640 1 undamagedresidentialbuilding, 3.4ms\n",
            "180: 640x640 (no detections), 3.4ms\n",
            "181: 640x640 (no detections), 3.4ms\n",
            "182: 640x640 1 undamagedresidentialbuilding, 3.4ms\n",
            "183: 640x640 (no detections), 3.4ms\n",
            "184: 640x640 9 undamagedcommercialbuildings, 1 undamagedresidentialbuilding, 3.4ms\n",
            "185: 640x640 2 undamagedcommercialbuildings, 3.4ms\n",
            "186: 640x640 3 undamagedcommercialbuildings, 3.4ms\n",
            "187: 640x640 (no detections), 3.4ms\n",
            "188: 640x640 (no detections), 3.4ms\n",
            "189: 640x640 2 undamagedresidentialbuildings, 3.4ms\n",
            "190: 640x640 8 undamagedresidentialbuildings, 3.4ms\n",
            "191: 640x640 6 undamagedresidentialbuildings, 3.4ms\n",
            "192: 640x640 (no detections), 3.4ms\n",
            "193: 640x640 11 undamagedresidentialbuildings, 3.4ms\n",
            "194: 640x640 1 undamagedcommercialbuilding, 21 undamagedresidentialbuildings, 3.4ms\n",
            "195: 640x640 1 undamagedresidentialbuilding, 3.4ms\n",
            "196: 640x640 (no detections), 3.4ms\n",
            "197: 640x640 (no detections), 3.4ms\n",
            "198: 640x640 60 undamagedresidentialbuildings, 3.4ms\n",
            "199: 640x640 59 undamagedresidentialbuildings, 3.4ms\n",
            "200: 640x640 (no detections), 3.4ms\n",
            "201: 640x640 2 undamagedresidentialbuildings, 3.4ms\n",
            "202: 640x640 (no detections), 3.4ms\n",
            "203: 640x640 1 undamagedcommercialbuilding, 2 undamagedresidentialbuildings, 3.4ms\n",
            "204: 640x640 31 undamagedresidentialbuildings, 3.4ms\n",
            "205: 640x640 2 undamagedresidentialbuildings, 3.4ms\n",
            "206: 640x640 34 undamagedresidentialbuildings, 3.4ms\n",
            "207: 640x640 8 undamagedresidentialbuildings, 3.4ms\n",
            "208: 640x640 (no detections), 3.4ms\n",
            "209: 640x640 (no detections), 3.4ms\n",
            "210: 640x640 (no detections), 3.4ms\n",
            "211: 640x640 (no detections), 3.4ms\n",
            "212: 640x640 1 undamagedcommercialbuilding, 3.4ms\n",
            "213: 640x640 1 undamagedresidentialbuilding, 3.4ms\n",
            "214: 640x640 4 undamagedresidentialbuildings, 3.4ms\n",
            "215: 640x640 31 undamagedresidentialbuildings, 3.4ms\n",
            "216: 640x640 17 undamagedresidentialbuildings, 3.4ms\n",
            "217: 640x640 (no detections), 3.4ms\n",
            "218: 640x640 (no detections), 3.4ms\n",
            "219: 640x640 (no detections), 3.4ms\n",
            "220: 640x640 3 undamagedresidentialbuildings, 3.4ms\n",
            "221: 640x640 (no detections), 3.4ms\n",
            "222: 640x640 (no detections), 3.4ms\n",
            "223: 640x640 (no detections), 3.4ms\n",
            "224: 640x640 (no detections), 3.4ms\n",
            "225: 640x640 5 undamagedcommercialbuildings, 3.4ms\n",
            "226: 640x640 (no detections), 3.4ms\n",
            "227: 640x640 3 undamagedcommercialbuildings, 3.4ms\n",
            "228: 640x640 3 undamagedcommercialbuildings, 12 undamagedresidentialbuildings, 3.4ms\n",
            "229: 640x640 9 undamagedresidentialbuildings, 3.4ms\n",
            "230: 640x640 4 undamagedresidentialbuildings, 3.4ms\n",
            "231: 640x640 1 undamagedresidentialbuilding, 3.4ms\n",
            "232: 640x640 (no detections), 3.4ms\n",
            "233: 640x640 5 undamagedresidentialbuildings, 3.4ms\n",
            "234: 640x640 (no detections), 3.4ms\n",
            "235: 640x640 2 undamagedcommercialbuildings, 1 undamagedresidentialbuilding, 3.4ms\n",
            "236: 640x640 (no detections), 3.4ms\n",
            "237: 640x640 2 undamagedcommercialbuildings, 14 undamagedresidentialbuildings, 3.4ms\n",
            "238: 640x640 5 undamagedresidentialbuildings, 3.4ms\n",
            "239: 640x640 (no detections), 3.4ms\n",
            "240: 640x640 (no detections), 3.4ms\n",
            "241: 640x640 (no detections), 3.4ms\n",
            "242: 640x640 (no detections), 3.4ms\n",
            "243: 640x640 (no detections), 3.4ms\n",
            "244: 640x640 1 undamagedresidentialbuilding, 3.4ms\n",
            "245: 640x640 (no detections), 3.4ms\n",
            "246: 640x640 2 undamagedcommercialbuildings, 3.4ms\n",
            "247: 640x640 4 undamagedresidentialbuildings, 3.4ms\n",
            "248: 640x640 26 undamagedresidentialbuildings, 3.4ms\n",
            "249: 640x640 15 undamagedresidentialbuildings, 3.4ms\n",
            "250: 640x640 12 undamagedresidentialbuildings, 3.4ms\n",
            "251: 640x640 36 undamagedresidentialbuildings, 3.4ms\n",
            "252: 640x640 (no detections), 3.4ms\n",
            "253: 640x640 (no detections), 3.4ms\n",
            "254: 640x640 (no detections), 3.4ms\n",
            "255: 640x640 (no detections), 3.4ms\n",
            "256: 640x640 55 undamagedresidentialbuildings, 3.4ms\n",
            "257: 640x640 1 undamagedcommercialbuilding, 60 undamagedresidentialbuildings, 3.4ms\n",
            "258: 640x640 24 undamagedresidentialbuildings, 3.4ms\n",
            "259: 640x640 12 undamagedresidentialbuildings, 3.4ms\n",
            "260: 640x640 (no detections), 3.4ms\n",
            "261: 640x640 (no detections), 3.4ms\n",
            "262: 640x640 (no detections), 3.4ms\n",
            "263: 640x640 (no detections), 3.4ms\n",
            "264: 640x640 (no detections), 3.4ms\n",
            "265: 640x640 (no detections), 3.4ms\n",
            "266: 640x640 (no detections), 3.4ms\n",
            "267: 640x640 (no detections), 3.4ms\n",
            "268: 640x640 19 undamagedresidentialbuildings, 3.4ms\n",
            "269: 640x640 38 undamagedresidentialbuildings, 3.4ms\n",
            "270: 640x640 (no detections), 3.4ms\n",
            "271: 640x640 (no detections), 3.4ms\n",
            "272: 640x640 1 undamagedresidentialbuilding, 3.4ms\n",
            "273: 640x640 (no detections), 3.4ms\n",
            "274: 640x640 1 undamagedresidentialbuilding, 3.4ms\n",
            "275: 640x640 2 undamagedresidentialbuildings, 3.4ms\n",
            "276: 640x640 (no detections), 3.4ms\n",
            "277: 640x640 (no detections), 3.4ms\n",
            "278: 640x640 1 undamagedcommercialbuilding, 2 undamagedresidentialbuildings, 3.4ms\n",
            "279: 640x640 9 undamagedresidentialbuildings, 3.4ms\n",
            "280: 640x640 1 undamagedcommercialbuilding, 52 undamagedresidentialbuildings, 3.4ms\n",
            "281: 640x640 1 undamagedcommercialbuilding, 28 undamagedresidentialbuildings, 3.4ms\n",
            "282: 640x640 7 undamagedresidentialbuildings, 3.4ms\n",
            "283: 640x640 9 undamagedresidentialbuildings, 3.4ms\n",
            "284: 640x640 (no detections), 3.4ms\n",
            "285: 640x640 (no detections), 3.4ms\n",
            "286: 640x640 (no detections), 3.4ms\n",
            "287: 640x640 (no detections), 3.4ms\n",
            "288: 640x640 (no detections), 3.4ms\n",
            "289: 640x640 (no detections), 3.4ms\n",
            "290: 640x640 1 undamagedcommercialbuilding, 3.4ms\n",
            "291: 640x640 2 undamagedcommercialbuildings, 3.4ms\n",
            "292: 640x640 (no detections), 3.4ms\n",
            "293: 640x640 3 undamagedresidentialbuildings, 3.4ms\n",
            "294: 640x640 31 undamagedresidentialbuildings, 3.4ms\n",
            "295: 640x640 3 undamagedresidentialbuildings, 3.4ms\n",
            "296: 640x640 1 undamagedresidentialbuilding, 3.4ms\n",
            "297: 640x640 13 undamagedresidentialbuildings, 3.4ms\n",
            "298: 640x640 (no detections), 3.4ms\n",
            "299: 640x640 2 undamagedresidentialbuildings, 3.4ms\n",
            "300: 640x640 (no detections), 3.4ms\n",
            "301: 640x640 1 undamagedcommercialbuilding, 17 undamagedresidentialbuildings, 3.4ms\n",
            "302: 640x640 1 undamagedcommercialbuilding, 7 undamagedresidentialbuildings, 3.4ms\n",
            "303: 640x640 41 undamagedresidentialbuildings, 3.4ms\n",
            "304: 640x640 2 undamagedcommercialbuildings, 3.4ms\n",
            "305: 640x640 1 undamagedresidentialbuilding, 3.4ms\n",
            "306: 640x640 (no detections), 3.4ms\n",
            "307: 640x640 3 undamagedresidentialbuildings, 3.4ms\n",
            "308: 640x640 (no detections), 3.4ms\n",
            "309: 640x640 (no detections), 3.4ms\n",
            "310: 640x640 15 undamagedresidentialbuildings, 3.4ms\n",
            "311: 640x640 1 undamagedcommercialbuilding, 38 undamagedresidentialbuildings, 3.4ms\n",
            "312: 640x640 (no detections), 3.4ms\n",
            "313: 640x640 1 undamagedcommercialbuilding, 3.4ms\n",
            "314: 640x640 10 undamagedresidentialbuildings, 3.4ms\n",
            "315: 640x640 2 undamagedcommercialbuildings, 8 undamagedresidentialbuildings, 3.4ms\n",
            "316: 640x640 27 undamagedresidentialbuildings, 3.4ms\n",
            "317: 640x640 1 undamagedcommercialbuilding, 26 undamagedresidentialbuildings, 3.4ms\n",
            "318: 640x640 22 undamagedresidentialbuildings, 3.4ms\n",
            "319: 640x640 2 undamagedcommercialbuildings, 3.4ms\n",
            "320: 640x640 (no detections), 3.4ms\n",
            "321: 640x640 (no detections), 3.4ms\n",
            "322: 640x640 (no detections), 3.4ms\n",
            "323: 640x640 (no detections), 3.4ms\n",
            "324: 640x640 (no detections), 3.4ms\n",
            "325: 640x640 (no detections), 3.4ms\n",
            "326: 640x640 (no detections), 3.4ms\n",
            "327: 640x640 8 undamagedresidentialbuildings, 3.4ms\n",
            "328: 640x640 1 undamagedcommercialbuilding, 15 undamagedresidentialbuildings, 3.4ms\n",
            "329: 640x640 2 undamagedresidentialbuildings, 3.4ms\n",
            "330: 640x640 6 undamagedresidentialbuildings, 3.4ms\n",
            "331: 640x640 38 undamagedresidentialbuildings, 3.4ms\n",
            "332: 640x640 2 undamagedcommercialbuildings, 16 undamagedresidentialbuildings, 3.4ms\n",
            "333: 640x640 1 undamagedcommercialbuilding, 16 undamagedresidentialbuildings, 3.4ms\n",
            "334: 640x640 9 undamagedresidentialbuildings, 3.4ms\n",
            "335: 640x640 (no detections), 3.4ms\n",
            "336: 640x640 (no detections), 3.4ms\n",
            "337: 640x640 (no detections), 3.4ms\n",
            "338: 640x640 1 undamagedresidentialbuilding, 3.4ms\n",
            "339: 640x640 (no detections), 3.4ms\n",
            "340: 640x640 12 undamagedresidentialbuildings, 3.4ms\n",
            "341: 640x640 13 undamagedresidentialbuildings, 3.4ms\n",
            "342: 640x640 17 undamagedresidentialbuildings, 3.4ms\n",
            "343: 640x640 1 undamagedcommercialbuilding, 15 undamagedresidentialbuildings, 3.4ms\n",
            "344: 640x640 (no detections), 3.4ms\n",
            "345: 640x640 (no detections), 3.4ms\n",
            "346: 640x640 (no detections), 3.4ms\n",
            "347: 640x640 1 undamagedresidentialbuilding, 3.4ms\n",
            "348: 640x640 (no detections), 3.4ms\n",
            "349: 640x640 1 undamagedresidentialbuilding, 3.4ms\n",
            "350: 640x640 5 undamagedresidentialbuildings, 3.4ms\n",
            "351: 640x640 6 undamagedresidentialbuildings, 3.4ms\n",
            "352: 640x640 (no detections), 3.4ms\n",
            "353: 640x640 2 undamagedresidentialbuildings, 3.4ms\n",
            "354: 640x640 3 undamagedresidentialbuildings, 3.4ms\n",
            "355: 640x640 1 undamagedcommercialbuilding, 2 undamagedresidentialbuildings, 3.4ms\n",
            "356: 640x640 5 undamagedresidentialbuildings, 3.4ms\n",
            "357: 640x640 1 undamagedcommercialbuilding, 17 undamagedresidentialbuildings, 3.4ms\n",
            "358: 640x640 1 undamagedcommercialbuilding, 18 undamagedresidentialbuildings, 3.4ms\n",
            "359: 640x640 37 undamagedresidentialbuildings, 3.4ms\n",
            "360: 640x640 13 undamagedresidentialbuildings, 3.4ms\n",
            "361: 640x640 4 undamagedresidentialbuildings, 3.4ms\n",
            "362: 640x640 (no detections), 3.4ms\n",
            "363: 640x640 (no detections), 3.4ms\n",
            "364: 640x640 6 undamagedresidentialbuildings, 3.4ms\n",
            "365: 640x640 10 undamagedresidentialbuildings, 3.4ms\n",
            "366: 640x640 (no detections), 3.4ms\n",
            "367: 640x640 32 undamagedresidentialbuildings, 3.4ms\n",
            "Speed: 2.2ms preprocess, 3.4ms inference, 1.4ms postprocess per image at shape (1, 3, 640, 640)\n"
          ]
        }
      ],
      "source": [
        "inference_results = model.predict(images_inference, save=False, imgsz=640, conf=0.5)"
      ]
    },
    {
      "cell_type": "code",
      "execution_count": null,
      "id": "c-dbd6wotOG6",
      "metadata": {
        "colab": {
          "base_uri": "https://localhost:8080/",
          "height": 237
        },
        "id": "c-dbd6wotOG6",
        "outputId": "4131339c-a0fc-4247-940e-c1e430be036c"
      },
      "outputs": [
        {
          "data": {
            "text/html": [
              "<div style=\"max-width:800px; border: 1px solid var(--colab-border-color);\"><style>\n",
              "      pre.function-repr-contents {\n",
              "        overflow-x: auto;\n",
              "        padding: 8px 12px;\n",
              "        max-height: 500px;\n",
              "      }\n",
              "\n",
              "      pre.function-repr-contents.function-repr-contents-collapsed {\n",
              "        cursor: pointer;\n",
              "        max-height: 100px;\n",
              "      }\n",
              "    </style>\n",
              "    <pre style=\"white-space: initial; background:\n",
              "         var(--colab-secondary-surface-color); padding: 8px 12px;\n",
              "         border-bottom: 1px solid var(--colab-border-color);\"><b>ultralytics.engine.results.Results</b><br/>def __init__(orig_img: np.ndarray, path: str, names: Dict[int, str], boxes: Optional[torch.Tensor]=None, masks: Optional[torch.Tensor]=None, probs: Optional[torch.Tensor]=None, keypoints: Optional[torch.Tensor]=None, obb: Optional[torch.Tensor]=None, speed: Optional[Dict[str, float]]=None) -&gt; None</pre><pre class=\"function-repr-contents function-repr-contents-collapsed\" style=\"\"><a class=\"filepath\" style=\"display:none\" href=\"#\">/usr/local/lib/python3.11/dist-packages/ultralytics/engine/results.py</a>A class for storing and manipulating inference results.\n",
              "\n",
              "This class provides comprehensive functionality for handling inference results from various\n",
              "Ultralytics models, including detection, segmentation, classification, and pose estimation.\n",
              "It supports visualization, data export, and various coordinate transformations.\n",
              "\n",
              "Attributes:\n",
              "    orig_img (np.ndarray): The original image as a numpy array.\n",
              "    orig_shape (Tuple[int, int]): Original image shape in (height, width) format.\n",
              "    boxes (Boxes | None): Detected bounding boxes.\n",
              "    masks (Masks | None): Segmentation masks.\n",
              "    probs (Probs | None): Classification probabilities.\n",
              "    keypoints (Keypoints | None): Detected keypoints.\n",
              "    obb (OBB | None): Oriented bounding boxes.\n",
              "    speed (dict): Dictionary containing inference speed information.\n",
              "    names (dict): Dictionary mapping class indices to class names.\n",
              "    path (str): Path to the input image file.\n",
              "    save_dir (str | None): Directory to save results.\n",
              "\n",
              "Methods:\n",
              "    update: Update the Results object with new detection data.\n",
              "    cpu: Return a copy of the Results object with all tensors moved to CPU memory.\n",
              "    numpy: Convert all tensors in the Results object to numpy arrays.\n",
              "    cuda: Move all tensors in the Results object to GPU memory.\n",
              "    to: Move all tensors to the specified device and dtype.\n",
              "    new: Create a new Results object with the same image, path, names, and speed attributes.\n",
              "    plot: Plot detection results on an input RGB image.\n",
              "    show: Display the image with annotated inference results.\n",
              "    save: Save annotated inference results image to file.\n",
              "    verbose: Return a log string for each task in the results.\n",
              "    save_txt: Save detection results to a text file.\n",
              "    save_crop: Save cropped detection images to specified directory.\n",
              "    summary: Convert inference results to a summarized dictionary.\n",
              "    to_df: Convert detection results to a Pandas Dataframe.\n",
              "    to_json: Convert detection results to JSON format.\n",
              "    to_csv: Convert detection results to a CSV format.\n",
              "    to_xml: Convert detection results to XML format.\n",
              "    to_html: Convert detection results to HTML format.\n",
              "    to_sql: Convert detection results to an SQL-compatible format.\n",
              "\n",
              "Examples:\n",
              "    &gt;&gt;&gt; results = model(&quot;path/to/image.jpg&quot;)\n",
              "    &gt;&gt;&gt; result = results[0]  # Get the first result\n",
              "    &gt;&gt;&gt; boxes = result.boxes  # Get the boxes for the first result\n",
              "    &gt;&gt;&gt; masks = result.masks  # Get the masks for the first result\n",
              "    &gt;&gt;&gt; for result in results:\n",
              "    &gt;&gt;&gt;     result.plot()  # Plot detection results</pre>\n",
              "      <script>\n",
              "      if (google.colab.kernel.accessAllowed && google.colab.files && google.colab.files.view) {\n",
              "        for (const element of document.querySelectorAll('.filepath')) {\n",
              "          element.style.display = 'block'\n",
              "          element.onclick = (event) => {\n",
              "            event.preventDefault();\n",
              "            event.stopPropagation();\n",
              "            google.colab.files.view(element.textContent, 190);\n",
              "          };\n",
              "        }\n",
              "      }\n",
              "      for (const element of document.querySelectorAll('.function-repr-contents')) {\n",
              "        element.onclick = (event) => {\n",
              "          event.preventDefault();\n",
              "          event.stopPropagation();\n",
              "          element.classList.toggle('function-repr-contents-collapsed');\n",
              "        };\n",
              "      }\n",
              "      </script>\n",
              "      </div>"
            ],
            "text/plain": [
              "ultralytics.engine.results.Results"
            ]
          },
          "execution_count": 19,
          "metadata": {},
          "output_type": "execute_result"
        }
      ],
      "source": [
        "type(inference_results[0])"
      ]
    },
    {
      "cell_type": "code",
      "execution_count": null,
      "id": "ZlDMKvESt5wh",
      "metadata": {
        "colab": {
          "base_uri": "https://localhost:8080/"
        },
        "id": "ZlDMKvESt5wh",
        "outputId": "e60a956b-c924-4e5a-f869-d2a6a6cf7cfd"
      },
      "outputs": [
        {
          "data": {
            "text/plain": [
              "17"
            ]
          },
          "execution_count": 24,
          "metadata": {},
          "output_type": "execute_result"
        }
      ],
      "source": [
        "len(inference_results[4])"
      ]
    },
    {
      "cell_type": "code",
      "execution_count": null,
      "id": "z4cgBjDx41QW",
      "metadata": {
        "colab": {
          "base_uri": "https://localhost:8080/"
        },
        "id": "z4cgBjDx41QW",
        "outputId": "7b2eb5bd-bd8b-4233-c558-4f808293d15e"
      },
      "outputs": [
        {
          "data": {
            "text/plain": [
              "{0: 'undamagedcommercialbuilding', 1: 'undamagedresidentialbuilding'}"
            ]
          },
          "execution_count": 21,
          "metadata": {},
          "output_type": "execute_result"
        }
      ],
      "source": [
        "inference_results[1].names"
      ]
    },
    {
      "cell_type": "code",
      "execution_count": null,
      "id": "lA87PVe09_T8",
      "metadata": {
        "colab": {
          "base_uri": "https://localhost:8080/"
        },
        "id": "lA87PVe09_T8",
        "outputId": "f018801f-ada0-4fa8-b12f-73d8f339627d"
      },
      "outputs": [
        {
          "data": {
            "text/plain": [
              "ultralytics.engine.results.Results object with attributes:\n",
              "\n",
              "boxes: ultralytics.engine.results.Boxes object\n",
              "keypoints: None\n",
              "masks: None\n",
              "names: {0: 'undamagedcommercialbuilding', 1: 'undamagedresidentialbuilding'}\n",
              "obb: None\n",
              "orig_img: array([[[ 56,  91,  47],\n",
              "        [ 55,  90,  46],\n",
              "        [ 55,  90,  46],\n",
              "        ...,\n",
              "        [ 36,  54,  31],\n",
              "        [ 37,  55,  32],\n",
              "        [ 36,  54,  31]],\n",
              "\n",
              "       [[ 56,  91,  47],\n",
              "        [ 56,  91,  47],\n",
              "        [ 57,  92,  48],\n",
              "        ...,\n",
              "        [ 28,  46,  23],\n",
              "        [ 35,  53,  30],\n",
              "        [ 39,  57,  34]],\n",
              "\n",
              "       [[ 54,  89,  45],\n",
              "        [ 55,  90,  46],\n",
              "        [ 56,  91,  47],\n",
              "        ...,\n",
              "        [ 29,  47,  24],\n",
              "        [ 36,  55,  30],\n",
              "        [ 40,  59,  34]],\n",
              "\n",
              "       ...,\n",
              "\n",
              "       [[216, 220, 225],\n",
              "        [215, 219, 224],\n",
              "        [215, 219, 224],\n",
              "        ...,\n",
              "        [ 94,  96,  97],\n",
              "        [ 92,  94,  95],\n",
              "        [ 92,  94,  95]],\n",
              "\n",
              "       [[216, 220, 225],\n",
              "        [216, 220, 225],\n",
              "        [216, 220, 225],\n",
              "        ...,\n",
              "        [ 91,  93,  94],\n",
              "        [ 92,  94,  95],\n",
              "        [ 93,  95,  96]],\n",
              "\n",
              "       [[216, 220, 225],\n",
              "        [218, 222, 227],\n",
              "        [218, 222, 227],\n",
              "        ...,\n",
              "        [ 97,  99, 100],\n",
              "        [ 91,  93,  94],\n",
              "        [ 87,  89,  90]]], dtype=uint8)\n",
              "orig_shape: (640, 640)\n",
              "path: '/content/images_inference/Pre_Event_tile_0_39.jpg'\n",
              "probs: None\n",
              "save_dir: 'exploratory_phase/yolo11n_training_dataset_v143'\n",
              "speed: {'preprocess': 2.1490248749955754, 'inference': 4.9274434999802, 'postprocess': 1.0523239999997713}"
            ]
          },
          "execution_count": 121,
          "metadata": {},
          "output_type": "execute_result"
        }
      ],
      "source": [
        "inference_results[1]"
      ]
    },
    {
      "cell_type": "code",
      "execution_count": null,
      "id": "WCq90M7a4K7b",
      "metadata": {
        "colab": {
          "base_uri": "https://localhost:8080/"
        },
        "id": "WCq90M7a4K7b",
        "outputId": "af1d89e3-eb44-4eb3-9ede-3e52e3e29dd3"
      },
      "outputs": [
        {
          "data": {
            "text/plain": [
              "array([          1,           1,           1,           1,           1,           1,           1,           1,           1,           1,           1,           1,           1,           1,           1,           1,           1,           1,           1,           1,           1,           1,           1,           1,\n",
              "                 1,           1,           1,           1,           1,           1,           1,           1,           1,           1,           1,           1,           1,           1,           1,           1,           1,           1,           1,           1,           1,           1,           1,           1,\n",
              "                 1,           1,           1,           1,           1,           1,           1], dtype=float32)"
            ]
          },
          "execution_count": 27,
          "metadata": {},
          "output_type": "execute_result"
        }
      ],
      "source": [
        "inference_results[1].boxes.cls.cpu().numpy()"
      ]
    },
    {
      "cell_type": "code",
      "execution_count": null,
      "id": "xyye9JFJ9ryN",
      "metadata": {
        "colab": {
          "base_uri": "https://localhost:8080/"
        },
        "id": "xyye9JFJ9ryN",
        "outputId": "9667babf-c8c0-43f9-881b-efe0ec0c0f6c"
      },
      "outputs": [
        {
          "data": {
            "text/plain": [
              "array([    0.86175,     0.78157,     0.57962,     0.49385,     0.42382,     0.29368,     0.23214,     0.21685,     0.20087], dtype=float32)"
            ]
          },
          "execution_count": 119,
          "metadata": {},
          "output_type": "execute_result"
        }
      ],
      "source": [
        "inference_results[1].boxes.conf.cpu().numpy()"
      ]
    },
    {
      "cell_type": "code",
      "execution_count": null,
      "id": "A9Hjv4kz-EeH",
      "metadata": {
        "colab": {
          "base_uri": "https://localhost:8080/",
          "height": 35
        },
        "id": "A9Hjv4kz-EeH",
        "outputId": "34132fdd-1a7f-4f8f-8c7b-662c2f631073"
      },
      "outputs": [
        {
          "data": {
            "application/vnd.google.colaboratory.intrinsic+json": {
              "type": "string"
            },
            "text/plain": [
              "'/content/images_inference/Pre_Event_tile_0_51.jpg'"
            ]
          },
          "execution_count": 28,
          "metadata": {},
          "output_type": "execute_result"
        }
      ],
      "source": [
        "inference_results[1].path"
      ]
    },
    {
      "cell_type": "code",
      "execution_count": null,
      "id": "NFHz8154nc3u",
      "metadata": {
        "colab": {
          "base_uri": "https://localhost:8080/"
        },
        "id": "NFHz8154nc3u",
        "outputId": "2dde2c19-ee4a-4156-b6a2-a157920cd434"
      },
      "outputs": [
        {
          "data": {
            "text/plain": [
              "{'undamagedcommercialbuilding': 0, 'undamagedresidentialbuilding': 1}"
            ]
          },
          "execution_count": 36,
          "metadata": {},
          "output_type": "execute_result"
        }
      ],
      "source": [
        "classes_ids =  {class_name: class_id for class_id, class_name in inference_results[1].names.items()}\n",
        "classes_ids"
      ]
    },
    {
      "cell_type": "code",
      "execution_count": null,
      "id": "NcnpsavLnega",
      "metadata": {
        "colab": {
          "base_uri": "https://localhost:8080/"
        },
        "id": "NcnpsavLnega",
        "outputId": "4606ca07-b507-4795-a7b9-7d6dc67d5ca7"
      },
      "outputs": [
        {
          "output_type": "execute_result",
          "data": {
            "text/plain": [
              "{0: 'undamagedcommercialbuilding', 1: 'undamagedresidentialbuilding'}"
            ]
          },
          "metadata": {},
          "execution_count": 41
        }
      ],
      "source": [
        "inference_results[1].names"
      ]
    },
    {
      "cell_type": "code",
      "execution_count": null,
      "id": "_fuN25gImd-T",
      "metadata": {
        "colab": {
          "base_uri": "https://localhost:8080/"
        },
        "id": "_fuN25gImd-T",
        "outputId": "438364d9-89ff-4695-b425-21ff4c73955c"
      },
      "outputs": [
        {
          "output_type": "stream",
          "name": "stdout",
          "text": [
            "i: 2 - /content/drive/MyDrive/Images_Pre_Event/pre_JPEG_Tiles/Pre_Event_tile_0_30.jpg\n",
            "i: 3 - /content/drive/MyDrive/Images_Pre_Event/pre_JPEG_Tiles/Pre_Event_tile_0_4.jpg\n",
            "i: 4 - /content/drive/MyDrive/Images_Pre_Event/pre_JPEG_Tiles/Pre_Event_tile_0_5.jpg\n",
            "i: 6 - /content/drive/MyDrive/Images_Pre_Event/pre_JPEG_Tiles/Pre_Event_tile_10_103.jpg\n",
            "i: 13 - /content/drive/MyDrive/Images_Pre_Event/pre_JPEG_Tiles/Pre_Event_tile_10_6.jpg\n",
            "i: 14 - /content/drive/MyDrive/Images_Pre_Event/pre_JPEG_Tiles/Pre_Event_tile_10_7.jpg\n",
            "i: 15 - /content/drive/MyDrive/Images_Pre_Event/pre_JPEG_Tiles/Pre_Event_tile_11_106.jpg\n",
            "i: 16 - /content/drive/MyDrive/Images_Pre_Event/pre_JPEG_Tiles/Pre_Event_tile_11_107.jpg\n",
            "i: 18 - /content/drive/MyDrive/Images_Pre_Event/pre_JPEG_Tiles/Pre_Event_tile_11_113.jpg\n",
            "i: 26 - /content/drive/MyDrive/Images_Pre_Event/pre_JPEG_Tiles/Pre_Event_tile_12_4.jpg\n",
            "i: 27 - /content/drive/MyDrive/Images_Pre_Event/pre_JPEG_Tiles/Pre_Event_tile_12_5.jpg\n",
            "i: 34 - /content/drive/MyDrive/Images_Pre_Event/pre_JPEG_Tiles/Pre_Event_tile_14_2.jpg\n",
            "i: 36 - /content/drive/MyDrive/Images_Pre_Event/pre_JPEG_Tiles/Pre_Event_tile_14_41.jpg\n",
            "i: 41 - /content/drive/MyDrive/Images_Pre_Event/pre_JPEG_Tiles/Pre_Event_tile_14_82.jpg\n",
            "i: 42 - /content/drive/MyDrive/Images_Pre_Event/pre_JPEG_Tiles/Pre_Event_tile_14_83.jpg\n",
            "i: 44 - /content/drive/MyDrive/Images_Pre_Event/pre_JPEG_Tiles/Pre_Event_tile_14_97.jpg\n",
            "i: 45 - /content/drive/MyDrive/Images_Pre_Event/pre_JPEG_Tiles/Pre_Event_tile_15_14.jpg\n",
            "i: 48 - /content/drive/MyDrive/Images_Pre_Event/pre_JPEG_Tiles/Pre_Event_tile_16_0.jpg\n",
            "i: 53 - /content/drive/MyDrive/Images_Pre_Event/pre_JPEG_Tiles/Pre_Event_tile_16_92.jpg\n",
            "i: 54 - /content/drive/MyDrive/Images_Pre_Event/pre_JPEG_Tiles/Pre_Event_tile_17_10.jpg\n",
            "i: 55 - /content/drive/MyDrive/Images_Pre_Event/pre_JPEG_Tiles/Pre_Event_tile_17_11.jpg\n",
            "i: 58 - /content/drive/MyDrive/Images_Pre_Event/pre_JPEG_Tiles/Pre_Event_tile_18_104.jpg\n",
            "i: 59 - /content/drive/MyDrive/Images_Pre_Event/pre_JPEG_Tiles/Pre_Event_tile_18_105.jpg\n",
            "i: 60 - /content/drive/MyDrive/Images_Pre_Event/pre_JPEG_Tiles/Pre_Event_tile_18_110.jpg\n",
            "i: 61 - /content/drive/MyDrive/Images_Pre_Event/pre_JPEG_Tiles/Pre_Event_tile_18_111.jpg\n",
            "i: 64 - /content/drive/MyDrive/Images_Pre_Event/pre_JPEG_Tiles/Pre_Event_tile_18_68.jpg\n",
            "i: 66 - /content/drive/MyDrive/Images_Pre_Event/pre_JPEG_Tiles/Pre_Event_tile_18_97.jpg\n",
            "i: 67 - /content/drive/MyDrive/Images_Pre_Event/pre_JPEG_Tiles/Pre_Event_tile_19_100.jpg\n",
            "i: 68 - /content/drive/MyDrive/Images_Pre_Event/pre_JPEG_Tiles/Pre_Event_tile_19_114.jpg\n",
            "i: 69 - /content/drive/MyDrive/Images_Pre_Event/pre_JPEG_Tiles/Pre_Event_tile_19_14.jpg\n",
            "i: 70 - /content/drive/MyDrive/Images_Pre_Event/pre_JPEG_Tiles/Pre_Event_tile_19_15.jpg\n",
            "i: 71 - /content/drive/MyDrive/Images_Pre_Event/pre_JPEG_Tiles/Pre_Event_tile_19_28.jpg\n",
            "i: 77 - /content/drive/MyDrive/Images_Pre_Event/pre_JPEG_Tiles/Pre_Event_tile_1_70.jpg\n",
            "i: 78 - /content/drive/MyDrive/Images_Pre_Event/pre_JPEG_Tiles/Pre_Event_tile_1_71.jpg\n",
            "i: 79 - /content/drive/MyDrive/Images_Pre_Event/pre_JPEG_Tiles/Pre_Event_tile_20_44.jpg\n",
            "i: 82 - /content/drive/MyDrive/Images_Pre_Event/pre_JPEG_Tiles/Pre_Event_tile_20_86.jpg\n",
            "i: 84 - /content/drive/MyDrive/Images_Pre_Event/pre_JPEG_Tiles/Pre_Event_tile_20_92.jpg\n",
            "i: 85 - /content/drive/MyDrive/Images_Pre_Event/pre_JPEG_Tiles/Pre_Event_tile_20_93.jpg\n",
            "i: 86 - /content/drive/MyDrive/Images_Pre_Event/pre_JPEG_Tiles/Pre_Event_tile_21_10.jpg\n",
            "i: 87 - /content/drive/MyDrive/Images_Pre_Event/pre_JPEG_Tiles/Pre_Event_tile_21_11.jpg\n",
            "i: 88 - /content/drive/MyDrive/Images_Pre_Event/pre_JPEG_Tiles/Pre_Event_tile_21_38.jpg\n",
            "i: 89 - /content/drive/MyDrive/Images_Pre_Event/pre_JPEG_Tiles/Pre_Event_tile_21_39.jpg\n",
            "i: 90 - /content/drive/MyDrive/Images_Pre_Event/pre_JPEG_Tiles/Pre_Event_tile_22_109.jpg\n",
            "i: 91 - /content/drive/MyDrive/Images_Pre_Event/pre_JPEG_Tiles/Pre_Event_tile_22_40.jpg\n",
            "i: 92 - /content/drive/MyDrive/Images_Pre_Event/pre_JPEG_Tiles/Pre_Event_tile_22_41.jpg\n",
            "i: 97 - /content/drive/MyDrive/Images_Pre_Event/pre_JPEG_Tiles/Pre_Event_tile_22_82.jpg\n",
            "i: 98 - /content/drive/MyDrive/Images_Pre_Event/pre_JPEG_Tiles/Pre_Event_tile_22_83.jpg\n",
            "i: 99 - /content/drive/MyDrive/Images_Pre_Event/pre_JPEG_Tiles/Pre_Event_tile_22_96.jpg\n",
            "i: 100 - /content/drive/MyDrive/Images_Pre_Event/pre_JPEG_Tiles/Pre_Event_tile_22_97.jpg\n",
            "i: 103 - /content/drive/MyDrive/Images_Pre_Event/pre_JPEG_Tiles/Pre_Event_tile_23_9.jpg\n",
            "i: 104 - /content/drive/MyDrive/Images_Pre_Event/pre_JPEG_Tiles/Pre_Event_tile_24_20.jpg\n",
            "i: 111 - /content/drive/MyDrive/Images_Pre_Event/pre_JPEG_Tiles/Pre_Event_tile_25_75.jpg\n",
            "i: 112 - /content/drive/MyDrive/Images_Pre_Event/pre_JPEG_Tiles/Pre_Event_tile_26_100.jpg\n",
            "i: 113 - /content/drive/MyDrive/Images_Pre_Event/pre_JPEG_Tiles/Pre_Event_tile_26_101.jpg\n",
            "i: 114 - /content/drive/MyDrive/Images_Pre_Event/pre_JPEG_Tiles/Pre_Event_tile_26_114.jpg\n",
            "i: 115 - /content/drive/MyDrive/Images_Pre_Event/pre_JPEG_Tiles/Pre_Event_tile_26_115.jpg\n",
            "i: 116 - /content/drive/MyDrive/Images_Pre_Event/pre_JPEG_Tiles/Pre_Event_tile_26_18.jpg\n",
            "i: 117 - /content/drive/MyDrive/Images_Pre_Event/pre_JPEG_Tiles/Pre_Event_tile_26_19.jpg\n",
            "i: 122 - /content/drive/MyDrive/Images_Pre_Event/pre_JPEG_Tiles/Pre_Event_tile_27_104.jpg\n",
            "i: 124 - /content/drive/MyDrive/Images_Pre_Event/pre_JPEG_Tiles/Pre_Event_tile_27_110.jpg\n",
            "i: 125 - /content/drive/MyDrive/Images_Pre_Event/pre_JPEG_Tiles/Pre_Event_tile_27_111.jpg\n",
            "i: 129 - /content/drive/MyDrive/Images_Pre_Event/pre_JPEG_Tiles/Pre_Event_tile_28_20.jpg\n",
            "i: 130 - /content/drive/MyDrive/Images_Pre_Event/pre_JPEG_Tiles/Pre_Event_tile_28_21.jpg\n",
            "i: 133 - /content/drive/MyDrive/Images_Pre_Event/pre_JPEG_Tiles/Pre_Event_tile_29_2.jpg\n",
            "i: 134 - /content/drive/MyDrive/Images_Pre_Event/pre_JPEG_Tiles/Pre_Event_tile_29_3.jpg\n",
            "i: 142 - /content/drive/MyDrive/Images_Pre_Event/pre_JPEG_Tiles/Pre_Event_tile_2_6.jpg\n",
            "i: 143 - /content/drive/MyDrive/Images_Pre_Event/pre_JPEG_Tiles/Pre_Event_tile_2_7.jpg\n",
            "i: 144 - /content/drive/MyDrive/Images_Pre_Event/pre_JPEG_Tiles/Pre_Event_tile_30_3.jpg\n",
            "i: 145 - /content/drive/MyDrive/Images_Pre_Event/pre_JPEG_Tiles/Pre_Event_tile_30_41.jpg\n",
            "i: 146 - /content/drive/MyDrive/Images_Pre_Event/pre_JPEG_Tiles/Pre_Event_tile_30_55.jpg\n",
            "i: 148 - /content/drive/MyDrive/Images_Pre_Event/pre_JPEG_Tiles/Pre_Event_tile_30_82.jpg\n",
            "i: 149 - /content/drive/MyDrive/Images_Pre_Event/pre_JPEG_Tiles/Pre_Event_tile_30_96.jpg\n",
            "i: 150 - /content/drive/MyDrive/Images_Pre_Event/pre_JPEG_Tiles/Pre_Event_tile_31_14.jpg\n",
            "i: 151 - /content/drive/MyDrive/Images_Pre_Event/pre_JPEG_Tiles/Pre_Event_tile_31_15.jpg\n",
            "i: 152 - /content/drive/MyDrive/Images_Pre_Event/pre_JPEG_Tiles/Pre_Event_tile_31_28.jpg\n",
            "i: 154 - /content/drive/MyDrive/Images_Pre_Event/pre_JPEG_Tiles/Pre_Event_tile_32_1.jpg\n",
            "i: 155 - /content/drive/MyDrive/Images_Pre_Event/pre_JPEG_Tiles/Pre_Event_tile_32_109.jpg\n",
            "i: 159 - /content/drive/MyDrive/Images_Pre_Event/pre_JPEG_Tiles/Pre_Event_tile_32_51.jpg\n",
            "i: 162 - /content/drive/MyDrive/Images_Pre_Event/pre_JPEG_Tiles/Pre_Event_tile_32_86.jpg\n",
            "i: 164 - /content/drive/MyDrive/Images_Pre_Event/pre_JPEG_Tiles/Pre_Event_tile_32_92.jpg\n",
            "i: 165 - /content/drive/MyDrive/Images_Pre_Event/pre_JPEG_Tiles/Pre_Event_tile_32_93.jpg\n",
            "i: 166 - /content/drive/MyDrive/Images_Pre_Event/pre_JPEG_Tiles/Pre_Event_tile_33_10.jpg\n",
            "i: 168 - /content/drive/MyDrive/Images_Pre_Event/pre_JPEG_Tiles/Pre_Event_tile_34_19.jpg\n",
            "i: 169 - /content/drive/MyDrive/Images_Pre_Event/pre_JPEG_Tiles/Pre_Event_tile_34_25.jpg\n",
            "i: 170 - /content/drive/MyDrive/Images_Pre_Event/pre_JPEG_Tiles/Pre_Event_tile_34_31.jpg\n",
            "i: 171 - /content/drive/MyDrive/Images_Pre_Event/pre_JPEG_Tiles/Pre_Event_tile_34_6.jpg\n",
            "i: 172 - /content/drive/MyDrive/Images_Pre_Event/pre_JPEG_Tiles/Pre_Event_tile_34_7.jpg\n",
            "i: 180 - /content/drive/MyDrive/Images_Pre_Event/pre_JPEG_Tiles/Pre_Event_tile_36_101.jpg\n",
            "i: 181 - /content/drive/MyDrive/Images_Pre_Event/pre_JPEG_Tiles/Pre_Event_tile_36_114.jpg\n",
            "i: 183 - /content/drive/MyDrive/Images_Pre_Event/pre_JPEG_Tiles/Pre_Event_tile_36_20.jpg\n",
            "i: 187 - /content/drive/MyDrive/Images_Pre_Event/pre_JPEG_Tiles/Pre_Event_tile_36_4.jpg\n",
            "i: 188 - /content/drive/MyDrive/Images_Pre_Event/pre_JPEG_Tiles/Pre_Event_tile_36_5.jpg\n",
            "i: 192 - /content/drive/MyDrive/Images_Pre_Event/pre_JPEG_Tiles/Pre_Event_tile_37_111.jpg\n",
            "i: 196 - /content/drive/MyDrive/Images_Pre_Event/pre_JPEG_Tiles/Pre_Event_tile_38_18.jpg\n",
            "i: 197 - /content/drive/MyDrive/Images_Pre_Event/pre_JPEG_Tiles/Pre_Event_tile_38_19.jpg\n",
            "i: 200 - /content/drive/MyDrive/Images_Pre_Event/pre_JPEG_Tiles/Pre_Event_tile_38_30.jpg\n",
            "i: 202 - /content/drive/MyDrive/Images_Pre_Event/pre_JPEG_Tiles/Pre_Event_tile_39_59.jpg\n",
            "i: 208 - /content/drive/MyDrive/Images_Pre_Event/pre_JPEG_Tiles/Pre_Event_tile_3_75.jpg\n",
            "i: 209 - /content/drive/MyDrive/Images_Pre_Event/pre_JPEG_Tiles/Pre_Event_tile_40_108.jpg\n",
            "i: 210 - /content/drive/MyDrive/Images_Pre_Event/pre_JPEG_Tiles/Pre_Event_tile_40_109.jpg\n",
            "i: 211 - /content/drive/MyDrive/Images_Pre_Event/pre_JPEG_Tiles/Pre_Event_tile_40_15.jpg\n",
            "i: 217 - /content/drive/MyDrive/Images_Pre_Event/pre_JPEG_Tiles/Pre_Event_tile_41_68.jpg\n",
            "i: 218 - /content/drive/MyDrive/Images_Pre_Event/pre_JPEG_Tiles/Pre_Event_tile_41_69.jpg\n",
            "i: 219 - /content/drive/MyDrive/Images_Pre_Event/pre_JPEG_Tiles/Pre_Event_tile_41_82.jpg\n",
            "i: 221 - /content/drive/MyDrive/Images_Pre_Event/pre_JPEG_Tiles/Pre_Event_tile_41_96.jpg\n",
            "i: 222 - /content/drive/MyDrive/Images_Pre_Event/pre_JPEG_Tiles/Pre_Event_tile_41_97.jpg\n",
            "i: 223 - /content/drive/MyDrive/Images_Pre_Event/pre_JPEG_Tiles/Pre_Event_tile_42_10.jpg\n",
            "i: 224 - /content/drive/MyDrive/Images_Pre_Event/pre_JPEG_Tiles/Pre_Event_tile_42_11.jpg\n",
            "i: 226 - /content/drive/MyDrive/Images_Pre_Event/pre_JPEG_Tiles/Pre_Event_tile_42_39.jpg\n",
            "i: 232 - /content/drive/MyDrive/Images_Pre_Event/pre_JPEG_Tiles/Pre_Event_tile_43_93.jpg\n",
            "i: 234 - /content/drive/MyDrive/Images_Pre_Event/pre_JPEG_Tiles/Pre_Event_tile_44_115.jpg\n",
            "i: 236 - /content/drive/MyDrive/Images_Pre_Event/pre_JPEG_Tiles/Pre_Event_tile_44_65.jpg\n",
            "i: 239 - /content/drive/MyDrive/Images_Pre_Event/pre_JPEG_Tiles/Pre_Event_tile_45_110.jpg\n",
            "i: 240 - /content/drive/MyDrive/Images_Pre_Event/pre_JPEG_Tiles/Pre_Event_tile_45_18.jpg\n",
            "i: 241 - /content/drive/MyDrive/Images_Pre_Event/pre_JPEG_Tiles/Pre_Event_tile_45_19.jpg\n",
            "i: 242 - /content/drive/MyDrive/Images_Pre_Event/pre_JPEG_Tiles/Pre_Event_tile_45_24.jpg\n",
            "i: 243 - /content/drive/MyDrive/Images_Pre_Event/pre_JPEG_Tiles/Pre_Event_tile_45_25.jpg\n",
            "i: 245 - /content/drive/MyDrive/Images_Pre_Event/pre_JPEG_Tiles/Pre_Event_tile_45_31.jpg\n",
            "i: 252 - /content/drive/MyDrive/Images_Pre_Event/pre_JPEG_Tiles/Pre_Event_tile_47_20.jpg\n",
            "i: 253 - /content/drive/MyDrive/Images_Pre_Event/pre_JPEG_Tiles/Pre_Event_tile_47_34.jpg\n",
            "i: 254 - /content/drive/MyDrive/Images_Pre_Event/pre_JPEG_Tiles/Pre_Event_tile_48_2.jpg\n",
            "i: 255 - /content/drive/MyDrive/Images_Pre_Event/pre_JPEG_Tiles/Pre_Event_tile_48_3.jpg\n",
            "i: 260 - /content/drive/MyDrive/Images_Pre_Event/pre_JPEG_Tiles/Pre_Event_tile_48_70.jpg\n",
            "i: 261 - /content/drive/MyDrive/Images_Pre_Event/pre_JPEG_Tiles/Pre_Event_tile_48_71.jpg\n",
            "i: 262 - /content/drive/MyDrive/Images_Pre_Event/pre_JPEG_Tiles/Pre_Event_tile_49_19.jpg\n",
            "i: 263 - /content/drive/MyDrive/Images_Pre_Event/pre_JPEG_Tiles/Pre_Event_tile_49_24.jpg\n",
            "i: 264 - /content/drive/MyDrive/Images_Pre_Event/pre_JPEG_Tiles/Pre_Event_tile_49_25.jpg\n",
            "i: 265 - /content/drive/MyDrive/Images_Pre_Event/pre_JPEG_Tiles/Pre_Event_tile_49_30.jpg\n",
            "i: 266 - /content/drive/MyDrive/Images_Pre_Event/pre_JPEG_Tiles/Pre_Event_tile_49_31.jpg\n",
            "i: 267 - /content/drive/MyDrive/Images_Pre_Event/pre_JPEG_Tiles/Pre_Event_tile_4_0.jpg\n",
            "i: 270 - /content/drive/MyDrive/Images_Pre_Event/pre_JPEG_Tiles/Pre_Event_tile_4_68.jpg\n",
            "i: 271 - /content/drive/MyDrive/Images_Pre_Event/pre_JPEG_Tiles/Pre_Event_tile_4_83.jpg\n",
            "i: 273 - /content/drive/MyDrive/Images_Pre_Event/pre_JPEG_Tiles/Pre_Event_tile_50_10.jpg\n",
            "i: 276 - /content/drive/MyDrive/Images_Pre_Event/pre_JPEG_Tiles/Pre_Event_tile_50_38.jpg\n",
            "i: 277 - /content/drive/MyDrive/Images_Pre_Event/pre_JPEG_Tiles/Pre_Event_tile_51_2.jpg\n",
            "i: 284 - /content/drive/MyDrive/Images_Pre_Event/pre_JPEG_Tiles/Pre_Event_tile_51_86.jpg\n",
            "i: 285 - /content/drive/MyDrive/Images_Pre_Event/pre_JPEG_Tiles/Pre_Event_tile_51_87.jpg\n",
            "i: 286 - /content/drive/MyDrive/Images_Pre_Event/pre_JPEG_Tiles/Pre_Event_tile_51_92.jpg\n",
            "i: 287 - /content/drive/MyDrive/Images_Pre_Event/pre_JPEG_Tiles/Pre_Event_tile_51_93.jpg\n",
            "i: 288 - /content/drive/MyDrive/Images_Pre_Event/pre_JPEG_Tiles/Pre_Event_tile_52_14.jpg\n",
            "i: 289 - /content/drive/MyDrive/Images_Pre_Event/pre_JPEG_Tiles/Pre_Event_tile_52_15.jpg\n",
            "i: 292 - /content/drive/MyDrive/Images_Pre_Event/pre_JPEG_Tiles/Pre_Event_tile_53_0.jpg\n",
            "i: 298 - /content/drive/MyDrive/Images_Pre_Event/pre_JPEG_Tiles/Pre_Event_tile_53_96.jpg\n",
            "i: 300 - /content/drive/MyDrive/Images_Pre_Event/pre_JPEG_Tiles/Pre_Event_tile_54_115.jpg\n",
            "i: 306 - /content/drive/MyDrive/Images_Pre_Event/pre_JPEG_Tiles/Pre_Event_tile_55_104.jpg\n",
            "i: 308 - /content/drive/MyDrive/Images_Pre_Event/pre_JPEG_Tiles/Pre_Event_tile_55_20.jpg\n",
            "i: 309 - /content/drive/MyDrive/Images_Pre_Event/pre_JPEG_Tiles/Pre_Event_tile_55_21.jpg\n",
            "i: 312 - /content/drive/MyDrive/Images_Pre_Event/pre_JPEG_Tiles/Pre_Event_tile_55_6.jpg\n",
            "i: 320 - /content/drive/MyDrive/Images_Pre_Event/pre_JPEG_Tiles/Pre_Event_tile_57_19.jpg\n",
            "i: 321 - /content/drive/MyDrive/Images_Pre_Event/pre_JPEG_Tiles/Pre_Event_tile_57_25.jpg\n",
            "i: 322 - /content/drive/MyDrive/Images_Pre_Event/pre_JPEG_Tiles/Pre_Event_tile_57_31.jpg\n",
            "i: 323 - /content/drive/MyDrive/Images_Pre_Event/pre_JPEG_Tiles/Pre_Event_tile_57_4.jpg\n",
            "i: 324 - /content/drive/MyDrive/Images_Pre_Event/pre_JPEG_Tiles/Pre_Event_tile_57_5.jpg\n",
            "i: 325 - /content/drive/MyDrive/Images_Pre_Event/pre_JPEG_Tiles/Pre_Event_tile_58_48.jpg\n",
            "i: 326 - /content/drive/MyDrive/Images_Pre_Event/pre_JPEG_Tiles/Pre_Event_tile_58_49.jpg\n",
            "i: 335 - /content/drive/MyDrive/Images_Pre_Event/pre_JPEG_Tiles/Pre_Event_tile_6_104.jpg\n",
            "i: 336 - /content/drive/MyDrive/Images_Pre_Event/pre_JPEG_Tiles/Pre_Event_tile_6_105.jpg\n",
            "i: 337 - /content/drive/MyDrive/Images_Pre_Event/pre_JPEG_Tiles/Pre_Event_tile_6_110.jpg\n",
            "i: 339 - /content/drive/MyDrive/Images_Pre_Event/pre_JPEG_Tiles/Pre_Event_tile_6_2.jpg\n",
            "i: 344 - /content/drive/MyDrive/Images_Pre_Event/pre_JPEG_Tiles/Pre_Event_tile_6_78.jpg\n",
            "i: 345 - /content/drive/MyDrive/Images_Pre_Event/pre_JPEG_Tiles/Pre_Event_tile_6_79.jpg\n",
            "i: 346 - /content/drive/MyDrive/Images_Pre_Event/pre_JPEG_Tiles/Pre_Event_tile_6_86.jpg\n",
            "i: 348 - /content/drive/MyDrive/Images_Pre_Event/pre_JPEG_Tiles/Pre_Event_tile_6_92.jpg\n",
            "i: 352 - /content/drive/MyDrive/Images_Pre_Event/pre_JPEG_Tiles/Pre_Event_tile_7_11.jpg\n",
            "i: 362 - /content/drive/MyDrive/Images_Pre_Event/pre_JPEG_Tiles/Pre_Event_tile_8_82.jpg\n",
            "i: 363 - /content/drive/MyDrive/Images_Pre_Event/pre_JPEG_Tiles/Pre_Event_tile_8_83.jpg\n",
            "i: 366 - /content/drive/MyDrive/Images_Pre_Event/pre_JPEG_Tiles/Pre_Event_tile_9_14.jpg\n"
          ]
        }
      ],
      "source": [
        "from collections import defaultdict\n",
        "\n",
        "# images_containing_commercial_buildings : dict[str] = defaultdict(str)\n",
        "\n",
        "images_containing_commercial_buildings: dict[str, dict[str, str]] = {}\n",
        "\n",
        "temp = []\n",
        "\n",
        "for i, inference_result in enumerate(inference_results):\n",
        "  classes_ids =  {class_name: class_id for class_id, class_name in inference_result.names.items()}\n",
        "  image_objects_detected = inference_result.boxes.cls.cpu().numpy()\n",
        "  class_commercial = classes_ids['undamagedcommercialbuilding']\n",
        "  class_residential = classes_ids['undamagedresidentialbuilding']\n",
        "  if not class_commercial in image_objects_detected and not class_residential in image_objects_detected:\n",
        "    print(f'i: {i} - {inference_result.path}')\n",
        "    temp.append(inference_result.path)\n"
      ]
    },
    {
      "cell_type": "code",
      "execution_count": null,
      "id": "jFgSXd2Vpof1",
      "metadata": {
        "id": "jFgSXd2Vpof1"
      },
      "outputs": [],
      "source": [
        "import os\n",
        "import shutil"
      ]
    },
    {
      "cell_type": "code",
      "execution_count": null,
      "id": "x933WmSvrXyK",
      "metadata": {
        "id": "x933WmSvrXyK"
      },
      "outputs": [],
      "source": [
        "def copy_files(files_paths: list[str], source_dir: str, destination_dir: str):\n",
        "\n",
        "  # Create a source directory\n",
        "  os.makedirs(name=destination_dir, exist_ok=True)\n"
      ]
    },
    {
      "cell_type": "code",
      "execution_count": null,
      "id": "NRtk7fAwuFDI",
      "metadata": {
        "id": "NRtk7fAwuFDI"
      },
      "outputs": [],
      "source": [
        "# Writing a scrypt that iterates over all the images in the list of results in model predict\n",
        "# Iterate over all files, select the paths of results images which contain commercial buildings with high enough confidence > 0.8\n",
        "# store all these paths in a list the use it to select these files in a folder on the local machine\n",
        "# then upload them to roboflow for manual annotation and extension of the dataset"
      ]
    },
    {
      "cell_type": "code",
      "execution_count": null,
      "id": "OfAjyS-yttW1",
      "metadata": {
        "id": "OfAjyS-yttW1"
      },
      "outputs": [],
      "source": [
        "os.makedirs(name='image_paths_commercial_buildings', exist_ok=True)"
      ]
    },
    {
      "cell_type": "code",
      "execution_count": null,
      "id": "ZorEKDC7ttT5",
      "metadata": {
        "id": "ZorEKDC7ttT5"
      },
      "outputs": [],
      "source": [
        "dest_path = 'image_paths_commercial_buildings'"
      ]
    },
    {
      "cell_type": "code",
      "execution_count": null,
      "id": "4psFu77ZuIdS",
      "metadata": {
        "colab": {
          "base_uri": "https://localhost:8080/",
          "height": 35
        },
        "id": "4psFu77ZuIdS",
        "outputId": "38ec5eb5-415c-49fc-defe-8dd22ef7049c"
      },
      "outputs": [
        {
          "data": {
            "application/vnd.google.colaboratory.intrinsic+json": {
              "type": "string"
            },
            "text/plain": [
              "'image_paths_commercial_buildings/Pre_Event_tile_1_68.jpg'"
            ]
          },
          "execution_count": 49,
          "metadata": {},
          "output_type": "execute_result"
        }
      ],
      "source": [
        "shutil.copy2('/content/images_inference/Pre_Event_tile_1_68.jpg', dest_path)"
      ]
    },
    {
      "cell_type": "code",
      "execution_count": null,
      "id": "Awy3NoqGuIat",
      "metadata": {
        "id": "Awy3NoqGuIat"
      },
      "outputs": [],
      "source": []
    },
    {
      "cell_type": "code",
      "execution_count": null,
      "id": "9Yjb4XNE_JXh",
      "metadata": {
        "colab": {
          "base_uri": "https://localhost:8080/"
        },
        "id": "9Yjb4XNE_JXh",
        "outputId": "eef55c31-9508-4e8b-cb28-11a4fd20b7c8"
      },
      "outputs": [
        {
          "data": {
            "text/plain": [
              "232"
            ]
          },
          "execution_count": 37,
          "metadata": {},
          "output_type": "execute_result"
        }
      ],
      "source": [
        "len(inference_results)"
      ]
    }
  ],
  "metadata": {
    "accelerator": "GPU",
    "colab": {
      "gpuType": "T4",
      "provenance": []
    },
    "kernelspec": {
      "display_name": "storm",
      "language": "python",
      "name": "python3"
    },
    "language_info": {
      "name": "python",
      "version": "3.12.11"
    }
  },
  "nbformat": 4,
  "nbformat_minor": 5
}