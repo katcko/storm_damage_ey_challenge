{
 "cells": [
  {
   "cell_type": "markdown",
   "id": "85e1044a",
   "metadata": {},
   "source": [
    "# PreTraining Undamaged Model\n",
    "\n",
    "Objective: train a YOLO model on pre-event undamaged buildings (residential, commercial) to a sufficient level of accuracy. This model will be trained on an initial manually annotated dataset."
   ]
  },
  {
   "cell_type": "markdown",
   "id": "6110e007",
   "metadata": {},
   "source": []
  },
  {
   "cell_type": "markdown",
   "id": "0ed0acd3",
   "metadata": {},
   "source": [
    "#### Google Collab initialization"
   ]
  },
  {
   "cell_type": "markdown",
   "id": "60cc94a7",
   "metadata": {},
   "source": []
  }
 ],
 "metadata": {
  "language_info": {
   "name": "python"
  }
 },
 "nbformat": 4,
 "nbformat_minor": 5
}
