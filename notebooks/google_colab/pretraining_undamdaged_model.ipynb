{
  "cells": [
    {
      "cell_type": "markdown",
      "id": "85e1044a",
      "metadata": {
        "id": "85e1044a"
      },
      "source": [
        "# PreTraining Undamaged Model\n",
        "\n",
        "Objective: train a YOLO model on pre-event undamaged buildings (residential, commercial) to a sufficient level of accuracy. This model will be trained on an initial manually annotated dataset."
      ]
    },
    {
      "cell_type": "code",
      "source": [
        "import os\n",
        "HOME = os.getcwd()\n",
        "print(f'HOME directory path: \\'{HOME}\\'')"
      ],
      "metadata": {
        "id": "9JTTSTPhjIy8",
        "outputId": "032ea10f-7684-43b9-927f-96e9f95b6ba9",
        "colab": {
          "base_uri": "https://localhost:8080/"
        }
      },
      "id": "9JTTSTPhjIy8",
      "execution_count": 1,
      "outputs": [
        {
          "output_type": "stream",
          "name": "stdout",
          "text": [
            "HOME directory path: '/content'\n"
          ]
        }
      ]
    },
    {
      "cell_type": "markdown",
      "id": "0ed0acd3",
      "metadata": {
        "id": "0ed0acd3"
      },
      "source": [
        "#### Initialization of Google Collab environment"
      ]
    },
    {
      "cell_type": "code",
      "source": [
        "requirements_packages = \"\"\"\n",
        "rasterio==1.4.2\n",
        "ultralytics>=8.3\n",
        "labelme2yolo==0.2.5\n",
        "roboflow==1.1.48\n",
        "\"\"\"\n",
        "\n",
        "# Specify the file name\n",
        "file_name = \"requirements.txt\"\n",
        "\n",
        "# Write the text to the file\n",
        "with open(file_name, 'w') as file:\n",
        "    file.write(requirements_packages)\n",
        "\n",
        "print(f\"File '{file_name}' has been created with the text.\")"
      ],
      "metadata": {
        "id": "WQGszsAxjTz7",
        "outputId": "10b4f7b1-b6f3-4e1c-ddc1-f65074eb12b4",
        "colab": {
          "base_uri": "https://localhost:8080/"
        }
      },
      "id": "WQGszsAxjTz7",
      "execution_count": 2,
      "outputs": [
        {
          "output_type": "stream",
          "name": "stdout",
          "text": [
            "File 'requirements.txt' has been created with the text.\n"
          ]
        }
      ]
    },
    {
      "cell_type": "code",
      "source": [
        "# Installing required packages quietly without showing the details\n",
        "!pip install -r {HOME}/requirements.txt --quiet"
      ],
      "metadata": {
        "id": "fgFf0NEYjUYL",
        "outputId": "0b0a05f9-0ec6-47d9-92fc-3038461058b2",
        "colab": {
          "base_uri": "https://localhost:8080/"
        }
      },
      "id": "fgFf0NEYjUYL",
      "execution_count": 3,
      "outputs": [
        {
          "output_type": "stream",
          "name": "stdout",
          "text": [
            "\u001b[2K   \u001b[90m━━━━━━━━━━━━━━━━━━━━━━━━━━━━━━━━━━━━━━━━\u001b[0m \u001b[32m22.2/22.2 MB\u001b[0m \u001b[31m58.4 MB/s\u001b[0m eta \u001b[36m0:00:00\u001b[0m\n",
            "\u001b[2K   \u001b[90m━━━━━━━━━━━━━━━━━━━━━━━━━━━━━━━━━━━━━━━━\u001b[0m \u001b[32m1.4/1.4 MB\u001b[0m \u001b[31m74.5 MB/s\u001b[0m eta \u001b[36m0:00:00\u001b[0m\n",
            "\u001b[2K   \u001b[90m━━━━━━━━━━━━━━━━━━━━━━━━━━━━━━━━━━━━━━━━\u001b[0m \u001b[32m80.3/80.3 kB\u001b[0m \u001b[31m7.8 MB/s\u001b[0m eta \u001b[36m0:00:00\u001b[0m\n",
            "\u001b[2K   \u001b[90m━━━━━━━━━━━━━━━━━━━━━━━━━━━━━━━━━━━━━━━━\u001b[0m \u001b[32m66.8/66.8 kB\u001b[0m \u001b[31m6.1 MB/s\u001b[0m eta \u001b[36m0:00:00\u001b[0m\n",
            "\u001b[2K   \u001b[90m━━━━━━━━━━━━━━━━━━━━━━━━━━━━━━━━━━━━━━━━\u001b[0m \u001b[32m49.9/49.9 MB\u001b[0m \u001b[31m17.6 MB/s\u001b[0m eta \u001b[36m0:00:00\u001b[0m\n",
            "\u001b[2K   \u001b[90m━━━━━━━━━━━━━━━━━━━━━━━━━━━━━━━━━━━━━━━━\u001b[0m \u001b[32m1.0/1.0 MB\u001b[0m \u001b[31m68.4 MB/s\u001b[0m eta \u001b[36m0:00:00\u001b[0m\n",
            "\u001b[2K   \u001b[90m━━━━━━━━━━━━━━━━━━━━━━━━━━━━━━━━━━━━━━━━\u001b[0m \u001b[32m363.4/363.4 MB\u001b[0m \u001b[31m1.2 MB/s\u001b[0m eta \u001b[36m0:00:00\u001b[0m\n",
            "\u001b[2K   \u001b[90m━━━━━━━━━━━━━━━━━━━━━━━━━━━━━━━━━━━━━━━━\u001b[0m \u001b[32m13.8/13.8 MB\u001b[0m \u001b[31m121.2 MB/s\u001b[0m eta \u001b[36m0:00:00\u001b[0m\n",
            "\u001b[2K   \u001b[90m━━━━━━━━━━━━━━━━━━━━━━━━━━━━━━━━━━━━━━━━\u001b[0m \u001b[32m24.6/24.6 MB\u001b[0m \u001b[31m75.4 MB/s\u001b[0m eta \u001b[36m0:00:00\u001b[0m\n",
            "\u001b[2K   \u001b[90m━━━━━━━━━━━━━━━━━━━━━━━━━━━━━━━━━━━━━━━━\u001b[0m \u001b[32m883.7/883.7 kB\u001b[0m \u001b[31m57.8 MB/s\u001b[0m eta \u001b[36m0:00:00\u001b[0m\n",
            "\u001b[2K   \u001b[90m━━━━━━━━━━━━━━━━━━━━━━━━━━━━━━━━━━━━━━━━\u001b[0m \u001b[32m664.8/664.8 MB\u001b[0m \u001b[31m2.1 MB/s\u001b[0m eta \u001b[36m0:00:00\u001b[0m\n",
            "\u001b[2K   \u001b[90m━━━━━━━━━━━━━━━━━━━━━━━━━━━━━━━━━━━━━━━━\u001b[0m \u001b[32m211.5/211.5 MB\u001b[0m \u001b[31m6.6 MB/s\u001b[0m eta \u001b[36m0:00:00\u001b[0m\n",
            "\u001b[2K   \u001b[90m━━━━━━━━━━━━━━━━━━━━━━━━━━━━━━━━━━━━━━━━\u001b[0m \u001b[32m56.3/56.3 MB\u001b[0m \u001b[31m12.9 MB/s\u001b[0m eta \u001b[36m0:00:00\u001b[0m\n",
            "\u001b[2K   \u001b[90m━━━━━━━━━━━━━━━━━━━━━━━━━━━━━━━━━━━━━━━━\u001b[0m \u001b[32m127.9/127.9 MB\u001b[0m \u001b[31m7.4 MB/s\u001b[0m eta \u001b[36m0:00:00\u001b[0m\n",
            "\u001b[2K   \u001b[90m━━━━━━━━━━━━━━━━━━━━━━━━━━━━━━━━━━━━━━━━\u001b[0m \u001b[32m207.5/207.5 MB\u001b[0m \u001b[31m5.4 MB/s\u001b[0m eta \u001b[36m0:00:00\u001b[0m\n",
            "\u001b[2K   \u001b[90m━━━━━━━━━━━━━━━━━━━━━━━━━━━━━━━━━━━━━━━━\u001b[0m \u001b[32m188.7/188.7 MB\u001b[0m \u001b[31m6.9 MB/s\u001b[0m eta \u001b[36m0:00:00\u001b[0m\n",
            "\u001b[2K   \u001b[90m━━━━━━━━━━━━━━━━━━━━━━━━━━━━━━━━━━━━━━━━\u001b[0m \u001b[32m21.1/21.1 MB\u001b[0m \u001b[31m47.5 MB/s\u001b[0m eta \u001b[36m0:00:00\u001b[0m\n",
            "\u001b[?25h"
          ]
        }
      ]
    },
    {
      "cell_type": "markdown",
      "source": [
        "# Connecting to RoboFlow database"
      ],
      "metadata": {
        "id": "P3phu4LIjcI4"
      },
      "id": "P3phu4LIjcI4"
    },
    {
      "cell_type": "code",
      "source": [
        "import roboflow\n",
        "roboflow.login(force=True) # Login into roboflow"
      ],
      "metadata": {
        "id": "3yWo3w_kjYC1",
        "outputId": "03abad0d-d241-43f7-9e8b-28eb0bc920c5",
        "colab": {
          "base_uri": "https://localhost:8080/"
        }
      },
      "id": "3yWo3w_kjYC1",
      "execution_count": 4,
      "outputs": [
        {
          "name": "stdout",
          "output_type": "stream",
          "text": [
            "\rvisit https://app.roboflow.com/auth-cli to get your authentication token.\n",
            "Paste the authentication token here: ··········\n"
          ]
        }
      ]
    },
    {
      "cell_type": "code",
      "source": [],
      "metadata": {
        "id": "5hM-n43QjVFM"
      },
      "id": "5hM-n43QjVFM",
      "execution_count": null,
      "outputs": []
    },
    {
      "cell_type": "markdown",
      "source": [
        "## Importing packages"
      ],
      "metadata": {
        "id": "Q6yXw0BnjivP"
      },
      "id": "Q6yXw0BnjivP"
    },
    {
      "cell_type": "code",
      "source": [
        "import torch\n",
        "\n",
        "# Supress Warnings\n",
        "import warnings\n",
        "warnings.filterwarnings('ignore')\n",
        "\n",
        "# GeoTiff Images\n",
        "import rasterio\n",
        "from osgeo import gdal\n",
        "\n",
        "# Visualisation\n",
        "from matplotlib import pyplot as plt\n",
        "import matplotlib.image as img\n",
        "from matplotlib.pyplot import figure\n",
        "from PIL import Image\n",
        "\n",
        "# Model Building\n",
        "import ultralytics\n",
        "from ultralytics import YOLO\n",
        "from IPython.display import Image\n",
        "\n",
        "# Progress bar\n",
        "from tqdm import tqdm\n",
        "\n",
        "import numpy as np\n",
        "\n",
        "# Others\n",
        "import os\n",
        "import shutil\n",
        "import zipfile\n",
        "\n",
        "%matplotlib inline"
      ],
      "metadata": {
        "id": "Kp5C-_EGjfHV",
        "outputId": "9020ceaf-c3d8-4577-b4e4-f60954af3959",
        "colab": {
          "base_uri": "https://localhost:8080/"
        }
      },
      "id": "Kp5C-_EGjfHV",
      "execution_count": 5,
      "outputs": [
        {
          "output_type": "stream",
          "name": "stdout",
          "text": [
            "Creating new Ultralytics Settings v0.0.6 file ✅ \n",
            "View Ultralytics Settings with 'yolo settings' or at '/root/.config/Ultralytics/settings.json'\n",
            "Update Settings with 'yolo settings key=value', i.e. 'yolo settings runs_dir=path/to/dir'. For help see https://docs.ultralytics.com/quickstart/#ultralytics-settings.\n"
          ]
        }
      ]
    },
    {
      "cell_type": "markdown",
      "source": [
        "## Define project details"
      ],
      "metadata": {
        "id": "UqSLXbtGjnCm"
      },
      "id": "UqSLXbtGjnCm"
    },
    {
      "cell_type": "code",
      "source": [
        "# Downloading dataset from Roboflow platform (Notice: after execution data will be deleted from google colab)\n",
        "roboflow_project_name = 'stormdamagechallenge'\n",
        "dataset_name = 'storm-damage'\n",
        "dataset_title = 'Storm-Damage'\n",
        "dataset_id = 'goe2a'\n",
        "dataset_version = 14 # Cleaned Commercial Buildings\n",
        "model_name = 'yolo'\n",
        "model_version = '11' # 'v8' or '11'\n",
        "model_variant = 'n' # parameter required for model training phase\n",
        "\n",
        "# Connect to roboflow dataset\n",
        "rf = roboflow.Roboflow()\n",
        "project = rf.workspace(roboflow_project_name).project(dataset_name + '-' + dataset_id)\n",
        "dataset = project.version(dataset_version).download(model_name + model_version)"
      ],
      "metadata": {
        "id": "9NUcfzn0jpui",
        "outputId": "1b3f0c0d-924c-4212-b3b2-1ff1adace5a3",
        "colab": {
          "base_uri": "https://localhost:8080/"
        }
      },
      "id": "9NUcfzn0jpui",
      "execution_count": 6,
      "outputs": [
        {
          "output_type": "stream",
          "name": "stdout",
          "text": [
            "loading Roboflow workspace...\n",
            "loading Roboflow project...\n",
            "\n",
            "Version export complete for yolo11 format\n"
          ]
        },
        {
          "output_type": "stream",
          "name": "stderr",
          "text": [
            "Downloading Dataset Version Zip in Storm-Damage-14 to yolo11:: 100%|██████████| 22140/22140 [00:00<00:00, 36236.03it/s]"
          ]
        },
        {
          "output_type": "stream",
          "name": "stdout",
          "text": [
            "\n"
          ]
        },
        {
          "output_type": "stream",
          "name": "stderr",
          "text": [
            "\n",
            "Extracting Dataset Version Zip to Storm-Damage-14 in yolo11:: 100%|██████████| 774/774 [00:00<00:00, 5526.32it/s]\n"
          ]
        }
      ]
    },
    {
      "cell_type": "markdown",
      "source": [
        "### Check Ultralytics connection"
      ],
      "metadata": {
        "id": "crHVnOXzjtBV"
      },
      "id": "crHVnOXzjtBV"
    },
    {
      "cell_type": "code",
      "source": [
        "print(torch.cuda.is_available())\n",
        "print(torch.cuda.device_count())\n",
        "ultralytics.checks()"
      ],
      "metadata": {
        "id": "CJ8WNMxGjvHm",
        "outputId": "69bffe49-4520-4747-d8cd-ac07c19a10b9",
        "colab": {
          "base_uri": "https://localhost:8080/"
        }
      },
      "id": "CJ8WNMxGjvHm",
      "execution_count": 7,
      "outputs": [
        {
          "output_type": "stream",
          "name": "stdout",
          "text": [
            "Ultralytics 8.3.178 🚀 Python-3.11.13 torch-2.6.0+cu124 CUDA:0 (Tesla T4, 15095MiB)\n",
            "Setup complete ✅ (2 CPUs, 12.7 GB RAM, 43.2/112.6 GB disk)\n"
          ]
        }
      ]
    },
    {
      "cell_type": "code",
      "source": [
        "!nvidia-smi"
      ],
      "metadata": {
        "id": "RzEbvf4Rjw1E",
        "outputId": "efaf1352-ef4a-4344-b5a7-a6cb5ac7b8cd",
        "colab": {
          "base_uri": "https://localhost:8080/"
        }
      },
      "id": "RzEbvf4Rjw1E",
      "execution_count": 8,
      "outputs": [
        {
          "output_type": "stream",
          "name": "stdout",
          "text": [
            "Tue Aug 12 18:32:02 2025       \n",
            "+-----------------------------------------------------------------------------------------+\n",
            "| NVIDIA-SMI 550.54.15              Driver Version: 550.54.15      CUDA Version: 12.4     |\n",
            "|-----------------------------------------+------------------------+----------------------+\n",
            "| GPU  Name                 Persistence-M | Bus-Id          Disp.A | Volatile Uncorr. ECC |\n",
            "| Fan  Temp   Perf          Pwr:Usage/Cap |           Memory-Usage | GPU-Util  Compute M. |\n",
            "|                                         |                        |               MIG M. |\n",
            "|=========================================+========================+======================|\n",
            "|   0  Tesla T4                       Off |   00000000:00:04.0 Off |                    0 |\n",
            "| N/A   38C    P8              9W /   70W |       2MiB /  15360MiB |      0%      Default |\n",
            "|                                         |                        |                  N/A |\n",
            "+-----------------------------------------+------------------------+----------------------+\n",
            "                                                                                         \n",
            "+-----------------------------------------------------------------------------------------+\n",
            "| Processes:                                                                              |\n",
            "|  GPU   GI   CI        PID   Type   Process name                              GPU Memory |\n",
            "|        ID   ID                                                               Usage      |\n",
            "|=========================================================================================|\n",
            "|  No running processes found                                                             |\n",
            "+-----------------------------------------------------------------------------------------+\n"
          ]
        }
      ]
    },
    {
      "cell_type": "markdown",
      "source": [
        "### Loading YOLO model for Training"
      ],
      "metadata": {
        "id": "0DZOo6auj0ON"
      },
      "id": "0DZOo6auj0ON"
    },
    {
      "cell_type": "code",
      "source": [
        "model = YOLO(\"/content/best_model/best.pt\")  # load a custom trained model\n",
        "model.info()"
      ],
      "metadata": {
        "id": "hUyCwuz1jeWp",
        "outputId": "c04d54a9-9e08-4bf5-fb31-60ee9744c477",
        "colab": {
          "base_uri": "https://localhost:8080/"
        }
      },
      "id": "hUyCwuz1jeWp",
      "execution_count": 10,
      "outputs": [
        {
          "output_type": "stream",
          "name": "stdout",
          "text": [
            "YOLO11n summary: 181 layers, 2,590,230 parameters, 0 gradients, 6.4 GFLOPs\n"
          ]
        },
        {
          "output_type": "execute_result",
          "data": {
            "text/plain": [
              "(181, 2590230, 0, 6.4416768)"
            ]
          },
          "metadata": {},
          "execution_count": 10
        }
      ]
    },
    {
      "cell_type": "code",
      "source": [
        "# # Loading the model\n",
        "# model = YOLO(f'../models/{model_name + model_version}/{model_name + model_version + model_variant}.pt')\n",
        "# # Display model information (optional)\n",
        "# model.info()"
      ],
      "metadata": {
        "id": "pklFMUC7jwx0"
      },
      "id": "pklFMUC7jwx0",
      "execution_count": 11,
      "outputs": []
    },
    {
      "cell_type": "code",
      "source": [
        "yaml_file = f'{HOME}/{dataset_title}-{dataset_version}/data.yaml'\n",
        "yaml_file"
      ],
      "metadata": {
        "id": "2ejwT_RCjwsu",
        "outputId": "9859f5de-5259-45bd-8133-2ab4155082bb",
        "colab": {
          "base_uri": "https://localhost:8080/",
          "height": 35
        }
      },
      "id": "2ejwT_RCjwsu",
      "execution_count": null,
      "outputs": [
        {
          "output_type": "execute_result",
          "data": {
            "text/plain": [
              "'/content/Storm-Damage-14/data.yaml'"
            ],
            "application/vnd.google.colaboratory.intrinsic+json": {
              "type": "string"
            }
          },
          "metadata": {},
          "execution_count": 10
        }
      ]
    },
    {
      "cell_type": "markdown",
      "source": [
        "## Pre-Training Model"
      ],
      "metadata": {
        "id": "f5aYs6zzk_2u"
      },
      "id": "f5aYs6zzk_2u"
    },
    {
      "cell_type": "code",
      "source": [
        "# Define model training parameters\n",
        "batch = -1 # set as an integer (e.g., batch=16), auto mode for 60% GPU memory utilization (batch=-1), or auto mode with specified utilization fraction (batch=0.70)\n",
        "device = 0 # 0: GPU | 'cpu': cpu | 'mps': apple silicon mps\n",
        "epochs = 50\n",
        "patience = 10\n",
        "imgsz = 640 # TODO: assess the importance of image size 640x640 by-design of Yolo models, image size role\n",
        "plots = True\n",
        "project = 'exploratory_phase' # parent directory name\n",
        "name_train = f'{model_name + model_version + model_variant}_training_dataset_v{dataset_version}' # run directory name"
      ],
      "metadata": {
        "id": "3Viyufjsk9Dj"
      },
      "id": "3Viyufjsk9Dj",
      "execution_count": 12,
      "outputs": []
    },
    {
      "cell_type": "code",
      "source": [
        "# # Train the model\n",
        "# result_model_training = model.train(\n",
        "#                                     data=yaml_file,\n",
        "#                                     batch = batch,\n",
        "#                                     device = device,\n",
        "#                                     epochs = epochs,\n",
        "#                                     patience = patience,\n",
        "#                                     imgsz = imgsz,\n",
        "#                                     optimizer = 'AdamW',\n",
        "#                                     # augment = False, # (bool) apply image augmentation to prediction sources\n",
        "#                                     lr0 = 1e-5,\n",
        "#                                     # auto_augment = None, # (str) auto augmentation policy for classification (randaugment, autoaugment, augmix)\n",
        "#                                     momentum = 0.937,\n",
        "#                                     plots = plots,\n",
        "#                                     project = project,\n",
        "#                                     name = name_train\n",
        "#                                     )"
      ],
      "metadata": {
        "id": "vGQgTTFglCjy",
        "outputId": "222c21d0-0e42-49bd-aeab-a5e5ea32ac0e",
        "colab": {
          "base_uri": "https://localhost:8080/"
        },
        "collapsed": true
      },
      "id": "vGQgTTFglCjy",
      "execution_count": null,
      "outputs": [
        {
          "output_type": "stream",
          "name": "stdout",
          "text": [
            "Ultralytics 8.3.174 🚀 Python-3.11.13 torch-2.6.0+cu124 CUDA:0 (Tesla T4, 15095MiB)\n",
            "\u001b[34m\u001b[1mengine/trainer: \u001b[0magnostic_nms=False, amp=True, augment=False, auto_augment=randaugment, batch=-1, bgr=0.0, box=7.5, cache=False, cfg=None, classes=None, close_mosaic=10, cls=0.5, conf=None, copy_paste=0.0, copy_paste_mode=flip, cos_lr=False, cutmix=0.0, data=/content/Storm-Damage-14/data.yaml, degrees=0.0, deterministic=True, device=0, dfl=1.5, dnn=False, dropout=0.0, dynamic=False, embed=None, epochs=50, erasing=0.4, exist_ok=False, fliplr=0.5, flipud=0.0, format=torchscript, fraction=1.0, freeze=None, half=False, hsv_h=0.015, hsv_s=0.7, hsv_v=0.4, imgsz=640, int8=False, iou=0.7, keras=False, kobj=1.0, line_width=None, lr0=1e-05, lrf=0.01, mask_ratio=4, max_det=300, mixup=0.0, mode=train, model=../models/yolo11/yolo11n.pt, momentum=0.937, mosaic=1.0, multi_scale=False, name=yolo11n_training_dataset_v14, nbs=64, nms=False, opset=None, optimize=False, optimizer=AdamW, overlap_mask=True, patience=10, perspective=0.0, plots=True, pose=12.0, pretrained=True, profile=False, project=exploratory_phase, rect=False, resume=False, retina_masks=False, save=True, save_conf=False, save_crop=False, save_dir=exploratory_phase/yolo11n_training_dataset_v14, save_frames=False, save_json=False, save_period=-1, save_txt=False, scale=0.5, seed=0, shear=0.0, show=False, show_boxes=True, show_conf=True, show_labels=True, simplify=True, single_cls=False, source=None, split=val, stream_buffer=False, task=detect, time=None, tracker=botsort.yaml, translate=0.1, val=True, verbose=True, vid_stride=1, visualize=False, warmup_bias_lr=0.1, warmup_epochs=3.0, warmup_momentum=0.8, weight_decay=0.0005, workers=8, workspace=None\n"
          ]
        },
        {
          "output_type": "stream",
          "name": "stderr",
          "text": [
            "Downloading https://ultralytics.com/assets/Arial.ttf to '/root/.config/Ultralytics/Arial.ttf': 100%|██████████| 755k/755k [00:00<00:00, 32.1MB/s]"
          ]
        },
        {
          "output_type": "stream",
          "name": "stdout",
          "text": [
            "Overriding model.yaml nc=80 with nc=2\n",
            "\n",
            "                   from  n    params  module                                       arguments                     \n",
            "  0                  -1  1       464  ultralytics.nn.modules.conv.Conv             [3, 16, 3, 2]                 \n",
            "  1                  -1  1      4672  ultralytics.nn.modules.conv.Conv             [16, 32, 3, 2]                \n",
            "  2                  -1  1      6640  ultralytics.nn.modules.block.C3k2            [32, 64, 1, False, 0.25]      \n",
            "  3                  -1  1     36992  ultralytics.nn.modules.conv.Conv             [64, 64, 3, 2]                \n",
            "  4                  -1  1     26080  ultralytics.nn.modules.block.C3k2            [64, 128, 1, False, 0.25]     \n",
            "  5                  -1  1    147712  ultralytics.nn.modules.conv.Conv             [128, 128, 3, 2]              \n",
            "  6                  -1  1     87040  ultralytics.nn.modules.block.C3k2            [128, 128, 1, True]           \n",
            "  7                  -1  1    295424  ultralytics.nn.modules.conv.Conv             [128, 256, 3, 2]              \n",
            "  8                  -1  1    346112  ultralytics.nn.modules.block.C3k2            [256, 256, 1, True]           \n",
            "  9                  -1  1    164608  ultralytics.nn.modules.block.SPPF            [256, 256, 5]                 \n",
            " 10                  -1  1    249728  ultralytics.nn.modules.block.C2PSA           [256, 256, 1]                 \n",
            " 11                  -1  1         0  torch.nn.modules.upsampling.Upsample         [None, 2, 'nearest']          \n",
            " 12             [-1, 6]  1         0  ultralytics.nn.modules.conv.Concat           [1]                           \n",
            " 13                  -1  1    111296  ultralytics.nn.modules.block.C3k2            [384, 128, 1, False]          \n",
            " 14                  -1  1         0  torch.nn.modules.upsampling.Upsample         [None, 2, 'nearest']          \n",
            " 15             [-1, 4]  1         0  ultralytics.nn.modules.conv.Concat           [1]                           \n",
            " 16                  -1  1     32096  ultralytics.nn.modules.block.C3k2            [256, 64, 1, False]           \n",
            " 17                  -1  1     36992  ultralytics.nn.modules.conv.Conv             [64, 64, 3, 2]                \n",
            " 18            [-1, 13]  1         0  ultralytics.nn.modules.conv.Concat           [1]                           \n",
            " 19                  -1  1     86720  ultralytics.nn.modules.block.C3k2            [192, 128, 1, False]          \n",
            " 20                  -1  1    147712  ultralytics.nn.modules.conv.Conv             [128, 128, 3, 2]              \n",
            " 21            [-1, 10]  1         0  ultralytics.nn.modules.conv.Concat           [1]                           \n",
            " 22                  -1  1    378880  ultralytics.nn.modules.block.C3k2            [384, 256, 1, True]           \n",
            " 23        [16, 19, 22]  1    431062  ultralytics.nn.modules.head.Detect           [2, [64, 128, 256]]           \n"
          ]
        },
        {
          "output_type": "stream",
          "name": "stderr",
          "text": [
            "\n"
          ]
        },
        {
          "output_type": "stream",
          "name": "stdout",
          "text": [
            "YOLO11n summary: 181 layers, 2,590,230 parameters, 2,590,214 gradients, 6.4 GFLOPs\n",
            "\n",
            "Transferred 448/499 items from pretrained weights\n",
            "Freezing layer 'model.23.dfl.conv.weight'\n",
            "\u001b[34m\u001b[1mAMP: \u001b[0mrunning Automatic Mixed Precision (AMP) checks...\n"
          ]
        },
        {
          "output_type": "stream",
          "name": "stderr",
          "text": [
            "Downloading https://github.com/ultralytics/assets/releases/download/v8.3.0/yolo11n.pt to 'yolo11n.pt': 100%|██████████| 5.35M/5.35M [00:00<00:00, 81.4MB/s]\n"
          ]
        },
        {
          "output_type": "stream",
          "name": "stdout",
          "text": [
            "\u001b[34m\u001b[1mAMP: \u001b[0mchecks passed ✅\n",
            "\u001b[34m\u001b[1mtrain: \u001b[0mFast image access ✅ (ping: 0.0±0.0 ms, read: 1477.7±669.1 MB/s, size: 56.6 KB)\n"
          ]
        },
        {
          "output_type": "stream",
          "name": "stderr",
          "text": [
            "\u001b[34m\u001b[1mtrain: \u001b[0mScanning /content/Storm-Damage-14/train/labels... 333 images, 1 backgrounds, 0 corrupt: 100%|██████████| 333/333 [00:00<00:00, 2120.17it/s]"
          ]
        },
        {
          "output_type": "stream",
          "name": "stdout",
          "text": [
            "\u001b[34m\u001b[1mtrain: \u001b[0mNew cache created: /content/Storm-Damage-14/train/labels.cache\n"
          ]
        },
        {
          "output_type": "stream",
          "name": "stderr",
          "text": [
            "\n"
          ]
        },
        {
          "output_type": "stream",
          "name": "stdout",
          "text": [
            "\u001b[34m\u001b[1malbumentations: \u001b[0mBlur(p=0.01, blur_limit=(3, 7)), MedianBlur(p=0.01, blur_limit=(3, 7)), ToGray(p=0.01, method='weighted_average', num_output_channels=3), CLAHE(p=0.01, clip_limit=(1.0, 4.0), tile_grid_size=(8, 8))\n",
            "\u001b[34m\u001b[1mAutoBatch: \u001b[0mComputing optimal batch size for imgsz=640 at 60.0% CUDA memory utilization.\n",
            "\u001b[34m\u001b[1mAutoBatch: \u001b[0mCUDA:0 (Tesla T4) 14.74G total, 0.10G reserved, 0.07G allocated, 14.57G free\n",
            "      Params      GFLOPs  GPU_mem (GB)  forward (ms) backward (ms)                   input                  output\n",
            "     2590230       6.442         0.459         55.45         243.1        (1, 3, 640, 640)                    list\n",
            "     2590230       12.88         0.631         29.49           106        (2, 3, 640, 640)                    list\n",
            "     2590230       25.77         0.948         30.66         94.12        (4, 3, 640, 640)                    list\n",
            "     2590230       51.53         1.617         33.41         107.8        (8, 3, 640, 640)                    list\n",
            "     2590230       103.1         2.913         59.98         137.1       (16, 3, 640, 640)                    list\n",
            "\u001b[34m\u001b[1mAutoBatch: \u001b[0mUsing batch-size 53 for CUDA:0 9.14G/14.74G (62%) ✅\n",
            "\u001b[34m\u001b[1mtrain: \u001b[0mFast image access ✅ (ping: 0.0±0.0 ms, read: 1553.1±457.6 MB/s, size: 60.6 KB)\n"
          ]
        },
        {
          "output_type": "stream",
          "name": "stderr",
          "text": [
            "\u001b[34m\u001b[1mtrain: \u001b[0mScanning /content/Storm-Damage-14/train/labels.cache... 333 images, 1 backgrounds, 0 corrupt: 100%|██████████| 333/333 [00:00<?, ?it/s]"
          ]
        },
        {
          "output_type": "stream",
          "name": "stdout",
          "text": [
            "\u001b[34m\u001b[1malbumentations: \u001b[0mBlur(p=0.01, blur_limit=(3, 7)), MedianBlur(p=0.01, blur_limit=(3, 7)), ToGray(p=0.01, method='weighted_average', num_output_channels=3), CLAHE(p=0.01, clip_limit=(1.0, 4.0), tile_grid_size=(8, 8))\n"
          ]
        },
        {
          "output_type": "stream",
          "name": "stderr",
          "text": [
            "\n"
          ]
        },
        {
          "output_type": "stream",
          "name": "stdout",
          "text": [
            "\u001b[34m\u001b[1mval: \u001b[0mFast image access ✅ (ping: 0.0±0.0 ms, read: 753.4±709.7 MB/s, size: 62.2 KB)\n"
          ]
        },
        {
          "output_type": "stream",
          "name": "stderr",
          "text": [
            "\u001b[34m\u001b[1mval: \u001b[0mScanning /content/Storm-Damage-14/valid/labels... 32 images, 0 backgrounds, 0 corrupt: 100%|██████████| 32/32 [00:00<00:00, 403.92it/s]"
          ]
        },
        {
          "output_type": "stream",
          "name": "stdout",
          "text": [
            "\u001b[34m\u001b[1mval: \u001b[0mNew cache created: /content/Storm-Damage-14/valid/labels.cache\n"
          ]
        },
        {
          "output_type": "stream",
          "name": "stderr",
          "text": [
            "\n"
          ]
        },
        {
          "output_type": "stream",
          "name": "stdout",
          "text": [
            "Plotting labels to exploratory_phase/yolo11n_training_dataset_v14/labels.jpg... \n",
            "\u001b[34m\u001b[1moptimizer:\u001b[0m AdamW(lr=1e-05, momentum=0.937) with parameter groups 81 weight(decay=0.0), 88 weight(decay=0.0004140625), 87 bias(decay=0.0)\n",
            "Image sizes 640 train, 640 val\n",
            "Using 2 dataloader workers\n",
            "Logging results to \u001b[1mexploratory_phase/yolo11n_training_dataset_v14\u001b[0m\n",
            "Starting training for 50 epochs...\n",
            "\n",
            "      Epoch    GPU_mem   box_loss   cls_loss   dfl_loss  Instances       Size\n"
          ]
        },
        {
          "output_type": "stream",
          "name": "stderr",
          "text": [
            "       1/50      9.69G      2.281      3.705      1.928        335        640: 100%|██████████| 7/7 [00:06<00:00,  1.05it/s]\n",
            "                 Class     Images  Instances      Box(P          R      mAP50  mAP50-95): 100%|██████████| 1/1 [00:01<00:00,  1.75s/it]"
          ]
        },
        {
          "output_type": "stream",
          "name": "stdout",
          "text": [
            "                   all         32        842    0.00365      0.272    0.00422    0.00177\n"
          ]
        },
        {
          "output_type": "stream",
          "name": "stderr",
          "text": [
            "\n"
          ]
        },
        {
          "output_type": "stream",
          "name": "stdout",
          "text": [
            "\n",
            "      Epoch    GPU_mem   box_loss   cls_loss   dfl_loss  Instances       Size\n"
          ]
        },
        {
          "output_type": "stream",
          "name": "stderr",
          "text": [
            "       2/50      9.78G      1.965      2.882       1.52        629        640: 100%|██████████| 7/7 [00:04<00:00,  1.67it/s]\n",
            "                 Class     Images  Instances      Box(P          R      mAP50  mAP50-95): 100%|██████████| 1/1 [00:00<00:00,  1.01it/s]"
          ]
        },
        {
          "output_type": "stream",
          "name": "stdout",
          "text": [
            "                   all         32        842    0.00146      0.241    0.00125   0.000311\n"
          ]
        },
        {
          "output_type": "stream",
          "name": "stderr",
          "text": [
            "\n"
          ]
        },
        {
          "output_type": "stream",
          "name": "stdout",
          "text": [
            "\n",
            "      Epoch    GPU_mem   box_loss   cls_loss   dfl_loss  Instances       Size\n"
          ]
        },
        {
          "output_type": "stream",
          "name": "stderr",
          "text": [
            "       3/50      9.13G      1.862      2.122      1.461        332        640: 100%|██████████| 7/7 [00:04<00:00,  1.62it/s]\n",
            "                 Class     Images  Instances      Box(P          R      mAP50  mAP50-95): 100%|██████████| 1/1 [00:01<00:00,  1.20s/it]"
          ]
        },
        {
          "output_type": "stream",
          "name": "stdout",
          "text": [
            "                   all         32        842     0.0282      0.345      0.161     0.0485\n"
          ]
        },
        {
          "output_type": "stream",
          "name": "stderr",
          "text": [
            "\n"
          ]
        },
        {
          "output_type": "stream",
          "name": "stdout",
          "text": [
            "\n",
            "      Epoch    GPU_mem   box_loss   cls_loss   dfl_loss  Instances       Size\n"
          ]
        },
        {
          "output_type": "stream",
          "name": "stderr",
          "text": [
            "       4/50      11.4G      1.845      1.901      1.455        480        640: 100%|██████████| 7/7 [00:04<00:00,  1.74it/s]\n",
            "                 Class     Images  Instances      Box(P          R      mAP50  mAP50-95): 100%|██████████| 1/1 [00:00<00:00,  1.37it/s]"
          ]
        },
        {
          "output_type": "stream",
          "name": "stdout",
          "text": [
            "                   all         32        842     0.0234      0.286      0.111     0.0339\n"
          ]
        },
        {
          "output_type": "stream",
          "name": "stderr",
          "text": [
            "\n"
          ]
        },
        {
          "output_type": "stream",
          "name": "stdout",
          "text": [
            "\n",
            "      Epoch    GPU_mem   box_loss   cls_loss   dfl_loss  Instances       Size\n"
          ]
        },
        {
          "output_type": "stream",
          "name": "stderr",
          "text": [
            "       5/50      10.2G      1.875      1.771      1.465        552        640: 100%|██████████| 7/7 [00:04<00:00,  1.57it/s]\n",
            "                 Class     Images  Instances      Box(P          R      mAP50  mAP50-95): 100%|██████████| 1/1 [00:01<00:00,  1.77s/it]"
          ]
        },
        {
          "output_type": "stream",
          "name": "stdout",
          "text": [
            "                   all         32        842      0.043       0.41     0.0764     0.0291\n"
          ]
        },
        {
          "output_type": "stream",
          "name": "stderr",
          "text": [
            "\n"
          ]
        },
        {
          "output_type": "stream",
          "name": "stdout",
          "text": [
            "\n",
            "      Epoch    GPU_mem   box_loss   cls_loss   dfl_loss  Instances       Size\n"
          ]
        },
        {
          "output_type": "stream",
          "name": "stderr",
          "text": [
            "       6/50      8.96G      1.893      1.764      1.474        367        640: 100%|██████████| 7/7 [00:04<00:00,  1.68it/s]\n",
            "                 Class     Images  Instances      Box(P          R      mAP50  mAP50-95): 100%|██████████| 1/1 [00:00<00:00,  1.14it/s]"
          ]
        },
        {
          "output_type": "stream",
          "name": "stdout",
          "text": [
            "                   all         32        842     0.0761      0.482      0.115     0.0447\n"
          ]
        },
        {
          "output_type": "stream",
          "name": "stderr",
          "text": [
            "\n"
          ]
        },
        {
          "output_type": "stream",
          "name": "stdout",
          "text": [
            "\n",
            "      Epoch    GPU_mem   box_loss   cls_loss   dfl_loss  Instances       Size\n"
          ]
        },
        {
          "output_type": "stream",
          "name": "stderr",
          "text": [
            "       7/50      9.05G       1.83      1.607      1.485        565        640: 100%|██████████| 7/7 [00:04<00:00,  1.57it/s]\n",
            "                 Class     Images  Instances      Box(P          R      mAP50  mAP50-95): 100%|██████████| 1/1 [00:01<00:00,  1.10s/it]"
          ]
        },
        {
          "output_type": "stream",
          "name": "stdout",
          "text": [
            "                   all         32        842     0.0453      0.529      0.138     0.0512\n"
          ]
        },
        {
          "output_type": "stream",
          "name": "stderr",
          "text": [
            "\n"
          ]
        },
        {
          "output_type": "stream",
          "name": "stdout",
          "text": [
            "\n",
            "      Epoch    GPU_mem   box_loss   cls_loss   dfl_loss  Instances       Size\n"
          ]
        },
        {
          "output_type": "stream",
          "name": "stderr",
          "text": [
            "       8/50      10.1G      1.848      1.614      1.474        475        640: 100%|██████████| 7/7 [00:03<00:00,  1.76it/s]\n",
            "                 Class     Images  Instances      Box(P          R      mAP50  mAP50-95): 100%|██████████| 1/1 [00:00<00:00,  1.25it/s]"
          ]
        },
        {
          "output_type": "stream",
          "name": "stdout",
          "text": [
            "                   all         32        842     0.0431      0.538      0.159     0.0583\n"
          ]
        },
        {
          "output_type": "stream",
          "name": "stderr",
          "text": [
            "\n"
          ]
        },
        {
          "output_type": "stream",
          "name": "stdout",
          "text": [
            "\n",
            "      Epoch    GPU_mem   box_loss   cls_loss   dfl_loss  Instances       Size\n"
          ]
        },
        {
          "output_type": "stream",
          "name": "stderr",
          "text": [
            "       9/50      8.33G      1.802      1.567      1.464        409        640: 100%|██████████| 7/7 [00:04<00:00,  1.57it/s]\n",
            "                 Class     Images  Instances      Box(P          R      mAP50  mAP50-95): 100%|██████████| 1/1 [00:01<00:00,  1.10s/it]"
          ]
        },
        {
          "output_type": "stream",
          "name": "stdout",
          "text": [
            "                   all         32        842      0.046      0.594       0.19     0.0727\n"
          ]
        },
        {
          "output_type": "stream",
          "name": "stderr",
          "text": [
            "\n"
          ]
        },
        {
          "output_type": "stream",
          "name": "stdout",
          "text": [
            "\n",
            "      Epoch    GPU_mem   box_loss   cls_loss   dfl_loss  Instances       Size\n"
          ]
        },
        {
          "output_type": "stream",
          "name": "stderr",
          "text": [
            "      10/50      9.24G      1.816      1.543      1.466        506        640: 100%|██████████| 7/7 [00:04<00:00,  1.64it/s]\n",
            "                 Class     Images  Instances      Box(P          R      mAP50  mAP50-95): 100%|██████████| 1/1 [00:00<00:00,  1.32it/s]"
          ]
        },
        {
          "output_type": "stream",
          "name": "stdout",
          "text": [
            "                   all         32        842       0.05      0.689       0.27       0.11\n"
          ]
        },
        {
          "output_type": "stream",
          "name": "stderr",
          "text": [
            "\n"
          ]
        },
        {
          "output_type": "stream",
          "name": "stdout",
          "text": [
            "\n",
            "      Epoch    GPU_mem   box_loss   cls_loss   dfl_loss  Instances       Size\n"
          ]
        },
        {
          "output_type": "stream",
          "name": "stderr",
          "text": [
            "      11/50      9.42G      1.785       1.53      1.471        381        640: 100%|██████████| 7/7 [00:04<00:00,  1.59it/s]\n",
            "                 Class     Images  Instances      Box(P          R      mAP50  mAP50-95): 100%|██████████| 1/1 [00:01<00:00,  1.04s/it]"
          ]
        },
        {
          "output_type": "stream",
          "name": "stdout",
          "text": [
            "                   all         32        842     0.0517      0.707      0.335      0.137\n"
          ]
        },
        {
          "output_type": "stream",
          "name": "stderr",
          "text": [
            "\n"
          ]
        },
        {
          "output_type": "stream",
          "name": "stdout",
          "text": [
            "\n",
            "      Epoch    GPU_mem   box_loss   cls_loss   dfl_loss  Instances       Size\n"
          ]
        },
        {
          "output_type": "stream",
          "name": "stderr",
          "text": [
            "      12/50      9.89G      1.769      1.525      1.449        394        640: 100%|██████████| 7/7 [00:04<00:00,  1.72it/s]\n",
            "                 Class     Images  Instances      Box(P          R      mAP50  mAP50-95): 100%|██████████| 1/1 [00:01<00:00,  1.21s/it]"
          ]
        },
        {
          "output_type": "stream",
          "name": "stdout",
          "text": [
            "                   all         32        842     0.0539      0.765       0.36      0.146\n"
          ]
        },
        {
          "output_type": "stream",
          "name": "stderr",
          "text": [
            "\n"
          ]
        },
        {
          "output_type": "stream",
          "name": "stdout",
          "text": [
            "\n",
            "      Epoch    GPU_mem   box_loss   cls_loss   dfl_loss  Instances       Size\n"
          ]
        },
        {
          "output_type": "stream",
          "name": "stderr",
          "text": [
            "      13/50      9.32G      1.791      1.513      1.462        350        640: 100%|██████████| 7/7 [00:05<00:00,  1.36it/s]\n",
            "                 Class     Images  Instances      Box(P          R      mAP50  mAP50-95): 100%|██████████| 1/1 [00:01<00:00,  1.20s/it]"
          ]
        },
        {
          "output_type": "stream",
          "name": "stdout",
          "text": [
            "                   all         32        842     0.0556      0.805       0.41      0.174\n"
          ]
        },
        {
          "output_type": "stream",
          "name": "stderr",
          "text": [
            "\n"
          ]
        },
        {
          "output_type": "stream",
          "name": "stdout",
          "text": [
            "\n",
            "      Epoch    GPU_mem   box_loss   cls_loss   dfl_loss  Instances       Size\n"
          ]
        },
        {
          "output_type": "stream",
          "name": "stderr",
          "text": [
            "      14/50      9.86G       1.79      1.493      1.447        538        640: 100%|██████████| 7/7 [00:05<00:00,  1.25it/s]\n",
            "                 Class     Images  Instances      Box(P          R      mAP50  mAP50-95): 100%|██████████| 1/1 [00:01<00:00,  1.13s/it]"
          ]
        },
        {
          "output_type": "stream",
          "name": "stdout",
          "text": [
            "                   all         32        842      0.777      0.192      0.449      0.203\n"
          ]
        },
        {
          "output_type": "stream",
          "name": "stderr",
          "text": [
            "\n"
          ]
        },
        {
          "output_type": "stream",
          "name": "stdout",
          "text": [
            "\n",
            "      Epoch    GPU_mem   box_loss   cls_loss   dfl_loss  Instances       Size\n"
          ]
        },
        {
          "output_type": "stream",
          "name": "stderr",
          "text": [
            "      15/50       9.1G      1.786      1.503      1.454        516        640: 100%|██████████| 7/7 [00:04<00:00,  1.57it/s]\n",
            "                 Class     Images  Instances      Box(P          R      mAP50  mAP50-95): 100%|██████████| 1/1 [00:00<00:00,  1.44it/s]"
          ]
        },
        {
          "output_type": "stream",
          "name": "stdout",
          "text": [
            "                   all         32        842      0.676      0.271      0.479       0.22\n"
          ]
        },
        {
          "output_type": "stream",
          "name": "stderr",
          "text": [
            "\n"
          ]
        },
        {
          "output_type": "stream",
          "name": "stdout",
          "text": [
            "\n",
            "      Epoch    GPU_mem   box_loss   cls_loss   dfl_loss  Instances       Size\n"
          ]
        },
        {
          "output_type": "stream",
          "name": "stderr",
          "text": [
            "      16/50      9.44G      1.789      1.498      1.446        372        640: 100%|██████████| 7/7 [00:04<00:00,  1.59it/s]\n",
            "                 Class     Images  Instances      Box(P          R      mAP50  mAP50-95): 100%|██████████| 1/1 [00:00<00:00,  1.53it/s]"
          ]
        },
        {
          "output_type": "stream",
          "name": "stdout",
          "text": [
            "                   all         32        842      0.613      0.367      0.504      0.231\n"
          ]
        },
        {
          "output_type": "stream",
          "name": "stderr",
          "text": [
            "\n"
          ]
        },
        {
          "output_type": "stream",
          "name": "stdout",
          "text": [
            "\n",
            "      Epoch    GPU_mem   box_loss   cls_loss   dfl_loss  Instances       Size\n"
          ]
        },
        {
          "output_type": "stream",
          "name": "stderr",
          "text": [
            "      17/50      9.23G      1.734      1.474       1.43        353        640: 100%|██████████| 7/7 [00:03<00:00,  1.76it/s]\n",
            "                 Class     Images  Instances      Box(P          R      mAP50  mAP50-95): 100%|██████████| 1/1 [00:00<00:00,  1.56it/s]"
          ]
        },
        {
          "output_type": "stream",
          "name": "stdout",
          "text": [
            "                   all         32        842      0.571      0.452      0.526      0.243\n"
          ]
        },
        {
          "output_type": "stream",
          "name": "stderr",
          "text": [
            "\n"
          ]
        },
        {
          "output_type": "stream",
          "name": "stdout",
          "text": [
            "\n",
            "      Epoch    GPU_mem   box_loss   cls_loss   dfl_loss  Instances       Size\n"
          ]
        },
        {
          "output_type": "stream",
          "name": "stderr",
          "text": [
            "      18/50      8.98G      1.759      1.533      1.436        239        640: 100%|██████████| 7/7 [00:04<00:00,  1.55it/s]\n",
            "                 Class     Images  Instances      Box(P          R      mAP50  mAP50-95): 100%|██████████| 1/1 [00:00<00:00,  1.37it/s]"
          ]
        },
        {
          "output_type": "stream",
          "name": "stdout",
          "text": [
            "                   all         32        842      0.594      0.492      0.539      0.252\n"
          ]
        },
        {
          "output_type": "stream",
          "name": "stderr",
          "text": [
            "\n"
          ]
        },
        {
          "output_type": "stream",
          "name": "stdout",
          "text": [
            "\n",
            "      Epoch    GPU_mem   box_loss   cls_loss   dfl_loss  Instances       Size\n"
          ]
        },
        {
          "output_type": "stream",
          "name": "stderr",
          "text": [
            "      19/50      10.7G      1.739      1.457      1.419        547        640: 100%|██████████| 7/7 [00:04<00:00,  1.65it/s]\n",
            "                 Class     Images  Instances      Box(P          R      mAP50  mAP50-95): 100%|██████████| 1/1 [00:00<00:00,  1.76it/s]"
          ]
        },
        {
          "output_type": "stream",
          "name": "stdout",
          "text": [
            "                   all         32        842      0.596      0.507      0.547      0.259\n"
          ]
        },
        {
          "output_type": "stream",
          "name": "stderr",
          "text": [
            "\n"
          ]
        },
        {
          "output_type": "stream",
          "name": "stdout",
          "text": [
            "\n",
            "      Epoch    GPU_mem   box_loss   cls_loss   dfl_loss  Instances       Size\n"
          ]
        },
        {
          "output_type": "stream",
          "name": "stderr",
          "text": [
            "      20/50      9.65G      1.754      1.474      1.429        435        640: 100%|██████████| 7/7 [00:04<00:00,  1.58it/s]\n",
            "                 Class     Images  Instances      Box(P          R      mAP50  mAP50-95): 100%|██████████| 1/1 [00:00<00:00,  1.64it/s]"
          ]
        },
        {
          "output_type": "stream",
          "name": "stdout",
          "text": [
            "                   all         32        842      0.598      0.541      0.555      0.262\n"
          ]
        },
        {
          "output_type": "stream",
          "name": "stderr",
          "text": [
            "\n"
          ]
        },
        {
          "output_type": "stream",
          "name": "stdout",
          "text": [
            "\n",
            "      Epoch    GPU_mem   box_loss   cls_loss   dfl_loss  Instances       Size\n"
          ]
        },
        {
          "output_type": "stream",
          "name": "stderr",
          "text": [
            "      21/50      9.77G       1.75      1.461      1.412        370        640: 100%|██████████| 7/7 [00:03<00:00,  1.75it/s]\n",
            "                 Class     Images  Instances      Box(P          R      mAP50  mAP50-95): 100%|██████████| 1/1 [00:00<00:00,  1.64it/s]"
          ]
        },
        {
          "output_type": "stream",
          "name": "stdout",
          "text": [
            "                   all         32        842      0.594      0.555      0.568       0.27\n"
          ]
        },
        {
          "output_type": "stream",
          "name": "stderr",
          "text": [
            "\n"
          ]
        },
        {
          "output_type": "stream",
          "name": "stdout",
          "text": [
            "\n",
            "      Epoch    GPU_mem   box_loss   cls_loss   dfl_loss  Instances       Size\n"
          ]
        },
        {
          "output_type": "stream",
          "name": "stderr",
          "text": [
            "      22/50      10.4G      1.744      1.459      1.419        473        640: 100%|██████████| 7/7 [00:04<00:00,  1.53it/s]\n",
            "                 Class     Images  Instances      Box(P          R      mAP50  mAP50-95): 100%|██████████| 1/1 [00:00<00:00,  1.50it/s]"
          ]
        },
        {
          "output_type": "stream",
          "name": "stdout",
          "text": [
            "                   all         32        842      0.589      0.566      0.561      0.269\n"
          ]
        },
        {
          "output_type": "stream",
          "name": "stderr",
          "text": [
            "\n"
          ]
        },
        {
          "output_type": "stream",
          "name": "stdout",
          "text": [
            "\n",
            "      Epoch    GPU_mem   box_loss   cls_loss   dfl_loss  Instances       Size\n"
          ]
        },
        {
          "output_type": "stream",
          "name": "stderr",
          "text": [
            "      23/50       9.3G      1.756      1.452      1.413        359        640: 100%|██████████| 7/7 [00:03<00:00,  1.77it/s]\n",
            "                 Class     Images  Instances      Box(P          R      mAP50  mAP50-95): 100%|██████████| 1/1 [00:00<00:00,  1.72it/s]"
          ]
        },
        {
          "output_type": "stream",
          "name": "stdout",
          "text": [
            "                   all         32        842       0.59      0.581      0.567      0.274\n"
          ]
        },
        {
          "output_type": "stream",
          "name": "stderr",
          "text": [
            "\n"
          ]
        },
        {
          "output_type": "stream",
          "name": "stdout",
          "text": [
            "\n",
            "      Epoch    GPU_mem   box_loss   cls_loss   dfl_loss  Instances       Size\n"
          ]
        },
        {
          "output_type": "stream",
          "name": "stderr",
          "text": [
            "      24/50      8.78G      1.747      1.466      1.426        603        640: 100%|██████████| 7/7 [00:04<00:00,  1.67it/s]\n",
            "                 Class     Images  Instances      Box(P          R      mAP50  mAP50-95): 100%|██████████| 1/1 [00:00<00:00,  1.25it/s]"
          ]
        },
        {
          "output_type": "stream",
          "name": "stdout",
          "text": [
            "                   all         32        842      0.621       0.57      0.567      0.274\n"
          ]
        },
        {
          "output_type": "stream",
          "name": "stderr",
          "text": [
            "\n"
          ]
        },
        {
          "output_type": "stream",
          "name": "stdout",
          "text": [
            "\n",
            "      Epoch    GPU_mem   box_loss   cls_loss   dfl_loss  Instances       Size\n"
          ]
        },
        {
          "output_type": "stream",
          "name": "stderr",
          "text": [
            "      25/50      8.69G      1.722      1.454      1.426        303        640: 100%|██████████| 7/7 [00:04<00:00,  1.71it/s]\n",
            "                 Class     Images  Instances      Box(P          R      mAP50  mAP50-95): 100%|██████████| 1/1 [00:00<00:00,  1.50it/s]"
          ]
        },
        {
          "output_type": "stream",
          "name": "stdout",
          "text": [
            "                   all         32        842      0.609      0.585      0.575      0.275\n"
          ]
        },
        {
          "output_type": "stream",
          "name": "stderr",
          "text": [
            "\n"
          ]
        },
        {
          "output_type": "stream",
          "name": "stdout",
          "text": [
            "\n",
            "      Epoch    GPU_mem   box_loss   cls_loss   dfl_loss  Instances       Size\n"
          ]
        },
        {
          "output_type": "stream",
          "name": "stderr",
          "text": [
            "      26/50      9.94G      1.705       1.44      1.411        308        640: 100%|██████████| 7/7 [00:04<00:00,  1.60it/s]\n",
            "                 Class     Images  Instances      Box(P          R      mAP50  mAP50-95): 100%|██████████| 1/1 [00:00<00:00,  1.12it/s]"
          ]
        },
        {
          "output_type": "stream",
          "name": "stdout",
          "text": [
            "                   all         32        842      0.585      0.589      0.575      0.276\n"
          ]
        },
        {
          "output_type": "stream",
          "name": "stderr",
          "text": [
            "\n"
          ]
        },
        {
          "output_type": "stream",
          "name": "stdout",
          "text": [
            "\n",
            "      Epoch    GPU_mem   box_loss   cls_loss   dfl_loss  Instances       Size\n"
          ]
        },
        {
          "output_type": "stream",
          "name": "stderr",
          "text": [
            "      27/50      9.13G      1.716      1.437      1.431        429        640: 100%|██████████| 7/7 [00:04<00:00,  1.69it/s]\n",
            "                 Class     Images  Instances      Box(P          R      mAP50  mAP50-95): 100%|██████████| 1/1 [00:00<00:00,  1.75it/s]"
          ]
        },
        {
          "output_type": "stream",
          "name": "stdout",
          "text": [
            "                   all         32        842      0.594       0.61      0.582      0.275\n"
          ]
        },
        {
          "output_type": "stream",
          "name": "stderr",
          "text": [
            "\n"
          ]
        },
        {
          "output_type": "stream",
          "name": "stdout",
          "text": [
            "\n",
            "      Epoch    GPU_mem   box_loss   cls_loss   dfl_loss  Instances       Size\n"
          ]
        },
        {
          "output_type": "stream",
          "name": "stderr",
          "text": [
            "      28/50      10.9G      1.745      1.451      1.431        472        640: 100%|██████████| 7/7 [00:04<00:00,  1.65it/s]\n",
            "                 Class     Images  Instances      Box(P          R      mAP50  mAP50-95): 100%|██████████| 1/1 [00:01<00:00,  1.35s/it]"
          ]
        },
        {
          "output_type": "stream",
          "name": "stdout",
          "text": [
            "                   all         32        842      0.584      0.624      0.587       0.28\n"
          ]
        },
        {
          "output_type": "stream",
          "name": "stderr",
          "text": [
            "\n"
          ]
        },
        {
          "output_type": "stream",
          "name": "stdout",
          "text": [
            "\n",
            "      Epoch    GPU_mem   box_loss   cls_loss   dfl_loss  Instances       Size\n"
          ]
        },
        {
          "output_type": "stream",
          "name": "stderr",
          "text": [
            "      29/50      9.83G      1.745      1.436      1.434        456        640: 100%|██████████| 7/7 [00:04<00:00,  1.58it/s]\n",
            "                 Class     Images  Instances      Box(P          R      mAP50  mAP50-95): 100%|██████████| 1/1 [00:00<00:00,  1.46it/s]"
          ]
        },
        {
          "output_type": "stream",
          "name": "stdout",
          "text": [
            "                   all         32        842      0.579      0.637       0.59      0.284\n"
          ]
        },
        {
          "output_type": "stream",
          "name": "stderr",
          "text": [
            "\n"
          ]
        },
        {
          "output_type": "stream",
          "name": "stdout",
          "text": [
            "\n",
            "      Epoch    GPU_mem   box_loss   cls_loss   dfl_loss  Instances       Size\n"
          ]
        },
        {
          "output_type": "stream",
          "name": "stderr",
          "text": [
            "      30/50      9.97G       1.73      1.441      1.419        391        640: 100%|██████████| 7/7 [00:04<00:00,  1.57it/s]\n",
            "                 Class     Images  Instances      Box(P          R      mAP50  mAP50-95): 100%|██████████| 1/1 [00:00<00:00,  1.38it/s]"
          ]
        },
        {
          "output_type": "stream",
          "name": "stdout",
          "text": [
            "                   all         32        842      0.573      0.654       0.59      0.284\n"
          ]
        },
        {
          "output_type": "stream",
          "name": "stderr",
          "text": [
            "\n"
          ]
        },
        {
          "output_type": "stream",
          "name": "stdout",
          "text": [
            "\n",
            "      Epoch    GPU_mem   box_loss   cls_loss   dfl_loss  Instances       Size\n"
          ]
        },
        {
          "output_type": "stream",
          "name": "stderr",
          "text": [
            "      31/50      9.35G      1.718      1.432      1.399        476        640: 100%|██████████| 7/7 [00:04<00:00,  1.68it/s]\n",
            "                 Class     Images  Instances      Box(P          R      mAP50  mAP50-95): 100%|██████████| 1/1 [00:00<00:00,  1.88it/s]"
          ]
        },
        {
          "output_type": "stream",
          "name": "stdout",
          "text": [
            "                   all         32        842      0.571      0.641      0.592      0.286\n"
          ]
        },
        {
          "output_type": "stream",
          "name": "stderr",
          "text": [
            "\n"
          ]
        },
        {
          "output_type": "stream",
          "name": "stdout",
          "text": [
            "\n",
            "      Epoch    GPU_mem   box_loss   cls_loss   dfl_loss  Instances       Size\n"
          ]
        },
        {
          "output_type": "stream",
          "name": "stderr",
          "text": [
            "      32/50      8.88G      1.714      1.438      1.409        430        640: 100%|██████████| 7/7 [00:04<00:00,  1.62it/s]\n",
            "                 Class     Images  Instances      Box(P          R      mAP50  mAP50-95): 100%|██████████| 1/1 [00:00<00:00,  1.21it/s]"
          ]
        },
        {
          "output_type": "stream",
          "name": "stdout",
          "text": [
            "                   all         32        842      0.585      0.648      0.596      0.288\n"
          ]
        },
        {
          "output_type": "stream",
          "name": "stderr",
          "text": [
            "\n"
          ]
        },
        {
          "output_type": "stream",
          "name": "stdout",
          "text": [
            "\n",
            "      Epoch    GPU_mem   box_loss   cls_loss   dfl_loss  Instances       Size\n"
          ]
        },
        {
          "output_type": "stream",
          "name": "stderr",
          "text": [
            "      33/50      10.2G       1.73      1.436      1.419        369        640: 100%|██████████| 7/7 [00:04<00:00,  1.72it/s]\n",
            "                 Class     Images  Instances      Box(P          R      mAP50  mAP50-95): 100%|██████████| 1/1 [00:00<00:00,  1.57it/s]"
          ]
        },
        {
          "output_type": "stream",
          "name": "stdout",
          "text": [
            "                   all         32        842      0.579      0.652      0.589      0.285\n"
          ]
        },
        {
          "output_type": "stream",
          "name": "stderr",
          "text": [
            "\n"
          ]
        },
        {
          "output_type": "stream",
          "name": "stdout",
          "text": [
            "\n",
            "      Epoch    GPU_mem   box_loss   cls_loss   dfl_loss  Instances       Size\n"
          ]
        },
        {
          "output_type": "stream",
          "name": "stderr",
          "text": [
            "      34/50      9.95G      1.756      1.451      1.402        333        640: 100%|██████████| 7/7 [00:04<00:00,  1.66it/s]\n",
            "                 Class     Images  Instances      Box(P          R      mAP50  mAP50-95): 100%|██████████| 1/1 [00:00<00:00,  1.03it/s]"
          ]
        },
        {
          "output_type": "stream",
          "name": "stdout",
          "text": [
            "                   all         32        842      0.577      0.644      0.587      0.283\n"
          ]
        },
        {
          "output_type": "stream",
          "name": "stderr",
          "text": [
            "\n"
          ]
        },
        {
          "output_type": "stream",
          "name": "stdout",
          "text": [
            "\n",
            "      Epoch    GPU_mem   box_loss   cls_loss   dfl_loss  Instances       Size\n"
          ]
        },
        {
          "output_type": "stream",
          "name": "stderr",
          "text": [
            "      35/50      8.94G      1.759      1.438      1.435        476        640: 100%|██████████| 7/7 [00:04<00:00,  1.71it/s]\n",
            "                 Class     Images  Instances      Box(P          R      mAP50  mAP50-95): 100%|██████████| 1/1 [00:00<00:00,  2.01it/s]"
          ]
        },
        {
          "output_type": "stream",
          "name": "stdout",
          "text": [
            "                   all         32        842      0.582      0.641      0.593      0.285\n"
          ]
        },
        {
          "output_type": "stream",
          "name": "stderr",
          "text": [
            "\n"
          ]
        },
        {
          "output_type": "stream",
          "name": "stdout",
          "text": [
            "\n",
            "      Epoch    GPU_mem   box_loss   cls_loss   dfl_loss  Instances       Size\n"
          ]
        },
        {
          "output_type": "stream",
          "name": "stderr",
          "text": [
            "      36/50      10.6G      1.723      1.398       1.42        446        640: 100%|██████████| 7/7 [00:04<00:00,  1.60it/s]\n",
            "                 Class     Images  Instances      Box(P          R      mAP50  mAP50-95): 100%|██████████| 1/1 [00:00<00:00,  1.36it/s]"
          ]
        },
        {
          "output_type": "stream",
          "name": "stdout",
          "text": [
            "                   all         32        842      0.571      0.634      0.589      0.285\n"
          ]
        },
        {
          "output_type": "stream",
          "name": "stderr",
          "text": [
            "\n"
          ]
        },
        {
          "output_type": "stream",
          "name": "stdout",
          "text": [
            "\n",
            "      Epoch    GPU_mem   box_loss   cls_loss   dfl_loss  Instances       Size\n"
          ]
        },
        {
          "output_type": "stream",
          "name": "stderr",
          "text": [
            "      37/50      8.68G      1.695      1.412      1.397        322        640: 100%|██████████| 7/7 [00:04<00:00,  1.67it/s]\n",
            "                 Class     Images  Instances      Box(P          R      mAP50  mAP50-95): 100%|██████████| 1/1 [00:00<00:00,  1.88it/s]"
          ]
        },
        {
          "output_type": "stream",
          "name": "stdout",
          "text": [
            "                   all         32        842      0.565      0.624      0.593      0.287\n"
          ]
        },
        {
          "output_type": "stream",
          "name": "stderr",
          "text": [
            "\n"
          ]
        },
        {
          "output_type": "stream",
          "name": "stdout",
          "text": [
            "\n",
            "      Epoch    GPU_mem   box_loss   cls_loss   dfl_loss  Instances       Size\n"
          ]
        },
        {
          "output_type": "stream",
          "name": "stderr",
          "text": [
            "      38/50      9.74G      1.707      1.423      1.405        387        640: 100%|██████████| 7/7 [00:04<00:00,  1.67it/s]\n",
            "                 Class     Images  Instances      Box(P          R      mAP50  mAP50-95): 100%|██████████| 1/1 [00:00<00:00,  1.05it/s]"
          ]
        },
        {
          "output_type": "stream",
          "name": "stdout",
          "text": [
            "                   all         32        842      0.569      0.629      0.596      0.288\n"
          ]
        },
        {
          "output_type": "stream",
          "name": "stderr",
          "text": [
            "\n"
          ]
        },
        {
          "output_type": "stream",
          "name": "stdout",
          "text": [
            "\n",
            "      Epoch    GPU_mem   box_loss   cls_loss   dfl_loss  Instances       Size\n"
          ]
        },
        {
          "output_type": "stream",
          "name": "stderr",
          "text": [
            "      39/50      9.11G      1.724      1.468      1.421        364        640: 100%|██████████| 7/7 [00:04<00:00,  1.73it/s]\n",
            "                 Class     Images  Instances      Box(P          R      mAP50  mAP50-95): 100%|██████████| 1/1 [00:00<00:00,  1.84it/s]"
          ]
        },
        {
          "output_type": "stream",
          "name": "stdout",
          "text": [
            "                   all         32        842      0.562      0.621      0.596      0.287\n"
          ]
        },
        {
          "output_type": "stream",
          "name": "stderr",
          "text": [
            "\n"
          ]
        },
        {
          "output_type": "stream",
          "name": "stdout",
          "text": [
            "\n",
            "      Epoch    GPU_mem   box_loss   cls_loss   dfl_loss  Instances       Size\n"
          ]
        },
        {
          "output_type": "stream",
          "name": "stderr",
          "text": [
            "      40/50      10.3G       1.73      1.405      1.398        365        640: 100%|██████████| 7/7 [00:04<00:00,  1.72it/s]\n",
            "                 Class     Images  Instances      Box(P          R      mAP50  mAP50-95): 100%|██████████| 1/1 [00:00<00:00,  1.19it/s]"
          ]
        },
        {
          "output_type": "stream",
          "name": "stdout",
          "text": [
            "                   all         32        842      0.565      0.632      0.597       0.29\n"
          ]
        },
        {
          "output_type": "stream",
          "name": "stderr",
          "text": [
            "\n"
          ]
        },
        {
          "output_type": "stream",
          "name": "stdout",
          "text": [
            "Closing dataloader mosaic\n",
            "\u001b[34m\u001b[1malbumentations: \u001b[0mBlur(p=0.01, blur_limit=(3, 7)), MedianBlur(p=0.01, blur_limit=(3, 7)), ToGray(p=0.01, method='weighted_average', num_output_channels=3), CLAHE(p=0.01, clip_limit=(1.0, 4.0), tile_grid_size=(8, 8))\n",
            "\n",
            "      Epoch    GPU_mem   box_loss   cls_loss   dfl_loss  Instances       Size\n"
          ]
        },
        {
          "output_type": "stream",
          "name": "stderr",
          "text": [
            "      41/50      8.22G      1.684       1.51       1.41        294        640: 100%|██████████| 7/7 [00:06<00:00,  1.01it/s]\n",
            "                 Class     Images  Instances      Box(P          R      mAP50  mAP50-95): 100%|██████████| 1/1 [00:00<00:00,  1.30it/s]"
          ]
        },
        {
          "output_type": "stream",
          "name": "stdout",
          "text": [
            "                   all         32        842      0.576      0.643      0.591      0.288\n"
          ]
        },
        {
          "output_type": "stream",
          "name": "stderr",
          "text": [
            "\n"
          ]
        },
        {
          "output_type": "stream",
          "name": "stdout",
          "text": [
            "\n",
            "      Epoch    GPU_mem   box_loss   cls_loss   dfl_loss  Instances       Size\n"
          ]
        },
        {
          "output_type": "stream",
          "name": "stderr",
          "text": [
            "      42/50       8.5G      1.727      1.584      1.466        239        640: 100%|██████████| 7/7 [00:04<00:00,  1.64it/s]\n",
            "                 Class     Images  Instances      Box(P          R      mAP50  mAP50-95): 100%|██████████| 1/1 [00:00<00:00,  1.41it/s]"
          ]
        },
        {
          "output_type": "stream",
          "name": "stdout",
          "text": [
            "                   all         32        842      0.564      0.641      0.584      0.281\n"
          ]
        },
        {
          "output_type": "stream",
          "name": "stderr",
          "text": [
            "\n"
          ]
        },
        {
          "output_type": "stream",
          "name": "stdout",
          "text": [
            "\n",
            "      Epoch    GPU_mem   box_loss   cls_loss   dfl_loss  Instances       Size\n"
          ]
        },
        {
          "output_type": "stream",
          "name": "stderr",
          "text": [
            "      43/50      8.46G       1.69      1.546      1.449        286        640: 100%|██████████| 7/7 [00:03<00:00,  1.78it/s]\n",
            "                 Class     Images  Instances      Box(P          R      mAP50  mAP50-95): 100%|██████████| 1/1 [00:00<00:00,  1.36it/s]"
          ]
        },
        {
          "output_type": "stream",
          "name": "stdout",
          "text": [
            "                   all         32        842      0.551      0.628      0.578      0.277\n"
          ]
        },
        {
          "output_type": "stream",
          "name": "stderr",
          "text": [
            "\n"
          ]
        },
        {
          "output_type": "stream",
          "name": "stdout",
          "text": [
            "\n",
            "      Epoch    GPU_mem   box_loss   cls_loss   dfl_loss  Instances       Size\n"
          ]
        },
        {
          "output_type": "stream",
          "name": "stderr",
          "text": [
            "      44/50      8.19G      1.696      1.609      1.452        181        640: 100%|██████████| 7/7 [00:04<00:00,  1.69it/s]\n",
            "                 Class     Images  Instances      Box(P          R      mAP50  mAP50-95): 100%|██████████| 1/1 [00:00<00:00,  1.50it/s]"
          ]
        },
        {
          "output_type": "stream",
          "name": "stdout",
          "text": [
            "                   all         32        842      0.566      0.621      0.577      0.272\n"
          ]
        },
        {
          "output_type": "stream",
          "name": "stderr",
          "text": [
            "\n"
          ]
        },
        {
          "output_type": "stream",
          "name": "stdout",
          "text": [
            "\n",
            "      Epoch    GPU_mem   box_loss   cls_loss   dfl_loss  Instances       Size\n"
          ]
        },
        {
          "output_type": "stream",
          "name": "stderr",
          "text": [
            "      45/50      8.94G      1.679      1.538      1.439        363        640: 100%|██████████| 7/7 [00:03<00:00,  1.77it/s]\n",
            "                 Class     Images  Instances      Box(P          R      mAP50  mAP50-95): 100%|██████████| 1/1 [00:00<00:00,  1.77it/s]"
          ]
        },
        {
          "output_type": "stream",
          "name": "stdout",
          "text": [
            "                   all         32        842      0.561      0.621       0.57      0.269\n"
          ]
        },
        {
          "output_type": "stream",
          "name": "stderr",
          "text": [
            "\n"
          ]
        },
        {
          "output_type": "stream",
          "name": "stdout",
          "text": [
            "\n",
            "      Epoch    GPU_mem   box_loss   cls_loss   dfl_loss  Instances       Size\n"
          ]
        },
        {
          "output_type": "stream",
          "name": "stderr",
          "text": [
            "      46/50      8.11G      1.689      1.512      1.444        332        640: 100%|██████████| 7/7 [00:04<00:00,  1.70it/s]\n",
            "                 Class     Images  Instances      Box(P          R      mAP50  mAP50-95): 100%|██████████| 1/1 [00:01<00:00,  1.00s/it]"
          ]
        },
        {
          "output_type": "stream",
          "name": "stdout",
          "text": [
            "                   all         32        842      0.572      0.616       0.57      0.268\n"
          ]
        },
        {
          "output_type": "stream",
          "name": "stderr",
          "text": [
            "\n"
          ]
        },
        {
          "output_type": "stream",
          "name": "stdout",
          "text": [
            "\n",
            "      Epoch    GPU_mem   box_loss   cls_loss   dfl_loss  Instances       Size\n"
          ]
        },
        {
          "output_type": "stream",
          "name": "stderr",
          "text": [
            "      47/50      8.49G      1.661      1.523       1.44        182        640: 100%|██████████| 7/7 [00:04<00:00,  1.73it/s]\n",
            "                 Class     Images  Instances      Box(P          R      mAP50  mAP50-95): 100%|██████████| 1/1 [00:00<00:00,  1.11it/s]"
          ]
        },
        {
          "output_type": "stream",
          "name": "stdout",
          "text": [
            "                   all         32        842      0.553      0.621      0.573       0.27\n"
          ]
        },
        {
          "output_type": "stream",
          "name": "stderr",
          "text": [
            "\n"
          ]
        },
        {
          "output_type": "stream",
          "name": "stdout",
          "text": [
            "\n",
            "      Epoch    GPU_mem   box_loss   cls_loss   dfl_loss  Instances       Size\n"
          ]
        },
        {
          "output_type": "stream",
          "name": "stderr",
          "text": [
            "      48/50      8.04G      1.684      1.495      1.453        274        640: 100%|██████████| 7/7 [00:04<00:00,  1.70it/s]\n",
            "                 Class     Images  Instances      Box(P          R      mAP50  mAP50-95): 100%|██████████| 1/1 [00:00<00:00,  1.09it/s]"
          ]
        },
        {
          "output_type": "stream",
          "name": "stdout",
          "text": [
            "                   all         32        842      0.563      0.619      0.573      0.269\n"
          ]
        },
        {
          "output_type": "stream",
          "name": "stderr",
          "text": [
            "\n"
          ]
        },
        {
          "output_type": "stream",
          "name": "stdout",
          "text": [
            "\n",
            "      Epoch    GPU_mem   box_loss   cls_loss   dfl_loss  Instances       Size\n"
          ]
        },
        {
          "output_type": "stream",
          "name": "stderr",
          "text": [
            "      49/50      8.95G      1.684      1.488      1.425        304        640: 100%|██████████| 7/7 [00:03<00:00,  1.83it/s]\n",
            "                 Class     Images  Instances      Box(P          R      mAP50  mAP50-95): 100%|██████████| 1/1 [00:00<00:00,  1.52it/s]"
          ]
        },
        {
          "output_type": "stream",
          "name": "stdout",
          "text": [
            "                   all         32        842      0.568      0.618      0.571      0.268\n"
          ]
        },
        {
          "output_type": "stream",
          "name": "stderr",
          "text": [
            "\n"
          ]
        },
        {
          "output_type": "stream",
          "name": "stdout",
          "text": [
            "\n",
            "      Epoch    GPU_mem   box_loss   cls_loss   dfl_loss  Instances       Size\n"
          ]
        },
        {
          "output_type": "stream",
          "name": "stderr",
          "text": [
            "      50/50      8.98G      1.677      1.505      1.458        265        640: 100%|██████████| 7/7 [00:04<00:00,  1.73it/s]\n",
            "                 Class     Images  Instances      Box(P          R      mAP50  mAP50-95): 100%|██████████| 1/1 [00:00<00:00,  1.00it/s]"
          ]
        },
        {
          "output_type": "stream",
          "name": "stdout",
          "text": [
            "                   all         32        842      0.561      0.622      0.571      0.268\n",
            "\u001b[34m\u001b[1mEarlyStopping: \u001b[0mTraining stopped early as no improvement observed in last 10 epochs. Best results observed at epoch 40, best model saved as best.pt.\n",
            "To update EarlyStopping(patience=10) pass a new patience value, i.e. `patience=300` or use `patience=0` to disable EarlyStopping.\n"
          ]
        },
        {
          "output_type": "stream",
          "name": "stderr",
          "text": [
            "\n"
          ]
        },
        {
          "output_type": "stream",
          "name": "stdout",
          "text": [
            "\n",
            "50 epochs completed in 0.093 hours.\n",
            "Optimizer stripped from exploratory_phase/yolo11n_training_dataset_v14/weights/last.pt, 5.5MB\n",
            "Optimizer stripped from exploratory_phase/yolo11n_training_dataset_v14/weights/best.pt, 5.5MB\n",
            "\n",
            "Validating exploratory_phase/yolo11n_training_dataset_v14/weights/best.pt...\n",
            "Ultralytics 8.3.174 🚀 Python-3.11.13 torch-2.6.0+cu124 CUDA:0 (Tesla T4, 15095MiB)\n",
            "YOLO11n summary (fused): 100 layers, 2,582,542 parameters, 0 gradients, 6.3 GFLOPs\n"
          ]
        },
        {
          "output_type": "stream",
          "name": "stderr",
          "text": [
            "                 Class     Images  Instances      Box(P          R      mAP50  mAP50-95): 100%|██████████| 1/1 [00:00<00:00,  2.55it/s]\n"
          ]
        },
        {
          "output_type": "stream",
          "name": "stdout",
          "text": [
            "                   all         32        842      0.567      0.632      0.597       0.29\n",
            "undamagedcommercialbuilding         14         58      0.507      0.517      0.456      0.244\n",
            "undamagedresidentialbuilding         29        784      0.626      0.746      0.738      0.335\n",
            "Speed: 0.2ms preprocess, 3.2ms inference, 0.0ms loss, 5.0ms postprocess per image\n",
            "Results saved to \u001b[1mexploratory_phase/yolo11n_training_dataset_v14\u001b[0m\n"
          ]
        }
      ]
    },
    {
      "cell_type": "code",
      "source": [
        "metrics = model.val()\n",
        "metrics.box.map # map50-95\n",
        "metrics.box.map50 # map50\n",
        "metrics.box.map75 # map75\n",
        "metrics.box.maps # a list contains map50-95 of each category"
      ],
      "metadata": {
        "id": "huXmZGfnxbxs",
        "outputId": "80b69322-40f7-4574-c62e-dfb903d646bf",
        "colab": {
          "base_uri": "https://localhost:8080/"
        }
      },
      "id": "huXmZGfnxbxs",
      "execution_count": null,
      "outputs": [
        {
          "output_type": "stream",
          "name": "stdout",
          "text": [
            "Ultralytics 8.3.174 🚀 Python-3.11.13 torch-2.6.0+cu124 CUDA:0 (Tesla T4, 15095MiB)\n",
            "YOLO11n summary (fused): 100 layers, 2,582,542 parameters, 0 gradients, 6.3 GFLOPs\n",
            "\u001b[34m\u001b[1mval: \u001b[0mFast image access ✅ (ping: 0.0±0.0 ms, read: 946.6±531.1 MB/s, size: 55.8 KB)\n"
          ]
        },
        {
          "output_type": "stream",
          "name": "stderr",
          "text": [
            "\u001b[34m\u001b[1mval: \u001b[0mScanning /content/Storm-Damage-14/valid/labels.cache... 32 images, 0 backgrounds, 0 corrupt: 100%|██████████| 32/32 [00:00<?, ?it/s]\n",
            "                 Class     Images  Instances      Box(P          R      mAP50  mAP50-95): 100%|██████████| 1/1 [00:01<00:00,  1.17s/it]\n"
          ]
        },
        {
          "output_type": "stream",
          "name": "stdout",
          "text": [
            "                   all         32        842      0.564      0.631      0.597      0.289\n",
            "undamagedcommercialbuilding         14         58      0.503      0.517      0.457      0.241\n",
            "undamagedresidentialbuilding         29        784      0.625      0.745      0.738      0.336\n",
            "Speed: 0.3ms preprocess, 11.1ms inference, 0.0ms loss, 5.8ms postprocess per image\n",
            "Results saved to \u001b[1mexploratory_phase/yolo11n_training_dataset_v142\u001b[0m\n"
          ]
        },
        {
          "output_type": "execute_result",
          "data": {
            "text/plain": [
              "array([    0.24141,     0.33633])"
            ]
          },
          "metadata": {},
          "execution_count": 13
        }
      ]
    },
    {
      "cell_type": "code",
      "source": [
        "metrics = model.val()\n",
        "metrics.box.map # map50-95\n",
        "metrics.box.map50 # map50\n",
        "metrics.box.map75 # map75\n",
        "metrics.box.maps # a list contains map50-95 of each category"
      ],
      "metadata": {
        "id": "1tv_03DkleiT",
        "outputId": "be43bc47-c247-46ab-a8fa-5d880bc963ed",
        "colab": {
          "base_uri": "https://localhost:8080/"
        }
      },
      "id": "1tv_03DkleiT",
      "execution_count": null,
      "outputs": [
        {
          "output_type": "stream",
          "name": "stdout",
          "text": [
            "Ultralytics 8.3.174 🚀 Python-3.11.13 torch-2.6.0+cu124 CUDA:0 (Tesla T4, 15095MiB)\n",
            "YOLO11n summary (fused): 100 layers, 2,582,542 parameters, 0 gradients, 6.3 GFLOPs\n",
            "\u001b[34m\u001b[1mval: \u001b[0mFast image access ✅ (ping: 0.0±0.0 ms, read: 1180.4±390.2 MB/s, size: 55.8 KB)\n"
          ]
        },
        {
          "output_type": "stream",
          "name": "stderr",
          "text": [
            "\u001b[34m\u001b[1mval: \u001b[0mScanning /content/Storm-Damage-14/valid/labels.cache... 32 images, 0 backgrounds, 0 corrupt: 100%|██████████| 32/32 [00:00<?, ?it/s]\n",
            "                 Class     Images  Instances      Box(P          R      mAP50  mAP50-95): 100%|██████████| 1/1 [00:01<00:00,  1.17s/it]\n"
          ]
        },
        {
          "output_type": "stream",
          "name": "stdout",
          "text": [
            "                   all         32        842      0.651      0.555      0.591      0.289\n",
            "undamagedcommercialbuilding         14         58      0.576      0.445      0.441      0.241\n",
            "undamagedresidentialbuilding         29        784      0.726      0.665      0.741      0.336\n",
            "Speed: 0.3ms preprocess, 6.2ms inference, 0.0ms loss, 8.3ms postprocess per image\n",
            "Results saved to \u001b[1mexploratory_phase/yolo11n_training_dataset_v142\u001b[0m\n"
          ]
        },
        {
          "output_type": "execute_result",
          "data": {
            "text/plain": [
              "array([    0.24123,     0.33584])"
            ]
          },
          "metadata": {},
          "execution_count": 27
        }
      ]
    },
    {
      "cell_type": "code",
      "source": [
        "metrics.box.map50"
      ],
      "metadata": {
        "id": "l1yu7216mVFt",
        "outputId": "4f867a44-d07f-4266-d581-f4af7cdedf6b",
        "colab": {
          "base_uri": "https://localhost:8080/"
        }
      },
      "id": "l1yu7216mVFt",
      "execution_count": null,
      "outputs": [
        {
          "output_type": "execute_result",
          "data": {
            "text/plain": [
              "np.float64(0.5971192128868948)"
            ]
          },
          "metadata": {},
          "execution_count": 14
        }
      ]
    },
    {
      "cell_type": "code",
      "source": [
        "from google.colab import files\n",
        "files.download(\"/content/exploratory_phase/yolo11n_training_dataset_v14\")"
      ],
      "metadata": {
        "id": "Cih0UqZWnjtB",
        "outputId": "204adc4e-31d8-4eba-a2c0-7e4c1f466856",
        "colab": {
          "base_uri": "https://localhost:8080/",
          "height": 34
        }
      },
      "id": "Cih0UqZWnjtB",
      "execution_count": null,
      "outputs": [
        {
          "output_type": "display_data",
          "data": {
            "text/plain": [
              "<IPython.core.display.Javascript object>"
            ],
            "application/javascript": [
              "\n",
              "    async function download(id, filename, size) {\n",
              "      if (!google.colab.kernel.accessAllowed) {\n",
              "        return;\n",
              "      }\n",
              "      const div = document.createElement('div');\n",
              "      const label = document.createElement('label');\n",
              "      label.textContent = `Downloading \"${filename}\": `;\n",
              "      div.appendChild(label);\n",
              "      const progress = document.createElement('progress');\n",
              "      progress.max = size;\n",
              "      div.appendChild(progress);\n",
              "      document.body.appendChild(div);\n",
              "\n",
              "      const buffers = [];\n",
              "      let downloaded = 0;\n",
              "\n",
              "      const channel = await google.colab.kernel.comms.open(id);\n",
              "      // Send a message to notify the kernel that we're ready.\n",
              "      channel.send({})\n",
              "\n",
              "      for await (const message of channel.messages) {\n",
              "        // Send a message to notify the kernel that we're ready.\n",
              "        channel.send({})\n",
              "        if (message.buffers) {\n",
              "          for (const buffer of message.buffers) {\n",
              "            buffers.push(buffer);\n",
              "            downloaded += buffer.byteLength;\n",
              "            progress.value = downloaded;\n",
              "          }\n",
              "        }\n",
              "      }\n",
              "      const blob = new Blob(buffers, {type: 'application/binary'});\n",
              "      const a = document.createElement('a');\n",
              "      a.href = window.URL.createObjectURL(blob);\n",
              "      a.download = filename;\n",
              "      div.appendChild(a);\n",
              "      a.click();\n",
              "      div.remove();\n",
              "    }\n",
              "  "
            ]
          },
          "metadata": {}
        },
        {
          "output_type": "display_data",
          "data": {
            "text/plain": [
              "<IPython.core.display.Javascript object>"
            ],
            "application/javascript": [
              "download(\"download_928e9ce9-da1d-491b-8cec-ea0825700c09\", \"yolo11n_training_dataset_v14\", 4096)"
            ]
          },
          "metadata": {}
        }
      ]
    },
    {
      "cell_type": "code",
      "source": [
        "metrics.box.fitness"
      ],
      "metadata": {
        "id": "DVwzOYt6qF9g",
        "outputId": "8b7debfa-c6cb-400b-d6f9-ff9522972c7b",
        "colab": {
          "base_uri": "https://localhost:8080/",
          "height": 120
        }
      },
      "id": "DVwzOYt6qF9g",
      "execution_count": null,
      "outputs": [
        {
          "output_type": "execute_result",
          "data": {
            "text/plain": [
              "<bound method Metric.fitness of ultralytics.utils.metrics.Metric object with attributes:\n",
              "\n",
              "all_ap: array([[    0.45671,     0.43871,     0.40709,     0.37534,       0.254,     0.24833,     0.14325,    0.086312,    0.003748,  0.00055324],\n",
              "       [    0.73753,     0.68615,     0.62947,     0.52417,     0.41966,     0.23434,    0.098294,    0.028749,   0.0044693,  0.00046291]])\n",
              "ap: array([    0.24141,     0.33633])\n",
              "ap50: array([    0.45671,     0.73753])\n",
              "ap_class_index: array([0, 1])\n",
              "curves: []\n",
              "curves_results: [[array([          0,    0.001001,    0.002002,    0.003003,    0.004004,    0.005005,    0.006006,    0.007007,    0.008008,    0.009009,     0.01001,    0.011011,    0.012012,    0.013013,    0.014014,    0.015015,    0.016016,    0.017017,    0.018018,    0.019019,     0.02002,    0.021021,    0.022022,    0.023023,\n",
              "          0.024024,    0.025025,    0.026026,    0.027027,    0.028028,    0.029029,     0.03003,    0.031031,    0.032032,    0.033033,    0.034034,    0.035035,    0.036036,    0.037037,    0.038038,    0.039039,     0.04004,    0.041041,    0.042042,    0.043043,    0.044044,    0.045045,    0.046046,    0.047047,\n",
              "          0.048048,    0.049049,     0.05005,    0.051051,    0.052052,    0.053053,    0.054054,    0.055055,    0.056056,    0.057057,    0.058058,    0.059059,     0.06006,    0.061061,    0.062062,    0.063063,    0.064064,    0.065065,    0.066066,    0.067067,    0.068068,    0.069069,     0.07007,    0.071071,\n",
              "          0.072072,    0.073073,    0.074074,    0.075075,    0.076076,    0.077077,    0.078078,    0.079079,     0.08008,    0.081081,    0.082082,    0.083083,    0.084084,    0.085085,    0.086086,    0.087087,    0.088088,    0.089089,     0.09009,    0.091091,    0.092092,    0.093093,    0.094094,    0.095095,\n",
              "          0.096096,    0.097097,    0.098098,    0.099099,      0.1001,      0.1011,      0.1021,      0.1031,      0.1041,     0.10511,     0.10611,     0.10711,     0.10811,     0.10911,     0.11011,     0.11111,     0.11211,     0.11311,     0.11411,     0.11512,     0.11612,     0.11712,     0.11812,     0.11912,\n",
              "           0.12012,     0.12112,     0.12212,     0.12312,     0.12412,     0.12513,     0.12613,     0.12713,     0.12813,     0.12913,     0.13013,     0.13113,     0.13213,     0.13313,     0.13413,     0.13514,     0.13614,     0.13714,     0.13814,     0.13914,     0.14014,     0.14114,     0.14214,     0.14314,\n",
              "           0.14414,     0.14515,     0.14615,     0.14715,     0.14815,     0.14915,     0.15015,     0.15115,     0.15215,     0.15315,     0.15415,     0.15516,     0.15616,     0.15716,     0.15816,     0.15916,     0.16016,     0.16116,     0.16216,     0.16316,     0.16416,     0.16517,     0.16617,     0.16717,\n",
              "           0.16817,     0.16917,     0.17017,     0.17117,     0.17217,     0.17317,     0.17417,     0.17518,     0.17618,     0.17718,     0.17818,     0.17918,     0.18018,     0.18118,     0.18218,     0.18318,     0.18418,     0.18519,     0.18619,     0.18719,     0.18819,     0.18919,     0.19019,     0.19119,\n",
              "           0.19219,     0.19319,     0.19419,      0.1952,      0.1962,      0.1972,      0.1982,      0.1992,      0.2002,      0.2012,      0.2022,      0.2032,      0.2042,     0.20521,     0.20621,     0.20721,     0.20821,     0.20921,     0.21021,     0.21121,     0.21221,     0.21321,     0.21421,     0.21522,\n",
              "           0.21622,     0.21722,     0.21822,     0.21922,     0.22022,     0.22122,     0.22222,     0.22322,     0.22422,     0.22523,     0.22623,     0.22723,     0.22823,     0.22923,     0.23023,     0.23123,     0.23223,     0.23323,     0.23423,     0.23524,     0.23624,     0.23724,     0.23824,     0.23924,\n",
              "           0.24024,     0.24124,     0.24224,     0.24324,     0.24424,     0.24525,     0.24625,     0.24725,     0.24825,     0.24925,     0.25025,     0.25125,     0.25225,     0.25325,     0.25425,     0.25526,     0.25626,     0.25726,     0.25826,     0.25926,     0.26026,     0.26126,     0.26226,     0.26326,\n",
              "           0.26426,     0.26527,     0.26627,     0.26727,     0.26827,     0.26927,     0.27027,     0.27127,     0.27227,     0.27327,     0.27427,     0.27528,     0.27628,     0.27728,     0.27828,     0.27928,     0.28028,     0.28128,     0.28228,     0.28328,     0.28428,     0.28529,     0.28629,     0.28729,\n",
              "           0.28829,     0.28929,     0.29029,     0.29129,     0.29229,     0.29329,     0.29429,      0.2953,      0.2963,      0.2973,      0.2983,      0.2993,      0.3003,      0.3013,      0.3023,      0.3033,      0.3043,     0.30531,     0.30631,     0.30731,     0.30831,     0.30931,     0.31031,     0.31131,\n",
              "           0.31231,     0.31331,     0.31431,     0.31532,     0.31632,     0.31732,     0.31832,     0.31932,     0.32032,     0.32132,     0.32232,     0.32332,     0.32432,     0.32533,     0.32633,     0.32733,     0.32833,     0.32933,     0.33033,     0.33133,     0.33233,     0.33333,     0.33433,     0.33534,\n",
              "           0.33634,     0.33734,     0.33834,     0.33934,     0.34034,     0.34134,     0.34234,     0.34334,     0.34434,     0.34535,     0.34635,     0.34735,     0.34835,     0.34935,     0.35035,     0.35135,     0.35235,     0.35335,     0.35435,     0.35536,     0.35636,     0.35736,     0.35836,     0.35936,\n",
              "           0.36036,     0.36136,     0.36236,     0.36336,     0.36436,     0.36537,     0.36637,     0.36737,     0.36837,     0.36937,     0.37037,     0.37137,     0.37237,     0.37337,     0.37437,     0.37538,     0.37638,     0.37738,     0.37838,     0.37938,     0.38038,     0.38138,     0.38238,     0.38338,\n",
              "           0.38438,     0.38539,     0.38639,     0.38739,     0.38839,     0.38939,     0.39039,     0.39139,     0.39239,     0.39339,     0.39439,      0.3954,      0.3964,      0.3974,      0.3984,      0.3994,      0.4004,      0.4014,      0.4024,      0.4034,      0.4044,     0.40541,     0.40641,     0.40741,\n",
              "           0.40841,     0.40941,     0.41041,     0.41141,     0.41241,     0.41341,     0.41441,     0.41542,     0.41642,     0.41742,     0.41842,     0.41942,     0.42042,     0.42142,     0.42242,     0.42342,     0.42442,     0.42543,     0.42643,     0.42743,     0.42843,     0.42943,     0.43043,     0.43143,\n",
              "           0.43243,     0.43343,     0.43443,     0.43544,     0.43644,     0.43744,     0.43844,     0.43944,     0.44044,     0.44144,     0.44244,     0.44344,     0.44444,     0.44545,     0.44645,     0.44745,     0.44845,     0.44945,     0.45045,     0.45145,     0.45245,     0.45345,     0.45445,     0.45546,\n",
              "           0.45646,     0.45746,     0.45846,     0.45946,     0.46046,     0.46146,     0.46246,     0.46346,     0.46446,     0.46547,     0.46647,     0.46747,     0.46847,     0.46947,     0.47047,     0.47147,     0.47247,     0.47347,     0.47447,     0.47548,     0.47648,     0.47748,     0.47848,     0.47948,\n",
              "           0.48048,     0.48148,     0.48248,     0.48348,     0.48448,     0.48549,     0.48649,     0.48749,     0.48849,     0.48949,     0.49049,     0.49149,     0.49249,     0.49349,     0.49449,      0.4955,      0.4965,      0.4975,      0.4985,      0.4995,      0.5005,      0.5015,      0.5025,      0.5035,\n",
              "            0.5045,     0.50551,     0.50651,     0.50751,     0.50851,     0.50951,     0.51051,     0.51151,     0.51251,     0.51351,     0.51451,     0.51552,     0.51652,     0.51752,     0.51852,     0.51952,     0.52052,     0.52152,     0.52252,     0.52352,     0.52452,     0.52553,     0.52653,     0.52753,\n",
              "           0.52853,     0.52953,     0.53053,     0.53153,     0.53253,     0.53353,     0.53453,     0.53554,     0.53654,     0.53754,     0.53854,     0.53954,     0.54054,     0.54154,     0.54254,     0.54354,     0.54454,     0.54555,     0.54655,     0.54755,     0.54855,     0.54955,     0.55055,     0.55155,\n",
              "           0.55255,     0.55355,     0.55455,     0.55556,     0.55656,     0.55756,     0.55856,     0.55956,     0.56056,     0.56156,     0.56256,     0.56356,     0.56456,     0.56557,     0.56657,     0.56757,     0.56857,     0.56957,     0.57057,     0.57157,     0.57257,     0.57357,     0.57457,     0.57558,\n",
              "           0.57658,     0.57758,     0.57858,     0.57958,     0.58058,     0.58158,     0.58258,     0.58358,     0.58458,     0.58559,     0.58659,     0.58759,     0.58859,     0.58959,     0.59059,     0.59159,     0.59259,     0.59359,     0.59459,      0.5956,      0.5966,      0.5976,      0.5986,      0.5996,\n",
              "            0.6006,      0.6016,      0.6026,      0.6036,      0.6046,     0.60561,     0.60661,     0.60761,     0.60861,     0.60961,     0.61061,     0.61161,     0.61261,     0.61361,     0.61461,     0.61562,     0.61662,     0.61762,     0.61862,     0.61962,     0.62062,     0.62162,     0.62262,     0.62362,\n",
              "           0.62462,     0.62563,     0.62663,     0.62763,     0.62863,     0.62963,     0.63063,     0.63163,     0.63263,     0.63363,     0.63463,     0.63564,     0.63664,     0.63764,     0.63864,     0.63964,     0.64064,     0.64164,     0.64264,     0.64364,     0.64464,     0.64565,     0.64665,     0.64765,\n",
              "           0.64865,     0.64965,     0.65065,     0.65165,     0.65265,     0.65365,     0.65465,     0.65566,     0.65666,     0.65766,     0.65866,     0.65966,     0.66066,     0.66166,     0.66266,     0.66366,     0.66466,     0.66567,     0.66667,     0.66767,     0.66867,     0.66967,     0.67067,     0.67167,\n",
              "           0.67267,     0.67367,     0.67467,     0.67568,     0.67668,     0.67768,     0.67868,     0.67968,     0.68068,     0.68168,     0.68268,     0.68368,     0.68468,     0.68569,     0.68669,     0.68769,     0.68869,     0.68969,     0.69069,     0.69169,     0.69269,     0.69369,     0.69469,      0.6957,\n",
              "            0.6967,      0.6977,      0.6987,      0.6997,      0.7007,      0.7017,      0.7027,      0.7037,      0.7047,     0.70571,     0.70671,     0.70771,     0.70871,     0.70971,     0.71071,     0.71171,     0.71271,     0.71371,     0.71471,     0.71572,     0.71672,     0.71772,     0.71872,     0.71972,\n",
              "           0.72072,     0.72172,     0.72272,     0.72372,     0.72472,     0.72573,     0.72673,     0.72773,     0.72873,     0.72973,     0.73073,     0.73173,     0.73273,     0.73373,     0.73473,     0.73574,     0.73674,     0.73774,     0.73874,     0.73974,     0.74074,     0.74174,     0.74274,     0.74374,\n",
              "           0.74474,     0.74575,     0.74675,     0.74775,     0.74875,     0.74975,     0.75075,     0.75175,     0.75275,     0.75375,     0.75475,     0.75576,     0.75676,     0.75776,     0.75876,     0.75976,     0.76076,     0.76176,     0.76276,     0.76376,     0.76476,     0.76577,     0.76677,     0.76777,\n",
              "           0.76877,     0.76977,     0.77077,     0.77177,     0.77277,     0.77377,     0.77477,     0.77578,     0.77678,     0.77778,     0.77878,     0.77978,     0.78078,     0.78178,     0.78278,     0.78378,     0.78478,     0.78579,     0.78679,     0.78779,     0.78879,     0.78979,     0.79079,     0.79179,\n",
              "           0.79279,     0.79379,     0.79479,      0.7958,      0.7968,      0.7978,      0.7988,      0.7998,      0.8008,      0.8018,      0.8028,      0.8038,      0.8048,     0.80581,     0.80681,     0.80781,     0.80881,     0.80981,     0.81081,     0.81181,     0.81281,     0.81381,     0.81481,     0.81582,\n",
              "           0.81682,     0.81782,     0.81882,     0.81982,     0.82082,     0.82182,     0.82282,     0.82382,     0.82482,     0.82583,     0.82683,     0.82783,     0.82883,     0.82983,     0.83083,     0.83183,     0.83283,     0.83383,     0.83483,     0.83584,     0.83684,     0.83784,     0.83884,     0.83984,\n",
              "           0.84084,     0.84184,     0.84284,     0.84384,     0.84484,     0.84585,     0.84685,     0.84785,     0.84885,     0.84985,     0.85085,     0.85185,     0.85285,     0.85385,     0.85485,     0.85586,     0.85686,     0.85786,     0.85886,     0.85986,     0.86086,     0.86186,     0.86286,     0.86386,\n",
              "           0.86486,     0.86587,     0.86687,     0.86787,     0.86887,     0.86987,     0.87087,     0.87187,     0.87287,     0.87387,     0.87487,     0.87588,     0.87688,     0.87788,     0.87888,     0.87988,     0.88088,     0.88188,     0.88288,     0.88388,     0.88488,     0.88589,     0.88689,     0.88789,\n",
              "           0.88889,     0.88989,     0.89089,     0.89189,     0.89289,     0.89389,     0.89489,      0.8959,      0.8969,      0.8979,      0.8989,      0.8999,      0.9009,      0.9019,      0.9029,      0.9039,      0.9049,     0.90591,     0.90691,     0.90791,     0.90891,     0.90991,     0.91091,     0.91191,\n",
              "           0.91291,     0.91391,     0.91491,     0.91592,     0.91692,     0.91792,     0.91892,     0.91992,     0.92092,     0.92192,     0.92292,     0.92392,     0.92492,     0.92593,     0.92693,     0.92793,     0.92893,     0.92993,     0.93093,     0.93193,     0.93293,     0.93393,     0.93493,     0.93594,\n",
              "           0.93694,     0.93794,     0.93894,     0.93994,     0.94094,     0.94194,     0.94294,     0.94394,     0.94494,     0.94595,     0.94695,     0.94795,     0.94895,     0.94995,     0.95095,     0.95195,     0.95295,     0.95395,     0.95495,     0.95596,     0.95696,     0.95796,     0.95896,     0.95996,\n",
              "           0.96096,     0.96196,     0.96296,     0.96396,     0.96496,     0.96597,     0.96697,     0.96797,     0.96897,     0.96997,     0.97097,     0.97197,     0.97297,     0.97397,     0.97497,     0.97598,     0.97698,     0.97798,     0.97898,     0.97998,     0.98098,     0.98198,     0.98298,     0.98398,\n",
              "           0.98498,     0.98599,     0.98699,     0.98799,     0.98899,     0.98999,     0.99099,     0.99199,     0.99299,     0.99399,     0.99499,       0.996,       0.997,       0.998,       0.999,           1]), array([[          1,           1,           1, ...,  0.00040839,   0.0002042,           0],\n",
              "       [          1,           1,           1, ...,   0.0030567,   0.0015283,           0]]), 'Recall', 'Precision'], [array([          0,    0.001001,    0.002002,    0.003003,    0.004004,    0.005005,    0.006006,    0.007007,    0.008008,    0.009009,     0.01001,    0.011011,    0.012012,    0.013013,    0.014014,    0.015015,    0.016016,    0.017017,    0.018018,    0.019019,     0.02002,    0.021021,    0.022022,    0.023023,\n",
              "          0.024024,    0.025025,    0.026026,    0.027027,    0.028028,    0.029029,     0.03003,    0.031031,    0.032032,    0.033033,    0.034034,    0.035035,    0.036036,    0.037037,    0.038038,    0.039039,     0.04004,    0.041041,    0.042042,    0.043043,    0.044044,    0.045045,    0.046046,    0.047047,\n",
              "          0.048048,    0.049049,     0.05005,    0.051051,    0.052052,    0.053053,    0.054054,    0.055055,    0.056056,    0.057057,    0.058058,    0.059059,     0.06006,    0.061061,    0.062062,    0.063063,    0.064064,    0.065065,    0.066066,    0.067067,    0.068068,    0.069069,     0.07007,    0.071071,\n",
              "          0.072072,    0.073073,    0.074074,    0.075075,    0.076076,    0.077077,    0.078078,    0.079079,     0.08008,    0.081081,    0.082082,    0.083083,    0.084084,    0.085085,    0.086086,    0.087087,    0.088088,    0.089089,     0.09009,    0.091091,    0.092092,    0.093093,    0.094094,    0.095095,\n",
              "          0.096096,    0.097097,    0.098098,    0.099099,      0.1001,      0.1011,      0.1021,      0.1031,      0.1041,     0.10511,     0.10611,     0.10711,     0.10811,     0.10911,     0.11011,     0.11111,     0.11211,     0.11311,     0.11411,     0.11512,     0.11612,     0.11712,     0.11812,     0.11912,\n",
              "           0.12012,     0.12112,     0.12212,     0.12312,     0.12412,     0.12513,     0.12613,     0.12713,     0.12813,     0.12913,     0.13013,     0.13113,     0.13213,     0.13313,     0.13413,     0.13514,     0.13614,     0.13714,     0.13814,     0.13914,     0.14014,     0.14114,     0.14214,     0.14314,\n",
              "           0.14414,     0.14515,     0.14615,     0.14715,     0.14815,     0.14915,     0.15015,     0.15115,     0.15215,     0.15315,     0.15415,     0.15516,     0.15616,     0.15716,     0.15816,     0.15916,     0.16016,     0.16116,     0.16216,     0.16316,     0.16416,     0.16517,     0.16617,     0.16717,\n",
              "           0.16817,     0.16917,     0.17017,     0.17117,     0.17217,     0.17317,     0.17417,     0.17518,     0.17618,     0.17718,     0.17818,     0.17918,     0.18018,     0.18118,     0.18218,     0.18318,     0.18418,     0.18519,     0.18619,     0.18719,     0.18819,     0.18919,     0.19019,     0.19119,\n",
              "           0.19219,     0.19319,     0.19419,      0.1952,      0.1962,      0.1972,      0.1982,      0.1992,      0.2002,      0.2012,      0.2022,      0.2032,      0.2042,     0.20521,     0.20621,     0.20721,     0.20821,     0.20921,     0.21021,     0.21121,     0.21221,     0.21321,     0.21421,     0.21522,\n",
              "           0.21622,     0.21722,     0.21822,     0.21922,     0.22022,     0.22122,     0.22222,     0.22322,     0.22422,     0.22523,     0.22623,     0.22723,     0.22823,     0.22923,     0.23023,     0.23123,     0.23223,     0.23323,     0.23423,     0.23524,     0.23624,     0.23724,     0.23824,     0.23924,\n",
              "           0.24024,     0.24124,     0.24224,     0.24324,     0.24424,     0.24525,     0.24625,     0.24725,     0.24825,     0.24925,     0.25025,     0.25125,     0.25225,     0.25325,     0.25425,     0.25526,     0.25626,     0.25726,     0.25826,     0.25926,     0.26026,     0.26126,     0.26226,     0.26326,\n",
              "           0.26426,     0.26527,     0.26627,     0.26727,     0.26827,     0.26927,     0.27027,     0.27127,     0.27227,     0.27327,     0.27427,     0.27528,     0.27628,     0.27728,     0.27828,     0.27928,     0.28028,     0.28128,     0.28228,     0.28328,     0.28428,     0.28529,     0.28629,     0.28729,\n",
              "           0.28829,     0.28929,     0.29029,     0.29129,     0.29229,     0.29329,     0.29429,      0.2953,      0.2963,      0.2973,      0.2983,      0.2993,      0.3003,      0.3013,      0.3023,      0.3033,      0.3043,     0.30531,     0.30631,     0.30731,     0.30831,     0.30931,     0.31031,     0.31131,\n",
              "           0.31231,     0.31331,     0.31431,     0.31532,     0.31632,     0.31732,     0.31832,     0.31932,     0.32032,     0.32132,     0.32232,     0.32332,     0.32432,     0.32533,     0.32633,     0.32733,     0.32833,     0.32933,     0.33033,     0.33133,     0.33233,     0.33333,     0.33433,     0.33534,\n",
              "           0.33634,     0.33734,     0.33834,     0.33934,     0.34034,     0.34134,     0.34234,     0.34334,     0.34434,     0.34535,     0.34635,     0.34735,     0.34835,     0.34935,     0.35035,     0.35135,     0.35235,     0.35335,     0.35435,     0.35536,     0.35636,     0.35736,     0.35836,     0.35936,\n",
              "           0.36036,     0.36136,     0.36236,     0.36336,     0.36436,     0.36537,     0.36637,     0.36737,     0.36837,     0.36937,     0.37037,     0.37137,     0.37237,     0.37337,     0.37437,     0.37538,     0.37638,     0.37738,     0.37838,     0.37938,     0.38038,     0.38138,     0.38238,     0.38338,\n",
              "           0.38438,     0.38539,     0.38639,     0.38739,     0.38839,     0.38939,     0.39039,     0.39139,     0.39239,     0.39339,     0.39439,      0.3954,      0.3964,      0.3974,      0.3984,      0.3994,      0.4004,      0.4014,      0.4024,      0.4034,      0.4044,     0.40541,     0.40641,     0.40741,\n",
              "           0.40841,     0.40941,     0.41041,     0.41141,     0.41241,     0.41341,     0.41441,     0.41542,     0.41642,     0.41742,     0.41842,     0.41942,     0.42042,     0.42142,     0.42242,     0.42342,     0.42442,     0.42543,     0.42643,     0.42743,     0.42843,     0.42943,     0.43043,     0.43143,\n",
              "           0.43243,     0.43343,     0.43443,     0.43544,     0.43644,     0.43744,     0.43844,     0.43944,     0.44044,     0.44144,     0.44244,     0.44344,     0.44444,     0.44545,     0.44645,     0.44745,     0.44845,     0.44945,     0.45045,     0.45145,     0.45245,     0.45345,     0.45445,     0.45546,\n",
              "           0.45646,     0.45746,     0.45846,     0.45946,     0.46046,     0.46146,     0.46246,     0.46346,     0.46446,     0.46547,     0.46647,     0.46747,     0.46847,     0.46947,     0.47047,     0.47147,     0.47247,     0.47347,     0.47447,     0.47548,     0.47648,     0.47748,     0.47848,     0.47948,\n",
              "           0.48048,     0.48148,     0.48248,     0.48348,     0.48448,     0.48549,     0.48649,     0.48749,     0.48849,     0.48949,     0.49049,     0.49149,     0.49249,     0.49349,     0.49449,      0.4955,      0.4965,      0.4975,      0.4985,      0.4995,      0.5005,      0.5015,      0.5025,      0.5035,\n",
              "            0.5045,     0.50551,     0.50651,     0.50751,     0.50851,     0.50951,     0.51051,     0.51151,     0.51251,     0.51351,     0.51451,     0.51552,     0.51652,     0.51752,     0.51852,     0.51952,     0.52052,     0.52152,     0.52252,     0.52352,     0.52452,     0.52553,     0.52653,     0.52753,\n",
              "           0.52853,     0.52953,     0.53053,     0.53153,     0.53253,     0.53353,     0.53453,     0.53554,     0.53654,     0.53754,     0.53854,     0.53954,     0.54054,     0.54154,     0.54254,     0.54354,     0.54454,     0.54555,     0.54655,     0.54755,     0.54855,     0.54955,     0.55055,     0.55155,\n",
              "           0.55255,     0.55355,     0.55455,     0.55556,     0.55656,     0.55756,     0.55856,     0.55956,     0.56056,     0.56156,     0.56256,     0.56356,     0.56456,     0.56557,     0.56657,     0.56757,     0.56857,     0.56957,     0.57057,     0.57157,     0.57257,     0.57357,     0.57457,     0.57558,\n",
              "           0.57658,     0.57758,     0.57858,     0.57958,     0.58058,     0.58158,     0.58258,     0.58358,     0.58458,     0.58559,     0.58659,     0.58759,     0.58859,     0.58959,     0.59059,     0.59159,     0.59259,     0.59359,     0.59459,      0.5956,      0.5966,      0.5976,      0.5986,      0.5996,\n",
              "            0.6006,      0.6016,      0.6026,      0.6036,      0.6046,     0.60561,     0.60661,     0.60761,     0.60861,     0.60961,     0.61061,     0.61161,     0.61261,     0.61361,     0.61461,     0.61562,     0.61662,     0.61762,     0.61862,     0.61962,     0.62062,     0.62162,     0.62262,     0.62362,\n",
              "           0.62462,     0.62563,     0.62663,     0.62763,     0.62863,     0.62963,     0.63063,     0.63163,     0.63263,     0.63363,     0.63463,     0.63564,     0.63664,     0.63764,     0.63864,     0.63964,     0.64064,     0.64164,     0.64264,     0.64364,     0.64464,     0.64565,     0.64665,     0.64765,\n",
              "           0.64865,     0.64965,     0.65065,     0.65165,     0.65265,     0.65365,     0.65465,     0.65566,     0.65666,     0.65766,     0.65866,     0.65966,     0.66066,     0.66166,     0.66266,     0.66366,     0.66466,     0.66567,     0.66667,     0.66767,     0.66867,     0.66967,     0.67067,     0.67167,\n",
              "           0.67267,     0.67367,     0.67467,     0.67568,     0.67668,     0.67768,     0.67868,     0.67968,     0.68068,     0.68168,     0.68268,     0.68368,     0.68468,     0.68569,     0.68669,     0.68769,     0.68869,     0.68969,     0.69069,     0.69169,     0.69269,     0.69369,     0.69469,      0.6957,\n",
              "            0.6967,      0.6977,      0.6987,      0.6997,      0.7007,      0.7017,      0.7027,      0.7037,      0.7047,     0.70571,     0.70671,     0.70771,     0.70871,     0.70971,     0.71071,     0.71171,     0.71271,     0.71371,     0.71471,     0.71572,     0.71672,     0.71772,     0.71872,     0.71972,\n",
              "           0.72072,     0.72172,     0.72272,     0.72372,     0.72472,     0.72573,     0.72673,     0.72773,     0.72873,     0.72973,     0.73073,     0.73173,     0.73273,     0.73373,     0.73473,     0.73574,     0.73674,     0.73774,     0.73874,     0.73974,     0.74074,     0.74174,     0.74274,     0.74374,\n",
              "           0.74474,     0.74575,     0.74675,     0.74775,     0.74875,     0.74975,     0.75075,     0.75175,     0.75275,     0.75375,     0.75475,     0.75576,     0.75676,     0.75776,     0.75876,     0.75976,     0.76076,     0.76176,     0.76276,     0.76376,     0.76476,     0.76577,     0.76677,     0.76777,\n",
              "           0.76877,     0.76977,     0.77077,     0.77177,     0.77277,     0.77377,     0.77477,     0.77578,     0.77678,     0.77778,     0.77878,     0.77978,     0.78078,     0.78178,     0.78278,     0.78378,     0.78478,     0.78579,     0.78679,     0.78779,     0.78879,     0.78979,     0.79079,     0.79179,\n",
              "           0.79279,     0.79379,     0.79479,      0.7958,      0.7968,      0.7978,      0.7988,      0.7998,      0.8008,      0.8018,      0.8028,      0.8038,      0.8048,     0.80581,     0.80681,     0.80781,     0.80881,     0.80981,     0.81081,     0.81181,     0.81281,     0.81381,     0.81481,     0.81582,\n",
              "           0.81682,     0.81782,     0.81882,     0.81982,     0.82082,     0.82182,     0.82282,     0.82382,     0.82482,     0.82583,     0.82683,     0.82783,     0.82883,     0.82983,     0.83083,     0.83183,     0.83283,     0.83383,     0.83483,     0.83584,     0.83684,     0.83784,     0.83884,     0.83984,\n",
              "           0.84084,     0.84184,     0.84284,     0.84384,     0.84484,     0.84585,     0.84685,     0.84785,     0.84885,     0.84985,     0.85085,     0.85185,     0.85285,     0.85385,     0.85485,     0.85586,     0.85686,     0.85786,     0.85886,     0.85986,     0.86086,     0.86186,     0.86286,     0.86386,\n",
              "           0.86486,     0.86587,     0.86687,     0.86787,     0.86887,     0.86987,     0.87087,     0.87187,     0.87287,     0.87387,     0.87487,     0.87588,     0.87688,     0.87788,     0.87888,     0.87988,     0.88088,     0.88188,     0.88288,     0.88388,     0.88488,     0.88589,     0.88689,     0.88789,\n",
              "           0.88889,     0.88989,     0.89089,     0.89189,     0.89289,     0.89389,     0.89489,      0.8959,      0.8969,      0.8979,      0.8989,      0.8999,      0.9009,      0.9019,      0.9029,      0.9039,      0.9049,     0.90591,     0.90691,     0.90791,     0.90891,     0.90991,     0.91091,     0.91191,\n",
              "           0.91291,     0.91391,     0.91491,     0.91592,     0.91692,     0.91792,     0.91892,     0.91992,     0.92092,     0.92192,     0.92292,     0.92392,     0.92492,     0.92593,     0.92693,     0.92793,     0.92893,     0.92993,     0.93093,     0.93193,     0.93293,     0.93393,     0.93493,     0.93594,\n",
              "           0.93694,     0.93794,     0.93894,     0.93994,     0.94094,     0.94194,     0.94294,     0.94394,     0.94494,     0.94595,     0.94695,     0.94795,     0.94895,     0.94995,     0.95095,     0.95195,     0.95295,     0.95395,     0.95495,     0.95596,     0.95696,     0.95796,     0.95896,     0.95996,\n",
              "           0.96096,     0.96196,     0.96296,     0.96396,     0.96496,     0.96597,     0.96697,     0.96797,     0.96897,     0.96997,     0.97097,     0.97197,     0.97297,     0.97397,     0.97497,     0.97598,     0.97698,     0.97798,     0.97898,     0.97998,     0.98098,     0.98198,     0.98298,     0.98398,\n",
              "           0.98498,     0.98599,     0.98699,     0.98799,     0.98899,     0.98999,     0.99099,     0.99199,     0.99299,     0.99399,     0.99499,       0.996,       0.997,       0.998,       0.999,           1]), array([[   0.061021,    0.061021,    0.062428, ...,           0,           0,           0],\n",
              "       [    0.16682,     0.16682,     0.17042, ...,           0,           0,           0]]), 'Confidence', 'F1'], [array([          0,    0.001001,    0.002002,    0.003003,    0.004004,    0.005005,    0.006006,    0.007007,    0.008008,    0.009009,     0.01001,    0.011011,    0.012012,    0.013013,    0.014014,    0.015015,    0.016016,    0.017017,    0.018018,    0.019019,     0.02002,    0.021021,    0.022022,    0.023023,\n",
              "          0.024024,    0.025025,    0.026026,    0.027027,    0.028028,    0.029029,     0.03003,    0.031031,    0.032032,    0.033033,    0.034034,    0.035035,    0.036036,    0.037037,    0.038038,    0.039039,     0.04004,    0.041041,    0.042042,    0.043043,    0.044044,    0.045045,    0.046046,    0.047047,\n",
              "          0.048048,    0.049049,     0.05005,    0.051051,    0.052052,    0.053053,    0.054054,    0.055055,    0.056056,    0.057057,    0.058058,    0.059059,     0.06006,    0.061061,    0.062062,    0.063063,    0.064064,    0.065065,    0.066066,    0.067067,    0.068068,    0.069069,     0.07007,    0.071071,\n",
              "          0.072072,    0.073073,    0.074074,    0.075075,    0.076076,    0.077077,    0.078078,    0.079079,     0.08008,    0.081081,    0.082082,    0.083083,    0.084084,    0.085085,    0.086086,    0.087087,    0.088088,    0.089089,     0.09009,    0.091091,    0.092092,    0.093093,    0.094094,    0.095095,\n",
              "          0.096096,    0.097097,    0.098098,    0.099099,      0.1001,      0.1011,      0.1021,      0.1031,      0.1041,     0.10511,     0.10611,     0.10711,     0.10811,     0.10911,     0.11011,     0.11111,     0.11211,     0.11311,     0.11411,     0.11512,     0.11612,     0.11712,     0.11812,     0.11912,\n",
              "           0.12012,     0.12112,     0.12212,     0.12312,     0.12412,     0.12513,     0.12613,     0.12713,     0.12813,     0.12913,     0.13013,     0.13113,     0.13213,     0.13313,     0.13413,     0.13514,     0.13614,     0.13714,     0.13814,     0.13914,     0.14014,     0.14114,     0.14214,     0.14314,\n",
              "           0.14414,     0.14515,     0.14615,     0.14715,     0.14815,     0.14915,     0.15015,     0.15115,     0.15215,     0.15315,     0.15415,     0.15516,     0.15616,     0.15716,     0.15816,     0.15916,     0.16016,     0.16116,     0.16216,     0.16316,     0.16416,     0.16517,     0.16617,     0.16717,\n",
              "           0.16817,     0.16917,     0.17017,     0.17117,     0.17217,     0.17317,     0.17417,     0.17518,     0.17618,     0.17718,     0.17818,     0.17918,     0.18018,     0.18118,     0.18218,     0.18318,     0.18418,     0.18519,     0.18619,     0.18719,     0.18819,     0.18919,     0.19019,     0.19119,\n",
              "           0.19219,     0.19319,     0.19419,      0.1952,      0.1962,      0.1972,      0.1982,      0.1992,      0.2002,      0.2012,      0.2022,      0.2032,      0.2042,     0.20521,     0.20621,     0.20721,     0.20821,     0.20921,     0.21021,     0.21121,     0.21221,     0.21321,     0.21421,     0.21522,\n",
              "           0.21622,     0.21722,     0.21822,     0.21922,     0.22022,     0.22122,     0.22222,     0.22322,     0.22422,     0.22523,     0.22623,     0.22723,     0.22823,     0.22923,     0.23023,     0.23123,     0.23223,     0.23323,     0.23423,     0.23524,     0.23624,     0.23724,     0.23824,     0.23924,\n",
              "           0.24024,     0.24124,     0.24224,     0.24324,     0.24424,     0.24525,     0.24625,     0.24725,     0.24825,     0.24925,     0.25025,     0.25125,     0.25225,     0.25325,     0.25425,     0.25526,     0.25626,     0.25726,     0.25826,     0.25926,     0.26026,     0.26126,     0.26226,     0.26326,\n",
              "           0.26426,     0.26527,     0.26627,     0.26727,     0.26827,     0.26927,     0.27027,     0.27127,     0.27227,     0.27327,     0.27427,     0.27528,     0.27628,     0.27728,     0.27828,     0.27928,     0.28028,     0.28128,     0.28228,     0.28328,     0.28428,     0.28529,     0.28629,     0.28729,\n",
              "           0.28829,     0.28929,     0.29029,     0.29129,     0.29229,     0.29329,     0.29429,      0.2953,      0.2963,      0.2973,      0.2983,      0.2993,      0.3003,      0.3013,      0.3023,      0.3033,      0.3043,     0.30531,     0.30631,     0.30731,     0.30831,     0.30931,     0.31031,     0.31131,\n",
              "           0.31231,     0.31331,     0.31431,     0.31532,     0.31632,     0.31732,     0.31832,     0.31932,     0.32032,     0.32132,     0.32232,     0.32332,     0.32432,     0.32533,     0.32633,     0.32733,     0.32833,     0.32933,     0.33033,     0.33133,     0.33233,     0.33333,     0.33433,     0.33534,\n",
              "           0.33634,     0.33734,     0.33834,     0.33934,     0.34034,     0.34134,     0.34234,     0.34334,     0.34434,     0.34535,     0.34635,     0.34735,     0.34835,     0.34935,     0.35035,     0.35135,     0.35235,     0.35335,     0.35435,     0.35536,     0.35636,     0.35736,     0.35836,     0.35936,\n",
              "           0.36036,     0.36136,     0.36236,     0.36336,     0.36436,     0.36537,     0.36637,     0.36737,     0.36837,     0.36937,     0.37037,     0.37137,     0.37237,     0.37337,     0.37437,     0.37538,     0.37638,     0.37738,     0.37838,     0.37938,     0.38038,     0.38138,     0.38238,     0.38338,\n",
              "           0.38438,     0.38539,     0.38639,     0.38739,     0.38839,     0.38939,     0.39039,     0.39139,     0.39239,     0.39339,     0.39439,      0.3954,      0.3964,      0.3974,      0.3984,      0.3994,      0.4004,      0.4014,      0.4024,      0.4034,      0.4044,     0.40541,     0.40641,     0.40741,\n",
              "           0.40841,     0.40941,     0.41041,     0.41141,     0.41241,     0.41341,     0.41441,     0.41542,     0.41642,     0.41742,     0.41842,     0.41942,     0.42042,     0.42142,     0.42242,     0.42342,     0.42442,     0.42543,     0.42643,     0.42743,     0.42843,     0.42943,     0.43043,     0.43143,\n",
              "           0.43243,     0.43343,     0.43443,     0.43544,     0.43644,     0.43744,     0.43844,     0.43944,     0.44044,     0.44144,     0.44244,     0.44344,     0.44444,     0.44545,     0.44645,     0.44745,     0.44845,     0.44945,     0.45045,     0.45145,     0.45245,     0.45345,     0.45445,     0.45546,\n",
              "           0.45646,     0.45746,     0.45846,     0.45946,     0.46046,     0.46146,     0.46246,     0.46346,     0.46446,     0.46547,     0.46647,     0.46747,     0.46847,     0.46947,     0.47047,     0.47147,     0.47247,     0.47347,     0.47447,     0.47548,     0.47648,     0.47748,     0.47848,     0.47948,\n",
              "           0.48048,     0.48148,     0.48248,     0.48348,     0.48448,     0.48549,     0.48649,     0.48749,     0.48849,     0.48949,     0.49049,     0.49149,     0.49249,     0.49349,     0.49449,      0.4955,      0.4965,      0.4975,      0.4985,      0.4995,      0.5005,      0.5015,      0.5025,      0.5035,\n",
              "            0.5045,     0.50551,     0.50651,     0.50751,     0.50851,     0.50951,     0.51051,     0.51151,     0.51251,     0.51351,     0.51451,     0.51552,     0.51652,     0.51752,     0.51852,     0.51952,     0.52052,     0.52152,     0.52252,     0.52352,     0.52452,     0.52553,     0.52653,     0.52753,\n",
              "           0.52853,     0.52953,     0.53053,     0.53153,     0.53253,     0.53353,     0.53453,     0.53554,     0.53654,     0.53754,     0.53854,     0.53954,     0.54054,     0.54154,     0.54254,     0.54354,     0.54454,     0.54555,     0.54655,     0.54755,     0.54855,     0.54955,     0.55055,     0.55155,\n",
              "           0.55255,     0.55355,     0.55455,     0.55556,     0.55656,     0.55756,     0.55856,     0.55956,     0.56056,     0.56156,     0.56256,     0.56356,     0.56456,     0.56557,     0.56657,     0.56757,     0.56857,     0.56957,     0.57057,     0.57157,     0.57257,     0.57357,     0.57457,     0.57558,\n",
              "           0.57658,     0.57758,     0.57858,     0.57958,     0.58058,     0.58158,     0.58258,     0.58358,     0.58458,     0.58559,     0.58659,     0.58759,     0.58859,     0.58959,     0.59059,     0.59159,     0.59259,     0.59359,     0.59459,      0.5956,      0.5966,      0.5976,      0.5986,      0.5996,\n",
              "            0.6006,      0.6016,      0.6026,      0.6036,      0.6046,     0.60561,     0.60661,     0.60761,     0.60861,     0.60961,     0.61061,     0.61161,     0.61261,     0.61361,     0.61461,     0.61562,     0.61662,     0.61762,     0.61862,     0.61962,     0.62062,     0.62162,     0.62262,     0.62362,\n",
              "           0.62462,     0.62563,     0.62663,     0.62763,     0.62863,     0.62963,     0.63063,     0.63163,     0.63263,     0.63363,     0.63463,     0.63564,     0.63664,     0.63764,     0.63864,     0.63964,     0.64064,     0.64164,     0.64264,     0.64364,     0.64464,     0.64565,     0.64665,     0.64765,\n",
              "           0.64865,     0.64965,     0.65065,     0.65165,     0.65265,     0.65365,     0.65465,     0.65566,     0.65666,     0.65766,     0.65866,     0.65966,     0.66066,     0.66166,     0.66266,     0.66366,     0.66466,     0.66567,     0.66667,     0.66767,     0.66867,     0.66967,     0.67067,     0.67167,\n",
              "           0.67267,     0.67367,     0.67467,     0.67568,     0.67668,     0.67768,     0.67868,     0.67968,     0.68068,     0.68168,     0.68268,     0.68368,     0.68468,     0.68569,     0.68669,     0.68769,     0.68869,     0.68969,     0.69069,     0.69169,     0.69269,     0.69369,     0.69469,      0.6957,\n",
              "            0.6967,      0.6977,      0.6987,      0.6997,      0.7007,      0.7017,      0.7027,      0.7037,      0.7047,     0.70571,     0.70671,     0.70771,     0.70871,     0.70971,     0.71071,     0.71171,     0.71271,     0.71371,     0.71471,     0.71572,     0.71672,     0.71772,     0.71872,     0.71972,\n",
              "           0.72072,     0.72172,     0.72272,     0.72372,     0.72472,     0.72573,     0.72673,     0.72773,     0.72873,     0.72973,     0.73073,     0.73173,     0.73273,     0.73373,     0.73473,     0.73574,     0.73674,     0.73774,     0.73874,     0.73974,     0.74074,     0.74174,     0.74274,     0.74374,\n",
              "           0.74474,     0.74575,     0.74675,     0.74775,     0.74875,     0.74975,     0.75075,     0.75175,     0.75275,     0.75375,     0.75475,     0.75576,     0.75676,     0.75776,     0.75876,     0.75976,     0.76076,     0.76176,     0.76276,     0.76376,     0.76476,     0.76577,     0.76677,     0.76777,\n",
              "           0.76877,     0.76977,     0.77077,     0.77177,     0.77277,     0.77377,     0.77477,     0.77578,     0.77678,     0.77778,     0.77878,     0.77978,     0.78078,     0.78178,     0.78278,     0.78378,     0.78478,     0.78579,     0.78679,     0.78779,     0.78879,     0.78979,     0.79079,     0.79179,\n",
              "           0.79279,     0.79379,     0.79479,      0.7958,      0.7968,      0.7978,      0.7988,      0.7998,      0.8008,      0.8018,      0.8028,      0.8038,      0.8048,     0.80581,     0.80681,     0.80781,     0.80881,     0.80981,     0.81081,     0.81181,     0.81281,     0.81381,     0.81481,     0.81582,\n",
              "           0.81682,     0.81782,     0.81882,     0.81982,     0.82082,     0.82182,     0.82282,     0.82382,     0.82482,     0.82583,     0.82683,     0.82783,     0.82883,     0.82983,     0.83083,     0.83183,     0.83283,     0.83383,     0.83483,     0.83584,     0.83684,     0.83784,     0.83884,     0.83984,\n",
              "           0.84084,     0.84184,     0.84284,     0.84384,     0.84484,     0.84585,     0.84685,     0.84785,     0.84885,     0.84985,     0.85085,     0.85185,     0.85285,     0.85385,     0.85485,     0.85586,     0.85686,     0.85786,     0.85886,     0.85986,     0.86086,     0.86186,     0.86286,     0.86386,\n",
              "           0.86486,     0.86587,     0.86687,     0.86787,     0.86887,     0.86987,     0.87087,     0.87187,     0.87287,     0.87387,     0.87487,     0.87588,     0.87688,     0.87788,     0.87888,     0.87988,     0.88088,     0.88188,     0.88288,     0.88388,     0.88488,     0.88589,     0.88689,     0.88789,\n",
              "           0.88889,     0.88989,     0.89089,     0.89189,     0.89289,     0.89389,     0.89489,      0.8959,      0.8969,      0.8979,      0.8989,      0.8999,      0.9009,      0.9019,      0.9029,      0.9039,      0.9049,     0.90591,     0.90691,     0.90791,     0.90891,     0.90991,     0.91091,     0.91191,\n",
              "           0.91291,     0.91391,     0.91491,     0.91592,     0.91692,     0.91792,     0.91892,     0.91992,     0.92092,     0.92192,     0.92292,     0.92392,     0.92492,     0.92593,     0.92693,     0.92793,     0.92893,     0.92993,     0.93093,     0.93193,     0.93293,     0.93393,     0.93493,     0.93594,\n",
              "           0.93694,     0.93794,     0.93894,     0.93994,     0.94094,     0.94194,     0.94294,     0.94394,     0.94494,     0.94595,     0.94695,     0.94795,     0.94895,     0.94995,     0.95095,     0.95195,     0.95295,     0.95395,     0.95495,     0.95596,     0.95696,     0.95796,     0.95896,     0.95996,\n",
              "           0.96096,     0.96196,     0.96296,     0.96396,     0.96496,     0.96597,     0.96697,     0.96797,     0.96897,     0.96997,     0.97097,     0.97197,     0.97297,     0.97397,     0.97497,     0.97598,     0.97698,     0.97798,     0.97898,     0.97998,     0.98098,     0.98198,     0.98298,     0.98398,\n",
              "           0.98498,     0.98599,     0.98699,     0.98799,     0.98899,     0.98999,     0.99099,     0.99199,     0.99299,     0.99399,     0.99499,       0.996,       0.997,       0.998,       0.999,           1]), array([[   0.031654,    0.031654,    0.032412, ...,           1,           1,           1],\n",
              "       [    0.09153,     0.09153,    0.093704, ...,           1,           1,           1]]), 'Confidence', 'Precision'], [array([          0,    0.001001,    0.002002,    0.003003,    0.004004,    0.005005,    0.006006,    0.007007,    0.008008,    0.009009,     0.01001,    0.011011,    0.012012,    0.013013,    0.014014,    0.015015,    0.016016,    0.017017,    0.018018,    0.019019,     0.02002,    0.021021,    0.022022,    0.023023,\n",
              "          0.024024,    0.025025,    0.026026,    0.027027,    0.028028,    0.029029,     0.03003,    0.031031,    0.032032,    0.033033,    0.034034,    0.035035,    0.036036,    0.037037,    0.038038,    0.039039,     0.04004,    0.041041,    0.042042,    0.043043,    0.044044,    0.045045,    0.046046,    0.047047,\n",
              "          0.048048,    0.049049,     0.05005,    0.051051,    0.052052,    0.053053,    0.054054,    0.055055,    0.056056,    0.057057,    0.058058,    0.059059,     0.06006,    0.061061,    0.062062,    0.063063,    0.064064,    0.065065,    0.066066,    0.067067,    0.068068,    0.069069,     0.07007,    0.071071,\n",
              "          0.072072,    0.073073,    0.074074,    0.075075,    0.076076,    0.077077,    0.078078,    0.079079,     0.08008,    0.081081,    0.082082,    0.083083,    0.084084,    0.085085,    0.086086,    0.087087,    0.088088,    0.089089,     0.09009,    0.091091,    0.092092,    0.093093,    0.094094,    0.095095,\n",
              "          0.096096,    0.097097,    0.098098,    0.099099,      0.1001,      0.1011,      0.1021,      0.1031,      0.1041,     0.10511,     0.10611,     0.10711,     0.10811,     0.10911,     0.11011,     0.11111,     0.11211,     0.11311,     0.11411,     0.11512,     0.11612,     0.11712,     0.11812,     0.11912,\n",
              "           0.12012,     0.12112,     0.12212,     0.12312,     0.12412,     0.12513,     0.12613,     0.12713,     0.12813,     0.12913,     0.13013,     0.13113,     0.13213,     0.13313,     0.13413,     0.13514,     0.13614,     0.13714,     0.13814,     0.13914,     0.14014,     0.14114,     0.14214,     0.14314,\n",
              "           0.14414,     0.14515,     0.14615,     0.14715,     0.14815,     0.14915,     0.15015,     0.15115,     0.15215,     0.15315,     0.15415,     0.15516,     0.15616,     0.15716,     0.15816,     0.15916,     0.16016,     0.16116,     0.16216,     0.16316,     0.16416,     0.16517,     0.16617,     0.16717,\n",
              "           0.16817,     0.16917,     0.17017,     0.17117,     0.17217,     0.17317,     0.17417,     0.17518,     0.17618,     0.17718,     0.17818,     0.17918,     0.18018,     0.18118,     0.18218,     0.18318,     0.18418,     0.18519,     0.18619,     0.18719,     0.18819,     0.18919,     0.19019,     0.19119,\n",
              "           0.19219,     0.19319,     0.19419,      0.1952,      0.1962,      0.1972,      0.1982,      0.1992,      0.2002,      0.2012,      0.2022,      0.2032,      0.2042,     0.20521,     0.20621,     0.20721,     0.20821,     0.20921,     0.21021,     0.21121,     0.21221,     0.21321,     0.21421,     0.21522,\n",
              "           0.21622,     0.21722,     0.21822,     0.21922,     0.22022,     0.22122,     0.22222,     0.22322,     0.22422,     0.22523,     0.22623,     0.22723,     0.22823,     0.22923,     0.23023,     0.23123,     0.23223,     0.23323,     0.23423,     0.23524,     0.23624,     0.23724,     0.23824,     0.23924,\n",
              "           0.24024,     0.24124,     0.24224,     0.24324,     0.24424,     0.24525,     0.24625,     0.24725,     0.24825,     0.24925,     0.25025,     0.25125,     0.25225,     0.25325,     0.25425,     0.25526,     0.25626,     0.25726,     0.25826,     0.25926,     0.26026,     0.26126,     0.26226,     0.26326,\n",
              "           0.26426,     0.26527,     0.26627,     0.26727,     0.26827,     0.26927,     0.27027,     0.27127,     0.27227,     0.27327,     0.27427,     0.27528,     0.27628,     0.27728,     0.27828,     0.27928,     0.28028,     0.28128,     0.28228,     0.28328,     0.28428,     0.28529,     0.28629,     0.28729,\n",
              "           0.28829,     0.28929,     0.29029,     0.29129,     0.29229,     0.29329,     0.29429,      0.2953,      0.2963,      0.2973,      0.2983,      0.2993,      0.3003,      0.3013,      0.3023,      0.3033,      0.3043,     0.30531,     0.30631,     0.30731,     0.30831,     0.30931,     0.31031,     0.31131,\n",
              "           0.31231,     0.31331,     0.31431,     0.31532,     0.31632,     0.31732,     0.31832,     0.31932,     0.32032,     0.32132,     0.32232,     0.32332,     0.32432,     0.32533,     0.32633,     0.32733,     0.32833,     0.32933,     0.33033,     0.33133,     0.33233,     0.33333,     0.33433,     0.33534,\n",
              "           0.33634,     0.33734,     0.33834,     0.33934,     0.34034,     0.34134,     0.34234,     0.34334,     0.34434,     0.34535,     0.34635,     0.34735,     0.34835,     0.34935,     0.35035,     0.35135,     0.35235,     0.35335,     0.35435,     0.35536,     0.35636,     0.35736,     0.35836,     0.35936,\n",
              "           0.36036,     0.36136,     0.36236,     0.36336,     0.36436,     0.36537,     0.36637,     0.36737,     0.36837,     0.36937,     0.37037,     0.37137,     0.37237,     0.37337,     0.37437,     0.37538,     0.37638,     0.37738,     0.37838,     0.37938,     0.38038,     0.38138,     0.38238,     0.38338,\n",
              "           0.38438,     0.38539,     0.38639,     0.38739,     0.38839,     0.38939,     0.39039,     0.39139,     0.39239,     0.39339,     0.39439,      0.3954,      0.3964,      0.3974,      0.3984,      0.3994,      0.4004,      0.4014,      0.4024,      0.4034,      0.4044,     0.40541,     0.40641,     0.40741,\n",
              "           0.40841,     0.40941,     0.41041,     0.41141,     0.41241,     0.41341,     0.41441,     0.41542,     0.41642,     0.41742,     0.41842,     0.41942,     0.42042,     0.42142,     0.42242,     0.42342,     0.42442,     0.42543,     0.42643,     0.42743,     0.42843,     0.42943,     0.43043,     0.43143,\n",
              "           0.43243,     0.43343,     0.43443,     0.43544,     0.43644,     0.43744,     0.43844,     0.43944,     0.44044,     0.44144,     0.44244,     0.44344,     0.44444,     0.44545,     0.44645,     0.44745,     0.44845,     0.44945,     0.45045,     0.45145,     0.45245,     0.45345,     0.45445,     0.45546,\n",
              "           0.45646,     0.45746,     0.45846,     0.45946,     0.46046,     0.46146,     0.46246,     0.46346,     0.46446,     0.46547,     0.46647,     0.46747,     0.46847,     0.46947,     0.47047,     0.47147,     0.47247,     0.47347,     0.47447,     0.47548,     0.47648,     0.47748,     0.47848,     0.47948,\n",
              "           0.48048,     0.48148,     0.48248,     0.48348,     0.48448,     0.48549,     0.48649,     0.48749,     0.48849,     0.48949,     0.49049,     0.49149,     0.49249,     0.49349,     0.49449,      0.4955,      0.4965,      0.4975,      0.4985,      0.4995,      0.5005,      0.5015,      0.5025,      0.5035,\n",
              "            0.5045,     0.50551,     0.50651,     0.50751,     0.50851,     0.50951,     0.51051,     0.51151,     0.51251,     0.51351,     0.51451,     0.51552,     0.51652,     0.51752,     0.51852,     0.51952,     0.52052,     0.52152,     0.52252,     0.52352,     0.52452,     0.52553,     0.52653,     0.52753,\n",
              "           0.52853,     0.52953,     0.53053,     0.53153,     0.53253,     0.53353,     0.53453,     0.53554,     0.53654,     0.53754,     0.53854,     0.53954,     0.54054,     0.54154,     0.54254,     0.54354,     0.54454,     0.54555,     0.54655,     0.54755,     0.54855,     0.54955,     0.55055,     0.55155,\n",
              "           0.55255,     0.55355,     0.55455,     0.55556,     0.55656,     0.55756,     0.55856,     0.55956,     0.56056,     0.56156,     0.56256,     0.56356,     0.56456,     0.56557,     0.56657,     0.56757,     0.56857,     0.56957,     0.57057,     0.57157,     0.57257,     0.57357,     0.57457,     0.57558,\n",
              "           0.57658,     0.57758,     0.57858,     0.57958,     0.58058,     0.58158,     0.58258,     0.58358,     0.58458,     0.58559,     0.58659,     0.58759,     0.58859,     0.58959,     0.59059,     0.59159,     0.59259,     0.59359,     0.59459,      0.5956,      0.5966,      0.5976,      0.5986,      0.5996,\n",
              "            0.6006,      0.6016,      0.6026,      0.6036,      0.6046,     0.60561,     0.60661,     0.60761,     0.60861,     0.60961,     0.61061,     0.61161,     0.61261,     0.61361,     0.61461,     0.61562,     0.61662,     0.61762,     0.61862,     0.61962,     0.62062,     0.62162,     0.62262,     0.62362,\n",
              "           0.62462,     0.62563,     0.62663,     0.62763,     0.62863,     0.62963,     0.63063,     0.63163,     0.63263,     0.63363,     0.63463,     0.63564,     0.63664,     0.63764,     0.63864,     0.63964,     0.64064,     0.64164,     0.64264,     0.64364,     0.64464,     0.64565,     0.64665,     0.64765,\n",
              "           0.64865,     0.64965,     0.65065,     0.65165,     0.65265,     0.65365,     0.65465,     0.65566,     0.65666,     0.65766,     0.65866,     0.65966,     0.66066,     0.66166,     0.66266,     0.66366,     0.66466,     0.66567,     0.66667,     0.66767,     0.66867,     0.66967,     0.67067,     0.67167,\n",
              "           0.67267,     0.67367,     0.67467,     0.67568,     0.67668,     0.67768,     0.67868,     0.67968,     0.68068,     0.68168,     0.68268,     0.68368,     0.68468,     0.68569,     0.68669,     0.68769,     0.68869,     0.68969,     0.69069,     0.69169,     0.69269,     0.69369,     0.69469,      0.6957,\n",
              "            0.6967,      0.6977,      0.6987,      0.6997,      0.7007,      0.7017,      0.7027,      0.7037,      0.7047,     0.70571,     0.70671,     0.70771,     0.70871,     0.70971,     0.71071,     0.71171,     0.71271,     0.71371,     0.71471,     0.71572,     0.71672,     0.71772,     0.71872,     0.71972,\n",
              "           0.72072,     0.72172,     0.72272,     0.72372,     0.72472,     0.72573,     0.72673,     0.72773,     0.72873,     0.72973,     0.73073,     0.73173,     0.73273,     0.73373,     0.73473,     0.73574,     0.73674,     0.73774,     0.73874,     0.73974,     0.74074,     0.74174,     0.74274,     0.74374,\n",
              "           0.74474,     0.74575,     0.74675,     0.74775,     0.74875,     0.74975,     0.75075,     0.75175,     0.75275,     0.75375,     0.75475,     0.75576,     0.75676,     0.75776,     0.75876,     0.75976,     0.76076,     0.76176,     0.76276,     0.76376,     0.76476,     0.76577,     0.76677,     0.76777,\n",
              "           0.76877,     0.76977,     0.77077,     0.77177,     0.77277,     0.77377,     0.77477,     0.77578,     0.77678,     0.77778,     0.77878,     0.77978,     0.78078,     0.78178,     0.78278,     0.78378,     0.78478,     0.78579,     0.78679,     0.78779,     0.78879,     0.78979,     0.79079,     0.79179,\n",
              "           0.79279,     0.79379,     0.79479,      0.7958,      0.7968,      0.7978,      0.7988,      0.7998,      0.8008,      0.8018,      0.8028,      0.8038,      0.8048,     0.80581,     0.80681,     0.80781,     0.80881,     0.80981,     0.81081,     0.81181,     0.81281,     0.81381,     0.81481,     0.81582,\n",
              "           0.81682,     0.81782,     0.81882,     0.81982,     0.82082,     0.82182,     0.82282,     0.82382,     0.82482,     0.82583,     0.82683,     0.82783,     0.82883,     0.82983,     0.83083,     0.83183,     0.83283,     0.83383,     0.83483,     0.83584,     0.83684,     0.83784,     0.83884,     0.83984,\n",
              "           0.84084,     0.84184,     0.84284,     0.84384,     0.84484,     0.84585,     0.84685,     0.84785,     0.84885,     0.84985,     0.85085,     0.85185,     0.85285,     0.85385,     0.85485,     0.85586,     0.85686,     0.85786,     0.85886,     0.85986,     0.86086,     0.86186,     0.86286,     0.86386,\n",
              "           0.86486,     0.86587,     0.86687,     0.86787,     0.86887,     0.86987,     0.87087,     0.87187,     0.87287,     0.87387,     0.87487,     0.87588,     0.87688,     0.87788,     0.87888,     0.87988,     0.88088,     0.88188,     0.88288,     0.88388,     0.88488,     0.88589,     0.88689,     0.88789,\n",
              "           0.88889,     0.88989,     0.89089,     0.89189,     0.89289,     0.89389,     0.89489,      0.8959,      0.8969,      0.8979,      0.8989,      0.8999,      0.9009,      0.9019,      0.9029,      0.9039,      0.9049,     0.90591,     0.90691,     0.90791,     0.90891,     0.90991,     0.91091,     0.91191,\n",
              "           0.91291,     0.91391,     0.91491,     0.91592,     0.91692,     0.91792,     0.91892,     0.91992,     0.92092,     0.92192,     0.92292,     0.92392,     0.92492,     0.92593,     0.92693,     0.92793,     0.92893,     0.92993,     0.93093,     0.93193,     0.93293,     0.93393,     0.93493,     0.93594,\n",
              "           0.93694,     0.93794,     0.93894,     0.93994,     0.94094,     0.94194,     0.94294,     0.94394,     0.94494,     0.94595,     0.94695,     0.94795,     0.94895,     0.94995,     0.95095,     0.95195,     0.95295,     0.95395,     0.95495,     0.95596,     0.95696,     0.95796,     0.95896,     0.95996,\n",
              "           0.96096,     0.96196,     0.96296,     0.96396,     0.96496,     0.96597,     0.96697,     0.96797,     0.96897,     0.96997,     0.97097,     0.97197,     0.97297,     0.97397,     0.97497,     0.97598,     0.97698,     0.97798,     0.97898,     0.97998,     0.98098,     0.98198,     0.98298,     0.98398,\n",
              "           0.98498,     0.98599,     0.98699,     0.98799,     0.98899,     0.98999,     0.99099,     0.99199,     0.99299,     0.99399,     0.99499,       0.996,       0.997,       0.998,       0.999,           1]), array([[    0.84483,     0.84483,     0.84483, ...,           0,           0,           0],\n",
              "       [    0.94005,     0.94005,     0.94005, ...,           0,           0,           0]]), 'Confidence', 'Recall']]\n",
              "f1: array([    0.51002,      0.6795])\n",
              "f1_curve: array([[   0.061021,    0.061021,    0.062428, ...,           0,           0,           0],\n",
              "       [    0.16682,     0.16682,     0.17042, ...,           0,           0,           0]])\n",
              "map: np.float64(0.28886712897501976)\n",
              "map50: np.float64(0.5971192128868948)\n",
              "map75: np.float64(0.24133384142815018)\n",
              "maps: array([    0.24141,     0.33633])\n",
              "mp: np.float64(0.5638227105323793)\n",
              "mr: np.float64(0.6310696692470092)\n",
              "nc: 2\n",
              "p: array([    0.50299,     0.62466])\n",
              "p_curve: array([[   0.031654,    0.031654,    0.032412, ...,           1,           1,           1],\n",
              "       [    0.09153,     0.09153,    0.093704, ...,           1,           1,           1]])\n",
              "prec_values: array([[          1,           1,           1, ...,  0.00040839,   0.0002042,           0],\n",
              "       [          1,           1,           1, ...,   0.0030567,   0.0015283,           0]])\n",
              "px: array([          0,    0.001001,    0.002002,    0.003003,    0.004004,    0.005005,    0.006006,    0.007007,    0.008008,    0.009009,     0.01001,    0.011011,    0.012012,    0.013013,    0.014014,    0.015015,    0.016016,    0.017017,    0.018018,    0.019019,     0.02002,    0.021021,    0.022022,    0.023023,\n",
              "          0.024024,    0.025025,    0.026026,    0.027027,    0.028028,    0.029029,     0.03003,    0.031031,    0.032032,    0.033033,    0.034034,    0.035035,    0.036036,    0.037037,    0.038038,    0.039039,     0.04004,    0.041041,    0.042042,    0.043043,    0.044044,    0.045045,    0.046046,    0.047047,\n",
              "          0.048048,    0.049049,     0.05005,    0.051051,    0.052052,    0.053053,    0.054054,    0.055055,    0.056056,    0.057057,    0.058058,    0.059059,     0.06006,    0.061061,    0.062062,    0.063063,    0.064064,    0.065065,    0.066066,    0.067067,    0.068068,    0.069069,     0.07007,    0.071071,\n",
              "          0.072072,    0.073073,    0.074074,    0.075075,    0.076076,    0.077077,    0.078078,    0.079079,     0.08008,    0.081081,    0.082082,    0.083083,    0.084084,    0.085085,    0.086086,    0.087087,    0.088088,    0.089089,     0.09009,    0.091091,    0.092092,    0.093093,    0.094094,    0.095095,\n",
              "          0.096096,    0.097097,    0.098098,    0.099099,      0.1001,      0.1011,      0.1021,      0.1031,      0.1041,     0.10511,     0.10611,     0.10711,     0.10811,     0.10911,     0.11011,     0.11111,     0.11211,     0.11311,     0.11411,     0.11512,     0.11612,     0.11712,     0.11812,     0.11912,\n",
              "           0.12012,     0.12112,     0.12212,     0.12312,     0.12412,     0.12513,     0.12613,     0.12713,     0.12813,     0.12913,     0.13013,     0.13113,     0.13213,     0.13313,     0.13413,     0.13514,     0.13614,     0.13714,     0.13814,     0.13914,     0.14014,     0.14114,     0.14214,     0.14314,\n",
              "           0.14414,     0.14515,     0.14615,     0.14715,     0.14815,     0.14915,     0.15015,     0.15115,     0.15215,     0.15315,     0.15415,     0.15516,     0.15616,     0.15716,     0.15816,     0.15916,     0.16016,     0.16116,     0.16216,     0.16316,     0.16416,     0.16517,     0.16617,     0.16717,\n",
              "           0.16817,     0.16917,     0.17017,     0.17117,     0.17217,     0.17317,     0.17417,     0.17518,     0.17618,     0.17718,     0.17818,     0.17918,     0.18018,     0.18118,     0.18218,     0.18318,     0.18418,     0.18519,     0.18619,     0.18719,     0.18819,     0.18919,     0.19019,     0.19119,\n",
              "           0.19219,     0.19319,     0.19419,      0.1952,      0.1962,      0.1972,      0.1982,      0.1992,      0.2002,      0.2012,      0.2022,      0.2032,      0.2042,     0.20521,     0.20621,     0.20721,     0.20821,     0.20921,     0.21021,     0.21121,     0.21221,     0.21321,     0.21421,     0.21522,\n",
              "           0.21622,     0.21722,     0.21822,     0.21922,     0.22022,     0.22122,     0.22222,     0.22322,     0.22422,     0.22523,     0.22623,     0.22723,     0.22823,     0.22923,     0.23023,     0.23123,     0.23223,     0.23323,     0.23423,     0.23524,     0.23624,     0.23724,     0.23824,     0.23924,\n",
              "           0.24024,     0.24124,     0.24224,     0.24324,     0.24424,     0.24525,     0.24625,     0.24725,     0.24825,     0.24925,     0.25025,     0.25125,     0.25225,     0.25325,     0.25425,     0.25526,     0.25626,     0.25726,     0.25826,     0.25926,     0.26026,     0.26126,     0.26226,     0.26326,\n",
              "           0.26426,     0.26527,     0.26627,     0.26727,     0.26827,     0.26927,     0.27027,     0.27127,     0.27227,     0.27327,     0.27427,     0.27528,     0.27628,     0.27728,     0.27828,     0.27928,     0.28028,     0.28128,     0.28228,     0.28328,     0.28428,     0.28529,     0.28629,     0.28729,\n",
              "           0.28829,     0.28929,     0.29029,     0.29129,     0.29229,     0.29329,     0.29429,      0.2953,      0.2963,      0.2973,      0.2983,      0.2993,      0.3003,      0.3013,      0.3023,      0.3033,      0.3043,     0.30531,     0.30631,     0.30731,     0.30831,     0.30931,     0.31031,     0.31131,\n",
              "           0.31231,     0.31331,     0.31431,     0.31532,     0.31632,     0.31732,     0.31832,     0.31932,     0.32032,     0.32132,     0.32232,     0.32332,     0.32432,     0.32533,     0.32633,     0.32733,     0.32833,     0.32933,     0.33033,     0.33133,     0.33233,     0.33333,     0.33433,     0.33534,\n",
              "           0.33634,     0.33734,     0.33834,     0.33934,     0.34034,     0.34134,     0.34234,     0.34334,     0.34434,     0.34535,     0.34635,     0.34735,     0.34835,     0.34935,     0.35035,     0.35135,     0.35235,     0.35335,     0.35435,     0.35536,     0.35636,     0.35736,     0.35836,     0.35936,\n",
              "           0.36036,     0.36136,     0.36236,     0.36336,     0.36436,     0.36537,     0.36637,     0.36737,     0.36837,     0.36937,     0.37037,     0.37137,     0.37237,     0.37337,     0.37437,     0.37538,     0.37638,     0.37738,     0.37838,     0.37938,     0.38038,     0.38138,     0.38238,     0.38338,\n",
              "           0.38438,     0.38539,     0.38639,     0.38739,     0.38839,     0.38939,     0.39039,     0.39139,     0.39239,     0.39339,     0.39439,      0.3954,      0.3964,      0.3974,      0.3984,      0.3994,      0.4004,      0.4014,      0.4024,      0.4034,      0.4044,     0.40541,     0.40641,     0.40741,\n",
              "           0.40841,     0.40941,     0.41041,     0.41141,     0.41241,     0.41341,     0.41441,     0.41542,     0.41642,     0.41742,     0.41842,     0.41942,     0.42042,     0.42142,     0.42242,     0.42342,     0.42442,     0.42543,     0.42643,     0.42743,     0.42843,     0.42943,     0.43043,     0.43143,\n",
              "           0.43243,     0.43343,     0.43443,     0.43544,     0.43644,     0.43744,     0.43844,     0.43944,     0.44044,     0.44144,     0.44244,     0.44344,     0.44444,     0.44545,     0.44645,     0.44745,     0.44845,     0.44945,     0.45045,     0.45145,     0.45245,     0.45345,     0.45445,     0.45546,\n",
              "           0.45646,     0.45746,     0.45846,     0.45946,     0.46046,     0.46146,     0.46246,     0.46346,     0.46446,     0.46547,     0.46647,     0.46747,     0.46847,     0.46947,     0.47047,     0.47147,     0.47247,     0.47347,     0.47447,     0.47548,     0.47648,     0.47748,     0.47848,     0.47948,\n",
              "           0.48048,     0.48148,     0.48248,     0.48348,     0.48448,     0.48549,     0.48649,     0.48749,     0.48849,     0.48949,     0.49049,     0.49149,     0.49249,     0.49349,     0.49449,      0.4955,      0.4965,      0.4975,      0.4985,      0.4995,      0.5005,      0.5015,      0.5025,      0.5035,\n",
              "            0.5045,     0.50551,     0.50651,     0.50751,     0.50851,     0.50951,     0.51051,     0.51151,     0.51251,     0.51351,     0.51451,     0.51552,     0.51652,     0.51752,     0.51852,     0.51952,     0.52052,     0.52152,     0.52252,     0.52352,     0.52452,     0.52553,     0.52653,     0.52753,\n",
              "           0.52853,     0.52953,     0.53053,     0.53153,     0.53253,     0.53353,     0.53453,     0.53554,     0.53654,     0.53754,     0.53854,     0.53954,     0.54054,     0.54154,     0.54254,     0.54354,     0.54454,     0.54555,     0.54655,     0.54755,     0.54855,     0.54955,     0.55055,     0.55155,\n",
              "           0.55255,     0.55355,     0.55455,     0.55556,     0.55656,     0.55756,     0.55856,     0.55956,     0.56056,     0.56156,     0.56256,     0.56356,     0.56456,     0.56557,     0.56657,     0.56757,     0.56857,     0.56957,     0.57057,     0.57157,     0.57257,     0.57357,     0.57457,     0.57558,\n",
              "           0.57658,     0.57758,     0.57858,     0.57958,     0.58058,     0.58158,     0.58258,     0.58358,     0.58458,     0.58559,     0.58659,     0.58759,     0.58859,     0.58959,     0.59059,     0.59159,     0.59259,     0.59359,     0.59459,      0.5956,      0.5966,      0.5976,      0.5986,      0.5996,\n",
              "            0.6006,      0.6016,      0.6026,      0.6036,      0.6046,     0.60561,     0.60661,     0.60761,     0.60861,     0.60961,     0.61061,     0.61161,     0.61261,     0.61361,     0.61461,     0.61562,     0.61662,     0.61762,     0.61862,     0.61962,     0.62062,     0.62162,     0.62262,     0.62362,\n",
              "           0.62462,     0.62563,     0.62663,     0.62763,     0.62863,     0.62963,     0.63063,     0.63163,     0.63263,     0.63363,     0.63463,     0.63564,     0.63664,     0.63764,     0.63864,     0.63964,     0.64064,     0.64164,     0.64264,     0.64364,     0.64464,     0.64565,     0.64665,     0.64765,\n",
              "           0.64865,     0.64965,     0.65065,     0.65165,     0.65265,     0.65365,     0.65465,     0.65566,     0.65666,     0.65766,     0.65866,     0.65966,     0.66066,     0.66166,     0.66266,     0.66366,     0.66466,     0.66567,     0.66667,     0.66767,     0.66867,     0.66967,     0.67067,     0.67167,\n",
              "           0.67267,     0.67367,     0.67467,     0.67568,     0.67668,     0.67768,     0.67868,     0.67968,     0.68068,     0.68168,     0.68268,     0.68368,     0.68468,     0.68569,     0.68669,     0.68769,     0.68869,     0.68969,     0.69069,     0.69169,     0.69269,     0.69369,     0.69469,      0.6957,\n",
              "            0.6967,      0.6977,      0.6987,      0.6997,      0.7007,      0.7017,      0.7027,      0.7037,      0.7047,     0.70571,     0.70671,     0.70771,     0.70871,     0.70971,     0.71071,     0.71171,     0.71271,     0.71371,     0.71471,     0.71572,     0.71672,     0.71772,     0.71872,     0.71972,\n",
              "           0.72072,     0.72172,     0.72272,     0.72372,     0.72472,     0.72573,     0.72673,     0.72773,     0.72873,     0.72973,     0.73073,     0.73173,     0.73273,     0.73373,     0.73473,     0.73574,     0.73674,     0.73774,     0.73874,     0.73974,     0.74074,     0.74174,     0.74274,     0.74374,\n",
              "           0.74474,     0.74575,     0.74675,     0.74775,     0.74875,     0.74975,     0.75075,     0.75175,     0.75275,     0.75375,     0.75475,     0.75576,     0.75676,     0.75776,     0.75876,     0.75976,     0.76076,     0.76176,     0.76276,     0.76376,     0.76476,     0.76577,     0.76677,     0.76777,\n",
              "           0.76877,     0.76977,     0.77077,     0.77177,     0.77277,     0.77377,     0.77477,     0.77578,     0.77678,     0.77778,     0.77878,     0.77978,     0.78078,     0.78178,     0.78278,     0.78378,     0.78478,     0.78579,     0.78679,     0.78779,     0.78879,     0.78979,     0.79079,     0.79179,\n",
              "           0.79279,     0.79379,     0.79479,      0.7958,      0.7968,      0.7978,      0.7988,      0.7998,      0.8008,      0.8018,      0.8028,      0.8038,      0.8048,     0.80581,     0.80681,     0.80781,     0.80881,     0.80981,     0.81081,     0.81181,     0.81281,     0.81381,     0.81481,     0.81582,\n",
              "           0.81682,     0.81782,     0.81882,     0.81982,     0.82082,     0.82182,     0.82282,     0.82382,     0.82482,     0.82583,     0.82683,     0.82783,     0.82883,     0.82983,     0.83083,     0.83183,     0.83283,     0.83383,     0.83483,     0.83584,     0.83684,     0.83784,     0.83884,     0.83984,\n",
              "           0.84084,     0.84184,     0.84284,     0.84384,     0.84484,     0.84585,     0.84685,     0.84785,     0.84885,     0.84985,     0.85085,     0.85185,     0.85285,     0.85385,     0.85485,     0.85586,     0.85686,     0.85786,     0.85886,     0.85986,     0.86086,     0.86186,     0.86286,     0.86386,\n",
              "           0.86486,     0.86587,     0.86687,     0.86787,     0.86887,     0.86987,     0.87087,     0.87187,     0.87287,     0.87387,     0.87487,     0.87588,     0.87688,     0.87788,     0.87888,     0.87988,     0.88088,     0.88188,     0.88288,     0.88388,     0.88488,     0.88589,     0.88689,     0.88789,\n",
              "           0.88889,     0.88989,     0.89089,     0.89189,     0.89289,     0.89389,     0.89489,      0.8959,      0.8969,      0.8979,      0.8989,      0.8999,      0.9009,      0.9019,      0.9029,      0.9039,      0.9049,     0.90591,     0.90691,     0.90791,     0.90891,     0.90991,     0.91091,     0.91191,\n",
              "           0.91291,     0.91391,     0.91491,     0.91592,     0.91692,     0.91792,     0.91892,     0.91992,     0.92092,     0.92192,     0.92292,     0.92392,     0.92492,     0.92593,     0.92693,     0.92793,     0.92893,     0.92993,     0.93093,     0.93193,     0.93293,     0.93393,     0.93493,     0.93594,\n",
              "           0.93694,     0.93794,     0.93894,     0.93994,     0.94094,     0.94194,     0.94294,     0.94394,     0.94494,     0.94595,     0.94695,     0.94795,     0.94895,     0.94995,     0.95095,     0.95195,     0.95295,     0.95395,     0.95495,     0.95596,     0.95696,     0.95796,     0.95896,     0.95996,\n",
              "           0.96096,     0.96196,     0.96296,     0.96396,     0.96496,     0.96597,     0.96697,     0.96797,     0.96897,     0.96997,     0.97097,     0.97197,     0.97297,     0.97397,     0.97497,     0.97598,     0.97698,     0.97798,     0.97898,     0.97998,     0.98098,     0.98198,     0.98298,     0.98398,\n",
              "           0.98498,     0.98599,     0.98699,     0.98799,     0.98899,     0.98999,     0.99099,     0.99199,     0.99299,     0.99399,     0.99499,       0.996,       0.997,       0.998,       0.999,           1])\n",
              "r: array([    0.51724,      0.7449])\n",
              "r_curve: array([[    0.84483,     0.84483,     0.84483, ...,           0,           0,           0],\n",
              "       [    0.94005,     0.94005,     0.94005, ...,           0,           0,           0]])>"
            ],
            "text/html": [
              "<div style=\"max-width:800px; border: 1px solid var(--colab-border-color);\"><style>\n",
              "      pre.function-repr-contents {\n",
              "        overflow-x: auto;\n",
              "        padding: 8px 12px;\n",
              "        max-height: 500px;\n",
              "      }\n",
              "\n",
              "      pre.function-repr-contents.function-repr-contents-collapsed {\n",
              "        cursor: pointer;\n",
              "        max-height: 100px;\n",
              "      }\n",
              "    </style>\n",
              "    <pre style=\"white-space: initial; background:\n",
              "         var(--colab-secondary-surface-color); padding: 8px 12px;\n",
              "         border-bottom: 1px solid var(--colab-border-color);\"><b>ultralytics.utils.metrics.Metric.fitness</b><br/>def fitness() -&gt; float</pre><pre class=\"function-repr-contents function-repr-contents-collapsed\" style=\"\"><a class=\"filepath\" style=\"display:none\" href=\"#\">/usr/local/lib/python3.11/dist-packages/ultralytics/utils/metrics.py</a>Return model fitness as a weighted combination of metrics.</pre>\n",
              "      <script>\n",
              "      if (google.colab.kernel.accessAllowed && google.colab.files && google.colab.files.view) {\n",
              "        for (const element of document.querySelectorAll('.filepath')) {\n",
              "          element.style.display = 'block'\n",
              "          element.onclick = (event) => {\n",
              "            event.preventDefault();\n",
              "            event.stopPropagation();\n",
              "            google.colab.files.view(element.textContent, 981);\n",
              "          };\n",
              "        }\n",
              "      }\n",
              "      for (const element of document.querySelectorAll('.function-repr-contents')) {\n",
              "        element.onclick = (event) => {\n",
              "          event.preventDefault();\n",
              "          event.stopPropagation();\n",
              "          element.classList.toggle('function-repr-contents-collapsed');\n",
              "        };\n",
              "      }\n",
              "      </script>\n",
              "      </div>"
            ]
          },
          "metadata": {},
          "execution_count": 17
        }
      ]
    },
    {
      "cell_type": "markdown",
      "source": [
        "## Use trained model for inference"
      ],
      "metadata": {
        "id": "u4vMkNPurNXr"
      },
      "id": "u4vMkNPurNXr"
    },
    {
      "cell_type": "code",
      "source": [
        "os"
      ],
      "metadata": {
        "id": "vqrUhrtA2d9C",
        "outputId": "5c8ca7d3-64fc-4025-a002-69b529bf1961",
        "colab": {
          "base_uri": "https://localhost:8080/"
        }
      },
      "id": "vqrUhrtA2d9C",
      "execution_count": 13,
      "outputs": [
        {
          "output_type": "execute_result",
          "data": {
            "text/plain": [
              "<module 'os' (frozen)>"
            ]
          },
          "metadata": {},
          "execution_count": 13
        }
      ]
    },
    {
      "cell_type": "code",
      "source": [
        "images_inference = ['/content/images_inference/'+filename for filename in os.listdir(\"/content/images_inference\")]\n",
        "images_inference"
      ],
      "metadata": {
        "id": "D0403gEu2I8f",
        "outputId": "77637c47-ee13-4ced-b0a0-b390475df8db",
        "colab": {
          "base_uri": "https://localhost:8080/"
        }
      },
      "id": "D0403gEu2I8f",
      "execution_count": 17,
      "outputs": [
        {
          "output_type": "execute_result",
          "data": {
            "text/plain": [
              "['/content/images_inference/Pre_Event_tile_1_68.jpg',\n",
              " '/content/images_inference/Pre_Event_tile_0_51.jpg',\n",
              " '/content/images_inference/Pre_Event_tile_0_76.jpg',\n",
              " '/content/images_inference/Pre_Event_tile_1_80.jpg',\n",
              " '/content/images_inference/Pre_Event_tile_1_58.jpg',\n",
              " '/content/images_inference/Pre_Event_tile_0_92.jpg',\n",
              " '/content/images_inference/Pre_Event_tile_1_34.jpg',\n",
              " '/content/images_inference/Pre_Event_tile_0_14.jpg',\n",
              " '/content/images_inference/Pre_Event_tile_1_92.jpg',\n",
              " '/content/images_inference/Pre_Event_tile_0_96.jpg',\n",
              " '/content/images_inference/Pre_Event_tile_0_25.jpg',\n",
              " '/content/images_inference/Pre_Event_tile_1_4.jpg',\n",
              " '/content/images_inference/Pre_Event_tile_0_0.jpg',\n",
              " '/content/images_inference/Pre_Event_tile_0_41.jpg',\n",
              " '/content/images_inference/Pre_Event_tile_1_75.jpg',\n",
              " '/content/images_inference/Pre_Event_tile_1_95.jpg',\n",
              " '/content/images_inference/Pre_Event_tile_0_86.jpg',\n",
              " '/content/images_inference/Pre_Event_tile_0_11.jpg',\n",
              " '/content/images_inference/Pre_Event_tile_0_87.jpg',\n",
              " '/content/images_inference/Pre_Event_tile_0_52.jpg',\n",
              " '/content/images_inference/Pre_Event_tile_0_47.jpg',\n",
              " '/content/images_inference/Pre_Event_tile_0_45.jpg',\n",
              " '/content/images_inference/Pre_Event_tile_0_35.jpg',\n",
              " '/content/images_inference/Pre_Event_tile_1_57.jpg',\n",
              " '/content/images_inference/Pre_Event_tile_0_67.jpg',\n",
              " '/content/images_inference/Pre_Event_tile_1_78.jpg',\n",
              " '/content/images_inference/Pre_Event_tile_1_45.jpg',\n",
              " '/content/images_inference/Pre_Event_tile_1_104.jpg',\n",
              " '/content/images_inference/Pre_Event_tile_1_32.jpg',\n",
              " '/content/images_inference/Pre_Event_tile_0_20.jpg',\n",
              " '/content/images_inference/Pre_Event_tile_1_98.jpg',\n",
              " '/content/images_inference/Pre_Event_tile_1_109.jpg',\n",
              " '/content/images_inference/Pre_Event_tile_0_110.jpg',\n",
              " '/content/images_inference/Pre_Event_tile_1_87.jpg',\n",
              " '/content/images_inference/Pre_Event_tile_0_40.jpg',\n",
              " '/content/images_inference/Pre_Event_tile_0_98.jpg',\n",
              " '/content/images_inference/Pre_Event_tile_0_17.jpg',\n",
              " '/content/images_inference/Pre_Event_tile_1_3.jpg',\n",
              " '/content/images_inference/Pre_Event_tile_0_15.jpg',\n",
              " '/content/images_inference/Pre_Event_tile_0_1.jpg',\n",
              " '/content/images_inference/Pre_Event_tile_1_16.jpg',\n",
              " '/content/images_inference/Pre_Event_tile_1_59.jpg',\n",
              " '/content/images_inference/Pre_Event_tile_0_91.jpg',\n",
              " '/content/images_inference/Pre_Event_tile_1_28.jpg',\n",
              " '/content/images_inference/Pre_Event_tile_0_7.jpg',\n",
              " '/content/images_inference/Pre_Event_tile_1_90.jpg',\n",
              " '/content/images_inference/Pre_Event_tile_0_99.jpg',\n",
              " '/content/images_inference/Pre_Event_tile_1_46.jpg',\n",
              " '/content/images_inference/Pre_Event_tile_1_96.jpg',\n",
              " '/content/images_inference/Pre_Event_tile_1_53.jpg',\n",
              " '/content/images_inference/Pre_Event_tile_0_32.jpg',\n",
              " '/content/images_inference/Pre_Event_tile_1_101.jpg',\n",
              " '/content/images_inference/Pre_Event_tile_1_112.jpg',\n",
              " '/content/images_inference/Pre_Event_tile_0_29.jpg',\n",
              " '/content/images_inference/Pre_Event_tile_1_10.jpg',\n",
              " '/content/images_inference/Pre_Event_tile_0_37.jpg',\n",
              " '/content/images_inference/Pre_Event_tile_1_12.jpg',\n",
              " '/content/images_inference/Pre_Event_tile_1_91.jpg',\n",
              " '/content/images_inference/Pre_Event_tile_0_74.jpg',\n",
              " '/content/images_inference/Pre_Event_tile_1_21.jpg',\n",
              " '/content/images_inference/Pre_Event_tile_1_102.jpg',\n",
              " '/content/images_inference/Pre_Event_tile_1_70.jpg',\n",
              " '/content/images_inference/Pre_Event_tile_0_24.jpg',\n",
              " '/content/images_inference/Pre_Event_tile_0_63.jpg',\n",
              " '/content/images_inference/Pre_Event_tile_0_10.jpg',\n",
              " '/content/images_inference/Pre_Event_tile_0_115.jpg',\n",
              " '/content/images_inference/Pre_Event_tile_1_56.jpg',\n",
              " '/content/images_inference/Pre_Event_tile_0_54.jpg',\n",
              " '/content/images_inference/Pre_Event_tile_1_63.jpg',\n",
              " '/content/images_inference/Pre_Event_tile_1_37.jpg',\n",
              " '/content/images_inference/Pre_Event_tile_0_57.jpg',\n",
              " '/content/images_inference/Pre_Event_tile_1_38.jpg',\n",
              " '/content/images_inference/Pre_Event_tile_0_22.jpg',\n",
              " '/content/images_inference/Pre_Event_tile_1_100.jpg',\n",
              " '/content/images_inference/Pre_Event_tile_1_114.jpg',\n",
              " '/content/images_inference/Pre_Event_tile_0_105.jpg',\n",
              " '/content/images_inference/Pre_Event_tile_0_83.jpg',\n",
              " '/content/images_inference/Pre_Event_tile_0_78.jpg',\n",
              " '/content/images_inference/Pre_Event_tile_1_84.jpg',\n",
              " '/content/images_inference/Pre_Event_tile_1_79.jpg',\n",
              " '/content/images_inference/Pre_Event_tile_1_19.jpg',\n",
              " '/content/images_inference/Pre_Event_tile_1_11.jpg',\n",
              " '/content/images_inference/Pre_Event_tile_1_31.jpg',\n",
              " '/content/images_inference/Pre_Event_tile_1_25.jpg',\n",
              " '/content/images_inference/Pre_Event_tile_1_50.jpg',\n",
              " '/content/images_inference/Pre_Event_tile_0_50.jpg',\n",
              " '/content/images_inference/Pre_Event_tile_0_88.jpg',\n",
              " '/content/images_inference/Pre_Event_tile_0_84.jpg',\n",
              " '/content/images_inference/Pre_Event_tile_0_30.jpg',\n",
              " '/content/images_inference/Pre_Event_tile_1_88.jpg',\n",
              " '/content/images_inference/Pre_Event_tile_1_20.jpg',\n",
              " '/content/images_inference/Pre_Event_tile_1_85.jpg',\n",
              " '/content/images_inference/Pre_Event_tile_1_106.jpg',\n",
              " '/content/images_inference/Pre_Event_tile_0_68.jpg',\n",
              " '/content/images_inference/Pre_Event_tile_1_55.jpg',\n",
              " '/content/images_inference/Pre_Event_tile_0_70.jpg',\n",
              " '/content/images_inference/Pre_Event_tile_0_9.jpg',\n",
              " '/content/images_inference/Pre_Event_tile_0_34.jpg',\n",
              " '/content/images_inference/Pre_Event_tile_0_109.jpg',\n",
              " '/content/images_inference/Pre_Event_tile_1_9.jpg',\n",
              " '/content/images_inference/Pre_Event_tile_0_111.jpg',\n",
              " '/content/images_inference/Pre_Event_tile_0_93.jpg',\n",
              " '/content/images_inference/Pre_Event_tile_1_41.jpg',\n",
              " '/content/images_inference/Pre_Event_tile_1_24.jpg',\n",
              " '/content/images_inference/Pre_Event_tile_1_39.jpg',\n",
              " '/content/images_inference/Pre_Event_tile_0_73.jpg',\n",
              " '/content/images_inference/Pre_Event_tile_0_112.jpg',\n",
              " '/content/images_inference/Pre_Event_tile_1_43.jpg',\n",
              " '/content/images_inference/Pre_Event_tile_1_115.jpg',\n",
              " '/content/images_inference/Pre_Event_tile_0_72.jpg',\n",
              " '/content/images_inference/Pre_Event_tile_0_90.jpg',\n",
              " '/content/images_inference/Pre_Event_tile_1_51.jpg',\n",
              " '/content/images_inference/Pre_Event_tile_0_108.jpg',\n",
              " '/content/images_inference/Pre_Event_tile_0_59.jpg',\n",
              " '/content/images_inference/Pre_Event_tile_0_48.jpg',\n",
              " '/content/images_inference/Pre_Event_tile_1_93.jpg',\n",
              " '/content/images_inference/Pre_Event_tile_0_114.jpg',\n",
              " '/content/images_inference/Pre_Event_tile_1_47.jpg',\n",
              " '/content/images_inference/Pre_Event_tile_0_19.jpg',\n",
              " '/content/images_inference/Pre_Event_tile_1_36.jpg',\n",
              " '/content/images_inference/Pre_Event_tile_0_12.jpg',\n",
              " '/content/images_inference/Pre_Event_tile_1_49.jpg',\n",
              " '/content/images_inference/Pre_Event_tile_0_33.jpg',\n",
              " '/content/images_inference/Pre_Event_tile_0_85.jpg',\n",
              " '/content/images_inference/Pre_Event_tile_1_15.jpg',\n",
              " '/content/images_inference/Pre_Event_tile_0_97.jpg',\n",
              " '/content/images_inference/Pre_Event_tile_1_2.jpg',\n",
              " '/content/images_inference/Pre_Event_tile_0_6.jpg',\n",
              " '/content/images_inference/Pre_Event_tile_1_62.jpg',\n",
              " '/content/images_inference/Pre_Event_tile_0_103.jpg',\n",
              " '/content/images_inference/Pre_Event_tile_1_97.jpg',\n",
              " '/content/images_inference/Pre_Event_tile_1_44.jpg',\n",
              " '/content/images_inference/Pre_Event_tile_0_5.jpg',\n",
              " '/content/images_inference/Pre_Event_tile_0_94.jpg',\n",
              " '/content/images_inference/Pre_Event_tile_0_113.jpg',\n",
              " '/content/images_inference/Pre_Event_tile_0_31.jpg',\n",
              " '/content/images_inference/Pre_Event_tile_1_1.jpg',\n",
              " '/content/images_inference/Pre_Event_tile_1_18.jpg',\n",
              " '/content/images_inference/Pre_Event_tile_1_48.jpg',\n",
              " '/content/images_inference/Pre_Event_tile_1_5.jpg',\n",
              " '/content/images_inference/Pre_Event_tile_1_103.jpg',\n",
              " '/content/images_inference/Pre_Event_tile_0_26.jpg',\n",
              " '/content/images_inference/Pre_Event_tile_1_71.jpg',\n",
              " '/content/images_inference/Pre_Event_tile_1_66.jpg',\n",
              " '/content/images_inference/Pre_Event_tile_1_29.jpg',\n",
              " '/content/images_inference/Pre_Event_tile_1_6.jpg',\n",
              " '/content/images_inference/Pre_Event_tile_0_38.jpg',\n",
              " '/content/images_inference/Pre_Event_tile_1_67.jpg',\n",
              " '/content/images_inference/Pre_Event_tile_0_53.jpg',\n",
              " '/content/images_inference/Pre_Event_tile_1_30.jpg',\n",
              " '/content/images_inference/Pre_Event_tile_0_42.jpg',\n",
              " '/content/images_inference/Pre_Event_tile_1_72.jpg',\n",
              " '/content/images_inference/Pre_Event_tile_1_0.jpg',\n",
              " '/content/images_inference/Pre_Event_tile_1_83.jpg',\n",
              " '/content/images_inference/Pre_Event_tile_1_110.jpg',\n",
              " '/content/images_inference/Pre_Event_tile_0_43.jpg',\n",
              " '/content/images_inference/Pre_Event_tile_0_2.jpg',\n",
              " '/content/images_inference/Pre_Event_tile_0_62.jpg',\n",
              " '/content/images_inference/Pre_Event_tile_1_35.jpg',\n",
              " '/content/images_inference/Pre_Event_tile_0_69.jpg',\n",
              " '/content/images_inference/Pre_Event_tile_1_61.jpg',\n",
              " '/content/images_inference/Pre_Event_tile_0_18.jpg',\n",
              " '/content/images_inference/Pre_Event_tile_0_75.jpg',\n",
              " '/content/images_inference/Pre_Event_tile_0_95.jpg',\n",
              " '/content/images_inference/Pre_Event_tile_0_36.jpg',\n",
              " '/content/images_inference/Pre_Event_tile_0_106.jpg',\n",
              " '/content/images_inference/Pre_Event_tile_0_3.jpg',\n",
              " '/content/images_inference/Pre_Event_tile_0_66.jpg',\n",
              " '/content/images_inference/Pre_Event_tile_0_21.jpg',\n",
              " '/content/images_inference/Pre_Event_tile_0_101.jpg',\n",
              " '/content/images_inference/Pre_Event_tile_0_61.jpg',\n",
              " '/content/images_inference/Pre_Event_tile_1_7.jpg',\n",
              " '/content/images_inference/Pre_Event_tile_0_104.jpg',\n",
              " '/content/images_inference/Pre_Event_tile_1_99.jpg',\n",
              " '/content/images_inference/Pre_Event_tile_0_65.jpg',\n",
              " '/content/images_inference/Pre_Event_tile_1_77.jpg',\n",
              " '/content/images_inference/Pre_Event_tile_1_113.jpg',\n",
              " '/content/images_inference/Pre_Event_tile_0_27.jpg',\n",
              " '/content/images_inference/Pre_Event_tile_1_108.jpg',\n",
              " '/content/images_inference/Pre_Event_tile_1_81.jpg',\n",
              " '/content/images_inference/Pre_Event_tile_1_52.jpg',\n",
              " '/content/images_inference/Pre_Event_tile_1_107.jpg',\n",
              " '/content/images_inference/Pre_Event_tile_1_33.jpg',\n",
              " '/content/images_inference/Pre_Event_tile_0_56.jpg',\n",
              " '/content/images_inference/Pre_Event_tile_0_71.jpg',\n",
              " '/content/images_inference/Pre_Event_tile_1_14.jpg',\n",
              " '/content/images_inference/Pre_Event_tile_0_58.jpg',\n",
              " '/content/images_inference/Pre_Event_tile_1_17.jpg',\n",
              " '/content/images_inference/Pre_Event_tile_1_60.jpg',\n",
              " '/content/images_inference/Pre_Event_tile_1_86.jpg',\n",
              " '/content/images_inference/Pre_Event_tile_0_13.jpg',\n",
              " '/content/images_inference/Pre_Event_tile_0_4.jpg',\n",
              " '/content/images_inference/Pre_Event_tile_0_46.jpg',\n",
              " '/content/images_inference/Pre_Event_tile_1_74.jpg',\n",
              " '/content/images_inference/Pre_Event_tile_0_39.jpg',\n",
              " '/content/images_inference/Pre_Event_tile_1_64.jpg',\n",
              " '/content/images_inference/Pre_Event_tile_1_94.jpg',\n",
              " '/content/images_inference/Pre_Event_tile_1_40.jpg',\n",
              " '/content/images_inference/Pre_Event_tile_0_55.jpg',\n",
              " '/content/images_inference/Pre_Event_tile_1_73.jpg',\n",
              " '/content/images_inference/Pre_Event_tile_1_76.jpg',\n",
              " '/content/images_inference/Pre_Event_tile_1_105.jpg',\n",
              " '/content/images_inference/Pre_Event_tile_0_102.jpg',\n",
              " '/content/images_inference/Pre_Event_tile_0_79.jpg',\n",
              " '/content/images_inference/Pre_Event_tile_1_27.jpg',\n",
              " '/content/images_inference/Pre_Event_tile_1_8.jpg',\n",
              " '/content/images_inference/Pre_Event_tile_0_100.jpg',\n",
              " '/content/images_inference/Pre_Event_tile_1_65.jpg',\n",
              " '/content/images_inference/Pre_Event_tile_0_28.jpg',\n",
              " '/content/images_inference/Pre_Event_tile_0_107.jpg',\n",
              " '/content/images_inference/Pre_Event_tile_1_69.jpg',\n",
              " '/content/images_inference/Pre_Event_tile_1_23.jpg',\n",
              " '/content/images_inference/Pre_Event_tile_0_49.jpg',\n",
              " '/content/images_inference/Pre_Event_tile_1_26.jpg',\n",
              " '/content/images_inference/Pre_Event_tile_1_89.jpg',\n",
              " '/content/images_inference/Pre_Event_tile_0_77.jpg',\n",
              " '/content/images_inference/Pre_Event_tile_1_42.jpg',\n",
              " '/content/images_inference/Pre_Event_tile_0_89.jpg',\n",
              " '/content/images_inference/Pre_Event_tile_1_82.jpg',\n",
              " '/content/images_inference/Pre_Event_tile_0_8.jpg',\n",
              " '/content/images_inference/Pre_Event_tile_0_23.jpg',\n",
              " '/content/images_inference/Pre_Event_tile_0_82.jpg',\n",
              " '/content/images_inference/Pre_Event_tile_1_111.jpg',\n",
              " '/content/images_inference/Pre_Event_tile_0_81.jpg',\n",
              " '/content/images_inference/Pre_Event_tile_1_22.jpg',\n",
              " '/content/images_inference/Pre_Event_tile_1_54.jpg',\n",
              " '/content/images_inference/Pre_Event_tile_0_64.jpg',\n",
              " '/content/images_inference/Pre_Event_tile_1_13.jpg',\n",
              " '/content/images_inference/Pre_Event_tile_0_60.jpg',\n",
              " '/content/images_inference/Pre_Event_tile_0_80.jpg',\n",
              " '/content/images_inference/Pre_Event_tile_0_44.jpg',\n",
              " '/content/images_inference/Pre_Event_tile_0_16.jpg']"
            ]
          },
          "metadata": {},
          "execution_count": 17
        }
      ]
    },
    {
      "cell_type": "code",
      "source": [
        "# list_images = [\"/content/Pre_Event_tile_2_24.jpg\", \"/content/Pre_Event_tile_2_26.jpg\"]\n",
        "inference_results = model.predict(images_inference, save=False, imgsz=640, conf=0.5)"
      ],
      "metadata": {
        "id": "2tx659y5qTeH",
        "outputId": "0f95d98b-42be-480c-ef6a-06ba7fedf4c1",
        "colab": {
          "base_uri": "https://localhost:8080/"
        }
      },
      "id": "2tx659y5qTeH",
      "execution_count": 18,
      "outputs": [
        {
          "output_type": "stream",
          "name": "stdout",
          "text": [
            "\n",
            "0: 640x640 1 undamagedcommercialbuilding, 3.6ms\n",
            "1: 640x640 55 undamagedresidentialbuildings, 3.6ms\n",
            "2: 640x640 (no detections), 3.6ms\n",
            "3: 640x640 (no detections), 3.6ms\n",
            "4: 640x640 17 undamagedresidentialbuildings, 3.6ms\n",
            "5: 640x640 3 undamagedresidentialbuildings, 3.6ms\n",
            "6: 640x640 (no detections), 3.6ms\n",
            "7: 640x640 (no detections), 3.6ms\n",
            "8: 640x640 2 undamagedresidentialbuildings, 3.6ms\n",
            "9: 640x640 (no detections), 3.6ms\n",
            "10: 640x640 1 undamagedcommercialbuilding, 31 undamagedresidentialbuildings, 3.6ms\n",
            "11: 640x640 (no detections), 3.6ms\n",
            "12: 640x640 (no detections), 3.6ms\n",
            "13: 640x640 1 undamagedcommercialbuilding, 3.6ms\n",
            "14: 640x640 (no detections), 3.6ms\n",
            "15: 640x640 5 undamagedresidentialbuildings, 3.6ms\n",
            "16: 640x640 39 undamagedresidentialbuildings, 3.6ms\n",
            "17: 640x640 7 undamagedresidentialbuildings, 3.6ms\n",
            "18: 640x640 2 undamagedresidentialbuildings, 3.6ms\n",
            "19: 640x640 48 undamagedresidentialbuildings, 3.6ms\n",
            "20: 640x640 21 undamagedresidentialbuildings, 3.6ms\n",
            "21: 640x640 41 undamagedresidentialbuildings, 3.6ms\n",
            "22: 640x640 10 undamagedresidentialbuildings, 3.6ms\n",
            "23: 640x640 3 undamagedresidentialbuildings, 3.6ms\n",
            "24: 640x640 (no detections), 3.6ms\n",
            "25: 640x640 (no detections), 3.6ms\n",
            "26: 640x640 1 undamagedcommercialbuilding, 30 undamagedresidentialbuildings, 3.6ms\n",
            "27: 640x640 (no detections), 3.6ms\n",
            "28: 640x640 1 undamagedcommercialbuilding, 3.6ms\n",
            "29: 640x640 (no detections), 3.6ms\n",
            "30: 640x640 2 undamagedresidentialbuildings, 3.6ms\n",
            "31: 640x640 3 undamagedresidentialbuildings, 3.6ms\n",
            "32: 640x640 (no detections), 3.6ms\n",
            "33: 640x640 1 undamagedcommercialbuilding, 3.6ms\n",
            "34: 640x640 2 undamagedcommercialbuildings, 3.6ms\n",
            "35: 640x640 11 undamagedresidentialbuildings, 3.6ms\n",
            "36: 640x640 30 undamagedresidentialbuildings, 3.6ms\n",
            "37: 640x640 (no detections), 3.6ms\n",
            "38: 640x640 (no detections), 3.6ms\n",
            "39: 640x640 (no detections), 3.6ms\n",
            "40: 640x640 19 undamagedresidentialbuildings, 3.6ms\n",
            "41: 640x640 25 undamagedresidentialbuildings, 3.6ms\n",
            "42: 640x640 1 undamagedcommercialbuilding, 2 undamagedresidentialbuildings, 3.6ms\n",
            "43: 640x640 34 undamagedresidentialbuildings, 3.6ms\n",
            "44: 640x640 (no detections), 3.6ms\n",
            "45: 640x640 1 undamagedresidentialbuilding, 3.6ms\n",
            "46: 640x640 1 undamagedresidentialbuilding, 3.6ms\n",
            "47: 640x640 28 undamagedresidentialbuildings, 3.6ms\n",
            "48: 640x640 (no detections), 3.6ms\n",
            "49: 640x640 20 undamagedresidentialbuildings, 3.6ms\n",
            "50: 640x640 (no detections), 3.6ms\n",
            "51: 640x640 1 undamagedresidentialbuilding, 3.6ms\n",
            "52: 640x640 4 undamagedresidentialbuildings, 3.6ms\n",
            "53: 640x640 (no detections), 3.6ms\n",
            "54: 640x640 31 undamagedresidentialbuildings, 3.6ms\n",
            "55: 640x640 2 undamagedresidentialbuildings, 3.6ms\n",
            "56: 640x640 21 undamagedresidentialbuildings, 3.6ms\n",
            "57: 640x640 2 undamagedresidentialbuildings, 3.6ms\n",
            "58: 640x640 7 undamagedresidentialbuildings, 3.6ms\n",
            "59: 640x640 59 undamagedresidentialbuildings, 3.6ms\n",
            "60: 640x640 (no detections), 3.6ms\n",
            "61: 640x640 (no detections), 3.6ms\n",
            "62: 640x640 34 undamagedresidentialbuildings, 3.6ms\n",
            "63: 640x640 45 undamagedresidentialbuildings, 3.6ms\n",
            "64: 640x640 7 undamagedresidentialbuildings, 3.6ms\n",
            "65: 640x640 9 undamagedresidentialbuildings, 3.6ms\n",
            "66: 640x640 (no detections), 3.6ms\n",
            "67: 640x640 31 undamagedresidentialbuildings, 3.6ms\n",
            "68: 640x640 61 undamagedresidentialbuildings, 3.6ms\n",
            "69: 640x640 (no detections), 3.6ms\n",
            "70: 640x640 (no detections), 3.6ms\n",
            "71: 640x640 (no detections), 3.6ms\n",
            "72: 640x640 62 undamagedresidentialbuildings, 3.6ms\n",
            "73: 640x640 1 undamagedresidentialbuilding, 3.6ms\n",
            "74: 640x640 22 undamagedresidentialbuildings, 3.6ms\n",
            "75: 640x640 1 undamagedresidentialbuilding, 3.6ms\n",
            "76: 640x640 2 undamagedresidentialbuildings, 3.6ms\n",
            "77: 640x640 (no detections), 3.6ms\n",
            "78: 640x640 (no detections), 3.6ms\n",
            "79: 640x640 (no detections), 3.6ms\n",
            "80: 640x640 26 undamagedresidentialbuildings, 3.6ms\n",
            "81: 640x640 36 undamagedresidentialbuildings, 3.6ms\n",
            "82: 640x640 1 undamagedcommercialbuilding, 1 undamagedresidentialbuilding, 3.6ms\n",
            "83: 640x640 25 undamagedresidentialbuildings, 3.6ms\n",
            "84: 640x640 10 undamagedresidentialbuildings, 3.6ms\n",
            "85: 640x640 12 undamagedresidentialbuildings, 3.6ms\n",
            "86: 640x640 5 undamagedresidentialbuildings, 3.6ms\n",
            "87: 640x640 7 undamagedresidentialbuildings, 3.6ms\n",
            "88: 640x640 (no detections), 3.6ms\n",
            "89: 640x640 1 undamagedcommercialbuilding, 3 undamagedresidentialbuildings, 3.6ms\n",
            "90: 640x640 12 undamagedresidentialbuildings, 3.6ms\n",
            "91: 640x640 7 undamagedresidentialbuildings, 3.6ms\n",
            "92: 640x640 (no detections), 3.6ms\n",
            "93: 640x640 (no detections), 3.6ms\n",
            "94: 640x640 3 undamagedresidentialbuildings, 3.6ms\n",
            "95: 640x640 38 undamagedresidentialbuildings, 3.6ms\n",
            "96: 640x640 5 undamagedresidentialbuildings, 3.6ms\n",
            "97: 640x640 (no detections), 3.6ms\n",
            "98: 640x640 (no detections), 3.6ms\n",
            "99: 640x640 1 undamagedcommercialbuilding, 3.6ms\n",
            "100: 640x640 (no detections), 3.6ms\n",
            "101: 640x640 (no detections), 3.6ms\n",
            "102: 640x640 (no detections), 3.6ms\n",
            "103: 640x640 24 undamagedresidentialbuildings, 3.6ms\n",
            "104: 640x640 1 undamagedcommercialbuilding, 3.6ms\n",
            "105: 640x640 12 undamagedresidentialbuildings, 3.6ms\n",
            "106: 640x640 (no detections), 3.6ms\n",
            "107: 640x640 1 undamagedcommercialbuilding, 15 undamagedresidentialbuildings, 3.6ms\n",
            "108: 640x640 19 undamagedresidentialbuildings, 3.6ms\n",
            "109: 640x640 38 undamagedresidentialbuildings, 3.6ms\n",
            "110: 640x640 (no detections), 3.6ms\n",
            "111: 640x640 63 undamagedresidentialbuildings, 3.6ms\n",
            "112: 640x640 (no detections), 3.6ms\n",
            "113: 640x640 1 undamagedresidentialbuilding, 3.6ms\n",
            "114: 640x640 20 undamagedresidentialbuildings, 3.6ms\n",
            "115: 640x640 2 undamagedresidentialbuildings, 3.6ms\n",
            "116: 640x640 1 undamagedcommercialbuilding, 5 undamagedresidentialbuildings, 3.6ms\n",
            "117: 640x640 1 undamagedcommercialbuilding, 12 undamagedresidentialbuildings, 3.6ms\n",
            "118: 640x640 1 undamagedresidentialbuilding, 3.6ms\n",
            "119: 640x640 (no detections), 3.6ms\n",
            "120: 640x640 (no detections), 3.6ms\n",
            "121: 640x640 9 undamagedresidentialbuildings, 3.6ms\n",
            "122: 640x640 (no detections), 3.6ms\n",
            "123: 640x640 6 undamagedresidentialbuildings, 3.6ms\n",
            "124: 640x640 12 undamagedresidentialbuildings, 3.6ms\n",
            "125: 640x640 3 undamagedresidentialbuildings, 3.6ms\n",
            "126: 640x640 (no detections), 3.6ms\n",
            "127: 640x640 (no detections), 3.6ms\n",
            "128: 640x640 35 undamagedresidentialbuildings, 3.6ms\n",
            "129: 640x640 (no detections), 3.6ms\n",
            "130: 640x640 3 undamagedresidentialbuildings, 3.6ms\n",
            "131: 640x640 19 undamagedresidentialbuildings, 3.6ms\n",
            "132: 640x640 (no detections), 3.6ms\n",
            "133: 640x640 2 undamagedresidentialbuildings, 3.6ms\n",
            "134: 640x640 5 undamagedresidentialbuildings, 3.6ms\n",
            "135: 640x640 (no detections), 3.6ms\n",
            "136: 640x640 (no detections), 3.6ms\n",
            "137: 640x640 42 undamagedresidentialbuildings, 3.6ms\n",
            "138: 640x640 53 undamagedresidentialbuildings, 3.6ms\n",
            "139: 640x640 (no detections), 3.6ms\n",
            "140: 640x640 (no detections), 3.6ms\n",
            "141: 640x640 1 undamagedresidentialbuilding, 3.6ms\n",
            "142: 640x640 (no detections), 3.6ms\n",
            "143: 640x640 1 undamagedcommercialbuilding, 3.6ms\n",
            "144: 640x640 1 undamagedcommercialbuilding, 5 undamagedresidentialbuildings, 3.6ms\n",
            "145: 640x640 (no detections), 3.6ms\n",
            "146: 640x640 (no detections), 3.6ms\n",
            "147: 640x640 1 undamagedcommercialbuilding, 1 undamagedresidentialbuilding, 3.6ms\n",
            "148: 640x640 34 undamagedresidentialbuildings, 3.6ms\n",
            "149: 640x640 2 undamagedresidentialbuildings, 3.6ms\n",
            "150: 640x640 4 undamagedcommercialbuildings, 6 undamagedresidentialbuildings, 3.6ms\n",
            "151: 640x640 (no detections), 3.6ms\n",
            "152: 640x640 (no detections), 3.6ms\n",
            "153: 640x640 (no detections), 3.6ms\n",
            "154: 640x640 1 undamagedresidentialbuilding, 3.6ms\n",
            "155: 640x640 3 undamagedcommercialbuildings, 15 undamagedresidentialbuildings, 3.6ms\n",
            "156: 640x640 (no detections), 3.6ms\n",
            "157: 640x640 4 undamagedcommercialbuildings, 3 undamagedresidentialbuildings, 3.6ms\n",
            "158: 640x640 (no detections), 3.6ms\n",
            "159: 640x640 3 undamagedresidentialbuildings, 3.6ms\n",
            "160: 640x640 1 undamagedcommercialbuilding, 31 undamagedresidentialbuildings, 3.6ms\n",
            "161: 640x640 39 undamagedresidentialbuildings, 3.6ms\n",
            "162: 640x640 (no detections), 3.6ms\n",
            "163: 640x640 5 undamagedresidentialbuildings, 3.6ms\n",
            "164: 640x640 10 undamagedresidentialbuildings, 3.6ms\n",
            "165: 640x640 (no detections), 3.6ms\n",
            "166: 640x640 (no detections), 3.6ms\n",
            "167: 640x640 21 undamagedresidentialbuildings, 3.6ms\n",
            "168: 640x640 34 undamagedresidentialbuildings, 3.6ms\n",
            "169: 640x640 (no detections), 3.6ms\n",
            "170: 640x640 1 undamagedcommercialbuilding, 5 undamagedresidentialbuildings, 3.6ms\n",
            "171: 640x640 (no detections), 3.6ms\n",
            "172: 640x640 1 undamagedresidentialbuilding, 3.6ms\n",
            "173: 640x640 (no detections), 3.6ms\n",
            "174: 640x640 58 undamagedresidentialbuildings, 3.6ms\n",
            "175: 640x640 (no detections), 3.6ms\n",
            "176: 640x640 17 undamagedresidentialbuildings, 3.6ms\n",
            "177: 640x640 1 undamagedcommercialbuilding, 1 undamagedresidentialbuilding, 3.6ms\n",
            "178: 640x640 (no detections), 3.6ms\n",
            "179: 640x640 (no detections), 3.6ms\n",
            "180: 640x640 43 undamagedresidentialbuildings, 3.6ms\n",
            "181: 640x640 1 undamagedresidentialbuilding, 3.6ms\n",
            "182: 640x640 (no detections), 3.6ms\n",
            "183: 640x640 6 undamagedresidentialbuildings, 3.6ms\n",
            "184: 640x640 16 undamagedresidentialbuildings, 3.6ms\n",
            "185: 640x640 6 undamagedresidentialbuildings, 3.6ms\n",
            "186: 640x640 (no detections), 3.6ms\n",
            "187: 640x640 9 undamagedresidentialbuildings, 3.6ms\n",
            "188: 640x640 21 undamagedresidentialbuildings, 3.6ms\n",
            "189: 640x640 10 undamagedresidentialbuildings, 3.6ms\n",
            "190: 640x640 (no detections), 3.6ms\n",
            "191: 640x640 (no detections), 3.6ms\n",
            "192: 640x640 43 undamagedresidentialbuildings, 3.6ms\n",
            "193: 640x640 (no detections), 3.6ms\n",
            "194: 640x640 3 undamagedcommercialbuildings, 3.6ms\n",
            "195: 640x640 24 undamagedresidentialbuildings, 3.6ms\n",
            "196: 640x640 1 undamagedresidentialbuilding, 3.6ms\n",
            "197: 640x640 4 undamagedcommercialbuildings, 3.6ms\n",
            "198: 640x640 5 undamagedresidentialbuildings, 3.6ms\n",
            "199: 640x640 (no detections), 3.6ms\n",
            "200: 640x640 (no detections), 3.6ms\n",
            "201: 640x640 3 undamagedresidentialbuildings, 3.6ms\n",
            "202: 640x640 (no detections), 3.6ms\n",
            "203: 640x640 (no detections), 3.6ms\n",
            "204: 640x640 27 undamagedresidentialbuildings, 3.6ms\n",
            "205: 640x640 (no detections), 3.6ms\n",
            "206: 640x640 (no detections), 3.6ms\n",
            "207: 640x640 1 undamagedcommercialbuilding, 8 undamagedresidentialbuildings, 3.6ms\n",
            "208: 640x640 2 undamagedcommercialbuildings, 3.6ms\n",
            "209: 640x640 (no detections), 3.6ms\n",
            "210: 640x640 (no detections), 3.6ms\n",
            "211: 640x640 1 undamagedcommercialbuilding, 25 undamagedresidentialbuildings, 3.6ms\n",
            "212: 640x640 17 undamagedresidentialbuildings, 3.6ms\n",
            "213: 640x640 10 undamagedresidentialbuildings, 3.6ms\n",
            "214: 640x640 10 undamagedresidentialbuildings, 3.6ms\n",
            "215: 640x640 (no detections), 3.6ms\n",
            "216: 640x640 1 undamagedcommercialbuilding, 21 undamagedresidentialbuildings, 3.6ms\n",
            "217: 640x640 6 undamagedresidentialbuildings, 3.6ms\n",
            "218: 640x640 (no detections), 3.6ms\n",
            "219: 640x640 (no detections), 3.6ms\n",
            "220: 640x640 (no detections), 3.6ms\n",
            "221: 640x640 (no detections), 3.6ms\n",
            "222: 640x640 (no detections), 3.6ms\n",
            "223: 640x640 (no detections), 3.6ms\n",
            "224: 640x640 51 undamagedresidentialbuildings, 3.6ms\n",
            "225: 640x640 37 undamagedresidentialbuildings, 3.6ms\n",
            "226: 640x640 62 undamagedresidentialbuildings, 3.6ms\n",
            "227: 640x640 1 undamagedcommercialbuilding, 33 undamagedresidentialbuildings, 3.6ms\n",
            "228: 640x640 6 undamagedresidentialbuildings, 3.6ms\n",
            "229: 640x640 (no detections), 3.6ms\n",
            "230: 640x640 15 undamagedresidentialbuildings, 3.6ms\n",
            "231: 640x640 27 undamagedresidentialbuildings, 3.6ms\n",
            "Speed: 3.6ms preprocess, 3.6ms inference, 0.6ms postprocess per image at shape (1, 3, 640, 640)\n"
          ]
        }
      ]
    },
    {
      "cell_type": "code",
      "source": [
        "type(inference_results[0])"
      ],
      "metadata": {
        "id": "c-dbd6wotOG6",
        "outputId": "4131339c-a0fc-4247-940e-c1e430be036c",
        "colab": {
          "base_uri": "https://localhost:8080/",
          "height": 237
        }
      },
      "id": "c-dbd6wotOG6",
      "execution_count": 19,
      "outputs": [
        {
          "output_type": "execute_result",
          "data": {
            "text/plain": [
              "ultralytics.engine.results.Results"
            ],
            "text/html": [
              "<div style=\"max-width:800px; border: 1px solid var(--colab-border-color);\"><style>\n",
              "      pre.function-repr-contents {\n",
              "        overflow-x: auto;\n",
              "        padding: 8px 12px;\n",
              "        max-height: 500px;\n",
              "      }\n",
              "\n",
              "      pre.function-repr-contents.function-repr-contents-collapsed {\n",
              "        cursor: pointer;\n",
              "        max-height: 100px;\n",
              "      }\n",
              "    </style>\n",
              "    <pre style=\"white-space: initial; background:\n",
              "         var(--colab-secondary-surface-color); padding: 8px 12px;\n",
              "         border-bottom: 1px solid var(--colab-border-color);\"><b>ultralytics.engine.results.Results</b><br/>def __init__(orig_img: np.ndarray, path: str, names: Dict[int, str], boxes: Optional[torch.Tensor]=None, masks: Optional[torch.Tensor]=None, probs: Optional[torch.Tensor]=None, keypoints: Optional[torch.Tensor]=None, obb: Optional[torch.Tensor]=None, speed: Optional[Dict[str, float]]=None) -&gt; None</pre><pre class=\"function-repr-contents function-repr-contents-collapsed\" style=\"\"><a class=\"filepath\" style=\"display:none\" href=\"#\">/usr/local/lib/python3.11/dist-packages/ultralytics/engine/results.py</a>A class for storing and manipulating inference results.\n",
              "\n",
              "This class provides comprehensive functionality for handling inference results from various\n",
              "Ultralytics models, including detection, segmentation, classification, and pose estimation.\n",
              "It supports visualization, data export, and various coordinate transformations.\n",
              "\n",
              "Attributes:\n",
              "    orig_img (np.ndarray): The original image as a numpy array.\n",
              "    orig_shape (Tuple[int, int]): Original image shape in (height, width) format.\n",
              "    boxes (Boxes | None): Detected bounding boxes.\n",
              "    masks (Masks | None): Segmentation masks.\n",
              "    probs (Probs | None): Classification probabilities.\n",
              "    keypoints (Keypoints | None): Detected keypoints.\n",
              "    obb (OBB | None): Oriented bounding boxes.\n",
              "    speed (dict): Dictionary containing inference speed information.\n",
              "    names (dict): Dictionary mapping class indices to class names.\n",
              "    path (str): Path to the input image file.\n",
              "    save_dir (str | None): Directory to save results.\n",
              "\n",
              "Methods:\n",
              "    update: Update the Results object with new detection data.\n",
              "    cpu: Return a copy of the Results object with all tensors moved to CPU memory.\n",
              "    numpy: Convert all tensors in the Results object to numpy arrays.\n",
              "    cuda: Move all tensors in the Results object to GPU memory.\n",
              "    to: Move all tensors to the specified device and dtype.\n",
              "    new: Create a new Results object with the same image, path, names, and speed attributes.\n",
              "    plot: Plot detection results on an input RGB image.\n",
              "    show: Display the image with annotated inference results.\n",
              "    save: Save annotated inference results image to file.\n",
              "    verbose: Return a log string for each task in the results.\n",
              "    save_txt: Save detection results to a text file.\n",
              "    save_crop: Save cropped detection images to specified directory.\n",
              "    summary: Convert inference results to a summarized dictionary.\n",
              "    to_df: Convert detection results to a Pandas Dataframe.\n",
              "    to_json: Convert detection results to JSON format.\n",
              "    to_csv: Convert detection results to a CSV format.\n",
              "    to_xml: Convert detection results to XML format.\n",
              "    to_html: Convert detection results to HTML format.\n",
              "    to_sql: Convert detection results to an SQL-compatible format.\n",
              "\n",
              "Examples:\n",
              "    &gt;&gt;&gt; results = model(&quot;path/to/image.jpg&quot;)\n",
              "    &gt;&gt;&gt; result = results[0]  # Get the first result\n",
              "    &gt;&gt;&gt; boxes = result.boxes  # Get the boxes for the first result\n",
              "    &gt;&gt;&gt; masks = result.masks  # Get the masks for the first result\n",
              "    &gt;&gt;&gt; for result in results:\n",
              "    &gt;&gt;&gt;     result.plot()  # Plot detection results</pre>\n",
              "      <script>\n",
              "      if (google.colab.kernel.accessAllowed && google.colab.files && google.colab.files.view) {\n",
              "        for (const element of document.querySelectorAll('.filepath')) {\n",
              "          element.style.display = 'block'\n",
              "          element.onclick = (event) => {\n",
              "            event.preventDefault();\n",
              "            event.stopPropagation();\n",
              "            google.colab.files.view(element.textContent, 190);\n",
              "          };\n",
              "        }\n",
              "      }\n",
              "      for (const element of document.querySelectorAll('.function-repr-contents')) {\n",
              "        element.onclick = (event) => {\n",
              "          event.preventDefault();\n",
              "          event.stopPropagation();\n",
              "          element.classList.toggle('function-repr-contents-collapsed');\n",
              "        };\n",
              "      }\n",
              "      </script>\n",
              "      </div>"
            ]
          },
          "metadata": {},
          "execution_count": 19
        }
      ]
    },
    {
      "cell_type": "code",
      "source": [
        "len(inference_results[4])"
      ],
      "metadata": {
        "id": "ZlDMKvESt5wh",
        "outputId": "e60a956b-c924-4e5a-f869-d2a6a6cf7cfd",
        "colab": {
          "base_uri": "https://localhost:8080/"
        }
      },
      "id": "ZlDMKvESt5wh",
      "execution_count": 24,
      "outputs": [
        {
          "output_type": "execute_result",
          "data": {
            "text/plain": [
              "17"
            ]
          },
          "metadata": {},
          "execution_count": 24
        }
      ]
    },
    {
      "cell_type": "code",
      "source": [
        "inference_results[1].names"
      ],
      "metadata": {
        "id": "z4cgBjDx41QW",
        "outputId": "7b2eb5bd-bd8b-4233-c558-4f808293d15e",
        "colab": {
          "base_uri": "https://localhost:8080/"
        }
      },
      "id": "z4cgBjDx41QW",
      "execution_count": 21,
      "outputs": [
        {
          "output_type": "execute_result",
          "data": {
            "text/plain": [
              "{0: 'undamagedcommercialbuilding', 1: 'undamagedresidentialbuilding'}"
            ]
          },
          "metadata": {},
          "execution_count": 21
        }
      ]
    },
    {
      "cell_type": "code",
      "source": [
        "inference_results[1]"
      ],
      "metadata": {
        "id": "lA87PVe09_T8",
        "outputId": "f018801f-ada0-4fa8-b12f-73d8f339627d",
        "colab": {
          "base_uri": "https://localhost:8080/"
        }
      },
      "id": "lA87PVe09_T8",
      "execution_count": null,
      "outputs": [
        {
          "output_type": "execute_result",
          "data": {
            "text/plain": [
              "ultralytics.engine.results.Results object with attributes:\n",
              "\n",
              "boxes: ultralytics.engine.results.Boxes object\n",
              "keypoints: None\n",
              "masks: None\n",
              "names: {0: 'undamagedcommercialbuilding', 1: 'undamagedresidentialbuilding'}\n",
              "obb: None\n",
              "orig_img: array([[[ 56,  91,  47],\n",
              "        [ 55,  90,  46],\n",
              "        [ 55,  90,  46],\n",
              "        ...,\n",
              "        [ 36,  54,  31],\n",
              "        [ 37,  55,  32],\n",
              "        [ 36,  54,  31]],\n",
              "\n",
              "       [[ 56,  91,  47],\n",
              "        [ 56,  91,  47],\n",
              "        [ 57,  92,  48],\n",
              "        ...,\n",
              "        [ 28,  46,  23],\n",
              "        [ 35,  53,  30],\n",
              "        [ 39,  57,  34]],\n",
              "\n",
              "       [[ 54,  89,  45],\n",
              "        [ 55,  90,  46],\n",
              "        [ 56,  91,  47],\n",
              "        ...,\n",
              "        [ 29,  47,  24],\n",
              "        [ 36,  55,  30],\n",
              "        [ 40,  59,  34]],\n",
              "\n",
              "       ...,\n",
              "\n",
              "       [[216, 220, 225],\n",
              "        [215, 219, 224],\n",
              "        [215, 219, 224],\n",
              "        ...,\n",
              "        [ 94,  96,  97],\n",
              "        [ 92,  94,  95],\n",
              "        [ 92,  94,  95]],\n",
              "\n",
              "       [[216, 220, 225],\n",
              "        [216, 220, 225],\n",
              "        [216, 220, 225],\n",
              "        ...,\n",
              "        [ 91,  93,  94],\n",
              "        [ 92,  94,  95],\n",
              "        [ 93,  95,  96]],\n",
              "\n",
              "       [[216, 220, 225],\n",
              "        [218, 222, 227],\n",
              "        [218, 222, 227],\n",
              "        ...,\n",
              "        [ 97,  99, 100],\n",
              "        [ 91,  93,  94],\n",
              "        [ 87,  89,  90]]], dtype=uint8)\n",
              "orig_shape: (640, 640)\n",
              "path: '/content/images_inference/Pre_Event_tile_0_39.jpg'\n",
              "probs: None\n",
              "save_dir: 'exploratory_phase/yolo11n_training_dataset_v143'\n",
              "speed: {'preprocess': 2.1490248749955754, 'inference': 4.9274434999802, 'postprocess': 1.0523239999997713}"
            ]
          },
          "metadata": {},
          "execution_count": 121
        }
      ]
    },
    {
      "cell_type": "code",
      "source": [
        "inference_results[1].boxes.cls.cpu().numpy()"
      ],
      "metadata": {
        "id": "WCq90M7a4K7b",
        "outputId": "af1d89e3-eb44-4eb3-9ede-3e52e3e29dd3",
        "colab": {
          "base_uri": "https://localhost:8080/"
        }
      },
      "id": "WCq90M7a4K7b",
      "execution_count": 27,
      "outputs": [
        {
          "output_type": "execute_result",
          "data": {
            "text/plain": [
              "array([          1,           1,           1,           1,           1,           1,           1,           1,           1,           1,           1,           1,           1,           1,           1,           1,           1,           1,           1,           1,           1,           1,           1,           1,\n",
              "                 1,           1,           1,           1,           1,           1,           1,           1,           1,           1,           1,           1,           1,           1,           1,           1,           1,           1,           1,           1,           1,           1,           1,           1,\n",
              "                 1,           1,           1,           1,           1,           1,           1], dtype=float32)"
            ]
          },
          "metadata": {},
          "execution_count": 27
        }
      ]
    },
    {
      "cell_type": "code",
      "source": [
        "inference_results[1].boxes.conf.cpu().numpy()"
      ],
      "metadata": {
        "id": "xyye9JFJ9ryN",
        "outputId": "9667babf-c8c0-43f9-881b-efe0ec0c0f6c",
        "colab": {
          "base_uri": "https://localhost:8080/"
        }
      },
      "id": "xyye9JFJ9ryN",
      "execution_count": null,
      "outputs": [
        {
          "output_type": "execute_result",
          "data": {
            "text/plain": [
              "array([    0.86175,     0.78157,     0.57962,     0.49385,     0.42382,     0.29368,     0.23214,     0.21685,     0.20087], dtype=float32)"
            ]
          },
          "metadata": {},
          "execution_count": 119
        }
      ]
    },
    {
      "cell_type": "code",
      "source": [
        "inference_results[1].path"
      ],
      "metadata": {
        "id": "A9Hjv4kz-EeH",
        "outputId": "34132fdd-1a7f-4f8f-8c7b-662c2f631073",
        "colab": {
          "base_uri": "https://localhost:8080/",
          "height": 35
        }
      },
      "id": "A9Hjv4kz-EeH",
      "execution_count": 28,
      "outputs": [
        {
          "output_type": "execute_result",
          "data": {
            "text/plain": [
              "'/content/images_inference/Pre_Event_tile_0_51.jpg'"
            ],
            "application/vnd.google.colaboratory.intrinsic+json": {
              "type": "string"
            }
          },
          "metadata": {},
          "execution_count": 28
        }
      ]
    },
    {
      "cell_type": "code",
      "source": [
        "classes_ids =  {class_name: class_id for class_id, class_name in inference_results[1].names.items()}\n",
        "classes_ids"
      ],
      "metadata": {
        "id": "NFHz8154nc3u",
        "outputId": "2dde2c19-ee4a-4156-b6a2-a157920cd434",
        "colab": {
          "base_uri": "https://localhost:8080/"
        }
      },
      "id": "NFHz8154nc3u",
      "execution_count": 36,
      "outputs": [
        {
          "output_type": "execute_result",
          "data": {
            "text/plain": [
              "{'undamagedcommercialbuilding': 0, 'undamagedresidentialbuilding': 1}"
            ]
          },
          "metadata": {},
          "execution_count": 36
        }
      ]
    },
    {
      "cell_type": "code",
      "source": [
        "inference_results[1].names"
      ],
      "metadata": {
        "id": "NcnpsavLnega",
        "outputId": "d0e5669c-e7de-4b65-c928-4d00a61b0651",
        "colab": {
          "base_uri": "https://localhost:8080/"
        }
      },
      "id": "NcnpsavLnega",
      "execution_count": 33,
      "outputs": [
        {
          "output_type": "execute_result",
          "data": {
            "text/plain": [
              "{0: 'undamagedcommercialbuilding', 1: 'undamagedresidentialbuilding'}"
            ]
          },
          "metadata": {},
          "execution_count": 33
        }
      ]
    },
    {
      "cell_type": "code",
      "source": [
        "from collections import defaultdict\n",
        "\n",
        "# images_containing_commercial_buildings : dict[str] = defaultdict(str)\n",
        "\n",
        "images_containing_commercial_buildings: dict[str, dict[str, str]] = {}\n",
        "\n",
        "temp = []\n",
        "\n",
        "for i, inference_result in enumerate(inference_results):\n",
        "  classes_ids =  {class_name: class_id for class_id, class_name in inference_result.names.items()}\n",
        "  image_objects_detected = inference_result.boxes.cls.cpu().numpy()\n",
        "  class_id = classes_ids['undamagedcommercialbuilding']\n",
        "  if class_id in image_objects_detected:\n",
        "    print(f'i: {i} - {inference_result.path} - {np.count_nonzero(image_objects_detected == class_id)}')\n",
        "    temp.append(inference_result.path)\n"
      ],
      "metadata": {
        "id": "_fuN25gImd-T",
        "outputId": "bd6b7900-3610-4320-f8da-78cf365652f7",
        "colab": {
          "base_uri": "https://localhost:8080/"
        }
      },
      "id": "_fuN25gImd-T",
      "execution_count": 43,
      "outputs": [
        {
          "output_type": "stream",
          "name": "stdout",
          "text": [
            "i: 0 - /content/images_inference/Pre_Event_tile_1_68.jpg - 1\n",
            "i: 10 - /content/images_inference/Pre_Event_tile_0_25.jpg - 1\n",
            "i: 13 - /content/images_inference/Pre_Event_tile_0_41.jpg - 1\n",
            "i: 26 - /content/images_inference/Pre_Event_tile_1_45.jpg - 1\n",
            "i: 28 - /content/images_inference/Pre_Event_tile_1_32.jpg - 1\n",
            "i: 33 - /content/images_inference/Pre_Event_tile_1_87.jpg - 1\n",
            "i: 34 - /content/images_inference/Pre_Event_tile_0_40.jpg - 2\n",
            "i: 42 - /content/images_inference/Pre_Event_tile_0_91.jpg - 1\n",
            "i: 82 - /content/images_inference/Pre_Event_tile_1_31.jpg - 1\n",
            "i: 89 - /content/images_inference/Pre_Event_tile_1_88.jpg - 1\n",
            "i: 99 - /content/images_inference/Pre_Event_tile_1_9.jpg - 1\n",
            "i: 104 - /content/images_inference/Pre_Event_tile_1_39.jpg - 1\n",
            "i: 107 - /content/images_inference/Pre_Event_tile_1_43.jpg - 1\n",
            "i: 116 - /content/images_inference/Pre_Event_tile_0_114.jpg - 1\n",
            "i: 117 - /content/images_inference/Pre_Event_tile_1_47.jpg - 1\n",
            "i: 143 - /content/images_inference/Pre_Event_tile_1_66.jpg - 1\n",
            "i: 144 - /content/images_inference/Pre_Event_tile_1_29.jpg - 1\n",
            "i: 147 - /content/images_inference/Pre_Event_tile_1_67.jpg - 1\n",
            "i: 150 - /content/images_inference/Pre_Event_tile_0_42.jpg - 4\n",
            "i: 155 - /content/images_inference/Pre_Event_tile_0_43.jpg - 3\n",
            "i: 157 - /content/images_inference/Pre_Event_tile_0_62.jpg - 4\n",
            "i: 160 - /content/images_inference/Pre_Event_tile_1_61.jpg - 1\n",
            "i: 170 - /content/images_inference/Pre_Event_tile_0_61.jpg - 1\n",
            "i: 177 - /content/images_inference/Pre_Event_tile_0_27.jpg - 1\n",
            "i: 194 - /content/images_inference/Pre_Event_tile_0_39.jpg - 3\n",
            "i: 197 - /content/images_inference/Pre_Event_tile_1_40.jpg - 4\n",
            "i: 207 - /content/images_inference/Pre_Event_tile_1_65.jpg - 1\n",
            "i: 208 - /content/images_inference/Pre_Event_tile_0_28.jpg - 2\n",
            "i: 211 - /content/images_inference/Pre_Event_tile_1_23.jpg - 1\n",
            "i: 216 - /content/images_inference/Pre_Event_tile_1_42.jpg - 1\n",
            "i: 227 - /content/images_inference/Pre_Event_tile_1_13.jpg - 1\n"
          ]
        }
      ]
    },
    {
      "cell_type": "code",
      "source": [
        "import os\n",
        "import shutil"
      ],
      "metadata": {
        "id": "jFgSXd2Vpof1"
      },
      "id": "jFgSXd2Vpof1",
      "execution_count": 45,
      "outputs": []
    },
    {
      "cell_type": "code",
      "source": [
        "def copy_files(files_paths: list[str], source_dir: str, destination_dir: str):\n",
        "\n",
        "  # Create a source directory\n",
        "  os.makedirs(name=destination_dir, exist_ok=True)\n"
      ],
      "metadata": {
        "id": "x933WmSvrXyK"
      },
      "id": "x933WmSvrXyK",
      "execution_count": null,
      "outputs": []
    },
    {
      "cell_type": "code",
      "source": [
        "# Writing a scrypt that iterates over all the images in the list of results in model predict\n",
        "# Iterate over all files, select the paths of results images which contain commercial buildings with high enough confidence > 0.8\n",
        "# store all these paths in a list the use it to select these files in a folder on the local machine\n",
        "# then upload them to roboflow for manual annotation and extension of the dataset"
      ],
      "metadata": {
        "id": "NRtk7fAwuFDI"
      },
      "id": "NRtk7fAwuFDI",
      "execution_count": null,
      "outputs": []
    },
    {
      "cell_type": "code",
      "source": [
        "os.makedirs(name='image_paths_commercial_buildings', exist_ok=True)"
      ],
      "metadata": {
        "id": "OfAjyS-yttW1"
      },
      "id": "OfAjyS-yttW1",
      "execution_count": 47,
      "outputs": []
    },
    {
      "cell_type": "code",
      "source": [
        "dest_path = 'image_paths_commercial_buildings'"
      ],
      "metadata": {
        "id": "ZorEKDC7ttT5"
      },
      "id": "ZorEKDC7ttT5",
      "execution_count": 48,
      "outputs": []
    },
    {
      "cell_type": "code",
      "source": [
        "shutil.copy2('/content/images_inference/Pre_Event_tile_1_68.jpg', dest_path)"
      ],
      "metadata": {
        "id": "4psFu77ZuIdS",
        "outputId": "38ec5eb5-415c-49fc-defe-8dd22ef7049c",
        "colab": {
          "base_uri": "https://localhost:8080/",
          "height": 35
        }
      },
      "id": "4psFu77ZuIdS",
      "execution_count": 49,
      "outputs": [
        {
          "output_type": "execute_result",
          "data": {
            "text/plain": [
              "'image_paths_commercial_buildings/Pre_Event_tile_1_68.jpg'"
            ],
            "application/vnd.google.colaboratory.intrinsic+json": {
              "type": "string"
            }
          },
          "metadata": {},
          "execution_count": 49
        }
      ]
    },
    {
      "cell_type": "code",
      "source": [],
      "metadata": {
        "id": "Awy3NoqGuIat"
      },
      "id": "Awy3NoqGuIat",
      "execution_count": null,
      "outputs": []
    },
    {
      "cell_type": "code",
      "source": [
        "len(inference_results)"
      ],
      "metadata": {
        "id": "9Yjb4XNE_JXh",
        "outputId": "eef55c31-9508-4e8b-cb28-11a4fd20b7c8",
        "colab": {
          "base_uri": "https://localhost:8080/"
        }
      },
      "id": "9Yjb4XNE_JXh",
      "execution_count": 37,
      "outputs": [
        {
          "output_type": "execute_result",
          "data": {
            "text/plain": [
              "232"
            ]
          },
          "metadata": {},
          "execution_count": 37
        }
      ]
    }
  ],
  "metadata": {
    "language_info": {
      "name": "python"
    },
    "colab": {
      "provenance": [],
      "gpuType": "T4"
    },
    "kernelspec": {
      "name": "python3",
      "display_name": "Python 3"
    },
    "accelerator": "GPU"
  },
  "nbformat": 4,
  "nbformat_minor": 5
}